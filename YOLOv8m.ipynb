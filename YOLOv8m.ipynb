{
  "nbformat": 4,
  "nbformat_minor": 0,
  "metadata": {
    "colab": {
      "provenance": [],
      "gpuType": "T4"
    },
    "kernelspec": {
      "name": "python3",
      "display_name": "Python 3"
    },
    "language_info": {
      "name": "python"
    },
    "accelerator": "GPU"
  },
  "cells": [
    {
      "cell_type": "markdown",
      "source": [
        "### yolov8\n"
      ],
      "metadata": {
        "id": "Cd7XujAzw1dj"
      }
    },
    {
      "cell_type": "code",
      "execution_count": null,
      "metadata": {
        "id": "jnI5n-hQJ7Lv"
      },
      "outputs": [],
      "source": [
        "# !pip install roboflow\n",
        "\n",
        "# from roboflow import Roboflow\n",
        "# rf = Roboflow(api_key=\"V7IK6xpLYBRmLnd3CaCk\")\n",
        "# project = rf.workspace(\"project-44dv2\").project(\"traffic-sing-speedlimit\")\n",
        "# dataset = project.version(2).download(\"yolov8\")"
      ]
    },
    {
      "cell_type": "markdown",
      "source": [],
      "metadata": {
        "id": "73kdMf7Yw0ag"
      }
    },
    {
      "cell_type": "code",
      "source": [
        "from google.colab import drive\n",
        "drive.mount('/content/drive')"
      ],
      "metadata": {
        "colab": {
          "base_uri": "https://localhost:8080/"
        },
        "id": "FqttyZ1JMQrv",
        "outputId": "0039c55f-f1fd-47f8-8c46-08218a4906f6"
      },
      "execution_count": null,
      "outputs": [
        {
          "output_type": "stream",
          "name": "stdout",
          "text": [
            "Mounted at /content/drive\n"
          ]
        }
      ]
    },
    {
      "cell_type": "code",
      "source": [
        "#!unzip -q ../content/Roboflow.zip -d ../"
      ],
      "metadata": {
        "id": "ART6I6vBU_VH"
      },
      "execution_count": null,
      "outputs": []
    },
    {
      "cell_type": "code",
      "source": [
        "!pip install ultralytics -q"
      ],
      "metadata": {
        "id": "mwzGgOA3MRN0",
        "colab": {
          "base_uri": "https://localhost:8080/"
        },
        "outputId": "0ac26d7e-79f4-447c-df9c-a7b5d979f4d3"
      },
      "execution_count": null,
      "outputs": [
        {
          "output_type": "stream",
          "name": "stdout",
          "text": [
            "\u001b[?25l     \u001b[90m━━━━━━━━━━━━━━━━━━━━━━━━━━━━━━━━━━━━━━━━\u001b[0m \u001b[32m0.0/750.4 kB\u001b[0m \u001b[31m?\u001b[0m eta \u001b[36m-:--:--\u001b[0m\r\u001b[2K     \u001b[91m━\u001b[0m\u001b[91m╸\u001b[0m\u001b[90m━━━━━━━━━━━━━━━━━━━━━━━━━━━━━━━━━━━━━━\u001b[0m \u001b[32m30.7/750.4 kB\u001b[0m \u001b[31m873.6 kB/s\u001b[0m eta \u001b[36m0:00:01\u001b[0m\r\u001b[2K     \u001b[91m━━━━\u001b[0m\u001b[91m╸\u001b[0m\u001b[90m━━━━━━━━━━━━━━━━━━━━━━━━━━━━━━━━━━━\u001b[0m \u001b[32m92.2/750.4 kB\u001b[0m \u001b[31m1.2 MB/s\u001b[0m eta \u001b[36m0:00:01\u001b[0m\r\u001b[2K     \u001b[91m━━━━━━━━━━━━\u001b[0m\u001b[90m╺\u001b[0m\u001b[90m━━━━━━━━━━━━━━━━━━━━━━━━━━━\u001b[0m \u001b[32m225.3/750.4 kB\u001b[0m \u001b[31m2.1 MB/s\u001b[0m eta \u001b[36m0:00:01\u001b[0m\r\u001b[2K     \u001b[91m━━━━━━━━━━━━━━━━━━━━━━━━━━\u001b[0m\u001b[91m╸\u001b[0m\u001b[90m━━━━━━━━━━━━━\u001b[0m \u001b[32m501.8/750.4 kB\u001b[0m \u001b[31m3.5 MB/s\u001b[0m eta \u001b[36m0:00:01\u001b[0m\r\u001b[2K     \u001b[90m━━━━━━━━━━━━━━━━━━━━━━━━━━━━━━━━━━━━━━━━\u001b[0m \u001b[32m750.4/750.4 kB\u001b[0m \u001b[31m4.2 MB/s\u001b[0m eta \u001b[36m0:00:00\u001b[0m\n",
            "\u001b[?25h"
          ]
        }
      ]
    },
    {
      "cell_type": "code",
      "source": [
        "from ultralytics import YOLO"
      ],
      "metadata": {
        "id": "_oW4M39EMy7-"
      },
      "execution_count": null,
      "outputs": []
    },
    {
      "cell_type": "code",
      "source": [
        "model = YOLO(\"yolov8s.pt\")"
      ],
      "metadata": {
        "id": "09V7Tc53Mt0D",
        "colab": {
          "base_uri": "https://localhost:8080/"
        },
        "outputId": "e89658af-81d8-446b-cbfa-cd7baeac4874"
      },
      "execution_count": null,
      "outputs": [
        {
          "output_type": "stream",
          "name": "stdout",
          "text": [
            "Downloading https://github.com/ultralytics/assets/releases/download/v8.1.0/yolov8s.pt to 'yolov8s.pt'...\n"
          ]
        },
        {
          "output_type": "stream",
          "name": "stderr",
          "text": [
            "100%|██████████| 21.5M/21.5M [00:00<00:00, 156MB/s]\n"
          ]
        }
      ]
    },
    {
      "cell_type": "code",
      "source": [
        "!touch data.yaml"
      ],
      "metadata": {
        "id": "49_ziLsyNCTa"
      },
      "execution_count": null,
      "outputs": []
    },
    {
      "cell_type": "code",
      "source": [
        "model.train(data = \"/content/data.yaml\", epochs =80)"
      ],
      "metadata": {
        "id": "d9z4L3EiNCH1",
        "colab": {
          "base_uri": "https://localhost:8080/"
        },
        "outputId": "7be1c2e3-e747-4af0-9072-3e665cfaf384"
      },
      "execution_count": null,
      "outputs": [
        {
          "output_type": "stream",
          "name": "stdout",
          "text": [
            "Ultralytics YOLOv8.1.47 🚀 Python-3.10.12 torch-2.2.1+cu121 CUDA:0 (Tesla T4, 15102MiB)\n",
            "\u001b[34m\u001b[1mengine/trainer: \u001b[0mtask=detect, mode=train, model=yolov8s.pt, data=/content/data.yaml, epochs=80, time=None, patience=100, batch=16, imgsz=640, save=True, save_period=-1, cache=False, device=None, workers=8, project=None, name=train3, exist_ok=False, pretrained=True, optimizer=auto, verbose=True, seed=0, deterministic=True, single_cls=False, rect=False, cos_lr=False, close_mosaic=10, resume=False, amp=True, fraction=1.0, profile=False, freeze=None, multi_scale=False, overlap_mask=True, mask_ratio=4, dropout=0.0, val=True, split=val, save_json=False, save_hybrid=False, conf=None, iou=0.7, max_det=300, half=False, dnn=False, plots=True, source=None, vid_stride=1, stream_buffer=False, visualize=False, augment=False, agnostic_nms=False, classes=None, retina_masks=False, embed=None, show=False, save_frames=False, save_txt=False, save_conf=False, save_crop=False, show_labels=True, show_conf=True, show_boxes=True, line_width=None, format=torchscript, keras=False, optimize=False, int8=False, dynamic=False, simplify=False, opset=None, workspace=4, nms=False, lr0=0.01, lrf=0.01, momentum=0.937, weight_decay=0.0005, warmup_epochs=3.0, warmup_momentum=0.8, warmup_bias_lr=0.1, box=7.5, cls=0.5, dfl=1.5, pose=12.0, kobj=1.0, label_smoothing=0.0, nbs=64, hsv_h=0.015, hsv_s=0.7, hsv_v=0.4, degrees=0.0, translate=0.1, scale=0.5, shear=0.0, perspective=0.0, flipud=0.0, fliplr=0.5, bgr=0.0, mosaic=1.0, mixup=0.0, copy_paste=0.0, auto_augment=randaugment, erasing=0.4, crop_fraction=1.0, cfg=None, tracker=botsort.yaml, save_dir=runs/detect/train3\n",
            "Overriding model.yaml nc=80 with nc=3\n",
            "\n",
            "                   from  n    params  module                                       arguments                     \n",
            "  0                  -1  1       928  ultralytics.nn.modules.conv.Conv             [3, 32, 3, 2]                 \n",
            "  1                  -1  1     18560  ultralytics.nn.modules.conv.Conv             [32, 64, 3, 2]                \n",
            "  2                  -1  1     29056  ultralytics.nn.modules.block.C2f             [64, 64, 1, True]             \n",
            "  3                  -1  1     73984  ultralytics.nn.modules.conv.Conv             [64, 128, 3, 2]               \n",
            "  4                  -1  2    197632  ultralytics.nn.modules.block.C2f             [128, 128, 2, True]           \n",
            "  5                  -1  1    295424  ultralytics.nn.modules.conv.Conv             [128, 256, 3, 2]              \n",
            "  6                  -1  2    788480  ultralytics.nn.modules.block.C2f             [256, 256, 2, True]           \n",
            "  7                  -1  1   1180672  ultralytics.nn.modules.conv.Conv             [256, 512, 3, 2]              \n",
            "  8                  -1  1   1838080  ultralytics.nn.modules.block.C2f             [512, 512, 1, True]           \n",
            "  9                  -1  1    656896  ultralytics.nn.modules.block.SPPF            [512, 512, 5]                 \n",
            " 10                  -1  1         0  torch.nn.modules.upsampling.Upsample         [None, 2, 'nearest']          \n",
            " 11             [-1, 6]  1         0  ultralytics.nn.modules.conv.Concat           [1]                           \n",
            " 12                  -1  1    591360  ultralytics.nn.modules.block.C2f             [768, 256, 1]                 \n",
            " 13                  -1  1         0  torch.nn.modules.upsampling.Upsample         [None, 2, 'nearest']          \n",
            " 14             [-1, 4]  1         0  ultralytics.nn.modules.conv.Concat           [1]                           \n",
            " 15                  -1  1    148224  ultralytics.nn.modules.block.C2f             [384, 128, 1]                 \n",
            " 16                  -1  1    147712  ultralytics.nn.modules.conv.Conv             [128, 128, 3, 2]              \n",
            " 17            [-1, 12]  1         0  ultralytics.nn.modules.conv.Concat           [1]                           \n",
            " 18                  -1  1    493056  ultralytics.nn.modules.block.C2f             [384, 256, 1]                 \n",
            " 19                  -1  1    590336  ultralytics.nn.modules.conv.Conv             [256, 256, 3, 2]              \n",
            " 20             [-1, 9]  1         0  ultralytics.nn.modules.conv.Concat           [1]                           \n",
            " 21                  -1  1   1969152  ultralytics.nn.modules.block.C2f             [768, 512, 1]                 \n",
            " 22        [15, 18, 21]  1   2117209  ultralytics.nn.modules.head.Detect           [3, [128, 256, 512]]          \n",
            "Model summary: 225 layers, 11136761 parameters, 11136745 gradients, 28.7 GFLOPs\n",
            "\n",
            "Transferred 349/355 items from pretrained weights\n",
            "\u001b[34m\u001b[1mTensorBoard: \u001b[0mStart with 'tensorboard --logdir runs/detect/train3', view at http://localhost:6006/\n",
            "Freezing layer 'model.22.dfl.conv.weight'\n",
            "\u001b[34m\u001b[1mAMP: \u001b[0mrunning Automatic Mixed Precision (AMP) checks with YOLOv8n...\n",
            "\u001b[34m\u001b[1mAMP: \u001b[0mchecks passed ✅\n"
          ]
        },
        {
          "output_type": "stream",
          "name": "stderr",
          "text": [
            "\u001b[34m\u001b[1mtrain: \u001b[0mScanning /content/drive/MyDrive/FYP/last_try/train/labels.cache... 30 images, 0 backgrounds, 0 corrupt: 100%|██████████| 30/30 [00:00<?, ?it/s]"
          ]
        },
        {
          "output_type": "stream",
          "name": "stdout",
          "text": [
            "\u001b[34m\u001b[1malbumentations: \u001b[0mBlur(p=0.01, blur_limit=(3, 7)), MedianBlur(p=0.01, blur_limit=(3, 7)), ToGray(p=0.01), CLAHE(p=0.01, clip_limit=(1, 4.0), tile_grid_size=(8, 8))\n"
          ]
        },
        {
          "output_type": "stream",
          "name": "stderr",
          "text": [
            "\n",
            "/usr/lib/python3.10/multiprocessing/popen_fork.py:66: RuntimeWarning: os.fork() was called. os.fork() is incompatible with multithreaded code, and JAX is multithreaded, so this will likely lead to a deadlock.\n",
            "  self.pid = os.fork()\n",
            "\u001b[34m\u001b[1mval: \u001b[0mScanning /content/drive/MyDrive/FYP/last_try/val/labels.cache... 36 images, 0 backgrounds, 0 corrupt: 100%|██████████| 36/36 [00:00<?, ?it/s]\n"
          ]
        },
        {
          "output_type": "stream",
          "name": "stdout",
          "text": [
            "Plotting labels to runs/detect/train3/labels.jpg... \n",
            "\u001b[34m\u001b[1moptimizer:\u001b[0m 'optimizer=auto' found, ignoring 'lr0=0.01' and 'momentum=0.937' and determining best 'optimizer', 'lr0' and 'momentum' automatically... \n",
            "\u001b[34m\u001b[1moptimizer:\u001b[0m AdamW(lr=0.001429, momentum=0.9) with parameter groups 57 weight(decay=0.0), 64 weight(decay=0.0005), 63 bias(decay=0.0)\n",
            "\u001b[34m\u001b[1mTensorBoard: \u001b[0mmodel graph visualization added ✅\n",
            "Image sizes 640 train, 640 val\n",
            "Using 2 dataloader workers\n",
            "Logging results to \u001b[1mruns/detect/train3\u001b[0m\n",
            "Starting training for 80 epochs...\n",
            "\n",
            "      Epoch    GPU_mem   box_loss   cls_loss   dfl_loss  Instances       Size\n"
          ]
        },
        {
          "output_type": "stream",
          "name": "stderr",
          "text": [
            "       1/80      4.18G      1.421      6.539     0.9673         23        640: 100%|██████████| 2/2 [00:01<00:00,  1.19it/s]\n",
            "                 Class     Images  Instances      Box(P          R      mAP50  mAP50-95): 100%|██████████| 2/2 [00:01<00:00,  1.37it/s]"
          ]
        },
        {
          "output_type": "stream",
          "name": "stdout",
          "text": [
            "                   all         36         36   0.000669      0.361    0.00186   0.000965\n"
          ]
        },
        {
          "output_type": "stream",
          "name": "stderr",
          "text": [
            "\n"
          ]
        },
        {
          "output_type": "stream",
          "name": "stdout",
          "text": [
            "\n",
            "      Epoch    GPU_mem   box_loss   cls_loss   dfl_loss  Instances       Size\n"
          ]
        },
        {
          "output_type": "stream",
          "name": "stderr",
          "text": [
            "       2/80      4.33G      1.671      8.696      1.016         22        640: 100%|██████████| 2/2 [00:00<00:00,  3.32it/s]\n",
            "                 Class     Images  Instances      Box(P          R      mAP50  mAP50-95): 100%|██████████| 2/2 [00:00<00:00,  2.42it/s]"
          ]
        },
        {
          "output_type": "stream",
          "name": "stdout",
          "text": [
            "                   all         36         36   0.000672      0.361    0.00192    0.00105\n"
          ]
        },
        {
          "output_type": "stream",
          "name": "stderr",
          "text": [
            "\n"
          ]
        },
        {
          "output_type": "stream",
          "name": "stdout",
          "text": [
            "\n",
            "      Epoch    GPU_mem   box_loss   cls_loss   dfl_loss  Instances       Size\n"
          ]
        },
        {
          "output_type": "stream",
          "name": "stderr",
          "text": [
            "       3/80      4.17G      1.664      6.949     0.9966         27        640: 100%|██████████| 2/2 [00:00<00:00,  3.81it/s]\n",
            "                 Class     Images  Instances      Box(P          R      mAP50  mAP50-95): 100%|██████████| 2/2 [00:00<00:00,  4.11it/s]"
          ]
        },
        {
          "output_type": "stream",
          "name": "stdout",
          "text": [
            "                   all         36         36   0.000671      0.361    0.00224    0.00167\n"
          ]
        },
        {
          "output_type": "stream",
          "name": "stderr",
          "text": [
            "\n"
          ]
        },
        {
          "output_type": "stream",
          "name": "stdout",
          "text": [
            "\n",
            "      Epoch    GPU_mem   box_loss   cls_loss   dfl_loss  Instances       Size\n"
          ]
        },
        {
          "output_type": "stream",
          "name": "stderr",
          "text": [
            "       4/80      4.17G      1.564      6.657       1.09         27        640: 100%|██████████| 2/2 [00:00<00:00,  3.04it/s]\n",
            "                 Class     Images  Instances      Box(P          R      mAP50  mAP50-95): 100%|██████████| 2/2 [00:00<00:00,  3.96it/s]"
          ]
        },
        {
          "output_type": "stream",
          "name": "stdout",
          "text": [
            "                   all         36         36   0.000667      0.361    0.00292    0.00233\n"
          ]
        },
        {
          "output_type": "stream",
          "name": "stderr",
          "text": [
            "\n"
          ]
        },
        {
          "output_type": "stream",
          "name": "stdout",
          "text": [
            "\n",
            "      Epoch    GPU_mem   box_loss   cls_loss   dfl_loss  Instances       Size\n"
          ]
        },
        {
          "output_type": "stream",
          "name": "stderr",
          "text": [
            "       5/80      4.19G      1.313      5.851     0.9517         18        640: 100%|██████████| 2/2 [00:00<00:00,  3.27it/s]\n",
            "                 Class     Images  Instances      Box(P          R      mAP50  mAP50-95): 100%|██████████| 2/2 [00:00<00:00,  4.03it/s]"
          ]
        },
        {
          "output_type": "stream",
          "name": "stdout",
          "text": [
            "                   all         36         36      0.231      0.667      0.235      0.199\n"
          ]
        },
        {
          "output_type": "stream",
          "name": "stderr",
          "text": [
            "\n"
          ]
        },
        {
          "output_type": "stream",
          "name": "stdout",
          "text": [
            "\n",
            "      Epoch    GPU_mem   box_loss   cls_loss   dfl_loss  Instances       Size\n"
          ]
        },
        {
          "output_type": "stream",
          "name": "stderr",
          "text": [
            "       6/80      4.25G     0.8051      2.997     0.8313         32        640: 100%|██████████| 2/2 [00:00<00:00,  2.85it/s]\n",
            "                 Class     Images  Instances      Box(P          R      mAP50  mAP50-95): 100%|██████████| 2/2 [00:01<00:00,  1.93it/s]"
          ]
        },
        {
          "output_type": "stream",
          "name": "stdout",
          "text": [
            "                   all         36         36      0.202          1       0.47       0.39\n"
          ]
        },
        {
          "output_type": "stream",
          "name": "stderr",
          "text": [
            "\n"
          ]
        },
        {
          "output_type": "stream",
          "name": "stdout",
          "text": [
            "\n",
            "      Epoch    GPU_mem   box_loss   cls_loss   dfl_loss  Instances       Size\n"
          ]
        },
        {
          "output_type": "stream",
          "name": "stderr",
          "text": [
            "       7/80      4.26G     0.7347       2.43     0.8326         31        640: 100%|██████████| 2/2 [00:00<00:00,  3.53it/s]\n",
            "                 Class     Images  Instances      Box(P          R      mAP50  mAP50-95): 100%|██████████| 2/2 [00:00<00:00,  5.45it/s]"
          ]
        },
        {
          "output_type": "stream",
          "name": "stdout",
          "text": [
            "                   all         36         36      0.332      0.588       0.55      0.462\n"
          ]
        },
        {
          "output_type": "stream",
          "name": "stderr",
          "text": [
            "\n"
          ]
        },
        {
          "output_type": "stream",
          "name": "stdout",
          "text": [
            "\n",
            "      Epoch    GPU_mem   box_loss   cls_loss   dfl_loss  Instances       Size\n"
          ]
        },
        {
          "output_type": "stream",
          "name": "stderr",
          "text": [
            "       8/80      4.28G     0.7212      2.253     0.8077         24        640: 100%|██████████| 2/2 [00:00<00:00,  3.13it/s]\n",
            "                 Class     Images  Instances      Box(P          R      mAP50  mAP50-95): 100%|██████████| 2/2 [00:00<00:00,  5.07it/s]"
          ]
        },
        {
          "output_type": "stream",
          "name": "stdout",
          "text": [
            "                   all         36         36      0.305      0.889      0.414      0.356\n"
          ]
        },
        {
          "output_type": "stream",
          "name": "stderr",
          "text": [
            "\n"
          ]
        },
        {
          "output_type": "stream",
          "name": "stdout",
          "text": [
            "\n",
            "      Epoch    GPU_mem   box_loss   cls_loss   dfl_loss  Instances       Size\n"
          ]
        },
        {
          "output_type": "stream",
          "name": "stderr",
          "text": [
            "       9/80      4.26G     0.8413      1.918       0.85         28        640: 100%|██████████| 2/2 [00:00<00:00,  3.88it/s]\n",
            "                 Class     Images  Instances      Box(P          R      mAP50  mAP50-95): 100%|██████████| 2/2 [00:00<00:00,  4.35it/s]"
          ]
        },
        {
          "output_type": "stream",
          "name": "stdout",
          "text": [
            "                   all         36         36      0.611       0.25      0.365      0.312\n"
          ]
        },
        {
          "output_type": "stream",
          "name": "stderr",
          "text": [
            "\n"
          ]
        },
        {
          "output_type": "stream",
          "name": "stdout",
          "text": [
            "\n",
            "      Epoch    GPU_mem   box_loss   cls_loss   dfl_loss  Instances       Size\n"
          ]
        },
        {
          "output_type": "stream",
          "name": "stderr",
          "text": [
            "      10/80      4.27G     0.6729       1.84     0.8516         23        640: 100%|██████████| 2/2 [00:00<00:00,  3.14it/s]\n",
            "                 Class     Images  Instances      Box(P          R      mAP50  mAP50-95): 100%|██████████| 2/2 [00:00<00:00,  5.33it/s]"
          ]
        },
        {
          "output_type": "stream",
          "name": "stdout",
          "text": [
            "                   all         36         36      0.139      0.939      0.218      0.187\n"
          ]
        },
        {
          "output_type": "stream",
          "name": "stderr",
          "text": [
            "\n"
          ]
        },
        {
          "output_type": "stream",
          "name": "stdout",
          "text": [
            "\n",
            "      Epoch    GPU_mem   box_loss   cls_loss   dfl_loss  Instances       Size\n"
          ]
        },
        {
          "output_type": "stream",
          "name": "stderr",
          "text": [
            "      11/80      4.29G     0.6891      1.929     0.8245         30        640: 100%|██████████| 2/2 [00:00<00:00,  3.80it/s]\n",
            "                 Class     Images  Instances      Box(P          R      mAP50  mAP50-95): 100%|██████████| 2/2 [00:00<00:00,  6.00it/s]"
          ]
        },
        {
          "output_type": "stream",
          "name": "stdout",
          "text": [
            "                   all         36         36      0.158      0.944      0.194      0.166\n"
          ]
        },
        {
          "output_type": "stream",
          "name": "stderr",
          "text": [
            "\n"
          ]
        },
        {
          "output_type": "stream",
          "name": "stdout",
          "text": [
            "\n",
            "      Epoch    GPU_mem   box_loss   cls_loss   dfl_loss  Instances       Size\n"
          ]
        },
        {
          "output_type": "stream",
          "name": "stderr",
          "text": [
            "      12/80      4.29G     0.6999      2.002     0.8633         29        640: 100%|██████████| 2/2 [00:00<00:00,  3.34it/s]\n",
            "                 Class     Images  Instances      Box(P          R      mAP50  mAP50-95): 100%|██████████| 2/2 [00:00<00:00,  4.28it/s]"
          ]
        },
        {
          "output_type": "stream",
          "name": "stdout",
          "text": [
            "                   all         36         36      0.151      0.889      0.187      0.161\n"
          ]
        },
        {
          "output_type": "stream",
          "name": "stderr",
          "text": [
            "\n"
          ]
        },
        {
          "output_type": "stream",
          "name": "stdout",
          "text": [
            "\n",
            "      Epoch    GPU_mem   box_loss   cls_loss   dfl_loss  Instances       Size\n"
          ]
        },
        {
          "output_type": "stream",
          "name": "stderr",
          "text": [
            "      13/80      4.29G     0.8053      1.918     0.8771         28        640: 100%|██████████| 2/2 [00:00<00:00,  2.31it/s]\n",
            "                 Class     Images  Instances      Box(P          R      mAP50  mAP50-95): 100%|██████████| 2/2 [00:00<00:00,  2.79it/s]"
          ]
        },
        {
          "output_type": "stream",
          "name": "stdout",
          "text": [
            "                   all         36         36      0.127      0.583      0.182      0.153\n"
          ]
        },
        {
          "output_type": "stream",
          "name": "stderr",
          "text": [
            "\n"
          ]
        },
        {
          "output_type": "stream",
          "name": "stdout",
          "text": [
            "\n",
            "      Epoch    GPU_mem   box_loss   cls_loss   dfl_loss  Instances       Size\n"
          ]
        },
        {
          "output_type": "stream",
          "name": "stderr",
          "text": [
            "      14/80      4.29G     0.7732      1.458     0.8545         25        640: 100%|██████████| 2/2 [00:00<00:00,  2.53it/s]\n",
            "                 Class     Images  Instances      Box(P          R      mAP50  mAP50-95): 100%|██████████| 2/2 [00:00<00:00,  4.31it/s]"
          ]
        },
        {
          "output_type": "stream",
          "name": "stdout",
          "text": [
            "                   all         36         36      0.154      0.556      0.191      0.165\n"
          ]
        },
        {
          "output_type": "stream",
          "name": "stderr",
          "text": [
            "\n"
          ]
        },
        {
          "output_type": "stream",
          "name": "stdout",
          "text": [
            "\n",
            "      Epoch    GPU_mem   box_loss   cls_loss   dfl_loss  Instances       Size\n"
          ]
        },
        {
          "output_type": "stream",
          "name": "stderr",
          "text": [
            "      15/80      4.29G      0.764      1.505     0.7782         22        640: 100%|██████████| 2/2 [00:00<00:00,  3.77it/s]\n",
            "                 Class     Images  Instances      Box(P          R      mAP50  mAP50-95): 100%|██████████| 2/2 [00:00<00:00,  5.31it/s]"
          ]
        },
        {
          "output_type": "stream",
          "name": "stdout",
          "text": [
            "                   all         36         36      0.146      0.556      0.226      0.193\n"
          ]
        },
        {
          "output_type": "stream",
          "name": "stderr",
          "text": [
            "\n"
          ]
        },
        {
          "output_type": "stream",
          "name": "stdout",
          "text": [
            "\n",
            "      Epoch    GPU_mem   box_loss   cls_loss   dfl_loss  Instances       Size\n"
          ]
        },
        {
          "output_type": "stream",
          "name": "stderr",
          "text": [
            "      16/80      4.19G      0.813       1.42     0.8788         33        640: 100%|██████████| 2/2 [00:00<00:00,  3.97it/s]\n",
            "                 Class     Images  Instances      Box(P          R      mAP50  mAP50-95): 100%|██████████| 2/2 [00:00<00:00,  4.96it/s]"
          ]
        },
        {
          "output_type": "stream",
          "name": "stdout",
          "text": [
            "                   all         36         36      0.294      0.599      0.325      0.276\n"
          ]
        },
        {
          "output_type": "stream",
          "name": "stderr",
          "text": [
            "\n"
          ]
        },
        {
          "output_type": "stream",
          "name": "stdout",
          "text": [
            "\n",
            "      Epoch    GPU_mem   box_loss   cls_loss   dfl_loss  Instances       Size\n"
          ]
        },
        {
          "output_type": "stream",
          "name": "stderr",
          "text": [
            "      17/80      4.19G      0.692      1.123     0.8234         26        640: 100%|██████████| 2/2 [00:00<00:00,  3.89it/s]\n",
            "                 Class     Images  Instances      Box(P          R      mAP50  mAP50-95): 100%|██████████| 2/2 [00:00<00:00,  7.59it/s]"
          ]
        },
        {
          "output_type": "stream",
          "name": "stdout",
          "text": [
            "                   all         36         36      0.321      0.867      0.336      0.286\n"
          ]
        },
        {
          "output_type": "stream",
          "name": "stderr",
          "text": [
            "\n"
          ]
        },
        {
          "output_type": "stream",
          "name": "stdout",
          "text": [
            "\n",
            "      Epoch    GPU_mem   box_loss   cls_loss   dfl_loss  Instances       Size\n"
          ]
        },
        {
          "output_type": "stream",
          "name": "stderr",
          "text": [
            "      18/80      4.18G     0.6973        1.2       0.85         31        640: 100%|██████████| 2/2 [00:00<00:00,  3.23it/s]\n",
            "                 Class     Images  Instances      Box(P          R      mAP50  mAP50-95): 100%|██████████| 2/2 [00:00<00:00,  5.08it/s]"
          ]
        },
        {
          "output_type": "stream",
          "name": "stdout",
          "text": [
            "                   all         36         36      0.316      0.972      0.349      0.289\n"
          ]
        },
        {
          "output_type": "stream",
          "name": "stderr",
          "text": [
            "\n"
          ]
        },
        {
          "output_type": "stream",
          "name": "stdout",
          "text": [
            "\n",
            "      Epoch    GPU_mem   box_loss   cls_loss   dfl_loss  Instances       Size\n"
          ]
        },
        {
          "output_type": "stream",
          "name": "stderr",
          "text": [
            "      19/80      4.18G     0.6847      1.104     0.8421         24        640: 100%|██████████| 2/2 [00:00<00:00,  3.83it/s]\n",
            "                 Class     Images  Instances      Box(P          R      mAP50  mAP50-95): 100%|██████████| 2/2 [00:00<00:00,  5.14it/s]"
          ]
        },
        {
          "output_type": "stream",
          "name": "stdout",
          "text": [
            "                   all         36         36       0.28      0.937      0.395      0.325\n"
          ]
        },
        {
          "output_type": "stream",
          "name": "stderr",
          "text": [
            "\n"
          ]
        },
        {
          "output_type": "stream",
          "name": "stdout",
          "text": [
            "\n",
            "      Epoch    GPU_mem   box_loss   cls_loss   dfl_loss  Instances       Size\n"
          ]
        },
        {
          "output_type": "stream",
          "name": "stderr",
          "text": [
            "      20/80      4.18G     0.7332      1.149     0.8191         32        640: 100%|██████████| 2/2 [00:00<00:00,  2.55it/s]\n",
            "                 Class     Images  Instances      Box(P          R      mAP50  mAP50-95): 100%|██████████| 2/2 [00:00<00:00,  2.20it/s]"
          ]
        },
        {
          "output_type": "stream",
          "name": "stdout",
          "text": [
            "                   all         36         36      0.543      0.667      0.497      0.416\n"
          ]
        },
        {
          "output_type": "stream",
          "name": "stderr",
          "text": [
            "\n"
          ]
        },
        {
          "output_type": "stream",
          "name": "stdout",
          "text": [
            "\n",
            "      Epoch    GPU_mem   box_loss   cls_loss   dfl_loss  Instances       Size\n"
          ]
        },
        {
          "output_type": "stream",
          "name": "stderr",
          "text": [
            "      21/80      4.18G     0.7212      1.239     0.8184         21        640: 100%|██████████| 2/2 [00:00<00:00,  2.46it/s]\n",
            "                 Class     Images  Instances      Box(P          R      mAP50  mAP50-95): 100%|██████████| 2/2 [00:00<00:00,  2.69it/s]"
          ]
        },
        {
          "output_type": "stream",
          "name": "stdout",
          "text": [
            "                   all         36         36      0.596      0.774      0.721      0.608\n"
          ]
        },
        {
          "output_type": "stream",
          "name": "stderr",
          "text": [
            "\n"
          ]
        },
        {
          "output_type": "stream",
          "name": "stdout",
          "text": [
            "\n",
            "      Epoch    GPU_mem   box_loss   cls_loss   dfl_loss  Instances       Size\n"
          ]
        },
        {
          "output_type": "stream",
          "name": "stderr",
          "text": [
            "      22/80      4.17G     0.7236      1.294     0.8388         26        640: 100%|██████████| 2/2 [00:00<00:00,  3.92it/s]\n",
            "                 Class     Images  Instances      Box(P          R      mAP50  mAP50-95): 100%|██████████| 2/2 [00:00<00:00,  5.01it/s]"
          ]
        },
        {
          "output_type": "stream",
          "name": "stdout",
          "text": [
            "                   all         36         36      0.514      0.556      0.647       0.56\n"
          ]
        },
        {
          "output_type": "stream",
          "name": "stderr",
          "text": [
            "\n"
          ]
        },
        {
          "output_type": "stream",
          "name": "stdout",
          "text": [
            "\n",
            "      Epoch    GPU_mem   box_loss   cls_loss   dfl_loss  Instances       Size\n"
          ]
        },
        {
          "output_type": "stream",
          "name": "stderr",
          "text": [
            "      23/80      4.18G     0.8607      1.487     0.8536         22        640: 100%|██████████| 2/2 [00:00<00:00,  3.56it/s]\n",
            "                 Class     Images  Instances      Box(P          R      mAP50  mAP50-95): 100%|██████████| 2/2 [00:00<00:00,  5.61it/s]"
          ]
        },
        {
          "output_type": "stream",
          "name": "stdout",
          "text": [
            "                   all         36         36       0.52      0.556      0.681      0.572\n"
          ]
        },
        {
          "output_type": "stream",
          "name": "stderr",
          "text": [
            "\n"
          ]
        },
        {
          "output_type": "stream",
          "name": "stdout",
          "text": [
            "\n",
            "      Epoch    GPU_mem   box_loss   cls_loss   dfl_loss  Instances       Size\n"
          ]
        },
        {
          "output_type": "stream",
          "name": "stderr",
          "text": [
            "      24/80      4.18G     0.7963      1.218     0.8313         26        640: 100%|██████████| 2/2 [00:00<00:00,  3.63it/s]\n",
            "                 Class     Images  Instances      Box(P          R      mAP50  mAP50-95): 100%|██████████| 2/2 [00:00<00:00,  3.90it/s]"
          ]
        },
        {
          "output_type": "stream",
          "name": "stdout",
          "text": [
            "                   all         36         36      0.381      0.894      0.646      0.526\n"
          ]
        },
        {
          "output_type": "stream",
          "name": "stderr",
          "text": [
            "\n"
          ]
        },
        {
          "output_type": "stream",
          "name": "stdout",
          "text": [
            "\n",
            "      Epoch    GPU_mem   box_loss   cls_loss   dfl_loss  Instances       Size\n"
          ]
        },
        {
          "output_type": "stream",
          "name": "stderr",
          "text": [
            "      25/80      4.17G     0.7924      1.074     0.8292         21        640: 100%|██████████| 2/2 [00:00<00:00,  3.41it/s]\n",
            "                 Class     Images  Instances      Box(P          R      mAP50  mAP50-95): 100%|██████████| 2/2 [00:00<00:00,  5.47it/s]"
          ]
        },
        {
          "output_type": "stream",
          "name": "stdout",
          "text": [
            "                   all         36         36      0.383      0.917      0.566      0.452\n"
          ]
        },
        {
          "output_type": "stream",
          "name": "stderr",
          "text": [
            "\n"
          ]
        },
        {
          "output_type": "stream",
          "name": "stdout",
          "text": [
            "\n",
            "      Epoch    GPU_mem   box_loss   cls_loss   dfl_loss  Instances       Size\n"
          ]
        },
        {
          "output_type": "stream",
          "name": "stderr",
          "text": [
            "      26/80      4.17G     0.7211     0.8752     0.8141         30        640: 100%|██████████| 2/2 [00:00<00:00,  3.93it/s]\n",
            "                 Class     Images  Instances      Box(P          R      mAP50  mAP50-95): 100%|██████████| 2/2 [00:00<00:00,  5.04it/s]"
          ]
        },
        {
          "output_type": "stream",
          "name": "stdout",
          "text": [
            "                   all         36         36      0.361      0.996      0.435      0.345\n"
          ]
        },
        {
          "output_type": "stream",
          "name": "stderr",
          "text": [
            "\n"
          ]
        },
        {
          "output_type": "stream",
          "name": "stdout",
          "text": [
            "\n",
            "      Epoch    GPU_mem   box_loss   cls_loss   dfl_loss  Instances       Size\n"
          ]
        },
        {
          "output_type": "stream",
          "name": "stderr",
          "text": [
            "      27/80      4.18G      0.732     0.9313     0.8131         29        640: 100%|██████████| 2/2 [00:00<00:00,  3.78it/s]\n",
            "                 Class     Images  Instances      Box(P          R      mAP50  mAP50-95): 100%|██████████| 2/2 [00:00<00:00,  3.48it/s]"
          ]
        },
        {
          "output_type": "stream",
          "name": "stdout",
          "text": [
            "                   all         36         36      0.361          1      0.536      0.442\n"
          ]
        },
        {
          "output_type": "stream",
          "name": "stderr",
          "text": [
            "\n"
          ]
        },
        {
          "output_type": "stream",
          "name": "stdout",
          "text": [
            "\n",
            "      Epoch    GPU_mem   box_loss   cls_loss   dfl_loss  Instances       Size\n"
          ]
        },
        {
          "output_type": "stream",
          "name": "stderr",
          "text": [
            "      28/80      4.32G     0.6881     0.8835     0.8274         24        640: 100%|██████████| 2/2 [00:00<00:00,  3.04it/s]\n",
            "                 Class     Images  Instances      Box(P          R      mAP50  mAP50-95): 100%|██████████| 2/2 [00:00<00:00,  2.52it/s]"
          ]
        },
        {
          "output_type": "stream",
          "name": "stdout",
          "text": [
            "                   all         36         36      0.361          1      0.536      0.442\n"
          ]
        },
        {
          "output_type": "stream",
          "name": "stderr",
          "text": [
            "\n"
          ]
        },
        {
          "output_type": "stream",
          "name": "stdout",
          "text": [
            "\n",
            "      Epoch    GPU_mem   box_loss   cls_loss   dfl_loss  Instances       Size\n"
          ]
        },
        {
          "output_type": "stream",
          "name": "stderr",
          "text": [
            "      29/80      4.18G     0.7489      0.928     0.8451         25        640: 100%|██████████| 2/2 [00:00<00:00,  3.50it/s]\n",
            "                 Class     Images  Instances      Box(P          R      mAP50  mAP50-95): 100%|██████████| 2/2 [00:00<00:00,  5.69it/s]"
          ]
        },
        {
          "output_type": "stream",
          "name": "stdout",
          "text": [
            "                   all         36         36      0.537      0.861      0.585      0.485\n"
          ]
        },
        {
          "output_type": "stream",
          "name": "stderr",
          "text": [
            "\n"
          ]
        },
        {
          "output_type": "stream",
          "name": "stdout",
          "text": [
            "\n",
            "      Epoch    GPU_mem   box_loss   cls_loss   dfl_loss  Instances       Size\n"
          ]
        },
        {
          "output_type": "stream",
          "name": "stderr",
          "text": [
            "      30/80      4.16G     0.7741     0.8712     0.8776         24        640: 100%|██████████| 2/2 [00:00<00:00,  3.85it/s]\n",
            "                 Class     Images  Instances      Box(P          R      mAP50  mAP50-95): 100%|██████████| 2/2 [00:00<00:00,  7.83it/s]"
          ]
        },
        {
          "output_type": "stream",
          "name": "stdout",
          "text": [
            "                   all         36         36      0.511       0.78       0.75      0.643\n"
          ]
        },
        {
          "output_type": "stream",
          "name": "stderr",
          "text": [
            "\n"
          ]
        },
        {
          "output_type": "stream",
          "name": "stdout",
          "text": [
            "\n",
            "      Epoch    GPU_mem   box_loss   cls_loss   dfl_loss  Instances       Size\n"
          ]
        },
        {
          "output_type": "stream",
          "name": "stderr",
          "text": [
            "      31/80      4.32G     0.6609     0.9209     0.8269         19        640: 100%|██████████| 2/2 [00:00<00:00,  3.65it/s]\n",
            "                 Class     Images  Instances      Box(P          R      mAP50  mAP50-95): 100%|██████████| 2/2 [00:00<00:00,  5.42it/s]"
          ]
        },
        {
          "output_type": "stream",
          "name": "stdout",
          "text": [
            "                   all         36         36      0.511       0.78       0.75      0.643\n"
          ]
        },
        {
          "output_type": "stream",
          "name": "stderr",
          "text": [
            "\n"
          ]
        },
        {
          "output_type": "stream",
          "name": "stdout",
          "text": [
            "\n",
            "      Epoch    GPU_mem   box_loss   cls_loss   dfl_loss  Instances       Size\n"
          ]
        },
        {
          "output_type": "stream",
          "name": "stderr",
          "text": [
            "      32/80      4.17G     0.6986     0.8768     0.8212         27        640: 100%|██████████| 2/2 [00:00<00:00,  3.82it/s]\n",
            "                 Class     Images  Instances      Box(P          R      mAP50  mAP50-95): 100%|██████████| 2/2 [00:00<00:00,  5.88it/s]"
          ]
        },
        {
          "output_type": "stream",
          "name": "stdout",
          "text": [
            "                   all         36         36      0.415      0.667      0.735      0.617\n"
          ]
        },
        {
          "output_type": "stream",
          "name": "stderr",
          "text": [
            "\n"
          ]
        },
        {
          "output_type": "stream",
          "name": "stdout",
          "text": [
            "\n",
            "      Epoch    GPU_mem   box_loss   cls_loss   dfl_loss  Instances       Size\n"
          ]
        },
        {
          "output_type": "stream",
          "name": "stderr",
          "text": [
            "      33/80      4.18G     0.6811     0.8045     0.8594         22        640: 100%|██████████| 2/2 [00:00<00:00,  3.66it/s]\n",
            "                 Class     Images  Instances      Box(P          R      mAP50  mAP50-95): 100%|██████████| 2/2 [00:00<00:00,  5.79it/s]"
          ]
        },
        {
          "output_type": "stream",
          "name": "stdout",
          "text": [
            "                   all         36         36      0.497        0.6      0.727      0.608\n"
          ]
        },
        {
          "output_type": "stream",
          "name": "stderr",
          "text": [
            "\n"
          ]
        },
        {
          "output_type": "stream",
          "name": "stdout",
          "text": [
            "\n",
            "      Epoch    GPU_mem   box_loss   cls_loss   dfl_loss  Instances       Size\n"
          ]
        },
        {
          "output_type": "stream",
          "name": "stderr",
          "text": [
            "      34/80      4.33G     0.6844     0.8899     0.8607         28        640: 100%|██████████| 2/2 [00:00<00:00,  3.72it/s]\n",
            "                 Class     Images  Instances      Box(P          R      mAP50  mAP50-95): 100%|██████████| 2/2 [00:00<00:00,  3.66it/s]"
          ]
        },
        {
          "output_type": "stream",
          "name": "stdout",
          "text": [
            "                   all         36         36      0.497        0.6      0.727      0.608\n"
          ]
        },
        {
          "output_type": "stream",
          "name": "stderr",
          "text": [
            "\n"
          ]
        },
        {
          "output_type": "stream",
          "name": "stdout",
          "text": [
            "\n",
            "      Epoch    GPU_mem   box_loss   cls_loss   dfl_loss  Instances       Size\n"
          ]
        },
        {
          "output_type": "stream",
          "name": "stderr",
          "text": [
            "      35/80      4.18G     0.6786     0.8954     0.8407         26        640: 100%|██████████| 2/2 [00:00<00:00,  3.02it/s]\n",
            "                 Class     Images  Instances      Box(P          R      mAP50  mAP50-95): 100%|██████████| 2/2 [00:00<00:00,  2.76it/s]"
          ]
        },
        {
          "output_type": "stream",
          "name": "stdout",
          "text": [
            "                   all         36         36      0.574      0.944      0.859       0.74\n"
          ]
        },
        {
          "output_type": "stream",
          "name": "stderr",
          "text": [
            "\n"
          ]
        },
        {
          "output_type": "stream",
          "name": "stdout",
          "text": [
            "\n",
            "      Epoch    GPU_mem   box_loss   cls_loss   dfl_loss  Instances       Size\n"
          ]
        },
        {
          "output_type": "stream",
          "name": "stderr",
          "text": [
            "      36/80      4.18G     0.5897     0.7245     0.8626         27        640: 100%|██████████| 2/2 [00:00<00:00,  2.46it/s]\n",
            "                 Class     Images  Instances      Box(P          R      mAP50  mAP50-95): 100%|██████████| 2/2 [00:00<00:00,  3.08it/s]"
          ]
        },
        {
          "output_type": "stream",
          "name": "stdout",
          "text": [
            "                   all         36         36      0.918      0.897      0.948      0.831\n"
          ]
        },
        {
          "output_type": "stream",
          "name": "stderr",
          "text": [
            "\n"
          ]
        },
        {
          "output_type": "stream",
          "name": "stdout",
          "text": [
            "\n",
            "      Epoch    GPU_mem   box_loss   cls_loss   dfl_loss  Instances       Size\n"
          ]
        },
        {
          "output_type": "stream",
          "name": "stderr",
          "text": [
            "      37/80      4.33G      0.746     0.8248     0.8197         25        640: 100%|██████████| 2/2 [00:00<00:00,  4.18it/s]\n",
            "                 Class     Images  Instances      Box(P          R      mAP50  mAP50-95): 100%|██████████| 2/2 [00:00<00:00,  4.54it/s]"
          ]
        },
        {
          "output_type": "stream",
          "name": "stdout",
          "text": [
            "                   all         36         36      0.918      0.897      0.948      0.831\n"
          ]
        },
        {
          "output_type": "stream",
          "name": "stderr",
          "text": [
            "\n"
          ]
        },
        {
          "output_type": "stream",
          "name": "stdout",
          "text": [
            "\n",
            "      Epoch    GPU_mem   box_loss   cls_loss   dfl_loss  Instances       Size\n"
          ]
        },
        {
          "output_type": "stream",
          "name": "stderr",
          "text": [
            "      38/80      4.17G      0.658     0.8191     0.8063         26        640: 100%|██████████| 2/2 [00:00<00:00,  3.61it/s]\n",
            "                 Class     Images  Instances      Box(P          R      mAP50  mAP50-95): 100%|██████████| 2/2 [00:00<00:00,  4.86it/s]"
          ]
        },
        {
          "output_type": "stream",
          "name": "stdout",
          "text": [
            "                   all         36         36      0.895      0.916      0.966      0.835\n"
          ]
        },
        {
          "output_type": "stream",
          "name": "stderr",
          "text": [
            "\n"
          ]
        },
        {
          "output_type": "stream",
          "name": "stdout",
          "text": [
            "\n",
            "      Epoch    GPU_mem   box_loss   cls_loss   dfl_loss  Instances       Size\n"
          ]
        },
        {
          "output_type": "stream",
          "name": "stderr",
          "text": [
            "      39/80      4.16G     0.6608      1.054      0.819         27        640: 100%|██████████| 2/2 [00:00<00:00,  3.46it/s]\n",
            "                 Class     Images  Instances      Box(P          R      mAP50  mAP50-95): 100%|██████████| 2/2 [00:00<00:00,  5.64it/s]"
          ]
        },
        {
          "output_type": "stream",
          "name": "stdout",
          "text": [
            "                   all         36         36       0.64      0.944      0.938      0.835\n"
          ]
        },
        {
          "output_type": "stream",
          "name": "stderr",
          "text": [
            "\n"
          ]
        },
        {
          "output_type": "stream",
          "name": "stdout",
          "text": [
            "\n",
            "      Epoch    GPU_mem   box_loss   cls_loss   dfl_loss  Instances       Size\n"
          ]
        },
        {
          "output_type": "stream",
          "name": "stderr",
          "text": [
            "      40/80      4.14G     0.6892     0.6879     0.8628         24        640: 100%|██████████| 2/2 [00:00<00:00,  4.25it/s]\n",
            "                 Class     Images  Instances      Box(P          R      mAP50  mAP50-95): 100%|██████████| 2/2 [00:00<00:00,  6.95it/s]"
          ]
        },
        {
          "output_type": "stream",
          "name": "stdout",
          "text": [
            "                   all         36         36       0.64      0.944      0.938      0.835\n"
          ]
        },
        {
          "output_type": "stream",
          "name": "stderr",
          "text": [
            "\n"
          ]
        },
        {
          "output_type": "stream",
          "name": "stdout",
          "text": [
            "\n",
            "      Epoch    GPU_mem   box_loss   cls_loss   dfl_loss  Instances       Size\n"
          ]
        },
        {
          "output_type": "stream",
          "name": "stderr",
          "text": [
            "      41/80      4.18G     0.6843     0.8919     0.8496         25        640: 100%|██████████| 2/2 [00:00<00:00,  3.32it/s]\n",
            "                 Class     Images  Instances      Box(P          R      mAP50  mAP50-95): 100%|██████████| 2/2 [00:00<00:00,  4.65it/s]"
          ]
        },
        {
          "output_type": "stream",
          "name": "stdout",
          "text": [
            "                   all         36         36       0.49      0.898      0.725      0.632\n"
          ]
        },
        {
          "output_type": "stream",
          "name": "stderr",
          "text": [
            "\n"
          ]
        },
        {
          "output_type": "stream",
          "name": "stdout",
          "text": [
            "\n",
            "      Epoch    GPU_mem   box_loss   cls_loss   dfl_loss  Instances       Size\n"
          ]
        },
        {
          "output_type": "stream",
          "name": "stderr",
          "text": [
            "      42/80      4.18G      0.738     0.7913     0.8678         25        640: 100%|██████████| 2/2 [00:00<00:00,  3.03it/s]\n",
            "                 Class     Images  Instances      Box(P          R      mAP50  mAP50-95): 100%|██████████| 2/2 [00:00<00:00,  3.83it/s]"
          ]
        },
        {
          "output_type": "stream",
          "name": "stdout",
          "text": [
            "                   all         36         36      0.355      0.846      0.666      0.577\n"
          ]
        },
        {
          "output_type": "stream",
          "name": "stderr",
          "text": [
            "\n"
          ]
        },
        {
          "output_type": "stream",
          "name": "stdout",
          "text": [
            "\n",
            "      Epoch    GPU_mem   box_loss   cls_loss   dfl_loss  Instances       Size\n"
          ]
        },
        {
          "output_type": "stream",
          "name": "stderr",
          "text": [
            "      43/80      4.32G     0.6543     0.7204     0.8262         26        640: 100%|██████████| 2/2 [00:00<00:00,  2.16it/s]\n",
            "                 Class     Images  Instances      Box(P          R      mAP50  mAP50-95): 100%|██████████| 2/2 [00:00<00:00,  2.75it/s]"
          ]
        },
        {
          "output_type": "stream",
          "name": "stdout",
          "text": [
            "                   all         36         36      0.355      0.846      0.666      0.577\n"
          ]
        },
        {
          "output_type": "stream",
          "name": "stderr",
          "text": [
            "\n"
          ]
        },
        {
          "output_type": "stream",
          "name": "stdout",
          "text": [
            "\n",
            "      Epoch    GPU_mem   box_loss   cls_loss   dfl_loss  Instances       Size\n"
          ]
        },
        {
          "output_type": "stream",
          "name": "stderr",
          "text": [
            "      44/80      4.15G     0.7011     0.8794     0.8314         29        640: 100%|██████████| 2/2 [00:00<00:00,  3.35it/s]\n",
            "                 Class     Images  Instances      Box(P          R      mAP50  mAP50-95): 100%|██████████| 2/2 [00:00<00:00,  5.38it/s]"
          ]
        },
        {
          "output_type": "stream",
          "name": "stdout",
          "text": [
            "                   all         36         36          1      0.322      0.544      0.477\n"
          ]
        },
        {
          "output_type": "stream",
          "name": "stderr",
          "text": [
            "\n"
          ]
        },
        {
          "output_type": "stream",
          "name": "stdout",
          "text": [
            "\n",
            "      Epoch    GPU_mem   box_loss   cls_loss   dfl_loss  Instances       Size\n"
          ]
        },
        {
          "output_type": "stream",
          "name": "stderr",
          "text": [
            "      45/80      4.31G     0.6842      0.798     0.8624         20        640: 100%|██████████| 2/2 [00:00<00:00,  4.00it/s]\n",
            "                 Class     Images  Instances      Box(P          R      mAP50  mAP50-95): 100%|██████████| 2/2 [00:00<00:00,  4.50it/s]"
          ]
        },
        {
          "output_type": "stream",
          "name": "stdout",
          "text": [
            "                   all         36         36          1      0.322      0.544      0.477\n"
          ]
        },
        {
          "output_type": "stream",
          "name": "stderr",
          "text": [
            "\n"
          ]
        },
        {
          "output_type": "stream",
          "name": "stdout",
          "text": [
            "\n",
            "      Epoch    GPU_mem   box_loss   cls_loss   dfl_loss  Instances       Size\n"
          ]
        },
        {
          "output_type": "stream",
          "name": "stderr",
          "text": [
            "      46/80      4.17G     0.6134     0.7984     0.8188         29        640: 100%|██████████| 2/2 [00:00<00:00,  2.95it/s]\n",
            "                 Class     Images  Instances      Box(P          R      mAP50  mAP50-95): 100%|██████████| 2/2 [00:00<00:00,  5.83it/s]"
          ]
        },
        {
          "output_type": "stream",
          "name": "stdout",
          "text": [
            "                   all         36         36      0.594      0.667      0.555      0.475\n"
          ]
        },
        {
          "output_type": "stream",
          "name": "stderr",
          "text": [
            "\n"
          ]
        },
        {
          "output_type": "stream",
          "name": "stdout",
          "text": [
            "\n",
            "      Epoch    GPU_mem   box_loss   cls_loss   dfl_loss  Instances       Size\n"
          ]
        },
        {
          "output_type": "stream",
          "name": "stderr",
          "text": [
            "      47/80      4.32G     0.6571     0.7735     0.7939         23        640: 100%|██████████| 2/2 [00:00<00:00,  4.01it/s]\n",
            "                 Class     Images  Instances      Box(P          R      mAP50  mAP50-95): 100%|██████████| 2/2 [00:00<00:00,  4.44it/s]"
          ]
        },
        {
          "output_type": "stream",
          "name": "stdout",
          "text": [
            "                   all         36         36      0.594      0.667      0.555      0.475\n"
          ]
        },
        {
          "output_type": "stream",
          "name": "stderr",
          "text": [
            "\n"
          ]
        },
        {
          "output_type": "stream",
          "name": "stdout",
          "text": [
            "\n",
            "      Epoch    GPU_mem   box_loss   cls_loss   dfl_loss  Instances       Size\n"
          ]
        },
        {
          "output_type": "stream",
          "name": "stderr",
          "text": [
            "      48/80      4.18G      0.716     0.8369     0.8299         19        640: 100%|██████████| 2/2 [00:00<00:00,  3.65it/s]\n",
            "                 Class     Images  Instances      Box(P          R      mAP50  mAP50-95): 100%|██████████| 2/2 [00:00<00:00,  5.63it/s]"
          ]
        },
        {
          "output_type": "stream",
          "name": "stdout",
          "text": [
            "                   all         36         36      0.603      0.667      0.621      0.547\n"
          ]
        },
        {
          "output_type": "stream",
          "name": "stderr",
          "text": [
            "\n"
          ]
        },
        {
          "output_type": "stream",
          "name": "stdout",
          "text": [
            "\n",
            "      Epoch    GPU_mem   box_loss   cls_loss   dfl_loss  Instances       Size\n"
          ]
        },
        {
          "output_type": "stream",
          "name": "stderr",
          "text": [
            "      49/80      4.31G     0.6572     0.7971     0.8521         26        640: 100%|██████████| 2/2 [00:00<00:00,  3.90it/s]\n",
            "                 Class     Images  Instances      Box(P          R      mAP50  mAP50-95): 100%|██████████| 2/2 [00:00<00:00,  3.75it/s]"
          ]
        },
        {
          "output_type": "stream",
          "name": "stdout",
          "text": [
            "                   all         36         36      0.603      0.667      0.621      0.547\n"
          ]
        },
        {
          "output_type": "stream",
          "name": "stderr",
          "text": [
            "\n"
          ]
        },
        {
          "output_type": "stream",
          "name": "stdout",
          "text": [
            "\n",
            "      Epoch    GPU_mem   box_loss   cls_loss   dfl_loss  Instances       Size\n"
          ]
        },
        {
          "output_type": "stream",
          "name": "stderr",
          "text": [
            "      50/80      4.17G     0.6239     0.7042     0.8002         29        640: 100%|██████████| 2/2 [00:00<00:00,  2.36it/s]\n",
            "                 Class     Images  Instances      Box(P          R      mAP50  mAP50-95): 100%|██████████| 2/2 [00:00<00:00,  2.69it/s]"
          ]
        },
        {
          "output_type": "stream",
          "name": "stdout",
          "text": [
            "                   all         36         36      0.821      0.667       0.73      0.641\n"
          ]
        },
        {
          "output_type": "stream",
          "name": "stderr",
          "text": [
            "\n"
          ]
        },
        {
          "output_type": "stream",
          "name": "stdout",
          "text": [
            "\n",
            "      Epoch    GPU_mem   box_loss   cls_loss   dfl_loss  Instances       Size\n"
          ]
        },
        {
          "output_type": "stream",
          "name": "stderr",
          "text": [
            "      51/80      4.31G     0.6954     0.5957     0.8235         25        640: 100%|██████████| 2/2 [00:00<00:00,  3.37it/s]\n",
            "                 Class     Images  Instances      Box(P          R      mAP50  mAP50-95): 100%|██████████| 2/2 [00:00<00:00,  4.93it/s]"
          ]
        },
        {
          "output_type": "stream",
          "name": "stdout",
          "text": [
            "                   all         36         36      0.821      0.667       0.73      0.641\n"
          ]
        },
        {
          "output_type": "stream",
          "name": "stderr",
          "text": [
            "\n"
          ]
        },
        {
          "output_type": "stream",
          "name": "stdout",
          "text": [
            "\n",
            "      Epoch    GPU_mem   box_loss   cls_loss   dfl_loss  Instances       Size\n"
          ]
        },
        {
          "output_type": "stream",
          "name": "stderr",
          "text": [
            "      52/80      4.16G     0.6433     0.4951      0.793         28        640: 100%|██████████| 2/2 [00:00<00:00,  3.30it/s]\n",
            "                 Class     Images  Instances      Box(P          R      mAP50  mAP50-95): 100%|██████████| 2/2 [00:00<00:00,  5.67it/s]"
          ]
        },
        {
          "output_type": "stream",
          "name": "stdout",
          "text": [
            "                   all         36         36      0.773      0.667      0.717       0.63\n"
          ]
        },
        {
          "output_type": "stream",
          "name": "stderr",
          "text": [
            "\n"
          ]
        },
        {
          "output_type": "stream",
          "name": "stdout",
          "text": [
            "\n",
            "      Epoch    GPU_mem   box_loss   cls_loss   dfl_loss  Instances       Size\n"
          ]
        },
        {
          "output_type": "stream",
          "name": "stderr",
          "text": [
            "      53/80      4.14G     0.6054      0.879     0.8293         24        640: 100%|██████████| 2/2 [00:00<00:00,  4.02it/s]\n",
            "                 Class     Images  Instances      Box(P          R      mAP50  mAP50-95): 100%|██████████| 2/2 [00:00<00:00,  7.30it/s]"
          ]
        },
        {
          "output_type": "stream",
          "name": "stdout",
          "text": [
            "                   all         36         36      0.773      0.667      0.717       0.63\n"
          ]
        },
        {
          "output_type": "stream",
          "name": "stderr",
          "text": [
            "\n"
          ]
        },
        {
          "output_type": "stream",
          "name": "stdout",
          "text": [
            "\n",
            "      Epoch    GPU_mem   box_loss   cls_loss   dfl_loss  Instances       Size\n"
          ]
        },
        {
          "output_type": "stream",
          "name": "stderr",
          "text": [
            "      54/80      4.17G     0.6273      0.719      0.823         25        640: 100%|██████████| 2/2 [00:00<00:00,  3.58it/s]\n",
            "                 Class     Images  Instances      Box(P          R      mAP50  mAP50-95): 100%|██████████| 2/2 [00:00<00:00,  7.45it/s]"
          ]
        },
        {
          "output_type": "stream",
          "name": "stdout",
          "text": [
            "                   all         36         36      0.411      0.667      0.707      0.612\n"
          ]
        },
        {
          "output_type": "stream",
          "name": "stderr",
          "text": [
            "\n"
          ]
        },
        {
          "output_type": "stream",
          "name": "stdout",
          "text": [
            "\n",
            "      Epoch    GPU_mem   box_loss   cls_loss   dfl_loss  Instances       Size\n"
          ]
        },
        {
          "output_type": "stream",
          "name": "stderr",
          "text": [
            "      55/80      4.31G     0.7787      0.786     0.8804         28        640: 100%|██████████| 2/2 [00:00<00:00,  3.18it/s]\n",
            "                 Class     Images  Instances      Box(P          R      mAP50  mAP50-95): 100%|██████████| 2/2 [00:00<00:00,  5.19it/s]"
          ]
        },
        {
          "output_type": "stream",
          "name": "stdout",
          "text": [
            "                   all         36         36      0.411      0.667      0.707      0.612\n"
          ]
        },
        {
          "output_type": "stream",
          "name": "stderr",
          "text": [
            "\n"
          ]
        },
        {
          "output_type": "stream",
          "name": "stdout",
          "text": [
            "\n",
            "      Epoch    GPU_mem   box_loss   cls_loss   dfl_loss  Instances       Size\n"
          ]
        },
        {
          "output_type": "stream",
          "name": "stderr",
          "text": [
            "      56/80      4.17G     0.6214      0.697     0.8507         20        640: 100%|██████████| 2/2 [00:00<00:00,  2.96it/s]\n",
            "                 Class     Images  Instances      Box(P          R      mAP50  mAP50-95): 100%|██████████| 2/2 [00:00<00:00,  6.01it/s]"
          ]
        },
        {
          "output_type": "stream",
          "name": "stdout",
          "text": [
            "                   all         36         36      0.384       0.62      0.693      0.606\n"
          ]
        },
        {
          "output_type": "stream",
          "name": "stderr",
          "text": [
            "\n"
          ]
        },
        {
          "output_type": "stream",
          "name": "stdout",
          "text": [
            "\n",
            "      Epoch    GPU_mem   box_loss   cls_loss   dfl_loss  Instances       Size\n"
          ]
        },
        {
          "output_type": "stream",
          "name": "stderr",
          "text": [
            "      57/80      4.32G     0.6821     0.5535     0.8207         31        640: 100%|██████████| 2/2 [00:00<00:00,  2.26it/s]\n",
            "                 Class     Images  Instances      Box(P          R      mAP50  mAP50-95): 100%|██████████| 2/2 [00:00<00:00,  2.64it/s]"
          ]
        },
        {
          "output_type": "stream",
          "name": "stdout",
          "text": [
            "                   all         36         36      0.384       0.62      0.693      0.606\n"
          ]
        },
        {
          "output_type": "stream",
          "name": "stderr",
          "text": [
            "\n"
          ]
        },
        {
          "output_type": "stream",
          "name": "stdout",
          "text": [
            "\n",
            "      Epoch    GPU_mem   box_loss   cls_loss   dfl_loss  Instances       Size\n"
          ]
        },
        {
          "output_type": "stream",
          "name": "stderr",
          "text": [
            "      58/80      4.17G     0.7069     0.6323     0.8801         24        640: 100%|██████████| 2/2 [00:00<00:00,  2.18it/s]\n",
            "                 Class     Images  Instances      Box(P          R      mAP50  mAP50-95): 100%|██████████| 2/2 [00:00<00:00,  3.22it/s]"
          ]
        },
        {
          "output_type": "stream",
          "name": "stdout",
          "text": [
            "                   all         36         36      0.395      0.639      0.687        0.6\n"
          ]
        },
        {
          "output_type": "stream",
          "name": "stderr",
          "text": [
            "\n"
          ]
        },
        {
          "output_type": "stream",
          "name": "stdout",
          "text": [
            "\n",
            "      Epoch    GPU_mem   box_loss   cls_loss   dfl_loss  Instances       Size\n"
          ]
        },
        {
          "output_type": "stream",
          "name": "stderr",
          "text": [
            "      59/80      4.31G     0.6448     0.6739     0.7826         21        640: 100%|██████████| 2/2 [00:00<00:00,  3.77it/s]\n",
            "                 Class     Images  Instances      Box(P          R      mAP50  mAP50-95): 100%|██████████| 2/2 [00:00<00:00,  5.03it/s]"
          ]
        },
        {
          "output_type": "stream",
          "name": "stdout",
          "text": [
            "                   all         36         36      0.395      0.639      0.687        0.6\n"
          ]
        },
        {
          "output_type": "stream",
          "name": "stderr",
          "text": [
            "\n"
          ]
        },
        {
          "output_type": "stream",
          "name": "stdout",
          "text": [
            "\n",
            "      Epoch    GPU_mem   box_loss   cls_loss   dfl_loss  Instances       Size\n"
          ]
        },
        {
          "output_type": "stream",
          "name": "stderr",
          "text": [
            "      60/80      4.17G     0.6877      0.738     0.8384         30        640: 100%|██████████| 2/2 [00:00<00:00,  3.05it/s]\n",
            "                 Class     Images  Instances      Box(P          R      mAP50  mAP50-95): 100%|██████████| 2/2 [00:00<00:00,  6.30it/s]"
          ]
        },
        {
          "output_type": "stream",
          "name": "stdout",
          "text": [
            "                   all         36         36      0.674      0.639      0.648       0.58\n"
          ]
        },
        {
          "output_type": "stream",
          "name": "stderr",
          "text": [
            "\n"
          ]
        },
        {
          "output_type": "stream",
          "name": "stdout",
          "text": [
            "\n",
            "      Epoch    GPU_mem   box_loss   cls_loss   dfl_loss  Instances       Size\n"
          ]
        },
        {
          "output_type": "stream",
          "name": "stderr",
          "text": [
            "      61/80      4.31G     0.5934     0.6041     0.7818         25        640: 100%|██████████| 2/2 [00:00<00:00,  3.55it/s]\n",
            "                 Class     Images  Instances      Box(P          R      mAP50  mAP50-95): 100%|██████████| 2/2 [00:00<00:00,  5.46it/s]"
          ]
        },
        {
          "output_type": "stream",
          "name": "stdout",
          "text": [
            "                   all         36         36      0.674      0.639      0.648       0.58\n"
          ]
        },
        {
          "output_type": "stream",
          "name": "stderr",
          "text": [
            "\n"
          ]
        },
        {
          "output_type": "stream",
          "name": "stdout",
          "text": [
            "\n",
            "      Epoch    GPU_mem   box_loss   cls_loss   dfl_loss  Instances       Size\n"
          ]
        },
        {
          "output_type": "stream",
          "name": "stderr",
          "text": [
            "      62/80      4.17G     0.5942     0.6397     0.8174         26        640: 100%|██████████| 2/2 [00:00<00:00,  3.73it/s]\n",
            "                 Class     Images  Instances      Box(P          R      mAP50  mAP50-95): 100%|██████████| 2/2 [00:00<00:00,  4.68it/s]"
          ]
        },
        {
          "output_type": "stream",
          "name": "stdout",
          "text": [
            "                   all         36         36       0.58      0.611       0.52      0.458\n"
          ]
        },
        {
          "output_type": "stream",
          "name": "stderr",
          "text": [
            "\n"
          ]
        },
        {
          "output_type": "stream",
          "name": "stdout",
          "text": [
            "\n",
            "      Epoch    GPU_mem   box_loss   cls_loss   dfl_loss  Instances       Size\n"
          ]
        },
        {
          "output_type": "stream",
          "name": "stderr",
          "text": [
            "      63/80      4.31G     0.7117     0.7284     0.8005         18        640: 100%|██████████| 2/2 [00:00<00:00,  3.98it/s]\n",
            "                 Class     Images  Instances      Box(P          R      mAP50  mAP50-95): 100%|██████████| 2/2 [00:00<00:00,  6.76it/s]"
          ]
        },
        {
          "output_type": "stream",
          "name": "stdout",
          "text": [
            "                   all         36         36       0.58      0.611       0.52      0.458\n"
          ]
        },
        {
          "output_type": "stream",
          "name": "stderr",
          "text": [
            "\n"
          ]
        },
        {
          "output_type": "stream",
          "name": "stdout",
          "text": [
            "\n",
            "      Epoch    GPU_mem   box_loss   cls_loss   dfl_loss  Instances       Size\n"
          ]
        },
        {
          "output_type": "stream",
          "name": "stderr",
          "text": [
            "      64/80      4.16G     0.5864     0.5943     0.8127         34        640: 100%|██████████| 2/2 [00:00<00:00,  3.36it/s]\n",
            "                 Class     Images  Instances      Box(P          R      mAP50  mAP50-95): 100%|██████████| 2/2 [00:00<00:00,  7.36it/s]"
          ]
        },
        {
          "output_type": "stream",
          "name": "stdout",
          "text": [
            "                   all         36         36      0.543      0.637      0.515      0.461\n"
          ]
        },
        {
          "output_type": "stream",
          "name": "stderr",
          "text": [
            "\n"
          ]
        },
        {
          "output_type": "stream",
          "name": "stdout",
          "text": [
            "\n",
            "      Epoch    GPU_mem   box_loss   cls_loss   dfl_loss  Instances       Size\n"
          ]
        },
        {
          "output_type": "stream",
          "name": "stderr",
          "text": [
            "      65/80      4.16G     0.5873     0.5395     0.8157         21        640: 100%|██████████| 2/2 [00:00<00:00,  2.70it/s]\n",
            "                 Class     Images  Instances      Box(P          R      mAP50  mAP50-95): 100%|██████████| 2/2 [00:00<00:00,  2.48it/s]"
          ]
        },
        {
          "output_type": "stream",
          "name": "stdout",
          "text": [
            "                   all         36         36      0.543      0.637      0.515      0.461\n"
          ]
        },
        {
          "output_type": "stream",
          "name": "stderr",
          "text": [
            "\n"
          ]
        },
        {
          "output_type": "stream",
          "name": "stdout",
          "text": [
            "\n",
            "      Epoch    GPU_mem   box_loss   cls_loss   dfl_loss  Instances       Size\n"
          ]
        },
        {
          "output_type": "stream",
          "name": "stderr",
          "text": [
            "      66/80      4.18G     0.5923     0.5494     0.8097         31        640: 100%|██████████| 2/2 [00:00<00:00,  2.26it/s]\n",
            "                 Class     Images  Instances      Box(P          R      mAP50  mAP50-95): 100%|██████████| 2/2 [00:00<00:00,  3.69it/s]"
          ]
        },
        {
          "output_type": "stream",
          "name": "stdout",
          "text": [
            "                   all         36         36      0.547      0.612      0.445      0.402\n"
          ]
        },
        {
          "output_type": "stream",
          "name": "stderr",
          "text": [
            "\n"
          ]
        },
        {
          "output_type": "stream",
          "name": "stdout",
          "text": [
            "\n",
            "      Epoch    GPU_mem   box_loss   cls_loss   dfl_loss  Instances       Size\n"
          ]
        },
        {
          "output_type": "stream",
          "name": "stderr",
          "text": [
            "      67/80      4.32G     0.6364     0.5133      0.846         30        640: 100%|██████████| 2/2 [00:00<00:00,  3.29it/s]\n",
            "                 Class     Images  Instances      Box(P          R      mAP50  mAP50-95): 100%|██████████| 2/2 [00:00<00:00,  6.01it/s]"
          ]
        },
        {
          "output_type": "stream",
          "name": "stdout",
          "text": [
            "                   all         36         36      0.547      0.612      0.445      0.402\n"
          ]
        },
        {
          "output_type": "stream",
          "name": "stderr",
          "text": [
            "\n"
          ]
        },
        {
          "output_type": "stream",
          "name": "stdout",
          "text": [
            "\n",
            "      Epoch    GPU_mem   box_loss   cls_loss   dfl_loss  Instances       Size\n"
          ]
        },
        {
          "output_type": "stream",
          "name": "stderr",
          "text": [
            "      68/80      4.18G      0.563     0.6326      0.831         19        640: 100%|██████████| 2/2 [00:00<00:00,  3.62it/s]\n",
            "                 Class     Images  Instances      Box(P          R      mAP50  mAP50-95): 100%|██████████| 2/2 [00:00<00:00,  4.94it/s]"
          ]
        },
        {
          "output_type": "stream",
          "name": "stdout",
          "text": [
            "                   all         36         36      0.551      0.611      0.436      0.384\n"
          ]
        },
        {
          "output_type": "stream",
          "name": "stderr",
          "text": [
            "\n"
          ]
        },
        {
          "output_type": "stream",
          "name": "stdout",
          "text": [
            "\n",
            "      Epoch    GPU_mem   box_loss   cls_loss   dfl_loss  Instances       Size\n"
          ]
        },
        {
          "output_type": "stream",
          "name": "stderr",
          "text": [
            "      69/80      4.31G     0.6148     0.4981     0.8389         28        640: 100%|██████████| 2/2 [00:00<00:00,  3.98it/s]\n",
            "                 Class     Images  Instances      Box(P          R      mAP50  mAP50-95): 100%|██████████| 2/2 [00:00<00:00,  4.13it/s]"
          ]
        },
        {
          "output_type": "stream",
          "name": "stdout",
          "text": [
            "                   all         36         36      0.551      0.611      0.436      0.384\n"
          ]
        },
        {
          "output_type": "stream",
          "name": "stderr",
          "text": [
            "\n"
          ]
        },
        {
          "output_type": "stream",
          "name": "stdout",
          "text": [
            "\n",
            "      Epoch    GPU_mem   box_loss   cls_loss   dfl_loss  Instances       Size\n"
          ]
        },
        {
          "output_type": "stream",
          "name": "stderr",
          "text": [
            "      70/80      4.17G     0.5916     0.5101     0.8196         25        640: 100%|██████████| 2/2 [00:00<00:00,  3.22it/s]\n",
            "                 Class     Images  Instances      Box(P          R      mAP50  mAP50-95): 100%|██████████| 2/2 [00:00<00:00,  4.80it/s]"
          ]
        },
        {
          "output_type": "stream",
          "name": "stdout",
          "text": [
            "                   all         36         36      0.243      0.616      0.441      0.389\n"
          ]
        },
        {
          "output_type": "stream",
          "name": "stderr",
          "text": [
            "\n"
          ]
        },
        {
          "output_type": "stream",
          "name": "stdout",
          "text": [
            "Closing dataloader mosaic\n",
            "\u001b[34m\u001b[1malbumentations: \u001b[0mBlur(p=0.01, blur_limit=(3, 7)), MedianBlur(p=0.01, blur_limit=(3, 7)), ToGray(p=0.01), CLAHE(p=0.01, clip_limit=(1, 4.0), tile_grid_size=(8, 8))\n"
          ]
        },
        {
          "output_type": "stream",
          "name": "stderr",
          "text": [
            "/usr/lib/python3.10/multiprocessing/popen_fork.py:66: RuntimeWarning: os.fork() was called. os.fork() is incompatible with multithreaded code, and JAX is multithreaded, so this will likely lead to a deadlock.\n",
            "  self.pid = os.fork()\n",
            "/usr/lib/python3.10/multiprocessing/popen_fork.py:66: RuntimeWarning: os.fork() was called. os.fork() is incompatible with multithreaded code, and JAX is multithreaded, so this will likely lead to a deadlock.\n",
            "  self.pid = os.fork()\n"
          ]
        },
        {
          "output_type": "stream",
          "name": "stdout",
          "text": [
            "\n",
            "      Epoch    GPU_mem   box_loss   cls_loss   dfl_loss  Instances       Size\n"
          ]
        },
        {
          "output_type": "stream",
          "name": "stderr",
          "text": [
            "      71/80      4.31G     0.5712     0.5088     0.7841         14        640: 100%|██████████| 2/2 [00:02<00:00,  1.14s/it]\n",
            "                 Class     Images  Instances      Box(P          R      mAP50  mAP50-95): 100%|██████████| 2/2 [00:01<00:00,  1.24it/s]"
          ]
        },
        {
          "output_type": "stream",
          "name": "stdout",
          "text": [
            "                   all         36         36      0.243      0.616      0.441      0.389\n"
          ]
        },
        {
          "output_type": "stream",
          "name": "stderr",
          "text": [
            "\n"
          ]
        },
        {
          "output_type": "stream",
          "name": "stdout",
          "text": [
            "\n",
            "      Epoch    GPU_mem   box_loss   cls_loss   dfl_loss  Instances       Size\n"
          ]
        },
        {
          "output_type": "stream",
          "name": "stderr",
          "text": [
            "      72/80      4.17G     0.5211     0.4907     0.8373         14        640: 100%|██████████| 2/2 [00:00<00:00,  2.73it/s]\n",
            "                 Class     Images  Instances      Box(P          R      mAP50  mAP50-95): 100%|██████████| 2/2 [00:00<00:00,  4.00it/s]"
          ]
        },
        {
          "output_type": "stream",
          "name": "stdout",
          "text": [
            "                   all         36         36      0.277          1      0.447      0.398\n"
          ]
        },
        {
          "output_type": "stream",
          "name": "stderr",
          "text": [
            "\n"
          ]
        },
        {
          "output_type": "stream",
          "name": "stdout",
          "text": [
            "\n",
            "      Epoch    GPU_mem   box_loss   cls_loss   dfl_loss  Instances       Size\n"
          ]
        },
        {
          "output_type": "stream",
          "name": "stderr",
          "text": [
            "      73/80      4.32G     0.5929     0.4963     0.8203         14        640: 100%|██████████| 2/2 [00:00<00:00,  4.12it/s]\n",
            "                 Class     Images  Instances      Box(P          R      mAP50  mAP50-95): 100%|██████████| 2/2 [00:00<00:00,  4.77it/s]"
          ]
        },
        {
          "output_type": "stream",
          "name": "stdout",
          "text": [
            "                   all         36         36      0.277          1      0.447      0.398\n"
          ]
        },
        {
          "output_type": "stream",
          "name": "stderr",
          "text": [
            "\n"
          ]
        },
        {
          "output_type": "stream",
          "name": "stdout",
          "text": [
            "\n",
            "      Epoch    GPU_mem   box_loss   cls_loss   dfl_loss  Instances       Size\n"
          ]
        },
        {
          "output_type": "stream",
          "name": "stderr",
          "text": [
            "      74/80      4.17G     0.5487     0.4697     0.8131         14        640: 100%|██████████| 2/2 [00:00<00:00,  3.30it/s]\n",
            "                 Class     Images  Instances      Box(P          R      mAP50  mAP50-95): 100%|██████████| 2/2 [00:00<00:00,  5.25it/s]"
          ]
        },
        {
          "output_type": "stream",
          "name": "stdout",
          "text": [
            "                   all         36         36      0.297      0.972      0.437      0.386\n"
          ]
        },
        {
          "output_type": "stream",
          "name": "stderr",
          "text": [
            "\n"
          ]
        },
        {
          "output_type": "stream",
          "name": "stdout",
          "text": [
            "\n",
            "      Epoch    GPU_mem   box_loss   cls_loss   dfl_loss  Instances       Size\n"
          ]
        },
        {
          "output_type": "stream",
          "name": "stderr",
          "text": [
            "      75/80       4.3G     0.5249     0.4232     0.7854         14        640: 100%|██████████| 2/2 [00:00<00:00,  3.36it/s]\n",
            "                 Class     Images  Instances      Box(P          R      mAP50  mAP50-95): 100%|██████████| 2/2 [00:00<00:00,  5.30it/s]"
          ]
        },
        {
          "output_type": "stream",
          "name": "stdout",
          "text": [
            "                   all         36         36      0.297      0.972      0.437      0.386\n"
          ]
        },
        {
          "output_type": "stream",
          "name": "stderr",
          "text": [
            "\n"
          ]
        },
        {
          "output_type": "stream",
          "name": "stdout",
          "text": [
            "\n",
            "      Epoch    GPU_mem   box_loss   cls_loss   dfl_loss  Instances       Size\n"
          ]
        },
        {
          "output_type": "stream",
          "name": "stderr",
          "text": [
            "      76/80      4.18G     0.5464     0.4885     0.7992         14        640: 100%|██████████| 2/2 [00:00<00:00,  3.77it/s]\n",
            "                 Class     Images  Instances      Box(P          R      mAP50  mAP50-95): 100%|██████████| 2/2 [00:00<00:00,  6.34it/s]"
          ]
        },
        {
          "output_type": "stream",
          "name": "stdout",
          "text": [
            "                   all         36         36      0.313          1      0.541      0.477\n"
          ]
        },
        {
          "output_type": "stream",
          "name": "stderr",
          "text": [
            "\n"
          ]
        },
        {
          "output_type": "stream",
          "name": "stdout",
          "text": [
            "\n",
            "      Epoch    GPU_mem   box_loss   cls_loss   dfl_loss  Instances       Size\n"
          ]
        },
        {
          "output_type": "stream",
          "name": "stderr",
          "text": [
            "      77/80      4.15G     0.5199     0.4983     0.8056         14        640: 100%|██████████| 2/2 [00:00<00:00,  4.14it/s]\n",
            "                 Class     Images  Instances      Box(P          R      mAP50  mAP50-95): 100%|██████████| 2/2 [00:00<00:00,  3.14it/s]\n"
          ]
        },
        {
          "output_type": "stream",
          "name": "stdout",
          "text": [
            "                   all         36         36      0.313          1      0.541      0.477\n",
            "\n",
            "      Epoch    GPU_mem   box_loss   cls_loss   dfl_loss  Instances       Size\n"
          ]
        },
        {
          "output_type": "stream",
          "name": "stderr",
          "text": [
            "      78/80      4.18G     0.4827     0.4278      0.777         14        640: 100%|██████████| 2/2 [00:00<00:00,  2.63it/s]\n",
            "                 Class     Images  Instances      Box(P          R      mAP50  mAP50-95): 100%|██████████| 2/2 [00:00<00:00,  2.48it/s]"
          ]
        },
        {
          "output_type": "stream",
          "name": "stdout",
          "text": [
            "                   all         36         36      0.462      0.972      0.673      0.597\n"
          ]
        },
        {
          "output_type": "stream",
          "name": "stderr",
          "text": [
            "\n"
          ]
        },
        {
          "output_type": "stream",
          "name": "stdout",
          "text": [
            "\n",
            "      Epoch    GPU_mem   box_loss   cls_loss   dfl_loss  Instances       Size\n"
          ]
        },
        {
          "output_type": "stream",
          "name": "stderr",
          "text": [
            "      79/80      4.32G     0.4779     0.3916     0.7611         14        640: 100%|██████████| 2/2 [00:00<00:00,  3.60it/s]\n",
            "                 Class     Images  Instances      Box(P          R      mAP50  mAP50-95): 100%|██████████| 2/2 [00:00<00:00,  4.54it/s]"
          ]
        },
        {
          "output_type": "stream",
          "name": "stdout",
          "text": [
            "                   all         36         36      0.462      0.972      0.673      0.597\n"
          ]
        },
        {
          "output_type": "stream",
          "name": "stderr",
          "text": [
            "\n"
          ]
        },
        {
          "output_type": "stream",
          "name": "stdout",
          "text": [
            "\n",
            "      Epoch    GPU_mem   box_loss   cls_loss   dfl_loss  Instances       Size\n"
          ]
        },
        {
          "output_type": "stream",
          "name": "stderr",
          "text": [
            "      80/80      4.17G      0.514     0.4397     0.8287         14        640: 100%|██████████| 2/2 [00:00<00:00,  3.70it/s]\n",
            "                 Class     Images  Instances      Box(P          R      mAP50  mAP50-95): 100%|██████████| 2/2 [00:00<00:00,  5.12it/s]"
          ]
        },
        {
          "output_type": "stream",
          "name": "stdout",
          "text": [
            "                   all         36         36       0.47          1      0.707      0.629\n"
          ]
        },
        {
          "output_type": "stream",
          "name": "stderr",
          "text": [
            "\n"
          ]
        },
        {
          "output_type": "stream",
          "name": "stdout",
          "text": [
            "\n",
            "80 epochs completed in 0.047 hours.\n",
            "Optimizer stripped from runs/detect/train3/weights/last.pt, 22.5MB\n",
            "Optimizer stripped from runs/detect/train3/weights/best.pt, 22.5MB\n",
            "\n",
            "Validating runs/detect/train3/weights/best.pt...\n",
            "Ultralytics YOLOv8.1.47 🚀 Python-3.10.12 torch-2.2.1+cu121 CUDA:0 (Tesla T4, 15102MiB)\n",
            "Model summary (fused): 168 layers, 11126745 parameters, 0 gradients, 28.4 GFLOPs\n"
          ]
        },
        {
          "output_type": "stream",
          "name": "stderr",
          "text": [
            "                 Class     Images  Instances      Box(P          R      mAP50  mAP50-95): 100%|██████████| 2/2 [00:00<00:00,  4.32it/s]\n"
          ]
        },
        {
          "output_type": "stream",
          "name": "stdout",
          "text": [
            "                   all         36         36      0.892      0.917      0.966      0.835\n",
            "   speed limit 30 km/h         36         12      0.749          1      0.995      0.852\n",
            "   speed limit 60 km/h         36         12          1       0.75      0.907      0.755\n",
            "   speed limit 90 km/h         36         12      0.926          1      0.995      0.899\n",
            "Speed: 0.1ms preprocess, 4.9ms inference, 0.0ms loss, 1.0ms postprocess per image\n",
            "Results saved to \u001b[1mruns/detect/train3\u001b[0m\n"
          ]
        },
        {
          "output_type": "execute_result",
          "data": {
            "text/plain": [
              "ultralytics.utils.metrics.DetMetrics object with attributes:\n",
              "\n",
              "ap_class_index: array([0, 1, 2])\n",
              "box: ultralytics.utils.metrics.Metric object\n",
              "confusion_matrix: <ultralytics.utils.metrics.ConfusionMatrix object at 0x78ce3e1ae290>\n",
              "curves: ['Precision-Recall(B)', 'F1-Confidence(B)', 'Precision-Confidence(B)', 'Recall-Confidence(B)']\n",
              "curves_results: [[array([          0,    0.001001,    0.002002,    0.003003,    0.004004,    0.005005,    0.006006,    0.007007,    0.008008,    0.009009,     0.01001,    0.011011,    0.012012,    0.013013,    0.014014,    0.015015,    0.016016,    0.017017,    0.018018,    0.019019,     0.02002,    0.021021,    0.022022,    0.023023,\n",
              "          0.024024,    0.025025,    0.026026,    0.027027,    0.028028,    0.029029,     0.03003,    0.031031,    0.032032,    0.033033,    0.034034,    0.035035,    0.036036,    0.037037,    0.038038,    0.039039,     0.04004,    0.041041,    0.042042,    0.043043,    0.044044,    0.045045,    0.046046,    0.047047,\n",
              "          0.048048,    0.049049,     0.05005,    0.051051,    0.052052,    0.053053,    0.054054,    0.055055,    0.056056,    0.057057,    0.058058,    0.059059,     0.06006,    0.061061,    0.062062,    0.063063,    0.064064,    0.065065,    0.066066,    0.067067,    0.068068,    0.069069,     0.07007,    0.071071,\n",
              "          0.072072,    0.073073,    0.074074,    0.075075,    0.076076,    0.077077,    0.078078,    0.079079,     0.08008,    0.081081,    0.082082,    0.083083,    0.084084,    0.085085,    0.086086,    0.087087,    0.088088,    0.089089,     0.09009,    0.091091,    0.092092,    0.093093,    0.094094,    0.095095,\n",
              "          0.096096,    0.097097,    0.098098,    0.099099,      0.1001,      0.1011,      0.1021,      0.1031,      0.1041,     0.10511,     0.10611,     0.10711,     0.10811,     0.10911,     0.11011,     0.11111,     0.11211,     0.11311,     0.11411,     0.11512,     0.11612,     0.11712,     0.11812,     0.11912,\n",
              "           0.12012,     0.12112,     0.12212,     0.12312,     0.12412,     0.12513,     0.12613,     0.12713,     0.12813,     0.12913,     0.13013,     0.13113,     0.13213,     0.13313,     0.13413,     0.13514,     0.13614,     0.13714,     0.13814,     0.13914,     0.14014,     0.14114,     0.14214,     0.14314,\n",
              "           0.14414,     0.14515,     0.14615,     0.14715,     0.14815,     0.14915,     0.15015,     0.15115,     0.15215,     0.15315,     0.15415,     0.15516,     0.15616,     0.15716,     0.15816,     0.15916,     0.16016,     0.16116,     0.16216,     0.16316,     0.16416,     0.16517,     0.16617,     0.16717,\n",
              "           0.16817,     0.16917,     0.17017,     0.17117,     0.17217,     0.17317,     0.17417,     0.17518,     0.17618,     0.17718,     0.17818,     0.17918,     0.18018,     0.18118,     0.18218,     0.18318,     0.18418,     0.18519,     0.18619,     0.18719,     0.18819,     0.18919,     0.19019,     0.19119,\n",
              "           0.19219,     0.19319,     0.19419,      0.1952,      0.1962,      0.1972,      0.1982,      0.1992,      0.2002,      0.2012,      0.2022,      0.2032,      0.2042,     0.20521,     0.20621,     0.20721,     0.20821,     0.20921,     0.21021,     0.21121,     0.21221,     0.21321,     0.21421,     0.21522,\n",
              "           0.21622,     0.21722,     0.21822,     0.21922,     0.22022,     0.22122,     0.22222,     0.22322,     0.22422,     0.22523,     0.22623,     0.22723,     0.22823,     0.22923,     0.23023,     0.23123,     0.23223,     0.23323,     0.23423,     0.23524,     0.23624,     0.23724,     0.23824,     0.23924,\n",
              "           0.24024,     0.24124,     0.24224,     0.24324,     0.24424,     0.24525,     0.24625,     0.24725,     0.24825,     0.24925,     0.25025,     0.25125,     0.25225,     0.25325,     0.25425,     0.25526,     0.25626,     0.25726,     0.25826,     0.25926,     0.26026,     0.26126,     0.26226,     0.26326,\n",
              "           0.26426,     0.26527,     0.26627,     0.26727,     0.26827,     0.26927,     0.27027,     0.27127,     0.27227,     0.27327,     0.27427,     0.27528,     0.27628,     0.27728,     0.27828,     0.27928,     0.28028,     0.28128,     0.28228,     0.28328,     0.28428,     0.28529,     0.28629,     0.28729,\n",
              "           0.28829,     0.28929,     0.29029,     0.29129,     0.29229,     0.29329,     0.29429,      0.2953,      0.2963,      0.2973,      0.2983,      0.2993,      0.3003,      0.3013,      0.3023,      0.3033,      0.3043,     0.30531,     0.30631,     0.30731,     0.30831,     0.30931,     0.31031,     0.31131,\n",
              "           0.31231,     0.31331,     0.31431,     0.31532,     0.31632,     0.31732,     0.31832,     0.31932,     0.32032,     0.32132,     0.32232,     0.32332,     0.32432,     0.32533,     0.32633,     0.32733,     0.32833,     0.32933,     0.33033,     0.33133,     0.33233,     0.33333,     0.33433,     0.33534,\n",
              "           0.33634,     0.33734,     0.33834,     0.33934,     0.34034,     0.34134,     0.34234,     0.34334,     0.34434,     0.34535,     0.34635,     0.34735,     0.34835,     0.34935,     0.35035,     0.35135,     0.35235,     0.35335,     0.35435,     0.35536,     0.35636,     0.35736,     0.35836,     0.35936,\n",
              "           0.36036,     0.36136,     0.36236,     0.36336,     0.36436,     0.36537,     0.36637,     0.36737,     0.36837,     0.36937,     0.37037,     0.37137,     0.37237,     0.37337,     0.37437,     0.37538,     0.37638,     0.37738,     0.37838,     0.37938,     0.38038,     0.38138,     0.38238,     0.38338,\n",
              "           0.38438,     0.38539,     0.38639,     0.38739,     0.38839,     0.38939,     0.39039,     0.39139,     0.39239,     0.39339,     0.39439,      0.3954,      0.3964,      0.3974,      0.3984,      0.3994,      0.4004,      0.4014,      0.4024,      0.4034,      0.4044,     0.40541,     0.40641,     0.40741,\n",
              "           0.40841,     0.40941,     0.41041,     0.41141,     0.41241,     0.41341,     0.41441,     0.41542,     0.41642,     0.41742,     0.41842,     0.41942,     0.42042,     0.42142,     0.42242,     0.42342,     0.42442,     0.42543,     0.42643,     0.42743,     0.42843,     0.42943,     0.43043,     0.43143,\n",
              "           0.43243,     0.43343,     0.43443,     0.43544,     0.43644,     0.43744,     0.43844,     0.43944,     0.44044,     0.44144,     0.44244,     0.44344,     0.44444,     0.44545,     0.44645,     0.44745,     0.44845,     0.44945,     0.45045,     0.45145,     0.45245,     0.45345,     0.45445,     0.45546,\n",
              "           0.45646,     0.45746,     0.45846,     0.45946,     0.46046,     0.46146,     0.46246,     0.46346,     0.46446,     0.46547,     0.46647,     0.46747,     0.46847,     0.46947,     0.47047,     0.47147,     0.47247,     0.47347,     0.47447,     0.47548,     0.47648,     0.47748,     0.47848,     0.47948,\n",
              "           0.48048,     0.48148,     0.48248,     0.48348,     0.48448,     0.48549,     0.48649,     0.48749,     0.48849,     0.48949,     0.49049,     0.49149,     0.49249,     0.49349,     0.49449,      0.4955,      0.4965,      0.4975,      0.4985,      0.4995,      0.5005,      0.5015,      0.5025,      0.5035,\n",
              "            0.5045,     0.50551,     0.50651,     0.50751,     0.50851,     0.50951,     0.51051,     0.51151,     0.51251,     0.51351,     0.51451,     0.51552,     0.51652,     0.51752,     0.51852,     0.51952,     0.52052,     0.52152,     0.52252,     0.52352,     0.52452,     0.52553,     0.52653,     0.52753,\n",
              "           0.52853,     0.52953,     0.53053,     0.53153,     0.53253,     0.53353,     0.53453,     0.53554,     0.53654,     0.53754,     0.53854,     0.53954,     0.54054,     0.54154,     0.54254,     0.54354,     0.54454,     0.54555,     0.54655,     0.54755,     0.54855,     0.54955,     0.55055,     0.55155,\n",
              "           0.55255,     0.55355,     0.55455,     0.55556,     0.55656,     0.55756,     0.55856,     0.55956,     0.56056,     0.56156,     0.56256,     0.56356,     0.56456,     0.56557,     0.56657,     0.56757,     0.56857,     0.56957,     0.57057,     0.57157,     0.57257,     0.57357,     0.57457,     0.57558,\n",
              "           0.57658,     0.57758,     0.57858,     0.57958,     0.58058,     0.58158,     0.58258,     0.58358,     0.58458,     0.58559,     0.58659,     0.58759,     0.58859,     0.58959,     0.59059,     0.59159,     0.59259,     0.59359,     0.59459,      0.5956,      0.5966,      0.5976,      0.5986,      0.5996,\n",
              "            0.6006,      0.6016,      0.6026,      0.6036,      0.6046,     0.60561,     0.60661,     0.60761,     0.60861,     0.60961,     0.61061,     0.61161,     0.61261,     0.61361,     0.61461,     0.61562,     0.61662,     0.61762,     0.61862,     0.61962,     0.62062,     0.62162,     0.62262,     0.62362,\n",
              "           0.62462,     0.62563,     0.62663,     0.62763,     0.62863,     0.62963,     0.63063,     0.63163,     0.63263,     0.63363,     0.63463,     0.63564,     0.63664,     0.63764,     0.63864,     0.63964,     0.64064,     0.64164,     0.64264,     0.64364,     0.64464,     0.64565,     0.64665,     0.64765,\n",
              "           0.64865,     0.64965,     0.65065,     0.65165,     0.65265,     0.65365,     0.65465,     0.65566,     0.65666,     0.65766,     0.65866,     0.65966,     0.66066,     0.66166,     0.66266,     0.66366,     0.66466,     0.66567,     0.66667,     0.66767,     0.66867,     0.66967,     0.67067,     0.67167,\n",
              "           0.67267,     0.67367,     0.67467,     0.67568,     0.67668,     0.67768,     0.67868,     0.67968,     0.68068,     0.68168,     0.68268,     0.68368,     0.68468,     0.68569,     0.68669,     0.68769,     0.68869,     0.68969,     0.69069,     0.69169,     0.69269,     0.69369,     0.69469,      0.6957,\n",
              "            0.6967,      0.6977,      0.6987,      0.6997,      0.7007,      0.7017,      0.7027,      0.7037,      0.7047,     0.70571,     0.70671,     0.70771,     0.70871,     0.70971,     0.71071,     0.71171,     0.71271,     0.71371,     0.71471,     0.71572,     0.71672,     0.71772,     0.71872,     0.71972,\n",
              "           0.72072,     0.72172,     0.72272,     0.72372,     0.72472,     0.72573,     0.72673,     0.72773,     0.72873,     0.72973,     0.73073,     0.73173,     0.73273,     0.73373,     0.73473,     0.73574,     0.73674,     0.73774,     0.73874,     0.73974,     0.74074,     0.74174,     0.74274,     0.74374,\n",
              "           0.74474,     0.74575,     0.74675,     0.74775,     0.74875,     0.74975,     0.75075,     0.75175,     0.75275,     0.75375,     0.75475,     0.75576,     0.75676,     0.75776,     0.75876,     0.75976,     0.76076,     0.76176,     0.76276,     0.76376,     0.76476,     0.76577,     0.76677,     0.76777,\n",
              "           0.76877,     0.76977,     0.77077,     0.77177,     0.77277,     0.77377,     0.77477,     0.77578,     0.77678,     0.77778,     0.77878,     0.77978,     0.78078,     0.78178,     0.78278,     0.78378,     0.78478,     0.78579,     0.78679,     0.78779,     0.78879,     0.78979,     0.79079,     0.79179,\n",
              "           0.79279,     0.79379,     0.79479,      0.7958,      0.7968,      0.7978,      0.7988,      0.7998,      0.8008,      0.8018,      0.8028,      0.8038,      0.8048,     0.80581,     0.80681,     0.80781,     0.80881,     0.80981,     0.81081,     0.81181,     0.81281,     0.81381,     0.81481,     0.81582,\n",
              "           0.81682,     0.81782,     0.81882,     0.81982,     0.82082,     0.82182,     0.82282,     0.82382,     0.82482,     0.82583,     0.82683,     0.82783,     0.82883,     0.82983,     0.83083,     0.83183,     0.83283,     0.83383,     0.83483,     0.83584,     0.83684,     0.83784,     0.83884,     0.83984,\n",
              "           0.84084,     0.84184,     0.84284,     0.84384,     0.84484,     0.84585,     0.84685,     0.84785,     0.84885,     0.84985,     0.85085,     0.85185,     0.85285,     0.85385,     0.85485,     0.85586,     0.85686,     0.85786,     0.85886,     0.85986,     0.86086,     0.86186,     0.86286,     0.86386,\n",
              "           0.86486,     0.86587,     0.86687,     0.86787,     0.86887,     0.86987,     0.87087,     0.87187,     0.87287,     0.87387,     0.87487,     0.87588,     0.87688,     0.87788,     0.87888,     0.87988,     0.88088,     0.88188,     0.88288,     0.88388,     0.88488,     0.88589,     0.88689,     0.88789,\n",
              "           0.88889,     0.88989,     0.89089,     0.89189,     0.89289,     0.89389,     0.89489,      0.8959,      0.8969,      0.8979,      0.8989,      0.8999,      0.9009,      0.9019,      0.9029,      0.9039,      0.9049,     0.90591,     0.90691,     0.90791,     0.90891,     0.90991,     0.91091,     0.91191,\n",
              "           0.91291,     0.91391,     0.91491,     0.91592,     0.91692,     0.91792,     0.91892,     0.91992,     0.92092,     0.92192,     0.92292,     0.92392,     0.92492,     0.92593,     0.92693,     0.92793,     0.92893,     0.92993,     0.93093,     0.93193,     0.93293,     0.93393,     0.93493,     0.93594,\n",
              "           0.93694,     0.93794,     0.93894,     0.93994,     0.94094,     0.94194,     0.94294,     0.94394,     0.94494,     0.94595,     0.94695,     0.94795,     0.94895,     0.94995,     0.95095,     0.95195,     0.95295,     0.95395,     0.95495,     0.95596,     0.95696,     0.95796,     0.95896,     0.95996,\n",
              "           0.96096,     0.96196,     0.96296,     0.96396,     0.96496,     0.96597,     0.96697,     0.96797,     0.96897,     0.96997,     0.97097,     0.97197,     0.97297,     0.97397,     0.97497,     0.97598,     0.97698,     0.97798,     0.97898,     0.97998,     0.98098,     0.98198,     0.98298,     0.98398,\n",
              "           0.98498,     0.98599,     0.98699,     0.98799,     0.98899,     0.98999,     0.99099,     0.99199,     0.99299,     0.99399,     0.99499,       0.996,       0.997,       0.998,       0.999,           1]), array([[          1,           1,           1, ...,           1,           1,           0],\n",
              "       [          1,           1,           1, ...,     0.44444,     0.44444,           0],\n",
              "       [          1,           1,           1, ...,           1,           1,           0]]), 'Recall', 'Precision'], [array([          0,    0.001001,    0.002002,    0.003003,    0.004004,    0.005005,    0.006006,    0.007007,    0.008008,    0.009009,     0.01001,    0.011011,    0.012012,    0.013013,    0.014014,    0.015015,    0.016016,    0.017017,    0.018018,    0.019019,     0.02002,    0.021021,    0.022022,    0.023023,\n",
              "          0.024024,    0.025025,    0.026026,    0.027027,    0.028028,    0.029029,     0.03003,    0.031031,    0.032032,    0.033033,    0.034034,    0.035035,    0.036036,    0.037037,    0.038038,    0.039039,     0.04004,    0.041041,    0.042042,    0.043043,    0.044044,    0.045045,    0.046046,    0.047047,\n",
              "          0.048048,    0.049049,     0.05005,    0.051051,    0.052052,    0.053053,    0.054054,    0.055055,    0.056056,    0.057057,    0.058058,    0.059059,     0.06006,    0.061061,    0.062062,    0.063063,    0.064064,    0.065065,    0.066066,    0.067067,    0.068068,    0.069069,     0.07007,    0.071071,\n",
              "          0.072072,    0.073073,    0.074074,    0.075075,    0.076076,    0.077077,    0.078078,    0.079079,     0.08008,    0.081081,    0.082082,    0.083083,    0.084084,    0.085085,    0.086086,    0.087087,    0.088088,    0.089089,     0.09009,    0.091091,    0.092092,    0.093093,    0.094094,    0.095095,\n",
              "          0.096096,    0.097097,    0.098098,    0.099099,      0.1001,      0.1011,      0.1021,      0.1031,      0.1041,     0.10511,     0.10611,     0.10711,     0.10811,     0.10911,     0.11011,     0.11111,     0.11211,     0.11311,     0.11411,     0.11512,     0.11612,     0.11712,     0.11812,     0.11912,\n",
              "           0.12012,     0.12112,     0.12212,     0.12312,     0.12412,     0.12513,     0.12613,     0.12713,     0.12813,     0.12913,     0.13013,     0.13113,     0.13213,     0.13313,     0.13413,     0.13514,     0.13614,     0.13714,     0.13814,     0.13914,     0.14014,     0.14114,     0.14214,     0.14314,\n",
              "           0.14414,     0.14515,     0.14615,     0.14715,     0.14815,     0.14915,     0.15015,     0.15115,     0.15215,     0.15315,     0.15415,     0.15516,     0.15616,     0.15716,     0.15816,     0.15916,     0.16016,     0.16116,     0.16216,     0.16316,     0.16416,     0.16517,     0.16617,     0.16717,\n",
              "           0.16817,     0.16917,     0.17017,     0.17117,     0.17217,     0.17317,     0.17417,     0.17518,     0.17618,     0.17718,     0.17818,     0.17918,     0.18018,     0.18118,     0.18218,     0.18318,     0.18418,     0.18519,     0.18619,     0.18719,     0.18819,     0.18919,     0.19019,     0.19119,\n",
              "           0.19219,     0.19319,     0.19419,      0.1952,      0.1962,      0.1972,      0.1982,      0.1992,      0.2002,      0.2012,      0.2022,      0.2032,      0.2042,     0.20521,     0.20621,     0.20721,     0.20821,     0.20921,     0.21021,     0.21121,     0.21221,     0.21321,     0.21421,     0.21522,\n",
              "           0.21622,     0.21722,     0.21822,     0.21922,     0.22022,     0.22122,     0.22222,     0.22322,     0.22422,     0.22523,     0.22623,     0.22723,     0.22823,     0.22923,     0.23023,     0.23123,     0.23223,     0.23323,     0.23423,     0.23524,     0.23624,     0.23724,     0.23824,     0.23924,\n",
              "           0.24024,     0.24124,     0.24224,     0.24324,     0.24424,     0.24525,     0.24625,     0.24725,     0.24825,     0.24925,     0.25025,     0.25125,     0.25225,     0.25325,     0.25425,     0.25526,     0.25626,     0.25726,     0.25826,     0.25926,     0.26026,     0.26126,     0.26226,     0.26326,\n",
              "           0.26426,     0.26527,     0.26627,     0.26727,     0.26827,     0.26927,     0.27027,     0.27127,     0.27227,     0.27327,     0.27427,     0.27528,     0.27628,     0.27728,     0.27828,     0.27928,     0.28028,     0.28128,     0.28228,     0.28328,     0.28428,     0.28529,     0.28629,     0.28729,\n",
              "           0.28829,     0.28929,     0.29029,     0.29129,     0.29229,     0.29329,     0.29429,      0.2953,      0.2963,      0.2973,      0.2983,      0.2993,      0.3003,      0.3013,      0.3023,      0.3033,      0.3043,     0.30531,     0.30631,     0.30731,     0.30831,     0.30931,     0.31031,     0.31131,\n",
              "           0.31231,     0.31331,     0.31431,     0.31532,     0.31632,     0.31732,     0.31832,     0.31932,     0.32032,     0.32132,     0.32232,     0.32332,     0.32432,     0.32533,     0.32633,     0.32733,     0.32833,     0.32933,     0.33033,     0.33133,     0.33233,     0.33333,     0.33433,     0.33534,\n",
              "           0.33634,     0.33734,     0.33834,     0.33934,     0.34034,     0.34134,     0.34234,     0.34334,     0.34434,     0.34535,     0.34635,     0.34735,     0.34835,     0.34935,     0.35035,     0.35135,     0.35235,     0.35335,     0.35435,     0.35536,     0.35636,     0.35736,     0.35836,     0.35936,\n",
              "           0.36036,     0.36136,     0.36236,     0.36336,     0.36436,     0.36537,     0.36637,     0.36737,     0.36837,     0.36937,     0.37037,     0.37137,     0.37237,     0.37337,     0.37437,     0.37538,     0.37638,     0.37738,     0.37838,     0.37938,     0.38038,     0.38138,     0.38238,     0.38338,\n",
              "           0.38438,     0.38539,     0.38639,     0.38739,     0.38839,     0.38939,     0.39039,     0.39139,     0.39239,     0.39339,     0.39439,      0.3954,      0.3964,      0.3974,      0.3984,      0.3994,      0.4004,      0.4014,      0.4024,      0.4034,      0.4044,     0.40541,     0.40641,     0.40741,\n",
              "           0.40841,     0.40941,     0.41041,     0.41141,     0.41241,     0.41341,     0.41441,     0.41542,     0.41642,     0.41742,     0.41842,     0.41942,     0.42042,     0.42142,     0.42242,     0.42342,     0.42442,     0.42543,     0.42643,     0.42743,     0.42843,     0.42943,     0.43043,     0.43143,\n",
              "           0.43243,     0.43343,     0.43443,     0.43544,     0.43644,     0.43744,     0.43844,     0.43944,     0.44044,     0.44144,     0.44244,     0.44344,     0.44444,     0.44545,     0.44645,     0.44745,     0.44845,     0.44945,     0.45045,     0.45145,     0.45245,     0.45345,     0.45445,     0.45546,\n",
              "           0.45646,     0.45746,     0.45846,     0.45946,     0.46046,     0.46146,     0.46246,     0.46346,     0.46446,     0.46547,     0.46647,     0.46747,     0.46847,     0.46947,     0.47047,     0.47147,     0.47247,     0.47347,     0.47447,     0.47548,     0.47648,     0.47748,     0.47848,     0.47948,\n",
              "           0.48048,     0.48148,     0.48248,     0.48348,     0.48448,     0.48549,     0.48649,     0.48749,     0.48849,     0.48949,     0.49049,     0.49149,     0.49249,     0.49349,     0.49449,      0.4955,      0.4965,      0.4975,      0.4985,      0.4995,      0.5005,      0.5015,      0.5025,      0.5035,\n",
              "            0.5045,     0.50551,     0.50651,     0.50751,     0.50851,     0.50951,     0.51051,     0.51151,     0.51251,     0.51351,     0.51451,     0.51552,     0.51652,     0.51752,     0.51852,     0.51952,     0.52052,     0.52152,     0.52252,     0.52352,     0.52452,     0.52553,     0.52653,     0.52753,\n",
              "           0.52853,     0.52953,     0.53053,     0.53153,     0.53253,     0.53353,     0.53453,     0.53554,     0.53654,     0.53754,     0.53854,     0.53954,     0.54054,     0.54154,     0.54254,     0.54354,     0.54454,     0.54555,     0.54655,     0.54755,     0.54855,     0.54955,     0.55055,     0.55155,\n",
              "           0.55255,     0.55355,     0.55455,     0.55556,     0.55656,     0.55756,     0.55856,     0.55956,     0.56056,     0.56156,     0.56256,     0.56356,     0.56456,     0.56557,     0.56657,     0.56757,     0.56857,     0.56957,     0.57057,     0.57157,     0.57257,     0.57357,     0.57457,     0.57558,\n",
              "           0.57658,     0.57758,     0.57858,     0.57958,     0.58058,     0.58158,     0.58258,     0.58358,     0.58458,     0.58559,     0.58659,     0.58759,     0.58859,     0.58959,     0.59059,     0.59159,     0.59259,     0.59359,     0.59459,      0.5956,      0.5966,      0.5976,      0.5986,      0.5996,\n",
              "            0.6006,      0.6016,      0.6026,      0.6036,      0.6046,     0.60561,     0.60661,     0.60761,     0.60861,     0.60961,     0.61061,     0.61161,     0.61261,     0.61361,     0.61461,     0.61562,     0.61662,     0.61762,     0.61862,     0.61962,     0.62062,     0.62162,     0.62262,     0.62362,\n",
              "           0.62462,     0.62563,     0.62663,     0.62763,     0.62863,     0.62963,     0.63063,     0.63163,     0.63263,     0.63363,     0.63463,     0.63564,     0.63664,     0.63764,     0.63864,     0.63964,     0.64064,     0.64164,     0.64264,     0.64364,     0.64464,     0.64565,     0.64665,     0.64765,\n",
              "           0.64865,     0.64965,     0.65065,     0.65165,     0.65265,     0.65365,     0.65465,     0.65566,     0.65666,     0.65766,     0.65866,     0.65966,     0.66066,     0.66166,     0.66266,     0.66366,     0.66466,     0.66567,     0.66667,     0.66767,     0.66867,     0.66967,     0.67067,     0.67167,\n",
              "           0.67267,     0.67367,     0.67467,     0.67568,     0.67668,     0.67768,     0.67868,     0.67968,     0.68068,     0.68168,     0.68268,     0.68368,     0.68468,     0.68569,     0.68669,     0.68769,     0.68869,     0.68969,     0.69069,     0.69169,     0.69269,     0.69369,     0.69469,      0.6957,\n",
              "            0.6967,      0.6977,      0.6987,      0.6997,      0.7007,      0.7017,      0.7027,      0.7037,      0.7047,     0.70571,     0.70671,     0.70771,     0.70871,     0.70971,     0.71071,     0.71171,     0.71271,     0.71371,     0.71471,     0.71572,     0.71672,     0.71772,     0.71872,     0.71972,\n",
              "           0.72072,     0.72172,     0.72272,     0.72372,     0.72472,     0.72573,     0.72673,     0.72773,     0.72873,     0.72973,     0.73073,     0.73173,     0.73273,     0.73373,     0.73473,     0.73574,     0.73674,     0.73774,     0.73874,     0.73974,     0.74074,     0.74174,     0.74274,     0.74374,\n",
              "           0.74474,     0.74575,     0.74675,     0.74775,     0.74875,     0.74975,     0.75075,     0.75175,     0.75275,     0.75375,     0.75475,     0.75576,     0.75676,     0.75776,     0.75876,     0.75976,     0.76076,     0.76176,     0.76276,     0.76376,     0.76476,     0.76577,     0.76677,     0.76777,\n",
              "           0.76877,     0.76977,     0.77077,     0.77177,     0.77277,     0.77377,     0.77477,     0.77578,     0.77678,     0.77778,     0.77878,     0.77978,     0.78078,     0.78178,     0.78278,     0.78378,     0.78478,     0.78579,     0.78679,     0.78779,     0.78879,     0.78979,     0.79079,     0.79179,\n",
              "           0.79279,     0.79379,     0.79479,      0.7958,      0.7968,      0.7978,      0.7988,      0.7998,      0.8008,      0.8018,      0.8028,      0.8038,      0.8048,     0.80581,     0.80681,     0.80781,     0.80881,     0.80981,     0.81081,     0.81181,     0.81281,     0.81381,     0.81481,     0.81582,\n",
              "           0.81682,     0.81782,     0.81882,     0.81982,     0.82082,     0.82182,     0.82282,     0.82382,     0.82482,     0.82583,     0.82683,     0.82783,     0.82883,     0.82983,     0.83083,     0.83183,     0.83283,     0.83383,     0.83483,     0.83584,     0.83684,     0.83784,     0.83884,     0.83984,\n",
              "           0.84084,     0.84184,     0.84284,     0.84384,     0.84484,     0.84585,     0.84685,     0.84785,     0.84885,     0.84985,     0.85085,     0.85185,     0.85285,     0.85385,     0.85485,     0.85586,     0.85686,     0.85786,     0.85886,     0.85986,     0.86086,     0.86186,     0.86286,     0.86386,\n",
              "           0.86486,     0.86587,     0.86687,     0.86787,     0.86887,     0.86987,     0.87087,     0.87187,     0.87287,     0.87387,     0.87487,     0.87588,     0.87688,     0.87788,     0.87888,     0.87988,     0.88088,     0.88188,     0.88288,     0.88388,     0.88488,     0.88589,     0.88689,     0.88789,\n",
              "           0.88889,     0.88989,     0.89089,     0.89189,     0.89289,     0.89389,     0.89489,      0.8959,      0.8969,      0.8979,      0.8989,      0.8999,      0.9009,      0.9019,      0.9029,      0.9039,      0.9049,     0.90591,     0.90691,     0.90791,     0.90891,     0.90991,     0.91091,     0.91191,\n",
              "           0.91291,     0.91391,     0.91491,     0.91592,     0.91692,     0.91792,     0.91892,     0.91992,     0.92092,     0.92192,     0.92292,     0.92392,     0.92492,     0.92593,     0.92693,     0.92793,     0.92893,     0.92993,     0.93093,     0.93193,     0.93293,     0.93393,     0.93493,     0.93594,\n",
              "           0.93694,     0.93794,     0.93894,     0.93994,     0.94094,     0.94194,     0.94294,     0.94394,     0.94494,     0.94595,     0.94695,     0.94795,     0.94895,     0.94995,     0.95095,     0.95195,     0.95295,     0.95395,     0.95495,     0.95596,     0.95696,     0.95796,     0.95896,     0.95996,\n",
              "           0.96096,     0.96196,     0.96296,     0.96396,     0.96496,     0.96597,     0.96697,     0.96797,     0.96897,     0.96997,     0.97097,     0.97197,     0.97297,     0.97397,     0.97497,     0.97598,     0.97698,     0.97798,     0.97898,     0.97998,     0.98098,     0.98198,     0.98298,     0.98398,\n",
              "           0.98498,     0.98599,     0.98699,     0.98799,     0.98899,     0.98999,     0.99099,     0.99199,     0.99299,     0.99399,     0.99499,       0.996,       0.997,       0.998,       0.999,           1]), array([[   0.063492,    0.063492,     0.19995, ...,           0,           0,           0],\n",
              "       [   0.087912,    0.087912,     0.28324, ...,           0,           0,           0],\n",
              "       [   0.026846,    0.026846,     0.10125, ...,           0,           0,           0]]), 'Confidence', 'F1'], [array([          0,    0.001001,    0.002002,    0.003003,    0.004004,    0.005005,    0.006006,    0.007007,    0.008008,    0.009009,     0.01001,    0.011011,    0.012012,    0.013013,    0.014014,    0.015015,    0.016016,    0.017017,    0.018018,    0.019019,     0.02002,    0.021021,    0.022022,    0.023023,\n",
              "          0.024024,    0.025025,    0.026026,    0.027027,    0.028028,    0.029029,     0.03003,    0.031031,    0.032032,    0.033033,    0.034034,    0.035035,    0.036036,    0.037037,    0.038038,    0.039039,     0.04004,    0.041041,    0.042042,    0.043043,    0.044044,    0.045045,    0.046046,    0.047047,\n",
              "          0.048048,    0.049049,     0.05005,    0.051051,    0.052052,    0.053053,    0.054054,    0.055055,    0.056056,    0.057057,    0.058058,    0.059059,     0.06006,    0.061061,    0.062062,    0.063063,    0.064064,    0.065065,    0.066066,    0.067067,    0.068068,    0.069069,     0.07007,    0.071071,\n",
              "          0.072072,    0.073073,    0.074074,    0.075075,    0.076076,    0.077077,    0.078078,    0.079079,     0.08008,    0.081081,    0.082082,    0.083083,    0.084084,    0.085085,    0.086086,    0.087087,    0.088088,    0.089089,     0.09009,    0.091091,    0.092092,    0.093093,    0.094094,    0.095095,\n",
              "          0.096096,    0.097097,    0.098098,    0.099099,      0.1001,      0.1011,      0.1021,      0.1031,      0.1041,     0.10511,     0.10611,     0.10711,     0.10811,     0.10911,     0.11011,     0.11111,     0.11211,     0.11311,     0.11411,     0.11512,     0.11612,     0.11712,     0.11812,     0.11912,\n",
              "           0.12012,     0.12112,     0.12212,     0.12312,     0.12412,     0.12513,     0.12613,     0.12713,     0.12813,     0.12913,     0.13013,     0.13113,     0.13213,     0.13313,     0.13413,     0.13514,     0.13614,     0.13714,     0.13814,     0.13914,     0.14014,     0.14114,     0.14214,     0.14314,\n",
              "           0.14414,     0.14515,     0.14615,     0.14715,     0.14815,     0.14915,     0.15015,     0.15115,     0.15215,     0.15315,     0.15415,     0.15516,     0.15616,     0.15716,     0.15816,     0.15916,     0.16016,     0.16116,     0.16216,     0.16316,     0.16416,     0.16517,     0.16617,     0.16717,\n",
              "           0.16817,     0.16917,     0.17017,     0.17117,     0.17217,     0.17317,     0.17417,     0.17518,     0.17618,     0.17718,     0.17818,     0.17918,     0.18018,     0.18118,     0.18218,     0.18318,     0.18418,     0.18519,     0.18619,     0.18719,     0.18819,     0.18919,     0.19019,     0.19119,\n",
              "           0.19219,     0.19319,     0.19419,      0.1952,      0.1962,      0.1972,      0.1982,      0.1992,      0.2002,      0.2012,      0.2022,      0.2032,      0.2042,     0.20521,     0.20621,     0.20721,     0.20821,     0.20921,     0.21021,     0.21121,     0.21221,     0.21321,     0.21421,     0.21522,\n",
              "           0.21622,     0.21722,     0.21822,     0.21922,     0.22022,     0.22122,     0.22222,     0.22322,     0.22422,     0.22523,     0.22623,     0.22723,     0.22823,     0.22923,     0.23023,     0.23123,     0.23223,     0.23323,     0.23423,     0.23524,     0.23624,     0.23724,     0.23824,     0.23924,\n",
              "           0.24024,     0.24124,     0.24224,     0.24324,     0.24424,     0.24525,     0.24625,     0.24725,     0.24825,     0.24925,     0.25025,     0.25125,     0.25225,     0.25325,     0.25425,     0.25526,     0.25626,     0.25726,     0.25826,     0.25926,     0.26026,     0.26126,     0.26226,     0.26326,\n",
              "           0.26426,     0.26527,     0.26627,     0.26727,     0.26827,     0.26927,     0.27027,     0.27127,     0.27227,     0.27327,     0.27427,     0.27528,     0.27628,     0.27728,     0.27828,     0.27928,     0.28028,     0.28128,     0.28228,     0.28328,     0.28428,     0.28529,     0.28629,     0.28729,\n",
              "           0.28829,     0.28929,     0.29029,     0.29129,     0.29229,     0.29329,     0.29429,      0.2953,      0.2963,      0.2973,      0.2983,      0.2993,      0.3003,      0.3013,      0.3023,      0.3033,      0.3043,     0.30531,     0.30631,     0.30731,     0.30831,     0.30931,     0.31031,     0.31131,\n",
              "           0.31231,     0.31331,     0.31431,     0.31532,     0.31632,     0.31732,     0.31832,     0.31932,     0.32032,     0.32132,     0.32232,     0.32332,     0.32432,     0.32533,     0.32633,     0.32733,     0.32833,     0.32933,     0.33033,     0.33133,     0.33233,     0.33333,     0.33433,     0.33534,\n",
              "           0.33634,     0.33734,     0.33834,     0.33934,     0.34034,     0.34134,     0.34234,     0.34334,     0.34434,     0.34535,     0.34635,     0.34735,     0.34835,     0.34935,     0.35035,     0.35135,     0.35235,     0.35335,     0.35435,     0.35536,     0.35636,     0.35736,     0.35836,     0.35936,\n",
              "           0.36036,     0.36136,     0.36236,     0.36336,     0.36436,     0.36537,     0.36637,     0.36737,     0.36837,     0.36937,     0.37037,     0.37137,     0.37237,     0.37337,     0.37437,     0.37538,     0.37638,     0.37738,     0.37838,     0.37938,     0.38038,     0.38138,     0.38238,     0.38338,\n",
              "           0.38438,     0.38539,     0.38639,     0.38739,     0.38839,     0.38939,     0.39039,     0.39139,     0.39239,     0.39339,     0.39439,      0.3954,      0.3964,      0.3974,      0.3984,      0.3994,      0.4004,      0.4014,      0.4024,      0.4034,      0.4044,     0.40541,     0.40641,     0.40741,\n",
              "           0.40841,     0.40941,     0.41041,     0.41141,     0.41241,     0.41341,     0.41441,     0.41542,     0.41642,     0.41742,     0.41842,     0.41942,     0.42042,     0.42142,     0.42242,     0.42342,     0.42442,     0.42543,     0.42643,     0.42743,     0.42843,     0.42943,     0.43043,     0.43143,\n",
              "           0.43243,     0.43343,     0.43443,     0.43544,     0.43644,     0.43744,     0.43844,     0.43944,     0.44044,     0.44144,     0.44244,     0.44344,     0.44444,     0.44545,     0.44645,     0.44745,     0.44845,     0.44945,     0.45045,     0.45145,     0.45245,     0.45345,     0.45445,     0.45546,\n",
              "           0.45646,     0.45746,     0.45846,     0.45946,     0.46046,     0.46146,     0.46246,     0.46346,     0.46446,     0.46547,     0.46647,     0.46747,     0.46847,     0.46947,     0.47047,     0.47147,     0.47247,     0.47347,     0.47447,     0.47548,     0.47648,     0.47748,     0.47848,     0.47948,\n",
              "           0.48048,     0.48148,     0.48248,     0.48348,     0.48448,     0.48549,     0.48649,     0.48749,     0.48849,     0.48949,     0.49049,     0.49149,     0.49249,     0.49349,     0.49449,      0.4955,      0.4965,      0.4975,      0.4985,      0.4995,      0.5005,      0.5015,      0.5025,      0.5035,\n",
              "            0.5045,     0.50551,     0.50651,     0.50751,     0.50851,     0.50951,     0.51051,     0.51151,     0.51251,     0.51351,     0.51451,     0.51552,     0.51652,     0.51752,     0.51852,     0.51952,     0.52052,     0.52152,     0.52252,     0.52352,     0.52452,     0.52553,     0.52653,     0.52753,\n",
              "           0.52853,     0.52953,     0.53053,     0.53153,     0.53253,     0.53353,     0.53453,     0.53554,     0.53654,     0.53754,     0.53854,     0.53954,     0.54054,     0.54154,     0.54254,     0.54354,     0.54454,     0.54555,     0.54655,     0.54755,     0.54855,     0.54955,     0.55055,     0.55155,\n",
              "           0.55255,     0.55355,     0.55455,     0.55556,     0.55656,     0.55756,     0.55856,     0.55956,     0.56056,     0.56156,     0.56256,     0.56356,     0.56456,     0.56557,     0.56657,     0.56757,     0.56857,     0.56957,     0.57057,     0.57157,     0.57257,     0.57357,     0.57457,     0.57558,\n",
              "           0.57658,     0.57758,     0.57858,     0.57958,     0.58058,     0.58158,     0.58258,     0.58358,     0.58458,     0.58559,     0.58659,     0.58759,     0.58859,     0.58959,     0.59059,     0.59159,     0.59259,     0.59359,     0.59459,      0.5956,      0.5966,      0.5976,      0.5986,      0.5996,\n",
              "            0.6006,      0.6016,      0.6026,      0.6036,      0.6046,     0.60561,     0.60661,     0.60761,     0.60861,     0.60961,     0.61061,     0.61161,     0.61261,     0.61361,     0.61461,     0.61562,     0.61662,     0.61762,     0.61862,     0.61962,     0.62062,     0.62162,     0.62262,     0.62362,\n",
              "           0.62462,     0.62563,     0.62663,     0.62763,     0.62863,     0.62963,     0.63063,     0.63163,     0.63263,     0.63363,     0.63463,     0.63564,     0.63664,     0.63764,     0.63864,     0.63964,     0.64064,     0.64164,     0.64264,     0.64364,     0.64464,     0.64565,     0.64665,     0.64765,\n",
              "           0.64865,     0.64965,     0.65065,     0.65165,     0.65265,     0.65365,     0.65465,     0.65566,     0.65666,     0.65766,     0.65866,     0.65966,     0.66066,     0.66166,     0.66266,     0.66366,     0.66466,     0.66567,     0.66667,     0.66767,     0.66867,     0.66967,     0.67067,     0.67167,\n",
              "           0.67267,     0.67367,     0.67467,     0.67568,     0.67668,     0.67768,     0.67868,     0.67968,     0.68068,     0.68168,     0.68268,     0.68368,     0.68468,     0.68569,     0.68669,     0.68769,     0.68869,     0.68969,     0.69069,     0.69169,     0.69269,     0.69369,     0.69469,      0.6957,\n",
              "            0.6967,      0.6977,      0.6987,      0.6997,      0.7007,      0.7017,      0.7027,      0.7037,      0.7047,     0.70571,     0.70671,     0.70771,     0.70871,     0.70971,     0.71071,     0.71171,     0.71271,     0.71371,     0.71471,     0.71572,     0.71672,     0.71772,     0.71872,     0.71972,\n",
              "           0.72072,     0.72172,     0.72272,     0.72372,     0.72472,     0.72573,     0.72673,     0.72773,     0.72873,     0.72973,     0.73073,     0.73173,     0.73273,     0.73373,     0.73473,     0.73574,     0.73674,     0.73774,     0.73874,     0.73974,     0.74074,     0.74174,     0.74274,     0.74374,\n",
              "           0.74474,     0.74575,     0.74675,     0.74775,     0.74875,     0.74975,     0.75075,     0.75175,     0.75275,     0.75375,     0.75475,     0.75576,     0.75676,     0.75776,     0.75876,     0.75976,     0.76076,     0.76176,     0.76276,     0.76376,     0.76476,     0.76577,     0.76677,     0.76777,\n",
              "           0.76877,     0.76977,     0.77077,     0.77177,     0.77277,     0.77377,     0.77477,     0.77578,     0.77678,     0.77778,     0.77878,     0.77978,     0.78078,     0.78178,     0.78278,     0.78378,     0.78478,     0.78579,     0.78679,     0.78779,     0.78879,     0.78979,     0.79079,     0.79179,\n",
              "           0.79279,     0.79379,     0.79479,      0.7958,      0.7968,      0.7978,      0.7988,      0.7998,      0.8008,      0.8018,      0.8028,      0.8038,      0.8048,     0.80581,     0.80681,     0.80781,     0.80881,     0.80981,     0.81081,     0.81181,     0.81281,     0.81381,     0.81481,     0.81582,\n",
              "           0.81682,     0.81782,     0.81882,     0.81982,     0.82082,     0.82182,     0.82282,     0.82382,     0.82482,     0.82583,     0.82683,     0.82783,     0.82883,     0.82983,     0.83083,     0.83183,     0.83283,     0.83383,     0.83483,     0.83584,     0.83684,     0.83784,     0.83884,     0.83984,\n",
              "           0.84084,     0.84184,     0.84284,     0.84384,     0.84484,     0.84585,     0.84685,     0.84785,     0.84885,     0.84985,     0.85085,     0.85185,     0.85285,     0.85385,     0.85485,     0.85586,     0.85686,     0.85786,     0.85886,     0.85986,     0.86086,     0.86186,     0.86286,     0.86386,\n",
              "           0.86486,     0.86587,     0.86687,     0.86787,     0.86887,     0.86987,     0.87087,     0.87187,     0.87287,     0.87387,     0.87487,     0.87588,     0.87688,     0.87788,     0.87888,     0.87988,     0.88088,     0.88188,     0.88288,     0.88388,     0.88488,     0.88589,     0.88689,     0.88789,\n",
              "           0.88889,     0.88989,     0.89089,     0.89189,     0.89289,     0.89389,     0.89489,      0.8959,      0.8969,      0.8979,      0.8989,      0.8999,      0.9009,      0.9019,      0.9029,      0.9039,      0.9049,     0.90591,     0.90691,     0.90791,     0.90891,     0.90991,     0.91091,     0.91191,\n",
              "           0.91291,     0.91391,     0.91491,     0.91592,     0.91692,     0.91792,     0.91892,     0.91992,     0.92092,     0.92192,     0.92292,     0.92392,     0.92492,     0.92593,     0.92693,     0.92793,     0.92893,     0.92993,     0.93093,     0.93193,     0.93293,     0.93393,     0.93493,     0.93594,\n",
              "           0.93694,     0.93794,     0.93894,     0.93994,     0.94094,     0.94194,     0.94294,     0.94394,     0.94494,     0.94595,     0.94695,     0.94795,     0.94895,     0.94995,     0.95095,     0.95195,     0.95295,     0.95395,     0.95495,     0.95596,     0.95696,     0.95796,     0.95896,     0.95996,\n",
              "           0.96096,     0.96196,     0.96296,     0.96396,     0.96496,     0.96597,     0.96697,     0.96797,     0.96897,     0.96997,     0.97097,     0.97197,     0.97297,     0.97397,     0.97497,     0.97598,     0.97698,     0.97798,     0.97898,     0.97998,     0.98098,     0.98198,     0.98298,     0.98398,\n",
              "           0.98498,     0.98599,     0.98699,     0.98799,     0.98899,     0.98999,     0.99099,     0.99199,     0.99299,     0.99399,     0.99499,       0.996,       0.997,       0.998,       0.999,           1]), array([[   0.032787,    0.032787,     0.11108, ...,           1,           1,           1],\n",
              "       [   0.045977,    0.045977,     0.16498, ...,           1,           1,           1],\n",
              "       [   0.013605,    0.013605,    0.053322, ...,           1,           1,           1]]), 'Confidence', 'Precision'], [array([          0,    0.001001,    0.002002,    0.003003,    0.004004,    0.005005,    0.006006,    0.007007,    0.008008,    0.009009,     0.01001,    0.011011,    0.012012,    0.013013,    0.014014,    0.015015,    0.016016,    0.017017,    0.018018,    0.019019,     0.02002,    0.021021,    0.022022,    0.023023,\n",
              "          0.024024,    0.025025,    0.026026,    0.027027,    0.028028,    0.029029,     0.03003,    0.031031,    0.032032,    0.033033,    0.034034,    0.035035,    0.036036,    0.037037,    0.038038,    0.039039,     0.04004,    0.041041,    0.042042,    0.043043,    0.044044,    0.045045,    0.046046,    0.047047,\n",
              "          0.048048,    0.049049,     0.05005,    0.051051,    0.052052,    0.053053,    0.054054,    0.055055,    0.056056,    0.057057,    0.058058,    0.059059,     0.06006,    0.061061,    0.062062,    0.063063,    0.064064,    0.065065,    0.066066,    0.067067,    0.068068,    0.069069,     0.07007,    0.071071,\n",
              "          0.072072,    0.073073,    0.074074,    0.075075,    0.076076,    0.077077,    0.078078,    0.079079,     0.08008,    0.081081,    0.082082,    0.083083,    0.084084,    0.085085,    0.086086,    0.087087,    0.088088,    0.089089,     0.09009,    0.091091,    0.092092,    0.093093,    0.094094,    0.095095,\n",
              "          0.096096,    0.097097,    0.098098,    0.099099,      0.1001,      0.1011,      0.1021,      0.1031,      0.1041,     0.10511,     0.10611,     0.10711,     0.10811,     0.10911,     0.11011,     0.11111,     0.11211,     0.11311,     0.11411,     0.11512,     0.11612,     0.11712,     0.11812,     0.11912,\n",
              "           0.12012,     0.12112,     0.12212,     0.12312,     0.12412,     0.12513,     0.12613,     0.12713,     0.12813,     0.12913,     0.13013,     0.13113,     0.13213,     0.13313,     0.13413,     0.13514,     0.13614,     0.13714,     0.13814,     0.13914,     0.14014,     0.14114,     0.14214,     0.14314,\n",
              "           0.14414,     0.14515,     0.14615,     0.14715,     0.14815,     0.14915,     0.15015,     0.15115,     0.15215,     0.15315,     0.15415,     0.15516,     0.15616,     0.15716,     0.15816,     0.15916,     0.16016,     0.16116,     0.16216,     0.16316,     0.16416,     0.16517,     0.16617,     0.16717,\n",
              "           0.16817,     0.16917,     0.17017,     0.17117,     0.17217,     0.17317,     0.17417,     0.17518,     0.17618,     0.17718,     0.17818,     0.17918,     0.18018,     0.18118,     0.18218,     0.18318,     0.18418,     0.18519,     0.18619,     0.18719,     0.18819,     0.18919,     0.19019,     0.19119,\n",
              "           0.19219,     0.19319,     0.19419,      0.1952,      0.1962,      0.1972,      0.1982,      0.1992,      0.2002,      0.2012,      0.2022,      0.2032,      0.2042,     0.20521,     0.20621,     0.20721,     0.20821,     0.20921,     0.21021,     0.21121,     0.21221,     0.21321,     0.21421,     0.21522,\n",
              "           0.21622,     0.21722,     0.21822,     0.21922,     0.22022,     0.22122,     0.22222,     0.22322,     0.22422,     0.22523,     0.22623,     0.22723,     0.22823,     0.22923,     0.23023,     0.23123,     0.23223,     0.23323,     0.23423,     0.23524,     0.23624,     0.23724,     0.23824,     0.23924,\n",
              "           0.24024,     0.24124,     0.24224,     0.24324,     0.24424,     0.24525,     0.24625,     0.24725,     0.24825,     0.24925,     0.25025,     0.25125,     0.25225,     0.25325,     0.25425,     0.25526,     0.25626,     0.25726,     0.25826,     0.25926,     0.26026,     0.26126,     0.26226,     0.26326,\n",
              "           0.26426,     0.26527,     0.26627,     0.26727,     0.26827,     0.26927,     0.27027,     0.27127,     0.27227,     0.27327,     0.27427,     0.27528,     0.27628,     0.27728,     0.27828,     0.27928,     0.28028,     0.28128,     0.28228,     0.28328,     0.28428,     0.28529,     0.28629,     0.28729,\n",
              "           0.28829,     0.28929,     0.29029,     0.29129,     0.29229,     0.29329,     0.29429,      0.2953,      0.2963,      0.2973,      0.2983,      0.2993,      0.3003,      0.3013,      0.3023,      0.3033,      0.3043,     0.30531,     0.30631,     0.30731,     0.30831,     0.30931,     0.31031,     0.31131,\n",
              "           0.31231,     0.31331,     0.31431,     0.31532,     0.31632,     0.31732,     0.31832,     0.31932,     0.32032,     0.32132,     0.32232,     0.32332,     0.32432,     0.32533,     0.32633,     0.32733,     0.32833,     0.32933,     0.33033,     0.33133,     0.33233,     0.33333,     0.33433,     0.33534,\n",
              "           0.33634,     0.33734,     0.33834,     0.33934,     0.34034,     0.34134,     0.34234,     0.34334,     0.34434,     0.34535,     0.34635,     0.34735,     0.34835,     0.34935,     0.35035,     0.35135,     0.35235,     0.35335,     0.35435,     0.35536,     0.35636,     0.35736,     0.35836,     0.35936,\n",
              "           0.36036,     0.36136,     0.36236,     0.36336,     0.36436,     0.36537,     0.36637,     0.36737,     0.36837,     0.36937,     0.37037,     0.37137,     0.37237,     0.37337,     0.37437,     0.37538,     0.37638,     0.37738,     0.37838,     0.37938,     0.38038,     0.38138,     0.38238,     0.38338,\n",
              "           0.38438,     0.38539,     0.38639,     0.38739,     0.38839,     0.38939,     0.39039,     0.39139,     0.39239,     0.39339,     0.39439,      0.3954,      0.3964,      0.3974,      0.3984,      0.3994,      0.4004,      0.4014,      0.4024,      0.4034,      0.4044,     0.40541,     0.40641,     0.40741,\n",
              "           0.40841,     0.40941,     0.41041,     0.41141,     0.41241,     0.41341,     0.41441,     0.41542,     0.41642,     0.41742,     0.41842,     0.41942,     0.42042,     0.42142,     0.42242,     0.42342,     0.42442,     0.42543,     0.42643,     0.42743,     0.42843,     0.42943,     0.43043,     0.43143,\n",
              "           0.43243,     0.43343,     0.43443,     0.43544,     0.43644,     0.43744,     0.43844,     0.43944,     0.44044,     0.44144,     0.44244,     0.44344,     0.44444,     0.44545,     0.44645,     0.44745,     0.44845,     0.44945,     0.45045,     0.45145,     0.45245,     0.45345,     0.45445,     0.45546,\n",
              "           0.45646,     0.45746,     0.45846,     0.45946,     0.46046,     0.46146,     0.46246,     0.46346,     0.46446,     0.46547,     0.46647,     0.46747,     0.46847,     0.46947,     0.47047,     0.47147,     0.47247,     0.47347,     0.47447,     0.47548,     0.47648,     0.47748,     0.47848,     0.47948,\n",
              "           0.48048,     0.48148,     0.48248,     0.48348,     0.48448,     0.48549,     0.48649,     0.48749,     0.48849,     0.48949,     0.49049,     0.49149,     0.49249,     0.49349,     0.49449,      0.4955,      0.4965,      0.4975,      0.4985,      0.4995,      0.5005,      0.5015,      0.5025,      0.5035,\n",
              "            0.5045,     0.50551,     0.50651,     0.50751,     0.50851,     0.50951,     0.51051,     0.51151,     0.51251,     0.51351,     0.51451,     0.51552,     0.51652,     0.51752,     0.51852,     0.51952,     0.52052,     0.52152,     0.52252,     0.52352,     0.52452,     0.52553,     0.52653,     0.52753,\n",
              "           0.52853,     0.52953,     0.53053,     0.53153,     0.53253,     0.53353,     0.53453,     0.53554,     0.53654,     0.53754,     0.53854,     0.53954,     0.54054,     0.54154,     0.54254,     0.54354,     0.54454,     0.54555,     0.54655,     0.54755,     0.54855,     0.54955,     0.55055,     0.55155,\n",
              "           0.55255,     0.55355,     0.55455,     0.55556,     0.55656,     0.55756,     0.55856,     0.55956,     0.56056,     0.56156,     0.56256,     0.56356,     0.56456,     0.56557,     0.56657,     0.56757,     0.56857,     0.56957,     0.57057,     0.57157,     0.57257,     0.57357,     0.57457,     0.57558,\n",
              "           0.57658,     0.57758,     0.57858,     0.57958,     0.58058,     0.58158,     0.58258,     0.58358,     0.58458,     0.58559,     0.58659,     0.58759,     0.58859,     0.58959,     0.59059,     0.59159,     0.59259,     0.59359,     0.59459,      0.5956,      0.5966,      0.5976,      0.5986,      0.5996,\n",
              "            0.6006,      0.6016,      0.6026,      0.6036,      0.6046,     0.60561,     0.60661,     0.60761,     0.60861,     0.60961,     0.61061,     0.61161,     0.61261,     0.61361,     0.61461,     0.61562,     0.61662,     0.61762,     0.61862,     0.61962,     0.62062,     0.62162,     0.62262,     0.62362,\n",
              "           0.62462,     0.62563,     0.62663,     0.62763,     0.62863,     0.62963,     0.63063,     0.63163,     0.63263,     0.63363,     0.63463,     0.63564,     0.63664,     0.63764,     0.63864,     0.63964,     0.64064,     0.64164,     0.64264,     0.64364,     0.64464,     0.64565,     0.64665,     0.64765,\n",
              "           0.64865,     0.64965,     0.65065,     0.65165,     0.65265,     0.65365,     0.65465,     0.65566,     0.65666,     0.65766,     0.65866,     0.65966,     0.66066,     0.66166,     0.66266,     0.66366,     0.66466,     0.66567,     0.66667,     0.66767,     0.66867,     0.66967,     0.67067,     0.67167,\n",
              "           0.67267,     0.67367,     0.67467,     0.67568,     0.67668,     0.67768,     0.67868,     0.67968,     0.68068,     0.68168,     0.68268,     0.68368,     0.68468,     0.68569,     0.68669,     0.68769,     0.68869,     0.68969,     0.69069,     0.69169,     0.69269,     0.69369,     0.69469,      0.6957,\n",
              "            0.6967,      0.6977,      0.6987,      0.6997,      0.7007,      0.7017,      0.7027,      0.7037,      0.7047,     0.70571,     0.70671,     0.70771,     0.70871,     0.70971,     0.71071,     0.71171,     0.71271,     0.71371,     0.71471,     0.71572,     0.71672,     0.71772,     0.71872,     0.71972,\n",
              "           0.72072,     0.72172,     0.72272,     0.72372,     0.72472,     0.72573,     0.72673,     0.72773,     0.72873,     0.72973,     0.73073,     0.73173,     0.73273,     0.73373,     0.73473,     0.73574,     0.73674,     0.73774,     0.73874,     0.73974,     0.74074,     0.74174,     0.74274,     0.74374,\n",
              "           0.74474,     0.74575,     0.74675,     0.74775,     0.74875,     0.74975,     0.75075,     0.75175,     0.75275,     0.75375,     0.75475,     0.75576,     0.75676,     0.75776,     0.75876,     0.75976,     0.76076,     0.76176,     0.76276,     0.76376,     0.76476,     0.76577,     0.76677,     0.76777,\n",
              "           0.76877,     0.76977,     0.77077,     0.77177,     0.77277,     0.77377,     0.77477,     0.77578,     0.77678,     0.77778,     0.77878,     0.77978,     0.78078,     0.78178,     0.78278,     0.78378,     0.78478,     0.78579,     0.78679,     0.78779,     0.78879,     0.78979,     0.79079,     0.79179,\n",
              "           0.79279,     0.79379,     0.79479,      0.7958,      0.7968,      0.7978,      0.7988,      0.7998,      0.8008,      0.8018,      0.8028,      0.8038,      0.8048,     0.80581,     0.80681,     0.80781,     0.80881,     0.80981,     0.81081,     0.81181,     0.81281,     0.81381,     0.81481,     0.81582,\n",
              "           0.81682,     0.81782,     0.81882,     0.81982,     0.82082,     0.82182,     0.82282,     0.82382,     0.82482,     0.82583,     0.82683,     0.82783,     0.82883,     0.82983,     0.83083,     0.83183,     0.83283,     0.83383,     0.83483,     0.83584,     0.83684,     0.83784,     0.83884,     0.83984,\n",
              "           0.84084,     0.84184,     0.84284,     0.84384,     0.84484,     0.84585,     0.84685,     0.84785,     0.84885,     0.84985,     0.85085,     0.85185,     0.85285,     0.85385,     0.85485,     0.85586,     0.85686,     0.85786,     0.85886,     0.85986,     0.86086,     0.86186,     0.86286,     0.86386,\n",
              "           0.86486,     0.86587,     0.86687,     0.86787,     0.86887,     0.86987,     0.87087,     0.87187,     0.87287,     0.87387,     0.87487,     0.87588,     0.87688,     0.87788,     0.87888,     0.87988,     0.88088,     0.88188,     0.88288,     0.88388,     0.88488,     0.88589,     0.88689,     0.88789,\n",
              "           0.88889,     0.88989,     0.89089,     0.89189,     0.89289,     0.89389,     0.89489,      0.8959,      0.8969,      0.8979,      0.8989,      0.8999,      0.9009,      0.9019,      0.9029,      0.9039,      0.9049,     0.90591,     0.90691,     0.90791,     0.90891,     0.90991,     0.91091,     0.91191,\n",
              "           0.91291,     0.91391,     0.91491,     0.91592,     0.91692,     0.91792,     0.91892,     0.91992,     0.92092,     0.92192,     0.92292,     0.92392,     0.92492,     0.92593,     0.92693,     0.92793,     0.92893,     0.92993,     0.93093,     0.93193,     0.93293,     0.93393,     0.93493,     0.93594,\n",
              "           0.93694,     0.93794,     0.93894,     0.93994,     0.94094,     0.94194,     0.94294,     0.94394,     0.94494,     0.94595,     0.94695,     0.94795,     0.94895,     0.94995,     0.95095,     0.95195,     0.95295,     0.95395,     0.95495,     0.95596,     0.95696,     0.95796,     0.95896,     0.95996,\n",
              "           0.96096,     0.96196,     0.96296,     0.96396,     0.96496,     0.96597,     0.96697,     0.96797,     0.96897,     0.96997,     0.97097,     0.97197,     0.97297,     0.97397,     0.97497,     0.97598,     0.97698,     0.97798,     0.97898,     0.97998,     0.98098,     0.98198,     0.98298,     0.98398,\n",
              "           0.98498,     0.98599,     0.98699,     0.98799,     0.98899,     0.98999,     0.99099,     0.99199,     0.99299,     0.99399,     0.99499,       0.996,       0.997,       0.998,       0.999,           1]), array([[          1,           1,           1, ...,           0,           0,           0],\n",
              "       [          1,           1,           1, ...,           0,           0,           0],\n",
              "       [          1,           1,           1, ...,           0,           0,           0]]), 'Confidence', 'Recall']]\n",
              "fitness: 0.8481281649770472\n",
              "keys: ['metrics/precision(B)', 'metrics/recall(B)', 'metrics/mAP50(B)', 'metrics/mAP50-95(B)']\n",
              "maps: array([    0.85182,     0.75477,     0.89859])\n",
              "names: {0: 'speed limit 30 km/h', 1: 'speed limit 60 km/h', 2: 'speed limit 90 km/h'}\n",
              "plot: True\n",
              "results_dict: {'metrics/precision(B)': 0.8917219668362567, 'metrics/recall(B)': 0.9167927964224262, 'metrics/mAP50(B)': 0.9657407407407407, 'metrics/mAP50-95(B)': 0.8350601010033035, 'fitness': 0.8481281649770472}\n",
              "save_dir: PosixPath('runs/detect/train3')\n",
              "speed: {'preprocess': 0.14458100001017252, 'inference': 4.872030682033962, 'loss': 0.0007020102606879341, 'postprocess': 0.9853310055202907}\n",
              "task: 'detect'"
            ]
          },
          "metadata": {},
          "execution_count": 15
        }
      ]
    },
    {
      "cell_type": "code",
      "source": [
        "# infer = YOLO(\"/content/runs/detect/train/weights/best.pt\")"
      ],
      "metadata": {
        "id": "PlBMShJ_OHgQ"
      },
      "execution_count": null,
      "outputs": []
    },
    {
      "cell_type": "code",
      "source": [
        "# infer.predict(\"/content/Screenshot 2024-03-02 080219.png\",save = True)"
      ],
      "metadata": {
        "id": "QvOvANn_RkH7"
      },
      "execution_count": null,
      "outputs": []
    },
    {
      "cell_type": "code",
      "source": [
        "import locale\n",
        "print(locale.getpreferredencoding())\n",
        "\n",
        "import locale\n",
        "def getpreferredencoding(do_setlocale = True):\n",
        " return \"UTF-8\"\n",
        "locale.getpreferredencoding = getpreferredencoding"
      ],
      "metadata": {
        "id": "BypiXU79BQ8Y",
        "colab": {
          "base_uri": "https://localhost:8080/"
        },
        "outputId": "31fcb511-2110-46d6-be6a-3f168127bfa5"
      },
      "execution_count": null,
      "outputs": [
        {
          "output_type": "stream",
          "name": "stdout",
          "text": [
            "UTF-8\n"
          ]
        }
      ]
    },
    {
      "cell_type": "code",
      "source": [
        "!yolo detect predict model = \"/content/drive/MyDrive/FYP/80_epochs/runs/detect/train/weights/best.pt\" source = \"/content/drive/MyDrive/FYP/80_epochs/cut.mp4\""
      ],
      "metadata": {
        "id": "OYOlOIxSSVKe",
        "colab": {
          "base_uri": "https://localhost:8080/"
        },
        "outputId": "1d020d6c-2c24-4872-f10a-775b4da3c79f"
      },
      "execution_count": null,
      "outputs": [
        {
          "output_type": "stream",
          "name": "stdout",
          "text": [
            "Ultralytics YOLOv8.1.47 🚀 Python-3.10.12 torch-2.2.1+cu121 CUDA:0 (Tesla T4, 15102MiB)\n",
            "Model summary (fused): 218 layers, 25841497 parameters, 0 gradients, 78.7 GFLOPs\n",
            "\n",
            "video 1/1 (frame 1/2100) /content/drive/MyDrive/FYP/80_epochs/cut.mp4: 384x640 (no detections), 198.5ms\n",
            "video 1/1 (frame 2/2100) /content/drive/MyDrive/FYP/80_epochs/cut.mp4: 384x640 (no detections), 25.7ms\n",
            "video 1/1 (frame 3/2100) /content/drive/MyDrive/FYP/80_epochs/cut.mp4: 384x640 (no detections), 25.1ms\n",
            "video 1/1 (frame 4/2100) /content/drive/MyDrive/FYP/80_epochs/cut.mp4: 384x640 (no detections), 25.1ms\n",
            "video 1/1 (frame 5/2100) /content/drive/MyDrive/FYP/80_epochs/cut.mp4: 384x640 (no detections), 25.2ms\n",
            "video 1/1 (frame 6/2100) /content/drive/MyDrive/FYP/80_epochs/cut.mp4: 384x640 (no detections), 25.1ms\n",
            "video 1/1 (frame 7/2100) /content/drive/MyDrive/FYP/80_epochs/cut.mp4: 384x640 (no detections), 25.1ms\n",
            "video 1/1 (frame 8/2100) /content/drive/MyDrive/FYP/80_epochs/cut.mp4: 384x640 (no detections), 24.2ms\n",
            "video 1/1 (frame 9/2100) /content/drive/MyDrive/FYP/80_epochs/cut.mp4: 384x640 (no detections), 24.0ms\n",
            "video 1/1 (frame 10/2100) /content/drive/MyDrive/FYP/80_epochs/cut.mp4: 384x640 (no detections), 24.0ms\n",
            "video 1/1 (frame 11/2100) /content/drive/MyDrive/FYP/80_epochs/cut.mp4: 384x640 (no detections), 24.0ms\n",
            "video 1/1 (frame 12/2100) /content/drive/MyDrive/FYP/80_epochs/cut.mp4: 384x640 (no detections), 20.6ms\n",
            "video 1/1 (frame 13/2100) /content/drive/MyDrive/FYP/80_epochs/cut.mp4: 384x640 (no detections), 20.7ms\n",
            "video 1/1 (frame 14/2100) /content/drive/MyDrive/FYP/80_epochs/cut.mp4: 384x640 (no detections), 20.6ms\n",
            "video 1/1 (frame 15/2100) /content/drive/MyDrive/FYP/80_epochs/cut.mp4: 384x640 (no detections), 22.9ms\n",
            "video 1/1 (frame 16/2100) /content/drive/MyDrive/FYP/80_epochs/cut.mp4: 384x640 (no detections), 20.0ms\n",
            "video 1/1 (frame 17/2100) /content/drive/MyDrive/FYP/80_epochs/cut.mp4: 384x640 (no detections), 20.1ms\n",
            "video 1/1 (frame 18/2100) /content/drive/MyDrive/FYP/80_epochs/cut.mp4: 384x640 (no detections), 20.0ms\n",
            "video 1/1 (frame 19/2100) /content/drive/MyDrive/FYP/80_epochs/cut.mp4: 384x640 (no detections), 20.0ms\n",
            "video 1/1 (frame 20/2100) /content/drive/MyDrive/FYP/80_epochs/cut.mp4: 384x640 (no detections), 20.0ms\n",
            "video 1/1 (frame 21/2100) /content/drive/MyDrive/FYP/80_epochs/cut.mp4: 384x640 (no detections), 20.0ms\n",
            "video 1/1 (frame 22/2100) /content/drive/MyDrive/FYP/80_epochs/cut.mp4: 384x640 (no detections), 20.2ms\n",
            "video 1/1 (frame 23/2100) /content/drive/MyDrive/FYP/80_epochs/cut.mp4: 384x640 (no detections), 20.1ms\n",
            "video 1/1 (frame 24/2100) /content/drive/MyDrive/FYP/80_epochs/cut.mp4: 384x640 (no detections), 20.0ms\n",
            "video 1/1 (frame 25/2100) /content/drive/MyDrive/FYP/80_epochs/cut.mp4: 384x640 (no detections), 19.9ms\n",
            "video 1/1 (frame 26/2100) /content/drive/MyDrive/FYP/80_epochs/cut.mp4: 384x640 (no detections), 20.0ms\n",
            "video 1/1 (frame 27/2100) /content/drive/MyDrive/FYP/80_epochs/cut.mp4: 384x640 (no detections), 19.9ms\n",
            "video 1/1 (frame 28/2100) /content/drive/MyDrive/FYP/80_epochs/cut.mp4: 384x640 (no detections), 20.0ms\n",
            "video 1/1 (frame 29/2100) /content/drive/MyDrive/FYP/80_epochs/cut.mp4: 384x640 (no detections), 19.9ms\n",
            "video 1/1 (frame 30/2100) /content/drive/MyDrive/FYP/80_epochs/cut.mp4: 384x640 (no detections), 19.9ms\n",
            "video 1/1 (frame 31/2100) /content/drive/MyDrive/FYP/80_epochs/cut.mp4: 384x640 (no detections), 19.9ms\n",
            "video 1/1 (frame 32/2100) /content/drive/MyDrive/FYP/80_epochs/cut.mp4: 384x640 (no detections), 19.9ms\n",
            "video 1/1 (frame 33/2100) /content/drive/MyDrive/FYP/80_epochs/cut.mp4: 384x640 (no detections), 19.9ms\n",
            "video 1/1 (frame 34/2100) /content/drive/MyDrive/FYP/80_epochs/cut.mp4: 384x640 (no detections), 20.0ms\n",
            "video 1/1 (frame 35/2100) /content/drive/MyDrive/FYP/80_epochs/cut.mp4: 384x640 (no detections), 19.9ms\n",
            "video 1/1 (frame 36/2100) /content/drive/MyDrive/FYP/80_epochs/cut.mp4: 384x640 (no detections), 19.9ms\n",
            "video 1/1 (frame 37/2100) /content/drive/MyDrive/FYP/80_epochs/cut.mp4: 384x640 (no detections), 19.9ms\n",
            "video 1/1 (frame 38/2100) /content/drive/MyDrive/FYP/80_epochs/cut.mp4: 384x640 (no detections), 19.9ms\n",
            "video 1/1 (frame 39/2100) /content/drive/MyDrive/FYP/80_epochs/cut.mp4: 384x640 (no detections), 19.9ms\n",
            "video 1/1 (frame 40/2100) /content/drive/MyDrive/FYP/80_epochs/cut.mp4: 384x640 (no detections), 19.9ms\n",
            "video 1/1 (frame 41/2100) /content/drive/MyDrive/FYP/80_epochs/cut.mp4: 384x640 (no detections), 20.0ms\n",
            "video 1/1 (frame 42/2100) /content/drive/MyDrive/FYP/80_epochs/cut.mp4: 384x640 (no detections), 19.9ms\n",
            "video 1/1 (frame 43/2100) /content/drive/MyDrive/FYP/80_epochs/cut.mp4: 384x640 (no detections), 19.9ms\n",
            "video 1/1 (frame 44/2100) /content/drive/MyDrive/FYP/80_epochs/cut.mp4: 384x640 (no detections), 19.9ms\n",
            "video 1/1 (frame 45/2100) /content/drive/MyDrive/FYP/80_epochs/cut.mp4: 384x640 (no detections), 19.9ms\n",
            "video 1/1 (frame 46/2100) /content/drive/MyDrive/FYP/80_epochs/cut.mp4: 384x640 (no detections), 20.0ms\n",
            "video 1/1 (frame 47/2100) /content/drive/MyDrive/FYP/80_epochs/cut.mp4: 384x640 (no detections), 19.9ms\n",
            "video 1/1 (frame 48/2100) /content/drive/MyDrive/FYP/80_epochs/cut.mp4: 384x640 (no detections), 19.3ms\n",
            "video 1/1 (frame 49/2100) /content/drive/MyDrive/FYP/80_epochs/cut.mp4: 384x640 (no detections), 18.8ms\n",
            "video 1/1 (frame 50/2100) /content/drive/MyDrive/FYP/80_epochs/cut.mp4: 384x640 (no detections), 18.8ms\n",
            "video 1/1 (frame 51/2100) /content/drive/MyDrive/FYP/80_epochs/cut.mp4: 384x640 (no detections), 18.7ms\n",
            "video 1/1 (frame 52/2100) /content/drive/MyDrive/FYP/80_epochs/cut.mp4: 384x640 (no detections), 18.7ms\n",
            "video 1/1 (frame 53/2100) /content/drive/MyDrive/FYP/80_epochs/cut.mp4: 384x640 (no detections), 18.7ms\n",
            "video 1/1 (frame 54/2100) /content/drive/MyDrive/FYP/80_epochs/cut.mp4: 384x640 (no detections), 18.7ms\n",
            "video 1/1 (frame 55/2100) /content/drive/MyDrive/FYP/80_epochs/cut.mp4: 384x640 (no detections), 18.8ms\n",
            "video 1/1 (frame 56/2100) /content/drive/MyDrive/FYP/80_epochs/cut.mp4: 384x640 (no detections), 18.8ms\n",
            "video 1/1 (frame 57/2100) /content/drive/MyDrive/FYP/80_epochs/cut.mp4: 384x640 (no detections), 18.4ms\n",
            "video 1/1 (frame 58/2100) /content/drive/MyDrive/FYP/80_epochs/cut.mp4: 384x640 (no detections), 18.5ms\n",
            "video 1/1 (frame 59/2100) /content/drive/MyDrive/FYP/80_epochs/cut.mp4: 384x640 (no detections), 18.5ms\n",
            "video 1/1 (frame 60/2100) /content/drive/MyDrive/FYP/80_epochs/cut.mp4: 384x640 (no detections), 18.5ms\n",
            "video 1/1 (frame 61/2100) /content/drive/MyDrive/FYP/80_epochs/cut.mp4: 384x640 (no detections), 18.7ms\n",
            "video 1/1 (frame 62/2100) /content/drive/MyDrive/FYP/80_epochs/cut.mp4: 384x640 (no detections), 18.5ms\n",
            "video 1/1 (frame 63/2100) /content/drive/MyDrive/FYP/80_epochs/cut.mp4: 384x640 (no detections), 18.5ms\n",
            "video 1/1 (frame 64/2100) /content/drive/MyDrive/FYP/80_epochs/cut.mp4: 384x640 (no detections), 18.5ms\n",
            "video 1/1 (frame 65/2100) /content/drive/MyDrive/FYP/80_epochs/cut.mp4: 384x640 (no detections), 18.4ms\n",
            "video 1/1 (frame 66/2100) /content/drive/MyDrive/FYP/80_epochs/cut.mp4: 384x640 (no detections), 17.0ms\n",
            "video 1/1 (frame 67/2100) /content/drive/MyDrive/FYP/80_epochs/cut.mp4: 384x640 (no detections), 17.0ms\n",
            "video 1/1 (frame 68/2100) /content/drive/MyDrive/FYP/80_epochs/cut.mp4: 384x640 (no detections), 17.0ms\n",
            "video 1/1 (frame 69/2100) /content/drive/MyDrive/FYP/80_epochs/cut.mp4: 384x640 (no detections), 17.0ms\n",
            "video 1/1 (frame 70/2100) /content/drive/MyDrive/FYP/80_epochs/cut.mp4: 384x640 (no detections), 17.0ms\n",
            "video 1/1 (frame 71/2100) /content/drive/MyDrive/FYP/80_epochs/cut.mp4: 384x640 (no detections), 17.0ms\n",
            "video 1/1 (frame 72/2100) /content/drive/MyDrive/FYP/80_epochs/cut.mp4: 384x640 (no detections), 17.0ms\n",
            "video 1/1 (frame 73/2100) /content/drive/MyDrive/FYP/80_epochs/cut.mp4: 384x640 (no detections), 17.0ms\n",
            "video 1/1 (frame 74/2100) /content/drive/MyDrive/FYP/80_epochs/cut.mp4: 384x640 (no detections), 17.0ms\n",
            "video 1/1 (frame 75/2100) /content/drive/MyDrive/FYP/80_epochs/cut.mp4: 384x640 (no detections), 16.8ms\n",
            "video 1/1 (frame 76/2100) /content/drive/MyDrive/FYP/80_epochs/cut.mp4: 384x640 (no detections), 16.7ms\n",
            "video 1/1 (frame 77/2100) /content/drive/MyDrive/FYP/80_epochs/cut.mp4: 384x640 (no detections), 16.8ms\n",
            "video 1/1 (frame 78/2100) /content/drive/MyDrive/FYP/80_epochs/cut.mp4: 384x640 (no detections), 16.8ms\n",
            "video 1/1 (frame 79/2100) /content/drive/MyDrive/FYP/80_epochs/cut.mp4: 384x640 (no detections), 16.8ms\n",
            "video 1/1 (frame 80/2100) /content/drive/MyDrive/FYP/80_epochs/cut.mp4: 384x640 (no detections), 16.8ms\n",
            "video 1/1 (frame 81/2100) /content/drive/MyDrive/FYP/80_epochs/cut.mp4: 384x640 (no detections), 16.8ms\n",
            "video 1/1 (frame 82/2100) /content/drive/MyDrive/FYP/80_epochs/cut.mp4: 384x640 (no detections), 16.8ms\n",
            "video 1/1 (frame 83/2100) /content/drive/MyDrive/FYP/80_epochs/cut.mp4: 384x640 (no detections), 16.8ms\n",
            "video 1/1 (frame 84/2100) /content/drive/MyDrive/FYP/80_epochs/cut.mp4: 384x640 (no detections), 16.8ms\n",
            "video 1/1 (frame 85/2100) /content/drive/MyDrive/FYP/80_epochs/cut.mp4: 384x640 (no detections), 16.8ms\n",
            "video 1/1 (frame 86/2100) /content/drive/MyDrive/FYP/80_epochs/cut.mp4: 384x640 (no detections), 16.8ms\n",
            "video 1/1 (frame 87/2100) /content/drive/MyDrive/FYP/80_epochs/cut.mp4: 384x640 (no detections), 16.8ms\n",
            "video 1/1 (frame 88/2100) /content/drive/MyDrive/FYP/80_epochs/cut.mp4: 384x640 (no detections), 16.8ms\n",
            "video 1/1 (frame 89/2100) /content/drive/MyDrive/FYP/80_epochs/cut.mp4: 384x640 (no detections), 16.8ms\n",
            "video 1/1 (frame 90/2100) /content/drive/MyDrive/FYP/80_epochs/cut.mp4: 384x640 (no detections), 16.8ms\n",
            "video 1/1 (frame 91/2100) /content/drive/MyDrive/FYP/80_epochs/cut.mp4: 384x640 (no detections), 16.8ms\n",
            "video 1/1 (frame 92/2100) /content/drive/MyDrive/FYP/80_epochs/cut.mp4: 384x640 (no detections), 16.8ms\n",
            "video 1/1 (frame 93/2100) /content/drive/MyDrive/FYP/80_epochs/cut.mp4: 384x640 (no detections), 16.9ms\n",
            "video 1/1 (frame 94/2100) /content/drive/MyDrive/FYP/80_epochs/cut.mp4: 384x640 (no detections), 16.8ms\n",
            "video 1/1 (frame 95/2100) /content/drive/MyDrive/FYP/80_epochs/cut.mp4: 384x640 (no detections), 16.8ms\n",
            "video 1/1 (frame 96/2100) /content/drive/MyDrive/FYP/80_epochs/cut.mp4: 384x640 (no detections), 16.8ms\n",
            "video 1/1 (frame 97/2100) /content/drive/MyDrive/FYP/80_epochs/cut.mp4: 384x640 (no detections), 16.5ms\n",
            "video 1/1 (frame 98/2100) /content/drive/MyDrive/FYP/80_epochs/cut.mp4: 384x640 (no detections), 16.6ms\n",
            "video 1/1 (frame 99/2100) /content/drive/MyDrive/FYP/80_epochs/cut.mp4: 384x640 (no detections), 16.6ms\n",
            "video 1/1 (frame 100/2100) /content/drive/MyDrive/FYP/80_epochs/cut.mp4: 384x640 (no detections), 16.5ms\n",
            "video 1/1 (frame 101/2100) /content/drive/MyDrive/FYP/80_epochs/cut.mp4: 384x640 (no detections), 16.5ms\n",
            "video 1/1 (frame 102/2100) /content/drive/MyDrive/FYP/80_epochs/cut.mp4: 384x640 (no detections), 16.5ms\n",
            "video 1/1 (frame 103/2100) /content/drive/MyDrive/FYP/80_epochs/cut.mp4: 384x640 (no detections), 16.5ms\n",
            "video 1/1 (frame 104/2100) /content/drive/MyDrive/FYP/80_epochs/cut.mp4: 384x640 (no detections), 16.6ms\n",
            "video 1/1 (frame 105/2100) /content/drive/MyDrive/FYP/80_epochs/cut.mp4: 384x640 (no detections), 16.5ms\n",
            "video 1/1 (frame 106/2100) /content/drive/MyDrive/FYP/80_epochs/cut.mp4: 384x640 (no detections), 16.4ms\n",
            "video 1/1 (frame 107/2100) /content/drive/MyDrive/FYP/80_epochs/cut.mp4: 384x640 (no detections), 16.4ms\n",
            "video 1/1 (frame 108/2100) /content/drive/MyDrive/FYP/80_epochs/cut.mp4: 384x640 (no detections), 16.3ms\n",
            "video 1/1 (frame 109/2100) /content/drive/MyDrive/FYP/80_epochs/cut.mp4: 384x640 (no detections), 16.4ms\n",
            "video 1/1 (frame 110/2100) /content/drive/MyDrive/FYP/80_epochs/cut.mp4: 384x640 (no detections), 16.4ms\n",
            "video 1/1 (frame 111/2100) /content/drive/MyDrive/FYP/80_epochs/cut.mp4: 384x640 (no detections), 16.4ms\n",
            "video 1/1 (frame 112/2100) /content/drive/MyDrive/FYP/80_epochs/cut.mp4: 384x640 (no detections), 16.4ms\n",
            "video 1/1 (frame 113/2100) /content/drive/MyDrive/FYP/80_epochs/cut.mp4: 384x640 (no detections), 16.4ms\n",
            "video 1/1 (frame 114/2100) /content/drive/MyDrive/FYP/80_epochs/cut.mp4: 384x640 (no detections), 16.4ms\n",
            "video 1/1 (frame 115/2100) /content/drive/MyDrive/FYP/80_epochs/cut.mp4: 384x640 (no detections), 16.4ms\n",
            "video 1/1 (frame 116/2100) /content/drive/MyDrive/FYP/80_epochs/cut.mp4: 384x640 (no detections), 16.4ms\n",
            "video 1/1 (frame 117/2100) /content/drive/MyDrive/FYP/80_epochs/cut.mp4: 384x640 (no detections), 16.4ms\n",
            "video 1/1 (frame 118/2100) /content/drive/MyDrive/FYP/80_epochs/cut.mp4: 384x640 (no detections), 16.4ms\n",
            "video 1/1 (frame 119/2100) /content/drive/MyDrive/FYP/80_epochs/cut.mp4: 384x640 1 speed limit 30 km/h, 1 speed limit 90 km/h, 16.3ms\n",
            "video 1/1 (frame 120/2100) /content/drive/MyDrive/FYP/80_epochs/cut.mp4: 384x640 1 speed limit 30 km/h, 1 speed limit 90 km/h, 16.5ms\n",
            "video 1/1 (frame 121/2100) /content/drive/MyDrive/FYP/80_epochs/cut.mp4: 384x640 1 speed limit 30 km/h, 1 speed limit 90 km/h, 16.4ms\n",
            "video 1/1 (frame 122/2100) /content/drive/MyDrive/FYP/80_epochs/cut.mp4: 384x640 1 speed limit 30 km/h, 1 speed limit 90 km/h, 16.4ms\n",
            "video 1/1 (frame 123/2100) /content/drive/MyDrive/FYP/80_epochs/cut.mp4: 384x640 1 speed limit 30 km/h, 1 speed limit 90 km/h, 16.4ms\n",
            "video 1/1 (frame 124/2100) /content/drive/MyDrive/FYP/80_epochs/cut.mp4: 384x640 1 speed limit 30 km/h, 1 speed limit 90 km/h, 16.4ms\n",
            "video 1/1 (frame 125/2100) /content/drive/MyDrive/FYP/80_epochs/cut.mp4: 384x640 1 speed limit 30 km/h, 1 speed limit 90 km/h, 16.4ms\n",
            "video 1/1 (frame 126/2100) /content/drive/MyDrive/FYP/80_epochs/cut.mp4: 384x640 1 speed limit 30 km/h, 1 speed limit 90 km/h, 16.4ms\n",
            "video 1/1 (frame 127/2100) /content/drive/MyDrive/FYP/80_epochs/cut.mp4: 384x640 1 speed limit 30 km/h, 1 speed limit 90 km/h, 16.4ms\n",
            "video 1/1 (frame 128/2100) /content/drive/MyDrive/FYP/80_epochs/cut.mp4: 384x640 1 speed limit 30 km/h, 1 speed limit 90 km/h, 16.4ms\n",
            "video 1/1 (frame 129/2100) /content/drive/MyDrive/FYP/80_epochs/cut.mp4: 384x640 1 speed limit 30 km/h, 1 speed limit 90 km/h, 16.4ms\n",
            "video 1/1 (frame 130/2100) /content/drive/MyDrive/FYP/80_epochs/cut.mp4: 384x640 1 speed limit 30 km/h, 1 speed limit 90 km/h, 16.4ms\n",
            "video 1/1 (frame 131/2100) /content/drive/MyDrive/FYP/80_epochs/cut.mp4: 384x640 1 speed limit 30 km/h, 1 speed limit 90 km/h, 16.4ms\n",
            "video 1/1 (frame 132/2100) /content/drive/MyDrive/FYP/80_epochs/cut.mp4: 384x640 1 speed limit 30 km/h, 1 speed limit 90 km/h, 16.4ms\n",
            "video 1/1 (frame 133/2100) /content/drive/MyDrive/FYP/80_epochs/cut.mp4: 384x640 1 speed limit 30 km/h, 1 speed limit 90 km/h, 16.7ms\n",
            "video 1/1 (frame 134/2100) /content/drive/MyDrive/FYP/80_epochs/cut.mp4: 384x640 1 speed limit 30 km/h, 1 speed limit 90 km/h, 16.7ms\n",
            "video 1/1 (frame 135/2100) /content/drive/MyDrive/FYP/80_epochs/cut.mp4: 384x640 1 speed limit 30 km/h, 1 speed limit 90 km/h, 16.8ms\n",
            "video 1/1 (frame 136/2100) /content/drive/MyDrive/FYP/80_epochs/cut.mp4: 384x640 1 speed limit 30 km/h, 1 speed limit 90 km/h, 16.8ms\n",
            "video 1/1 (frame 137/2100) /content/drive/MyDrive/FYP/80_epochs/cut.mp4: 384x640 1 speed limit 90 km/h, 16.7ms\n",
            "video 1/1 (frame 138/2100) /content/drive/MyDrive/FYP/80_epochs/cut.mp4: 384x640 1 speed limit 90 km/h, 16.7ms\n",
            "video 1/1 (frame 139/2100) /content/drive/MyDrive/FYP/80_epochs/cut.mp4: 384x640 1 speed limit 90 km/h, 16.8ms\n",
            "video 1/1 (frame 140/2100) /content/drive/MyDrive/FYP/80_epochs/cut.mp4: 384x640 1 speed limit 90 km/h, 17.5ms\n",
            "video 1/1 (frame 141/2100) /content/drive/MyDrive/FYP/80_epochs/cut.mp4: 384x640 1 speed limit 90 km/h, 16.9ms\n",
            "video 1/1 (frame 142/2100) /content/drive/MyDrive/FYP/80_epochs/cut.mp4: 384x640 1 speed limit 90 km/h, 17.0ms\n",
            "video 1/1 (frame 143/2100) /content/drive/MyDrive/FYP/80_epochs/cut.mp4: 384x640 1 speed limit 90 km/h, 17.0ms\n",
            "video 1/1 (frame 144/2100) /content/drive/MyDrive/FYP/80_epochs/cut.mp4: 384x640 1 speed limit 90 km/h, 17.0ms\n",
            "video 1/1 (frame 145/2100) /content/drive/MyDrive/FYP/80_epochs/cut.mp4: 384x640 1 speed limit 90 km/h, 17.2ms\n",
            "video 1/1 (frame 146/2100) /content/drive/MyDrive/FYP/80_epochs/cut.mp4: 384x640 1 speed limit 90 km/h, 17.2ms\n",
            "video 1/1 (frame 147/2100) /content/drive/MyDrive/FYP/80_epochs/cut.mp4: 384x640 1 speed limit 90 km/h, 17.2ms\n",
            "video 1/1 (frame 148/2100) /content/drive/MyDrive/FYP/80_epochs/cut.mp4: 384x640 1 speed limit 90 km/h, 17.2ms\n",
            "video 1/1 (frame 149/2100) /content/drive/MyDrive/FYP/80_epochs/cut.mp4: 384x640 1 speed limit 90 km/h, 17.5ms\n",
            "video 1/1 (frame 150/2100) /content/drive/MyDrive/FYP/80_epochs/cut.mp4: 384x640 1 speed limit 90 km/h, 17.5ms\n",
            "video 1/1 (frame 151/2100) /content/drive/MyDrive/FYP/80_epochs/cut.mp4: 384x640 1 speed limit 90 km/h, 17.4ms\n",
            "video 1/1 (frame 152/2100) /content/drive/MyDrive/FYP/80_epochs/cut.mp4: 384x640 1 speed limit 90 km/h, 17.5ms\n",
            "video 1/1 (frame 153/2100) /content/drive/MyDrive/FYP/80_epochs/cut.mp4: 384x640 1 speed limit 90 km/h, 17.5ms\n",
            "video 1/1 (frame 154/2100) /content/drive/MyDrive/FYP/80_epochs/cut.mp4: 384x640 (no detections), 17.5ms\n",
            "video 1/1 (frame 155/2100) /content/drive/MyDrive/FYP/80_epochs/cut.mp4: 384x640 (no detections), 17.5ms\n",
            "video 1/1 (frame 156/2100) /content/drive/MyDrive/FYP/80_epochs/cut.mp4: 384x640 (no detections), 17.8ms\n",
            "video 1/1 (frame 157/2100) /content/drive/MyDrive/FYP/80_epochs/cut.mp4: 384x640 (no detections), 17.7ms\n",
            "video 1/1 (frame 158/2100) /content/drive/MyDrive/FYP/80_epochs/cut.mp4: 384x640 (no detections), 17.8ms\n",
            "video 1/1 (frame 159/2100) /content/drive/MyDrive/FYP/80_epochs/cut.mp4: 384x640 (no detections), 17.7ms\n",
            "video 1/1 (frame 160/2100) /content/drive/MyDrive/FYP/80_epochs/cut.mp4: 384x640 (no detections), 17.8ms\n",
            "video 1/1 (frame 161/2100) /content/drive/MyDrive/FYP/80_epochs/cut.mp4: 384x640 (no detections), 17.7ms\n",
            "video 1/1 (frame 162/2100) /content/drive/MyDrive/FYP/80_epochs/cut.mp4: 384x640 (no detections), 17.7ms\n",
            "video 1/1 (frame 163/2100) /content/drive/MyDrive/FYP/80_epochs/cut.mp4: 384x640 (no detections), 17.7ms\n",
            "video 1/1 (frame 164/2100) /content/drive/MyDrive/FYP/80_epochs/cut.mp4: 384x640 (no detections), 17.7ms\n",
            "video 1/1 (frame 165/2100) /content/drive/MyDrive/FYP/80_epochs/cut.mp4: 384x640 (no detections), 17.7ms\n",
            "video 1/1 (frame 166/2100) /content/drive/MyDrive/FYP/80_epochs/cut.mp4: 384x640 (no detections), 17.2ms\n",
            "video 1/1 (frame 167/2100) /content/drive/MyDrive/FYP/80_epochs/cut.mp4: 384x640 (no detections), 17.2ms\n",
            "video 1/1 (frame 168/2100) /content/drive/MyDrive/FYP/80_epochs/cut.mp4: 384x640 (no detections), 17.2ms\n",
            "video 1/1 (frame 169/2100) /content/drive/MyDrive/FYP/80_epochs/cut.mp4: 384x640 (no detections), 17.2ms\n",
            "video 1/1 (frame 170/2100) /content/drive/MyDrive/FYP/80_epochs/cut.mp4: 384x640 (no detections), 17.2ms\n",
            "video 1/1 (frame 171/2100) /content/drive/MyDrive/FYP/80_epochs/cut.mp4: 384x640 (no detections), 17.2ms\n",
            "video 1/1 (frame 172/2100) /content/drive/MyDrive/FYP/80_epochs/cut.mp4: 384x640 (no detections), 17.2ms\n",
            "video 1/1 (frame 173/2100) /content/drive/MyDrive/FYP/80_epochs/cut.mp4: 384x640 (no detections), 17.2ms\n",
            "video 1/1 (frame 174/2100) /content/drive/MyDrive/FYP/80_epochs/cut.mp4: 384x640 (no detections), 17.6ms\n",
            "video 1/1 (frame 175/2100) /content/drive/MyDrive/FYP/80_epochs/cut.mp4: 384x640 (no detections), 17.2ms\n",
            "video 1/1 (frame 176/2100) /content/drive/MyDrive/FYP/80_epochs/cut.mp4: 384x640 (no detections), 17.2ms\n",
            "video 1/1 (frame 177/2100) /content/drive/MyDrive/FYP/80_epochs/cut.mp4: 384x640 (no detections), 17.2ms\n",
            "video 1/1 (frame 178/2100) /content/drive/MyDrive/FYP/80_epochs/cut.mp4: 384x640 (no detections), 17.2ms\n",
            "video 1/1 (frame 179/2100) /content/drive/MyDrive/FYP/80_epochs/cut.mp4: 384x640 (no detections), 17.2ms\n",
            "video 1/1 (frame 180/2100) /content/drive/MyDrive/FYP/80_epochs/cut.mp4: 384x640 (no detections), 17.2ms\n",
            "video 1/1 (frame 181/2100) /content/drive/MyDrive/FYP/80_epochs/cut.mp4: 384x640 (no detections), 17.2ms\n",
            "video 1/1 (frame 182/2100) /content/drive/MyDrive/FYP/80_epochs/cut.mp4: 384x640 (no detections), 17.2ms\n",
            "video 1/1 (frame 183/2100) /content/drive/MyDrive/FYP/80_epochs/cut.mp4: 384x640 (no detections), 17.2ms\n",
            "video 1/1 (frame 184/2100) /content/drive/MyDrive/FYP/80_epochs/cut.mp4: 384x640 (no detections), 17.2ms\n",
            "video 1/1 (frame 185/2100) /content/drive/MyDrive/FYP/80_epochs/cut.mp4: 384x640 (no detections), 17.3ms\n",
            "video 1/1 (frame 186/2100) /content/drive/MyDrive/FYP/80_epochs/cut.mp4: 384x640 (no detections), 17.2ms\n",
            "video 1/1 (frame 187/2100) /content/drive/MyDrive/FYP/80_epochs/cut.mp4: 384x640 (no detections), 17.3ms\n",
            "video 1/1 (frame 188/2100) /content/drive/MyDrive/FYP/80_epochs/cut.mp4: 384x640 (no detections), 17.2ms\n",
            "video 1/1 (frame 189/2100) /content/drive/MyDrive/FYP/80_epochs/cut.mp4: 384x640 (no detections), 17.3ms\n",
            "video 1/1 (frame 190/2100) /content/drive/MyDrive/FYP/80_epochs/cut.mp4: 384x640 (no detections), 17.2ms\n",
            "video 1/1 (frame 191/2100) /content/drive/MyDrive/FYP/80_epochs/cut.mp4: 384x640 (no detections), 17.2ms\n",
            "video 1/1 (frame 192/2100) /content/drive/MyDrive/FYP/80_epochs/cut.mp4: 384x640 (no detections), 17.0ms\n",
            "video 1/1 (frame 193/2100) /content/drive/MyDrive/FYP/80_epochs/cut.mp4: 384x640 (no detections), 16.9ms\n",
            "video 1/1 (frame 194/2100) /content/drive/MyDrive/FYP/80_epochs/cut.mp4: 384x640 (no detections), 17.0ms\n",
            "video 1/1 (frame 195/2100) /content/drive/MyDrive/FYP/80_epochs/cut.mp4: 384x640 (no detections), 17.0ms\n",
            "video 1/1 (frame 196/2100) /content/drive/MyDrive/FYP/80_epochs/cut.mp4: 384x640 (no detections), 17.0ms\n",
            "video 1/1 (frame 197/2100) /content/drive/MyDrive/FYP/80_epochs/cut.mp4: 384x640 (no detections), 17.2ms\n",
            "video 1/1 (frame 198/2100) /content/drive/MyDrive/FYP/80_epochs/cut.mp4: 384x640 (no detections), 17.2ms\n",
            "video 1/1 (frame 199/2100) /content/drive/MyDrive/FYP/80_epochs/cut.mp4: 384x640 (no detections), 24.4ms\n",
            "video 1/1 (frame 200/2100) /content/drive/MyDrive/FYP/80_epochs/cut.mp4: 384x640 (no detections), 17.1ms\n",
            "video 1/1 (frame 201/2100) /content/drive/MyDrive/FYP/80_epochs/cut.mp4: 384x640 (no detections), 18.9ms\n",
            "video 1/1 (frame 202/2100) /content/drive/MyDrive/FYP/80_epochs/cut.mp4: 384x640 (no detections), 22.6ms\n",
            "video 1/1 (frame 203/2100) /content/drive/MyDrive/FYP/80_epochs/cut.mp4: 384x640 (no detections), 17.1ms\n",
            "video 1/1 (frame 204/2100) /content/drive/MyDrive/FYP/80_epochs/cut.mp4: 384x640 (no detections), 17.0ms\n",
            "video 1/1 (frame 205/2100) /content/drive/MyDrive/FYP/80_epochs/cut.mp4: 384x640 (no detections), 17.0ms\n",
            "video 1/1 (frame 206/2100) /content/drive/MyDrive/FYP/80_epochs/cut.mp4: 384x640 (no detections), 17.0ms\n",
            "video 1/1 (frame 207/2100) /content/drive/MyDrive/FYP/80_epochs/cut.mp4: 384x640 (no detections), 17.0ms\n",
            "video 1/1 (frame 208/2100) /content/drive/MyDrive/FYP/80_epochs/cut.mp4: 384x640 (no detections), 17.0ms\n",
            "video 1/1 (frame 209/2100) /content/drive/MyDrive/FYP/80_epochs/cut.mp4: 384x640 (no detections), 17.9ms\n",
            "video 1/1 (frame 210/2100) /content/drive/MyDrive/FYP/80_epochs/cut.mp4: 384x640 (no detections), 17.0ms\n",
            "video 1/1 (frame 211/2100) /content/drive/MyDrive/FYP/80_epochs/cut.mp4: 384x640 (no detections), 17.0ms\n",
            "video 1/1 (frame 212/2100) /content/drive/MyDrive/FYP/80_epochs/cut.mp4: 384x640 (no detections), 17.0ms\n",
            "video 1/1 (frame 213/2100) /content/drive/MyDrive/FYP/80_epochs/cut.mp4: 384x640 (no detections), 17.1ms\n",
            "video 1/1 (frame 214/2100) /content/drive/MyDrive/FYP/80_epochs/cut.mp4: 384x640 (no detections), 17.0ms\n",
            "video 1/1 (frame 215/2100) /content/drive/MyDrive/FYP/80_epochs/cut.mp4: 384x640 (no detections), 17.0ms\n",
            "video 1/1 (frame 216/2100) /content/drive/MyDrive/FYP/80_epochs/cut.mp4: 384x640 (no detections), 17.0ms\n",
            "video 1/1 (frame 217/2100) /content/drive/MyDrive/FYP/80_epochs/cut.mp4: 384x640 (no detections), 17.0ms\n",
            "video 1/1 (frame 218/2100) /content/drive/MyDrive/FYP/80_epochs/cut.mp4: 384x640 (no detections), 17.4ms\n",
            "video 1/1 (frame 219/2100) /content/drive/MyDrive/FYP/80_epochs/cut.mp4: 384x640 (no detections), 22.4ms\n",
            "video 1/1 (frame 220/2100) /content/drive/MyDrive/FYP/80_epochs/cut.mp4: 384x640 (no detections), 17.5ms\n",
            "video 1/1 (frame 221/2100) /content/drive/MyDrive/FYP/80_epochs/cut.mp4: 384x640 (no detections), 19.2ms\n",
            "video 1/1 (frame 222/2100) /content/drive/MyDrive/FYP/80_epochs/cut.mp4: 384x640 (no detections), 21.4ms\n",
            "video 1/1 (frame 223/2100) /content/drive/MyDrive/FYP/80_epochs/cut.mp4: 384x640 (no detections), 21.0ms\n",
            "video 1/1 (frame 224/2100) /content/drive/MyDrive/FYP/80_epochs/cut.mp4: 384x640 (no detections), 20.4ms\n",
            "video 1/1 (frame 225/2100) /content/drive/MyDrive/FYP/80_epochs/cut.mp4: 384x640 (no detections), 21.0ms\n",
            "video 1/1 (frame 226/2100) /content/drive/MyDrive/FYP/80_epochs/cut.mp4: 384x640 (no detections), 22.2ms\n",
            "video 1/1 (frame 227/2100) /content/drive/MyDrive/FYP/80_epochs/cut.mp4: 384x640 (no detections), 20.7ms\n",
            "video 1/1 (frame 228/2100) /content/drive/MyDrive/FYP/80_epochs/cut.mp4: 384x640 (no detections), 21.0ms\n",
            "video 1/1 (frame 229/2100) /content/drive/MyDrive/FYP/80_epochs/cut.mp4: 384x640 (no detections), 21.0ms\n",
            "video 1/1 (frame 230/2100) /content/drive/MyDrive/FYP/80_epochs/cut.mp4: 384x640 (no detections), 21.0ms\n",
            "video 1/1 (frame 231/2100) /content/drive/MyDrive/FYP/80_epochs/cut.mp4: 384x640 (no detections), 21.4ms\n",
            "video 1/1 (frame 232/2100) /content/drive/MyDrive/FYP/80_epochs/cut.mp4: 384x640 (no detections), 22.2ms\n",
            "video 1/1 (frame 233/2100) /content/drive/MyDrive/FYP/80_epochs/cut.mp4: 384x640 (no detections), 21.4ms\n",
            "video 1/1 (frame 234/2100) /content/drive/MyDrive/FYP/80_epochs/cut.mp4: 384x640 (no detections), 21.8ms\n",
            "video 1/1 (frame 235/2100) /content/drive/MyDrive/FYP/80_epochs/cut.mp4: 384x640 (no detections), 21.9ms\n",
            "video 1/1 (frame 236/2100) /content/drive/MyDrive/FYP/80_epochs/cut.mp4: 384x640 (no detections), 21.8ms\n",
            "video 1/1 (frame 237/2100) /content/drive/MyDrive/FYP/80_epochs/cut.mp4: 384x640 (no detections), 22.3ms\n",
            "video 1/1 (frame 238/2100) /content/drive/MyDrive/FYP/80_epochs/cut.mp4: 384x640 (no detections), 22.2ms\n",
            "video 1/1 (frame 239/2100) /content/drive/MyDrive/FYP/80_epochs/cut.mp4: 384x640 (no detections), 22.2ms\n",
            "video 1/1 (frame 240/2100) /content/drive/MyDrive/FYP/80_epochs/cut.mp4: 384x640 (no detections), 28.5ms\n",
            "video 1/1 (frame 241/2100) /content/drive/MyDrive/FYP/80_epochs/cut.mp4: 384x640 (no detections), 22.2ms\n",
            "video 1/1 (frame 242/2100) /content/drive/MyDrive/FYP/80_epochs/cut.mp4: 384x640 (no detections), 22.2ms\n",
            "video 1/1 (frame 243/2100) /content/drive/MyDrive/FYP/80_epochs/cut.mp4: 384x640 (no detections), 22.7ms\n",
            "video 1/1 (frame 244/2100) /content/drive/MyDrive/FYP/80_epochs/cut.mp4: 384x640 (no detections), 22.7ms\n",
            "video 1/1 (frame 245/2100) /content/drive/MyDrive/FYP/80_epochs/cut.mp4: 384x640 (no detections), 22.7ms\n",
            "video 1/1 (frame 246/2100) /content/drive/MyDrive/FYP/80_epochs/cut.mp4: 384x640 (no detections), 24.0ms\n",
            "video 1/1 (frame 247/2100) /content/drive/MyDrive/FYP/80_epochs/cut.mp4: 384x640 (no detections), 22.7ms\n",
            "video 1/1 (frame 248/2100) /content/drive/MyDrive/FYP/80_epochs/cut.mp4: 384x640 (no detections), 22.7ms\n",
            "video 1/1 (frame 249/2100) /content/drive/MyDrive/FYP/80_epochs/cut.mp4: 384x640 (no detections), 25.8ms\n",
            "video 1/1 (frame 250/2100) /content/drive/MyDrive/FYP/80_epochs/cut.mp4: 384x640 (no detections), 23.1ms\n",
            "video 1/1 (frame 251/2100) /content/drive/MyDrive/FYP/80_epochs/cut.mp4: 384x640 (no detections), 23.2ms\n",
            "video 1/1 (frame 252/2100) /content/drive/MyDrive/FYP/80_epochs/cut.mp4: 384x640 (no detections), 23.6ms\n",
            "video 1/1 (frame 253/2100) /content/drive/MyDrive/FYP/80_epochs/cut.mp4: 384x640 (no detections), 23.7ms\n",
            "video 1/1 (frame 254/2100) /content/drive/MyDrive/FYP/80_epochs/cut.mp4: 384x640 (no detections), 23.8ms\n",
            "video 1/1 (frame 255/2100) /content/drive/MyDrive/FYP/80_epochs/cut.mp4: 384x640 (no detections), 24.1ms\n",
            "video 1/1 (frame 256/2100) /content/drive/MyDrive/FYP/80_epochs/cut.mp4: 384x640 (no detections), 24.2ms\n",
            "video 1/1 (frame 257/2100) /content/drive/MyDrive/FYP/80_epochs/cut.mp4: 384x640 (no detections), 24.1ms\n",
            "video 1/1 (frame 258/2100) /content/drive/MyDrive/FYP/80_epochs/cut.mp4: 384x640 (no detections), 25.5ms\n",
            "video 1/1 (frame 259/2100) /content/drive/MyDrive/FYP/80_epochs/cut.mp4: 384x640 (no detections), 24.0ms\n",
            "video 1/1 (frame 260/2100) /content/drive/MyDrive/FYP/80_epochs/cut.mp4: 384x640 (no detections), 24.1ms\n",
            "video 1/1 (frame 261/2100) /content/drive/MyDrive/FYP/80_epochs/cut.mp4: 384x640 (no detections), 23.6ms\n",
            "video 1/1 (frame 262/2100) /content/drive/MyDrive/FYP/80_epochs/cut.mp4: 384x640 (no detections), 23.5ms\n",
            "video 1/1 (frame 263/2100) /content/drive/MyDrive/FYP/80_epochs/cut.mp4: 384x640 (no detections), 23.6ms\n",
            "video 1/1 (frame 264/2100) /content/drive/MyDrive/FYP/80_epochs/cut.mp4: 384x640 (no detections), 23.0ms\n",
            "video 1/1 (frame 265/2100) /content/drive/MyDrive/FYP/80_epochs/cut.mp4: 384x640 (no detections), 21.4ms\n",
            "video 1/1 (frame 266/2100) /content/drive/MyDrive/FYP/80_epochs/cut.mp4: 384x640 (no detections), 21.4ms\n",
            "video 1/1 (frame 267/2100) /content/drive/MyDrive/FYP/80_epochs/cut.mp4: 384x640 (no detections), 21.4ms\n",
            "video 1/1 (frame 268/2100) /content/drive/MyDrive/FYP/80_epochs/cut.mp4: 384x640 (no detections), 23.0ms\n",
            "video 1/1 (frame 269/2100) /content/drive/MyDrive/FYP/80_epochs/cut.mp4: 384x640 (no detections), 20.6ms\n",
            "video 1/1 (frame 270/2100) /content/drive/MyDrive/FYP/80_epochs/cut.mp4: 384x640 (no detections), 20.7ms\n",
            "video 1/1 (frame 271/2100) /content/drive/MyDrive/FYP/80_epochs/cut.mp4: 384x640 (no detections), 20.6ms\n",
            "video 1/1 (frame 272/2100) /content/drive/MyDrive/FYP/80_epochs/cut.mp4: 384x640 (no detections), 20.4ms\n",
            "video 1/1 (frame 273/2100) /content/drive/MyDrive/FYP/80_epochs/cut.mp4: 384x640 (no detections), 19.7ms\n",
            "video 1/1 (frame 274/2100) /content/drive/MyDrive/FYP/80_epochs/cut.mp4: 384x640 (no detections), 19.7ms\n",
            "video 1/1 (frame 275/2100) /content/drive/MyDrive/FYP/80_epochs/cut.mp4: 384x640 (no detections), 19.7ms\n",
            "video 1/1 (frame 276/2100) /content/drive/MyDrive/FYP/80_epochs/cut.mp4: 384x640 (no detections), 19.7ms\n",
            "video 1/1 (frame 277/2100) /content/drive/MyDrive/FYP/80_epochs/cut.mp4: 384x640 (no detections), 18.5ms\n",
            "video 1/1 (frame 278/2100) /content/drive/MyDrive/FYP/80_epochs/cut.mp4: 384x640 (no detections), 18.5ms\n",
            "video 1/1 (frame 279/2100) /content/drive/MyDrive/FYP/80_epochs/cut.mp4: 384x640 (no detections), 18.5ms\n",
            "video 1/1 (frame 280/2100) /content/drive/MyDrive/FYP/80_epochs/cut.mp4: 384x640 (no detections), 18.5ms\n",
            "video 1/1 (frame 281/2100) /content/drive/MyDrive/FYP/80_epochs/cut.mp4: 384x640 (no detections), 18.5ms\n",
            "video 1/1 (frame 282/2100) /content/drive/MyDrive/FYP/80_epochs/cut.mp4: 384x640 (no detections), 18.5ms\n",
            "video 1/1 (frame 283/2100) /content/drive/MyDrive/FYP/80_epochs/cut.mp4: 384x640 (no detections), 18.5ms\n",
            "video 1/1 (frame 284/2100) /content/drive/MyDrive/FYP/80_epochs/cut.mp4: 384x640 (no detections), 18.5ms\n",
            "video 1/1 (frame 285/2100) /content/drive/MyDrive/FYP/80_epochs/cut.mp4: 384x640 (no detections), 18.5ms\n",
            "video 1/1 (frame 286/2100) /content/drive/MyDrive/FYP/80_epochs/cut.mp4: 384x640 (no detections), 18.5ms\n",
            "video 1/1 (frame 287/2100) /content/drive/MyDrive/FYP/80_epochs/cut.mp4: 384x640 (no detections), 18.5ms\n",
            "video 1/1 (frame 288/2100) /content/drive/MyDrive/FYP/80_epochs/cut.mp4: 384x640 (no detections), 18.5ms\n",
            "video 1/1 (frame 289/2100) /content/drive/MyDrive/FYP/80_epochs/cut.mp4: 384x640 (no detections), 18.5ms\n",
            "video 1/1 (frame 290/2100) /content/drive/MyDrive/FYP/80_epochs/cut.mp4: 384x640 (no detections), 18.6ms\n",
            "video 1/1 (frame 291/2100) /content/drive/MyDrive/FYP/80_epochs/cut.mp4: 384x640 (no detections), 18.5ms\n",
            "video 1/1 (frame 292/2100) /content/drive/MyDrive/FYP/80_epochs/cut.mp4: 384x640 (no detections), 18.5ms\n",
            "video 1/1 (frame 293/2100) /content/drive/MyDrive/FYP/80_epochs/cut.mp4: 384x640 (no detections), 18.5ms\n",
            "video 1/1 (frame 294/2100) /content/drive/MyDrive/FYP/80_epochs/cut.mp4: 384x640 (no detections), 18.2ms\n",
            "video 1/1 (frame 295/2100) /content/drive/MyDrive/FYP/80_epochs/cut.mp4: 384x640 (no detections), 18.2ms\n",
            "video 1/1 (frame 296/2100) /content/drive/MyDrive/FYP/80_epochs/cut.mp4: 384x640 (no detections), 18.2ms\n",
            "video 1/1 (frame 297/2100) /content/drive/MyDrive/FYP/80_epochs/cut.mp4: 384x640 (no detections), 18.2ms\n",
            "video 1/1 (frame 298/2100) /content/drive/MyDrive/FYP/80_epochs/cut.mp4: 384x640 (no detections), 18.3ms\n",
            "video 1/1 (frame 299/2100) /content/drive/MyDrive/FYP/80_epochs/cut.mp4: 384x640 (no detections), 18.2ms\n",
            "video 1/1 (frame 300/2100) /content/drive/MyDrive/FYP/80_epochs/cut.mp4: 384x640 (no detections), 18.3ms\n",
            "video 1/1 (frame 301/2100) /content/drive/MyDrive/FYP/80_epochs/cut.mp4: 384x640 (no detections), 18.2ms\n",
            "video 1/1 (frame 302/2100) /content/drive/MyDrive/FYP/80_epochs/cut.mp4: 384x640 (no detections), 18.3ms\n",
            "video 1/1 (frame 303/2100) /content/drive/MyDrive/FYP/80_epochs/cut.mp4: 384x640 (no detections), 18.2ms\n",
            "video 1/1 (frame 304/2100) /content/drive/MyDrive/FYP/80_epochs/cut.mp4: 384x640 (no detections), 18.2ms\n",
            "video 1/1 (frame 305/2100) /content/drive/MyDrive/FYP/80_epochs/cut.mp4: 384x640 (no detections), 18.2ms\n",
            "video 1/1 (frame 306/2100) /content/drive/MyDrive/FYP/80_epochs/cut.mp4: 384x640 (no detections), 18.2ms\n",
            "video 1/1 (frame 307/2100) /content/drive/MyDrive/FYP/80_epochs/cut.mp4: 384x640 (no detections), 17.9ms\n",
            "video 1/1 (frame 308/2100) /content/drive/MyDrive/FYP/80_epochs/cut.mp4: 384x640 (no detections), 18.0ms\n",
            "video 1/1 (frame 309/2100) /content/drive/MyDrive/FYP/80_epochs/cut.mp4: 384x640 (no detections), 18.0ms\n",
            "video 1/1 (frame 310/2100) /content/drive/MyDrive/FYP/80_epochs/cut.mp4: 384x640 (no detections), 18.0ms\n",
            "video 1/1 (frame 311/2100) /content/drive/MyDrive/FYP/80_epochs/cut.mp4: 384x640 (no detections), 17.8ms\n",
            "video 1/1 (frame 312/2100) /content/drive/MyDrive/FYP/80_epochs/cut.mp4: 384x640 (no detections), 17.8ms\n",
            "video 1/1 (frame 313/2100) /content/drive/MyDrive/FYP/80_epochs/cut.mp4: 384x640 (no detections), 17.7ms\n",
            "video 1/1 (frame 314/2100) /content/drive/MyDrive/FYP/80_epochs/cut.mp4: 384x640 (no detections), 17.7ms\n",
            "video 1/1 (frame 315/2100) /content/drive/MyDrive/FYP/80_epochs/cut.mp4: 384x640 (no detections), 17.7ms\n",
            "video 1/1 (frame 316/2100) /content/drive/MyDrive/FYP/80_epochs/cut.mp4: 384x640 (no detections), 17.7ms\n",
            "video 1/1 (frame 317/2100) /content/drive/MyDrive/FYP/80_epochs/cut.mp4: 384x640 (no detections), 17.7ms\n",
            "video 1/1 (frame 318/2100) /content/drive/MyDrive/FYP/80_epochs/cut.mp4: 384x640 (no detections), 17.8ms\n",
            "video 1/1 (frame 319/2100) /content/drive/MyDrive/FYP/80_epochs/cut.mp4: 384x640 (no detections), 17.7ms\n",
            "video 1/1 (frame 320/2100) /content/drive/MyDrive/FYP/80_epochs/cut.mp4: 384x640 (no detections), 17.7ms\n",
            "video 1/1 (frame 321/2100) /content/drive/MyDrive/FYP/80_epochs/cut.mp4: 384x640 (no detections), 17.7ms\n",
            "video 1/1 (frame 322/2100) /content/drive/MyDrive/FYP/80_epochs/cut.mp4: 384x640 (no detections), 17.7ms\n",
            "video 1/1 (frame 323/2100) /content/drive/MyDrive/FYP/80_epochs/cut.mp4: 384x640 (no detections), 17.7ms\n",
            "video 1/1 (frame 324/2100) /content/drive/MyDrive/FYP/80_epochs/cut.mp4: 384x640 (no detections), 17.7ms\n",
            "video 1/1 (frame 325/2100) /content/drive/MyDrive/FYP/80_epochs/cut.mp4: 384x640 (no detections), 17.7ms\n",
            "video 1/1 (frame 326/2100) /content/drive/MyDrive/FYP/80_epochs/cut.mp4: 384x640 (no detections), 17.8ms\n",
            "video 1/1 (frame 327/2100) /content/drive/MyDrive/FYP/80_epochs/cut.mp4: 384x640 (no detections), 17.7ms\n",
            "video 1/1 (frame 328/2100) /content/drive/MyDrive/FYP/80_epochs/cut.mp4: 384x640 (no detections), 17.0ms\n",
            "video 1/1 (frame 329/2100) /content/drive/MyDrive/FYP/80_epochs/cut.mp4: 384x640 (no detections), 17.0ms\n",
            "video 1/1 (frame 330/2100) /content/drive/MyDrive/FYP/80_epochs/cut.mp4: 384x640 (no detections), 17.0ms\n",
            "video 1/1 (frame 331/2100) /content/drive/MyDrive/FYP/80_epochs/cut.mp4: 384x640 (no detections), 17.0ms\n",
            "video 1/1 (frame 332/2100) /content/drive/MyDrive/FYP/80_epochs/cut.mp4: 384x640 (no detections), 17.0ms\n",
            "video 1/1 (frame 333/2100) /content/drive/MyDrive/FYP/80_epochs/cut.mp4: 384x640 (no detections), 17.0ms\n",
            "video 1/1 (frame 334/2100) /content/drive/MyDrive/FYP/80_epochs/cut.mp4: 384x640 (no detections), 17.0ms\n",
            "video 1/1 (frame 335/2100) /content/drive/MyDrive/FYP/80_epochs/cut.mp4: 384x640 (no detections), 17.0ms\n",
            "video 1/1 (frame 336/2100) /content/drive/MyDrive/FYP/80_epochs/cut.mp4: 384x640 (no detections), 17.0ms\n",
            "video 1/1 (frame 337/2100) /content/drive/MyDrive/FYP/80_epochs/cut.mp4: 384x640 (no detections), 16.9ms\n",
            "video 1/1 (frame 338/2100) /content/drive/MyDrive/FYP/80_epochs/cut.mp4: 384x640 (no detections), 17.0ms\n",
            "video 1/1 (frame 339/2100) /content/drive/MyDrive/FYP/80_epochs/cut.mp4: 384x640 (no detections), 17.0ms\n",
            "video 1/1 (frame 340/2100) /content/drive/MyDrive/FYP/80_epochs/cut.mp4: 384x640 (no detections), 17.0ms\n",
            "video 1/1 (frame 341/2100) /content/drive/MyDrive/FYP/80_epochs/cut.mp4: 384x640 (no detections), 16.2ms\n",
            "video 1/1 (frame 342/2100) /content/drive/MyDrive/FYP/80_epochs/cut.mp4: 384x640 (no detections), 16.3ms\n",
            "video 1/1 (frame 343/2100) /content/drive/MyDrive/FYP/80_epochs/cut.mp4: 384x640 (no detections), 16.2ms\n",
            "video 1/1 (frame 344/2100) /content/drive/MyDrive/FYP/80_epochs/cut.mp4: 384x640 (no detections), 16.2ms\n",
            "video 1/1 (frame 345/2100) /content/drive/MyDrive/FYP/80_epochs/cut.mp4: 384x640 (no detections), 16.8ms\n",
            "video 1/1 (frame 346/2100) /content/drive/MyDrive/FYP/80_epochs/cut.mp4: 384x640 (no detections), 16.1ms\n",
            "video 1/1 (frame 347/2100) /content/drive/MyDrive/FYP/80_epochs/cut.mp4: 384x640 (no detections), 16.2ms\n",
            "video 1/1 (frame 348/2100) /content/drive/MyDrive/FYP/80_epochs/cut.mp4: 384x640 (no detections), 15.9ms\n",
            "video 1/1 (frame 349/2100) /content/drive/MyDrive/FYP/80_epochs/cut.mp4: 384x640 (no detections), 15.9ms\n",
            "video 1/1 (frame 350/2100) /content/drive/MyDrive/FYP/80_epochs/cut.mp4: 384x640 (no detections), 16.0ms\n",
            "video 1/1 (frame 351/2100) /content/drive/MyDrive/FYP/80_epochs/cut.mp4: 384x640 (no detections), 16.0ms\n",
            "video 1/1 (frame 352/2100) /content/drive/MyDrive/FYP/80_epochs/cut.mp4: 384x640 (no detections), 16.0ms\n",
            "video 1/1 (frame 353/2100) /content/drive/MyDrive/FYP/80_epochs/cut.mp4: 384x640 (no detections), 16.0ms\n",
            "video 1/1 (frame 354/2100) /content/drive/MyDrive/FYP/80_epochs/cut.mp4: 384x640 (no detections), 16.0ms\n",
            "video 1/1 (frame 355/2100) /content/drive/MyDrive/FYP/80_epochs/cut.mp4: 384x640 (no detections), 15.9ms\n",
            "video 1/1 (frame 356/2100) /content/drive/MyDrive/FYP/80_epochs/cut.mp4: 384x640 (no detections), 16.0ms\n",
            "video 1/1 (frame 357/2100) /content/drive/MyDrive/FYP/80_epochs/cut.mp4: 384x640 (no detections), 16.0ms\n",
            "video 1/1 (frame 358/2100) /content/drive/MyDrive/FYP/80_epochs/cut.mp4: 384x640 (no detections), 15.9ms\n",
            "video 1/1 (frame 359/2100) /content/drive/MyDrive/FYP/80_epochs/cut.mp4: 384x640 (no detections), 16.0ms\n",
            "video 1/1 (frame 360/2100) /content/drive/MyDrive/FYP/80_epochs/cut.mp4: 384x640 (no detections), 16.0ms\n",
            "video 1/1 (frame 361/2100) /content/drive/MyDrive/FYP/80_epochs/cut.mp4: 384x640 (no detections), 16.0ms\n",
            "video 1/1 (frame 362/2100) /content/drive/MyDrive/FYP/80_epochs/cut.mp4: 384x640 (no detections), 16.0ms\n",
            "video 1/1 (frame 363/2100) /content/drive/MyDrive/FYP/80_epochs/cut.mp4: 384x640 (no detections), 16.0ms\n",
            "video 1/1 (frame 364/2100) /content/drive/MyDrive/FYP/80_epochs/cut.mp4: 384x640 (no detections), 15.9ms\n",
            "video 1/1 (frame 365/2100) /content/drive/MyDrive/FYP/80_epochs/cut.mp4: 384x640 (no detections), 16.0ms\n",
            "video 1/1 (frame 366/2100) /content/drive/MyDrive/FYP/80_epochs/cut.mp4: 384x640 (no detections), 16.0ms\n",
            "video 1/1 (frame 367/2100) /content/drive/MyDrive/FYP/80_epochs/cut.mp4: 384x640 (no detections), 15.9ms\n",
            "video 1/1 (frame 368/2100) /content/drive/MyDrive/FYP/80_epochs/cut.mp4: 384x640 (no detections), 16.0ms\n",
            "video 1/1 (frame 369/2100) /content/drive/MyDrive/FYP/80_epochs/cut.mp4: 384x640 (no detections), 16.0ms\n",
            "video 1/1 (frame 370/2100) /content/drive/MyDrive/FYP/80_epochs/cut.mp4: 384x640 (no detections), 16.0ms\n",
            "video 1/1 (frame 371/2100) /content/drive/MyDrive/FYP/80_epochs/cut.mp4: 384x640 (no detections), 16.0ms\n",
            "video 1/1 (frame 372/2100) /content/drive/MyDrive/FYP/80_epochs/cut.mp4: 384x640 (no detections), 16.0ms\n",
            "video 1/1 (frame 373/2100) /content/drive/MyDrive/FYP/80_epochs/cut.mp4: 384x640 (no detections), 15.9ms\n",
            "video 1/1 (frame 374/2100) /content/drive/MyDrive/FYP/80_epochs/cut.mp4: 384x640 (no detections), 16.0ms\n",
            "video 1/1 (frame 375/2100) /content/drive/MyDrive/FYP/80_epochs/cut.mp4: 384x640 (no detections), 16.0ms\n",
            "video 1/1 (frame 376/2100) /content/drive/MyDrive/FYP/80_epochs/cut.mp4: 384x640 (no detections), 16.0ms\n",
            "video 1/1 (frame 377/2100) /content/drive/MyDrive/FYP/80_epochs/cut.mp4: 384x640 (no detections), 16.0ms\n",
            "video 1/1 (frame 378/2100) /content/drive/MyDrive/FYP/80_epochs/cut.mp4: 384x640 (no detections), 16.0ms\n",
            "video 1/1 (frame 379/2100) /content/drive/MyDrive/FYP/80_epochs/cut.mp4: 384x640 (no detections), 16.0ms\n",
            "video 1/1 (frame 380/2100) /content/drive/MyDrive/FYP/80_epochs/cut.mp4: 384x640 (no detections), 16.0ms\n",
            "video 1/1 (frame 381/2100) /content/drive/MyDrive/FYP/80_epochs/cut.mp4: 384x640 (no detections), 16.5ms\n",
            "video 1/1 (frame 382/2100) /content/drive/MyDrive/FYP/80_epochs/cut.mp4: 384x640 (no detections), 16.3ms\n",
            "video 1/1 (frame 383/2100) /content/drive/MyDrive/FYP/80_epochs/cut.mp4: 384x640 (no detections), 16.4ms\n",
            "video 1/1 (frame 384/2100) /content/drive/MyDrive/FYP/80_epochs/cut.mp4: 384x640 (no detections), 16.4ms\n",
            "video 1/1 (frame 385/2100) /content/drive/MyDrive/FYP/80_epochs/cut.mp4: 384x640 (no detections), 16.3ms\n",
            "video 1/1 (frame 386/2100) /content/drive/MyDrive/FYP/80_epochs/cut.mp4: 384x640 (no detections), 16.4ms\n",
            "video 1/1 (frame 387/2100) /content/drive/MyDrive/FYP/80_epochs/cut.mp4: 384x640 (no detections), 16.4ms\n",
            "video 1/1 (frame 388/2100) /content/drive/MyDrive/FYP/80_epochs/cut.mp4: 384x640 (no detections), 16.3ms\n",
            "video 1/1 (frame 389/2100) /content/drive/MyDrive/FYP/80_epochs/cut.mp4: 384x640 (no detections), 16.4ms\n",
            "video 1/1 (frame 390/2100) /content/drive/MyDrive/FYP/80_epochs/cut.mp4: 384x640 (no detections), 16.6ms\n",
            "video 1/1 (frame 391/2100) /content/drive/MyDrive/FYP/80_epochs/cut.mp4: 384x640 (no detections), 16.6ms\n",
            "video 1/1 (frame 392/2100) /content/drive/MyDrive/FYP/80_epochs/cut.mp4: 384x640 (no detections), 16.6ms\n",
            "video 1/1 (frame 393/2100) /content/drive/MyDrive/FYP/80_epochs/cut.mp4: 384x640 (no detections), 16.5ms\n",
            "video 1/1 (frame 394/2100) /content/drive/MyDrive/FYP/80_epochs/cut.mp4: 384x640 (no detections), 16.6ms\n",
            "video 1/1 (frame 395/2100) /content/drive/MyDrive/FYP/80_epochs/cut.mp4: 384x640 (no detections), 16.5ms\n",
            "video 1/1 (frame 396/2100) /content/drive/MyDrive/FYP/80_epochs/cut.mp4: 384x640 (no detections), 16.5ms\n",
            "video 1/1 (frame 397/2100) /content/drive/MyDrive/FYP/80_epochs/cut.mp4: 384x640 (no detections), 16.6ms\n",
            "video 1/1 (frame 398/2100) /content/drive/MyDrive/FYP/80_epochs/cut.mp4: 384x640 (no detections), 16.5ms\n",
            "video 1/1 (frame 399/2100) /content/drive/MyDrive/FYP/80_epochs/cut.mp4: 384x640 (no detections), 16.6ms\n",
            "video 1/1 (frame 400/2100) /content/drive/MyDrive/FYP/80_epochs/cut.mp4: 384x640 (no detections), 16.6ms\n",
            "video 1/1 (frame 401/2100) /content/drive/MyDrive/FYP/80_epochs/cut.mp4: 384x640 (no detections), 16.6ms\n",
            "video 1/1 (frame 402/2100) /content/drive/MyDrive/FYP/80_epochs/cut.mp4: 384x640 (no detections), 17.3ms\n",
            "video 1/1 (frame 403/2100) /content/drive/MyDrive/FYP/80_epochs/cut.mp4: 384x640 (no detections), 16.7ms\n",
            "video 1/1 (frame 404/2100) /content/drive/MyDrive/FYP/80_epochs/cut.mp4: 384x640 (no detections), 16.8ms\n",
            "video 1/1 (frame 405/2100) /content/drive/MyDrive/FYP/80_epochs/cut.mp4: 384x640 (no detections), 16.8ms\n",
            "video 1/1 (frame 406/2100) /content/drive/MyDrive/FYP/80_epochs/cut.mp4: 384x640 (no detections), 16.8ms\n",
            "video 1/1 (frame 407/2100) /content/drive/MyDrive/FYP/80_epochs/cut.mp4: 384x640 (no detections), 16.9ms\n",
            "video 1/1 (frame 408/2100) /content/drive/MyDrive/FYP/80_epochs/cut.mp4: 384x640 (no detections), 17.0ms\n",
            "video 1/1 (frame 409/2100) /content/drive/MyDrive/FYP/80_epochs/cut.mp4: 384x640 (no detections), 17.0ms\n",
            "video 1/1 (frame 410/2100) /content/drive/MyDrive/FYP/80_epochs/cut.mp4: 384x640 (no detections), 17.0ms\n",
            "video 1/1 (frame 411/2100) /content/drive/MyDrive/FYP/80_epochs/cut.mp4: 384x640 (no detections), 17.0ms\n",
            "video 1/1 (frame 412/2100) /content/drive/MyDrive/FYP/80_epochs/cut.mp4: 384x640 (no detections), 17.0ms\n",
            "video 1/1 (frame 413/2100) /content/drive/MyDrive/FYP/80_epochs/cut.mp4: 384x640 (no detections), 17.0ms\n",
            "video 1/1 (frame 414/2100) /content/drive/MyDrive/FYP/80_epochs/cut.mp4: 384x640 (no detections), 17.0ms\n",
            "video 1/1 (frame 415/2100) /content/drive/MyDrive/FYP/80_epochs/cut.mp4: 384x640 (no detections), 17.0ms\n",
            "video 1/1 (frame 416/2100) /content/drive/MyDrive/FYP/80_epochs/cut.mp4: 384x640 (no detections), 17.2ms\n",
            "video 1/1 (frame 417/2100) /content/drive/MyDrive/FYP/80_epochs/cut.mp4: 384x640 (no detections), 17.2ms\n",
            "video 1/1 (frame 418/2100) /content/drive/MyDrive/FYP/80_epochs/cut.mp4: 384x640 (no detections), 17.2ms\n",
            "video 1/1 (frame 419/2100) /content/drive/MyDrive/FYP/80_epochs/cut.mp4: 384x640 (no detections), 17.2ms\n",
            "video 1/1 (frame 420/2100) /content/drive/MyDrive/FYP/80_epochs/cut.mp4: 384x640 (no detections), 17.3ms\n",
            "video 1/1 (frame 421/2100) /content/drive/MyDrive/FYP/80_epochs/cut.mp4: 384x640 (no detections), 17.0ms\n",
            "video 1/1 (frame 422/2100) /content/drive/MyDrive/FYP/80_epochs/cut.mp4: 384x640 (no detections), 17.0ms\n",
            "video 1/1 (frame 423/2100) /content/drive/MyDrive/FYP/80_epochs/cut.mp4: 384x640 (no detections), 17.0ms\n",
            "video 1/1 (frame 424/2100) /content/drive/MyDrive/FYP/80_epochs/cut.mp4: 384x640 (no detections), 17.0ms\n",
            "video 1/1 (frame 425/2100) /content/drive/MyDrive/FYP/80_epochs/cut.mp4: 384x640 (no detections), 17.1ms\n",
            "video 1/1 (frame 426/2100) /content/drive/MyDrive/FYP/80_epochs/cut.mp4: 384x640 (no detections), 17.0ms\n",
            "video 1/1 (frame 427/2100) /content/drive/MyDrive/FYP/80_epochs/cut.mp4: 384x640 (no detections), 17.0ms\n",
            "video 1/1 (frame 428/2100) /content/drive/MyDrive/FYP/80_epochs/cut.mp4: 384x640 (no detections), 17.1ms\n",
            "video 1/1 (frame 429/2100) /content/drive/MyDrive/FYP/80_epochs/cut.mp4: 384x640 (no detections), 17.0ms\n",
            "video 1/1 (frame 430/2100) /content/drive/MyDrive/FYP/80_epochs/cut.mp4: 384x640 (no detections), 17.0ms\n",
            "video 1/1 (frame 431/2100) /content/drive/MyDrive/FYP/80_epochs/cut.mp4: 384x640 (no detections), 17.0ms\n",
            "video 1/1 (frame 432/2100) /content/drive/MyDrive/FYP/80_epochs/cut.mp4: 384x640 (no detections), 17.0ms\n",
            "video 1/1 (frame 433/2100) /content/drive/MyDrive/FYP/80_epochs/cut.mp4: 384x640 (no detections), 17.0ms\n",
            "video 1/1 (frame 434/2100) /content/drive/MyDrive/FYP/80_epochs/cut.mp4: 384x640 (no detections), 16.6ms\n",
            "video 1/1 (frame 435/2100) /content/drive/MyDrive/FYP/80_epochs/cut.mp4: 384x640 (no detections), 16.6ms\n",
            "video 1/1 (frame 436/2100) /content/drive/MyDrive/FYP/80_epochs/cut.mp4: 384x640 (no detections), 16.5ms\n",
            "video 1/1 (frame 437/2100) /content/drive/MyDrive/FYP/80_epochs/cut.mp4: 384x640 (no detections), 16.5ms\n",
            "video 1/1 (frame 438/2100) /content/drive/MyDrive/FYP/80_epochs/cut.mp4: 384x640 (no detections), 16.6ms\n",
            "video 1/1 (frame 439/2100) /content/drive/MyDrive/FYP/80_epochs/cut.mp4: 384x640 (no detections), 16.6ms\n",
            "video 1/1 (frame 440/2100) /content/drive/MyDrive/FYP/80_epochs/cut.mp4: 384x640 (no detections), 16.6ms\n",
            "video 1/1 (frame 441/2100) /content/drive/MyDrive/FYP/80_epochs/cut.mp4: 384x640 (no detections), 16.6ms\n",
            "video 1/1 (frame 442/2100) /content/drive/MyDrive/FYP/80_epochs/cut.mp4: 384x640 (no detections), 16.5ms\n",
            "video 1/1 (frame 443/2100) /content/drive/MyDrive/FYP/80_epochs/cut.mp4: 384x640 (no detections), 16.6ms\n",
            "video 1/1 (frame 444/2100) /content/drive/MyDrive/FYP/80_epochs/cut.mp4: 384x640 (no detections), 16.6ms\n",
            "video 1/1 (frame 445/2100) /content/drive/MyDrive/FYP/80_epochs/cut.mp4: 384x640 (no detections), 16.5ms\n",
            "video 1/1 (frame 446/2100) /content/drive/MyDrive/FYP/80_epochs/cut.mp4: 384x640 (no detections), 16.5ms\n",
            "video 1/1 (frame 447/2100) /content/drive/MyDrive/FYP/80_epochs/cut.mp4: 384x640 (no detections), 16.7ms\n",
            "video 1/1 (frame 448/2100) /content/drive/MyDrive/FYP/80_epochs/cut.mp4: 384x640 (no detections), 16.5ms\n",
            "video 1/1 (frame 449/2100) /content/drive/MyDrive/FYP/80_epochs/cut.mp4: 384x640 (no detections), 16.5ms\n",
            "video 1/1 (frame 450/2100) /content/drive/MyDrive/FYP/80_epochs/cut.mp4: 384x640 (no detections), 16.6ms\n",
            "video 1/1 (frame 451/2100) /content/drive/MyDrive/FYP/80_epochs/cut.mp4: 384x640 (no detections), 16.5ms\n",
            "video 1/1 (frame 452/2100) /content/drive/MyDrive/FYP/80_epochs/cut.mp4: 384x640 (no detections), 16.5ms\n",
            "video 1/1 (frame 453/2100) /content/drive/MyDrive/FYP/80_epochs/cut.mp4: 384x640 (no detections), 16.6ms\n",
            "video 1/1 (frame 454/2100) /content/drive/MyDrive/FYP/80_epochs/cut.mp4: 384x640 (no detections), 16.5ms\n",
            "video 1/1 (frame 455/2100) /content/drive/MyDrive/FYP/80_epochs/cut.mp4: 384x640 (no detections), 16.5ms\n",
            "video 1/1 (frame 456/2100) /content/drive/MyDrive/FYP/80_epochs/cut.mp4: 384x640 (no detections), 16.3ms\n",
            "video 1/1 (frame 457/2100) /content/drive/MyDrive/FYP/80_epochs/cut.mp4: 384x640 (no detections), 16.4ms\n",
            "video 1/1 (frame 458/2100) /content/drive/MyDrive/FYP/80_epochs/cut.mp4: 384x640 (no detections), 16.4ms\n",
            "video 1/1 (frame 459/2100) /content/drive/MyDrive/FYP/80_epochs/cut.mp4: 384x640 (no detections), 16.4ms\n",
            "video 1/1 (frame 460/2100) /content/drive/MyDrive/FYP/80_epochs/cut.mp4: 384x640 (no detections), 16.4ms\n",
            "video 1/1 (frame 461/2100) /content/drive/MyDrive/FYP/80_epochs/cut.mp4: 384x640 (no detections), 16.4ms\n",
            "video 1/1 (frame 462/2100) /content/drive/MyDrive/FYP/80_epochs/cut.mp4: 384x640 (no detections), 16.4ms\n",
            "video 1/1 (frame 463/2100) /content/drive/MyDrive/FYP/80_epochs/cut.mp4: 384x640 (no detections), 16.4ms\n",
            "video 1/1 (frame 464/2100) /content/drive/MyDrive/FYP/80_epochs/cut.mp4: 384x640 (no detections), 16.4ms\n",
            "video 1/1 (frame 465/2100) /content/drive/MyDrive/FYP/80_epochs/cut.mp4: 384x640 (no detections), 16.4ms\n",
            "video 1/1 (frame 466/2100) /content/drive/MyDrive/FYP/80_epochs/cut.mp4: 384x640 (no detections), 16.4ms\n",
            "video 1/1 (frame 467/2100) /content/drive/MyDrive/FYP/80_epochs/cut.mp4: 384x640 (no detections), 16.4ms\n",
            "video 1/1 (frame 468/2100) /content/drive/MyDrive/FYP/80_epochs/cut.mp4: 384x640 (no detections), 16.3ms\n",
            "video 1/1 (frame 469/2100) /content/drive/MyDrive/FYP/80_epochs/cut.mp4: 384x640 (no detections), 16.4ms\n",
            "video 1/1 (frame 470/2100) /content/drive/MyDrive/FYP/80_epochs/cut.mp4: 384x640 (no detections), 17.1ms\n",
            "video 1/1 (frame 471/2100) /content/drive/MyDrive/FYP/80_epochs/cut.mp4: 384x640 (no detections), 16.4ms\n",
            "video 1/1 (frame 472/2100) /content/drive/MyDrive/FYP/80_epochs/cut.mp4: 384x640 (no detections), 16.4ms\n",
            "video 1/1 (frame 473/2100) /content/drive/MyDrive/FYP/80_epochs/cut.mp4: 384x640 (no detections), 16.4ms\n",
            "video 1/1 (frame 474/2100) /content/drive/MyDrive/FYP/80_epochs/cut.mp4: 384x640 (no detections), 16.3ms\n",
            "video 1/1 (frame 475/2100) /content/drive/MyDrive/FYP/80_epochs/cut.mp4: 384x640 (no detections), 16.4ms\n",
            "video 1/1 (frame 476/2100) /content/drive/MyDrive/FYP/80_epochs/cut.mp4: 384x640 (no detections), 22.5ms\n",
            "video 1/1 (frame 477/2100) /content/drive/MyDrive/FYP/80_epochs/cut.mp4: 384x640 (no detections), 16.4ms\n",
            "video 1/1 (frame 478/2100) /content/drive/MyDrive/FYP/80_epochs/cut.mp4: 384x640 (no detections), 17.6ms\n",
            "video 1/1 (frame 479/2100) /content/drive/MyDrive/FYP/80_epochs/cut.mp4: 384x640 (no detections), 17.0ms\n",
            "video 1/1 (frame 480/2100) /content/drive/MyDrive/FYP/80_epochs/cut.mp4: 384x640 (no detections), 20.1ms\n",
            "video 1/1 (frame 481/2100) /content/drive/MyDrive/FYP/80_epochs/cut.mp4: 384x640 (no detections), 16.4ms\n",
            "video 1/1 (frame 482/2100) /content/drive/MyDrive/FYP/80_epochs/cut.mp4: 384x640 (no detections), 16.4ms\n",
            "video 1/1 (frame 483/2100) /content/drive/MyDrive/FYP/80_epochs/cut.mp4: 384x640 (no detections), 16.4ms\n",
            "video 1/1 (frame 484/2100) /content/drive/MyDrive/FYP/80_epochs/cut.mp4: 384x640 (no detections), 16.4ms\n",
            "video 1/1 (frame 485/2100) /content/drive/MyDrive/FYP/80_epochs/cut.mp4: 384x640 (no detections), 16.4ms\n",
            "video 1/1 (frame 486/2100) /content/drive/MyDrive/FYP/80_epochs/cut.mp4: 384x640 (no detections), 18.0ms\n",
            "video 1/1 (frame 487/2100) /content/drive/MyDrive/FYP/80_epochs/cut.mp4: 384x640 (no detections), 16.4ms\n",
            "video 1/1 (frame 488/2100) /content/drive/MyDrive/FYP/80_epochs/cut.mp4: 384x640 (no detections), 17.9ms\n",
            "video 1/1 (frame 489/2100) /content/drive/MyDrive/FYP/80_epochs/cut.mp4: 384x640 (no detections), 16.4ms\n",
            "video 1/1 (frame 490/2100) /content/drive/MyDrive/FYP/80_epochs/cut.mp4: 384x640 (no detections), 19.1ms\n",
            "video 1/1 (frame 491/2100) /content/drive/MyDrive/FYP/80_epochs/cut.mp4: 384x640 (no detections), 19.1ms\n",
            "video 1/1 (frame 492/2100) /content/drive/MyDrive/FYP/80_epochs/cut.mp4: 384x640 (no detections), 19.1ms\n",
            "video 1/1 (frame 493/2100) /content/drive/MyDrive/FYP/80_epochs/cut.mp4: 384x640 (no detections), 19.7ms\n",
            "video 1/1 (frame 494/2100) /content/drive/MyDrive/FYP/80_epochs/cut.mp4: 384x640 (no detections), 21.4ms\n",
            "video 1/1 (frame 495/2100) /content/drive/MyDrive/FYP/80_epochs/cut.mp4: 384x640 (no detections), 24.2ms\n",
            "video 1/1 (frame 496/2100) /content/drive/MyDrive/FYP/80_epochs/cut.mp4: 384x640 (no detections), 22.8ms\n",
            "video 1/1 (frame 497/2100) /content/drive/MyDrive/FYP/80_epochs/cut.mp4: 384x640 (no detections), 20.8ms\n",
            "video 1/1 (frame 498/2100) /content/drive/MyDrive/FYP/80_epochs/cut.mp4: 384x640 (no detections), 20.2ms\n",
            "video 1/1 (frame 499/2100) /content/drive/MyDrive/FYP/80_epochs/cut.mp4: 384x640 (no detections), 20.4ms\n",
            "video 1/1 (frame 500/2100) /content/drive/MyDrive/FYP/80_epochs/cut.mp4: 384x640 (no detections), 20.4ms\n",
            "video 1/1 (frame 501/2100) /content/drive/MyDrive/FYP/80_epochs/cut.mp4: 384x640 (no detections), 20.3ms\n",
            "video 1/1 (frame 502/2100) /content/drive/MyDrive/FYP/80_epochs/cut.mp4: 384x640 (no detections), 20.7ms\n",
            "video 1/1 (frame 503/2100) /content/drive/MyDrive/FYP/80_epochs/cut.mp4: 384x640 (no detections), 20.7ms\n",
            "video 1/1 (frame 504/2100) /content/drive/MyDrive/FYP/80_epochs/cut.mp4: 384x640 (no detections), 21.0ms\n",
            "video 1/1 (frame 505/2100) /content/drive/MyDrive/FYP/80_epochs/cut.mp4: 384x640 (no detections), 21.1ms\n",
            "video 1/1 (frame 506/2100) /content/drive/MyDrive/FYP/80_epochs/cut.mp4: 384x640 (no detections), 21.0ms\n",
            "video 1/1 (frame 507/2100) /content/drive/MyDrive/FYP/80_epochs/cut.mp4: 384x640 (no detections), 21.1ms\n",
            "video 1/1 (frame 508/2100) /content/drive/MyDrive/FYP/80_epochs/cut.mp4: 384x640 (no detections), 21.4ms\n",
            "video 1/1 (frame 509/2100) /content/drive/MyDrive/FYP/80_epochs/cut.mp4: 384x640 (no detections), 21.4ms\n",
            "video 1/1 (frame 510/2100) /content/drive/MyDrive/FYP/80_epochs/cut.mp4: 384x640 (no detections), 21.4ms\n",
            "video 1/1 (frame 511/2100) /content/drive/MyDrive/FYP/80_epochs/cut.mp4: 384x640 (no detections), 21.8ms\n",
            "video 1/1 (frame 512/2100) /content/drive/MyDrive/FYP/80_epochs/cut.mp4: 384x640 (no detections), 25.3ms\n",
            "video 1/1 (frame 513/2100) /content/drive/MyDrive/FYP/80_epochs/cut.mp4: 384x640 (no detections), 24.3ms\n",
            "video 1/1 (frame 514/2100) /content/drive/MyDrive/FYP/80_epochs/cut.mp4: 384x640 (no detections), 21.9ms\n",
            "video 1/1 (frame 515/2100) /content/drive/MyDrive/FYP/80_epochs/cut.mp4: 384x640 (no detections), 21.8ms\n",
            "video 1/1 (frame 516/2100) /content/drive/MyDrive/FYP/80_epochs/cut.mp4: 384x640 (no detections), 21.8ms\n",
            "video 1/1 (frame 517/2100) /content/drive/MyDrive/FYP/80_epochs/cut.mp4: 384x640 (no detections), 22.2ms\n",
            "video 1/1 (frame 518/2100) /content/drive/MyDrive/FYP/80_epochs/cut.mp4: 384x640 (no detections), 23.5ms\n",
            "video 1/1 (frame 519/2100) /content/drive/MyDrive/FYP/80_epochs/cut.mp4: 384x640 (no detections), 22.6ms\n",
            "video 1/1 (frame 520/2100) /content/drive/MyDrive/FYP/80_epochs/cut.mp4: 384x640 (no detections), 25.3ms\n",
            "video 1/1 (frame 521/2100) /content/drive/MyDrive/FYP/80_epochs/cut.mp4: 384x640 (no detections), 22.8ms\n",
            "video 1/1 (frame 522/2100) /content/drive/MyDrive/FYP/80_epochs/cut.mp4: 384x640 (no detections), 22.7ms\n",
            "video 1/1 (frame 523/2100) /content/drive/MyDrive/FYP/80_epochs/cut.mp4: 384x640 (no detections), 22.7ms\n",
            "video 1/1 (frame 524/2100) /content/drive/MyDrive/FYP/80_epochs/cut.mp4: 384x640 (no detections), 22.6ms\n",
            "video 1/1 (frame 525/2100) /content/drive/MyDrive/FYP/80_epochs/cut.mp4: 384x640 (no detections), 22.7ms\n",
            "video 1/1 (frame 526/2100) /content/drive/MyDrive/FYP/80_epochs/cut.mp4: 384x640 (no detections), 23.2ms\n",
            "video 1/1 (frame 527/2100) /content/drive/MyDrive/FYP/80_epochs/cut.mp4: 384x640 (no detections), 23.1ms\n",
            "video 1/1 (frame 528/2100) /content/drive/MyDrive/FYP/80_epochs/cut.mp4: 384x640 (no detections), 24.2ms\n",
            "video 1/1 (frame 529/2100) /content/drive/MyDrive/FYP/80_epochs/cut.mp4: 384x640 (no detections), 23.2ms\n",
            "video 1/1 (frame 530/2100) /content/drive/MyDrive/FYP/80_epochs/cut.mp4: 384x640 (no detections), 23.2ms\n",
            "video 1/1 (frame 531/2100) /content/drive/MyDrive/FYP/80_epochs/cut.mp4: 384x640 (no detections), 23.2ms\n",
            "video 1/1 (frame 532/2100) /content/drive/MyDrive/FYP/80_epochs/cut.mp4: 384x640 (no detections), 23.6ms\n",
            "video 1/1 (frame 533/2100) /content/drive/MyDrive/FYP/80_epochs/cut.mp4: 384x640 (no detections), 23.6ms\n",
            "video 1/1 (frame 534/2100) /content/drive/MyDrive/FYP/80_epochs/cut.mp4: 384x640 (no detections), 23.6ms\n",
            "video 1/1 (frame 535/2100) /content/drive/MyDrive/FYP/80_epochs/cut.mp4: 384x640 (no detections), 23.6ms\n",
            "video 1/1 (frame 536/2100) /content/drive/MyDrive/FYP/80_epochs/cut.mp4: 384x640 (no detections), 23.6ms\n",
            "video 1/1 (frame 537/2100) /content/drive/MyDrive/FYP/80_epochs/cut.mp4: 384x640 (no detections), 23.6ms\n",
            "video 1/1 (frame 538/2100) /content/drive/MyDrive/FYP/80_epochs/cut.mp4: 384x640 (no detections), 23.6ms\n",
            "video 1/1 (frame 539/2100) /content/drive/MyDrive/FYP/80_epochs/cut.mp4: 384x640 (no detections), 21.8ms\n",
            "video 1/1 (frame 540/2100) /content/drive/MyDrive/FYP/80_epochs/cut.mp4: 384x640 (no detections), 21.8ms\n",
            "video 1/1 (frame 541/2100) /content/drive/MyDrive/FYP/80_epochs/cut.mp4: 384x640 (no detections), 21.8ms\n",
            "video 1/1 (frame 542/2100) /content/drive/MyDrive/FYP/80_epochs/cut.mp4: 384x640 (no detections), 21.7ms\n",
            "video 1/1 (frame 543/2100) /content/drive/MyDrive/FYP/80_epochs/cut.mp4: 384x640 (no detections), 20.3ms\n",
            "video 1/1 (frame 544/2100) /content/drive/MyDrive/FYP/80_epochs/cut.mp4: 384x640 (no detections), 20.3ms\n",
            "video 1/1 (frame 545/2100) /content/drive/MyDrive/FYP/80_epochs/cut.mp4: 384x640 (no detections), 20.3ms\n",
            "video 1/1 (frame 546/2100) /content/drive/MyDrive/FYP/80_epochs/cut.mp4: 384x640 (no detections), 20.3ms\n",
            "video 1/1 (frame 547/2100) /content/drive/MyDrive/FYP/80_epochs/cut.mp4: 384x640 (no detections), 19.9ms\n",
            "video 1/1 (frame 548/2100) /content/drive/MyDrive/FYP/80_epochs/cut.mp4: 384x640 (no detections), 20.0ms\n",
            "video 1/1 (frame 549/2100) /content/drive/MyDrive/FYP/80_epochs/cut.mp4: 384x640 (no detections), 20.0ms\n",
            "video 1/1 (frame 550/2100) /content/drive/MyDrive/FYP/80_epochs/cut.mp4: 384x640 (no detections), 19.9ms\n",
            "video 1/1 (frame 551/2100) /content/drive/MyDrive/FYP/80_epochs/cut.mp4: 384x640 (no detections), 20.0ms\n",
            "video 1/1 (frame 552/2100) /content/drive/MyDrive/FYP/80_epochs/cut.mp4: 384x640 (no detections), 19.9ms\n",
            "video 1/1 (frame 553/2100) /content/drive/MyDrive/FYP/80_epochs/cut.mp4: 384x640 (no detections), 20.0ms\n",
            "video 1/1 (frame 554/2100) /content/drive/MyDrive/FYP/80_epochs/cut.mp4: 384x640 (no detections), 19.9ms\n",
            "video 1/1 (frame 555/2100) /content/drive/MyDrive/FYP/80_epochs/cut.mp4: 384x640 (no detections), 19.7ms\n",
            "video 1/1 (frame 556/2100) /content/drive/MyDrive/FYP/80_epochs/cut.mp4: 384x640 (no detections), 19.6ms\n",
            "video 1/1 (frame 557/2100) /content/drive/MyDrive/FYP/80_epochs/cut.mp4: 384x640 (no detections), 19.6ms\n",
            "video 1/1 (frame 558/2100) /content/drive/MyDrive/FYP/80_epochs/cut.mp4: 384x640 (no detections), 19.6ms\n",
            "video 1/1 (frame 559/2100) /content/drive/MyDrive/FYP/80_epochs/cut.mp4: 384x640 (no detections), 19.2ms\n",
            "video 1/1 (frame 560/2100) /content/drive/MyDrive/FYP/80_epochs/cut.mp4: 384x640 (no detections), 18.7ms\n",
            "video 1/1 (frame 561/2100) /content/drive/MyDrive/FYP/80_epochs/cut.mp4: 384x640 (no detections), 18.7ms\n",
            "video 1/1 (frame 562/2100) /content/drive/MyDrive/FYP/80_epochs/cut.mp4: 384x640 (no detections), 18.8ms\n",
            "video 1/1 (frame 563/2100) /content/drive/MyDrive/FYP/80_epochs/cut.mp4: 384x640 (no detections), 18.8ms\n",
            "video 1/1 (frame 564/2100) /content/drive/MyDrive/FYP/80_epochs/cut.mp4: 384x640 (no detections), 18.6ms\n",
            "video 1/1 (frame 565/2100) /content/drive/MyDrive/FYP/80_epochs/cut.mp4: 384x640 (no detections), 18.5ms\n",
            "video 1/1 (frame 566/2100) /content/drive/MyDrive/FYP/80_epochs/cut.mp4: 384x640 (no detections), 18.4ms\n",
            "video 1/1 (frame 567/2100) /content/drive/MyDrive/FYP/80_epochs/cut.mp4: 384x640 (no detections), 18.5ms\n",
            "video 1/1 (frame 568/2100) /content/drive/MyDrive/FYP/80_epochs/cut.mp4: 384x640 (no detections), 18.5ms\n",
            "video 1/1 (frame 569/2100) /content/drive/MyDrive/FYP/80_epochs/cut.mp4: 384x640 (no detections), 18.5ms\n",
            "video 1/1 (frame 570/2100) /content/drive/MyDrive/FYP/80_epochs/cut.mp4: 384x640 (no detections), 18.5ms\n",
            "video 1/1 (frame 571/2100) /content/drive/MyDrive/FYP/80_epochs/cut.mp4: 384x640 (no detections), 18.6ms\n",
            "video 1/1 (frame 572/2100) /content/drive/MyDrive/FYP/80_epochs/cut.mp4: 384x640 (no detections), 18.5ms\n",
            "video 1/1 (frame 573/2100) /content/drive/MyDrive/FYP/80_epochs/cut.mp4: 384x640 (no detections), 18.5ms\n",
            "video 1/1 (frame 574/2100) /content/drive/MyDrive/FYP/80_epochs/cut.mp4: 384x640 (no detections), 18.5ms\n",
            "video 1/1 (frame 575/2100) /content/drive/MyDrive/FYP/80_epochs/cut.mp4: 384x640 (no detections), 18.6ms\n",
            "video 1/1 (frame 576/2100) /content/drive/MyDrive/FYP/80_epochs/cut.mp4: 384x640 (no detections), 18.5ms\n",
            "video 1/1 (frame 577/2100) /content/drive/MyDrive/FYP/80_epochs/cut.mp4: 384x640 (no detections), 18.5ms\n",
            "video 1/1 (frame 578/2100) /content/drive/MyDrive/FYP/80_epochs/cut.mp4: 384x640 (no detections), 18.4ms\n",
            "video 1/1 (frame 579/2100) /content/drive/MyDrive/FYP/80_epochs/cut.mp4: 384x640 (no detections), 18.6ms\n",
            "video 1/1 (frame 580/2100) /content/drive/MyDrive/FYP/80_epochs/cut.mp4: 384x640 (no detections), 18.5ms\n",
            "video 1/1 (frame 581/2100) /content/drive/MyDrive/FYP/80_epochs/cut.mp4: 384x640 (no detections), 18.5ms\n",
            "video 1/1 (frame 582/2100) /content/drive/MyDrive/FYP/80_epochs/cut.mp4: 384x640 (no detections), 18.5ms\n",
            "video 1/1 (frame 583/2100) /content/drive/MyDrive/FYP/80_epochs/cut.mp4: 384x640 (no detections), 18.5ms\n",
            "video 1/1 (frame 584/2100) /content/drive/MyDrive/FYP/80_epochs/cut.mp4: 384x640 (no detections), 18.5ms\n",
            "video 1/1 (frame 585/2100) /content/drive/MyDrive/FYP/80_epochs/cut.mp4: 384x640 (no detections), 18.5ms\n",
            "video 1/1 (frame 586/2100) /content/drive/MyDrive/FYP/80_epochs/cut.mp4: 384x640 (no detections), 18.4ms\n",
            "video 1/1 (frame 587/2100) /content/drive/MyDrive/FYP/80_epochs/cut.mp4: 384x640 (no detections), 18.7ms\n",
            "video 1/1 (frame 588/2100) /content/drive/MyDrive/FYP/80_epochs/cut.mp4: 384x640 (no detections), 18.4ms\n",
            "video 1/1 (frame 589/2100) /content/drive/MyDrive/FYP/80_epochs/cut.mp4: 384x640 (no detections), 18.4ms\n",
            "video 1/1 (frame 590/2100) /content/drive/MyDrive/FYP/80_epochs/cut.mp4: 384x640 (no detections), 18.5ms\n",
            "video 1/1 (frame 591/2100) /content/drive/MyDrive/FYP/80_epochs/cut.mp4: 384x640 (no detections), 18.4ms\n",
            "video 1/1 (frame 592/2100) /content/drive/MyDrive/FYP/80_epochs/cut.mp4: 384x640 (no detections), 18.5ms\n",
            "video 1/1 (frame 593/2100) /content/drive/MyDrive/FYP/80_epochs/cut.mp4: 384x640 (no detections), 18.4ms\n",
            "video 1/1 (frame 594/2100) /content/drive/MyDrive/FYP/80_epochs/cut.mp4: 384x640 (no detections), 18.4ms\n",
            "video 1/1 (frame 595/2100) /content/drive/MyDrive/FYP/80_epochs/cut.mp4: 384x640 (no detections), 18.4ms\n",
            "video 1/1 (frame 596/2100) /content/drive/MyDrive/FYP/80_epochs/cut.mp4: 384x640 (no detections), 18.6ms\n",
            "video 1/1 (frame 597/2100) /content/drive/MyDrive/FYP/80_epochs/cut.mp4: 384x640 (no detections), 17.5ms\n",
            "video 1/1 (frame 598/2100) /content/drive/MyDrive/FYP/80_epochs/cut.mp4: 384x640 (no detections), 17.5ms\n",
            "video 1/1 (frame 599/2100) /content/drive/MyDrive/FYP/80_epochs/cut.mp4: 384x640 (no detections), 17.5ms\n",
            "video 1/1 (frame 600/2100) /content/drive/MyDrive/FYP/80_epochs/cut.mp4: 384x640 (no detections), 17.5ms\n",
            "video 1/1 (frame 601/2100) /content/drive/MyDrive/FYP/80_epochs/cut.mp4: 384x640 (no detections), 17.5ms\n",
            "video 1/1 (frame 602/2100) /content/drive/MyDrive/FYP/80_epochs/cut.mp4: 384x640 (no detections), 17.5ms\n",
            "video 1/1 (frame 603/2100) /content/drive/MyDrive/FYP/80_epochs/cut.mp4: 384x640 (no detections), 17.4ms\n",
            "video 1/1 (frame 604/2100) /content/drive/MyDrive/FYP/80_epochs/cut.mp4: 384x640 (no detections), 17.4ms\n",
            "video 1/1 (frame 605/2100) /content/drive/MyDrive/FYP/80_epochs/cut.mp4: 384x640 (no detections), 17.5ms\n",
            "video 1/1 (frame 606/2100) /content/drive/MyDrive/FYP/80_epochs/cut.mp4: 384x640 (no detections), 17.5ms\n",
            "video 1/1 (frame 607/2100) /content/drive/MyDrive/FYP/80_epochs/cut.mp4: 384x640 (no detections), 17.4ms\n",
            "video 1/1 (frame 608/2100) /content/drive/MyDrive/FYP/80_epochs/cut.mp4: 384x640 (no detections), 17.4ms\n",
            "video 1/1 (frame 609/2100) /content/drive/MyDrive/FYP/80_epochs/cut.mp4: 384x640 (no detections), 17.4ms\n",
            "video 1/1 (frame 610/2100) /content/drive/MyDrive/FYP/80_epochs/cut.mp4: 384x640 (no detections), 16.8ms\n",
            "video 1/1 (frame 611/2100) /content/drive/MyDrive/FYP/80_epochs/cut.mp4: 384x640 (no detections), 17.1ms\n",
            "video 1/1 (frame 612/2100) /content/drive/MyDrive/FYP/80_epochs/cut.mp4: 384x640 (no detections), 16.7ms\n",
            "video 1/1 (frame 613/2100) /content/drive/MyDrive/FYP/80_epochs/cut.mp4: 384x640 (no detections), 16.7ms\n",
            "video 1/1 (frame 614/2100) /content/drive/MyDrive/FYP/80_epochs/cut.mp4: 384x640 (no detections), 16.9ms\n",
            "video 1/1 (frame 615/2100) /content/drive/MyDrive/FYP/80_epochs/cut.mp4: 384x640 (no detections), 16.7ms\n",
            "video 1/1 (frame 616/2100) /content/drive/MyDrive/FYP/80_epochs/cut.mp4: 384x640 (no detections), 16.8ms\n",
            "video 1/1 (frame 617/2100) /content/drive/MyDrive/FYP/80_epochs/cut.mp4: 384x640 (no detections), 16.9ms\n",
            "video 1/1 (frame 618/2100) /content/drive/MyDrive/FYP/80_epochs/cut.mp4: 384x640 (no detections), 16.8ms\n",
            "video 1/1 (frame 619/2100) /content/drive/MyDrive/FYP/80_epochs/cut.mp4: 384x640 (no detections), 16.8ms\n",
            "video 1/1 (frame 620/2100) /content/drive/MyDrive/FYP/80_epochs/cut.mp4: 384x640 (no detections), 16.8ms\n",
            "video 1/1 (frame 621/2100) /content/drive/MyDrive/FYP/80_epochs/cut.mp4: 384x640 (no detections), 16.8ms\n",
            "video 1/1 (frame 622/2100) /content/drive/MyDrive/FYP/80_epochs/cut.mp4: 384x640 (no detections), 17.3ms\n",
            "video 1/1 (frame 623/2100) /content/drive/MyDrive/FYP/80_epochs/cut.mp4: 384x640 (no detections), 16.8ms\n",
            "video 1/1 (frame 624/2100) /content/drive/MyDrive/FYP/80_epochs/cut.mp4: 384x640 (no detections), 17.1ms\n",
            "video 1/1 (frame 625/2100) /content/drive/MyDrive/FYP/80_epochs/cut.mp4: 384x640 (no detections), 16.8ms\n",
            "video 1/1 (frame 626/2100) /content/drive/MyDrive/FYP/80_epochs/cut.mp4: 384x640 (no detections), 16.7ms\n",
            "video 1/1 (frame 627/2100) /content/drive/MyDrive/FYP/80_epochs/cut.mp4: 384x640 (no detections), 16.8ms\n",
            "video 1/1 (frame 628/2100) /content/drive/MyDrive/FYP/80_epochs/cut.mp4: 384x640 (no detections), 16.7ms\n",
            "video 1/1 (frame 629/2100) /content/drive/MyDrive/FYP/80_epochs/cut.mp4: 384x640 (no detections), 16.8ms\n",
            "video 1/1 (frame 630/2100) /content/drive/MyDrive/FYP/80_epochs/cut.mp4: 384x640 (no detections), 16.8ms\n",
            "video 1/1 (frame 631/2100) /content/drive/MyDrive/FYP/80_epochs/cut.mp4: 384x640 (no detections), 16.8ms\n",
            "video 1/1 (frame 632/2100) /content/drive/MyDrive/FYP/80_epochs/cut.mp4: 384x640 (no detections), 16.7ms\n",
            "video 1/1 (frame 633/2100) /content/drive/MyDrive/FYP/80_epochs/cut.mp4: 384x640 (no detections), 16.8ms\n",
            "video 1/1 (frame 634/2100) /content/drive/MyDrive/FYP/80_epochs/cut.mp4: 384x640 (no detections), 16.7ms\n",
            "video 1/1 (frame 635/2100) /content/drive/MyDrive/FYP/80_epochs/cut.mp4: 384x640 (no detections), 16.8ms\n",
            "video 1/1 (frame 636/2100) /content/drive/MyDrive/FYP/80_epochs/cut.mp4: 384x640 (no detections), 16.8ms\n",
            "video 1/1 (frame 637/2100) /content/drive/MyDrive/FYP/80_epochs/cut.mp4: 384x640 (no detections), 16.7ms\n",
            "video 1/1 (frame 638/2100) /content/drive/MyDrive/FYP/80_epochs/cut.mp4: 384x640 (no detections), 16.7ms\n",
            "video 1/1 (frame 639/2100) /content/drive/MyDrive/FYP/80_epochs/cut.mp4: 384x640 (no detections), 16.8ms\n",
            "video 1/1 (frame 640/2100) /content/drive/MyDrive/FYP/80_epochs/cut.mp4: 384x640 (no detections), 16.7ms\n",
            "video 1/1 (frame 641/2100) /content/drive/MyDrive/FYP/80_epochs/cut.mp4: 384x640 (no detections), 16.8ms\n",
            "video 1/1 (frame 642/2100) /content/drive/MyDrive/FYP/80_epochs/cut.mp4: 384x640 (no detections), 16.8ms\n",
            "video 1/1 (frame 643/2100) /content/drive/MyDrive/FYP/80_epochs/cut.mp4: 384x640 (no detections), 16.8ms\n",
            "video 1/1 (frame 644/2100) /content/drive/MyDrive/FYP/80_epochs/cut.mp4: 384x640 (no detections), 16.8ms\n",
            "video 1/1 (frame 645/2100) /content/drive/MyDrive/FYP/80_epochs/cut.mp4: 384x640 (no detections), 16.8ms\n",
            "video 1/1 (frame 646/2100) /content/drive/MyDrive/FYP/80_epochs/cut.mp4: 384x640 (no detections), 16.7ms\n",
            "video 1/1 (frame 647/2100) /content/drive/MyDrive/FYP/80_epochs/cut.mp4: 384x640 (no detections), 16.7ms\n",
            "video 1/1 (frame 648/2100) /content/drive/MyDrive/FYP/80_epochs/cut.mp4: 384x640 (no detections), 16.8ms\n",
            "video 1/1 (frame 649/2100) /content/drive/MyDrive/FYP/80_epochs/cut.mp4: 384x640 (no detections), 16.9ms\n",
            "video 1/1 (frame 650/2100) /content/drive/MyDrive/FYP/80_epochs/cut.mp4: 384x640 (no detections), 17.1ms\n",
            "video 1/1 (frame 651/2100) /content/drive/MyDrive/FYP/80_epochs/cut.mp4: 384x640 (no detections), 17.0ms\n",
            "video 1/1 (frame 652/2100) /content/drive/MyDrive/FYP/80_epochs/cut.mp4: 384x640 (no detections), 17.0ms\n",
            "video 1/1 (frame 653/2100) /content/drive/MyDrive/FYP/80_epochs/cut.mp4: 384x640 (no detections), 17.2ms\n",
            "video 1/1 (frame 654/2100) /content/drive/MyDrive/FYP/80_epochs/cut.mp4: 384x640 (no detections), 17.2ms\n",
            "video 1/1 (frame 655/2100) /content/drive/MyDrive/FYP/80_epochs/cut.mp4: 384x640 (no detections), 17.3ms\n",
            "video 1/1 (frame 656/2100) /content/drive/MyDrive/FYP/80_epochs/cut.mp4: 384x640 (no detections), 17.2ms\n",
            "video 1/1 (frame 657/2100) /content/drive/MyDrive/FYP/80_epochs/cut.mp4: 384x640 (no detections), 17.2ms\n",
            "video 1/1 (frame 658/2100) /content/drive/MyDrive/FYP/80_epochs/cut.mp4: 384x640 (no detections), 16.3ms\n",
            "video 1/1 (frame 659/2100) /content/drive/MyDrive/FYP/80_epochs/cut.mp4: 384x640 (no detections), 16.3ms\n",
            "video 1/1 (frame 660/2100) /content/drive/MyDrive/FYP/80_epochs/cut.mp4: 384x640 (no detections), 16.4ms\n",
            "video 1/1 (frame 661/2100) /content/drive/MyDrive/FYP/80_epochs/cut.mp4: 384x640 (no detections), 16.3ms\n",
            "video 1/1 (frame 662/2100) /content/drive/MyDrive/FYP/80_epochs/cut.mp4: 384x640 (no detections), 16.4ms\n",
            "video 1/1 (frame 663/2100) /content/drive/MyDrive/FYP/80_epochs/cut.mp4: 384x640 (no detections), 16.4ms\n",
            "video 1/1 (frame 664/2100) /content/drive/MyDrive/FYP/80_epochs/cut.mp4: 384x640 (no detections), 16.4ms\n",
            "video 1/1 (frame 665/2100) /content/drive/MyDrive/FYP/80_epochs/cut.mp4: 384x640 (no detections), 16.4ms\n",
            "video 1/1 (frame 666/2100) /content/drive/MyDrive/FYP/80_epochs/cut.mp4: 384x640 (no detections), 16.4ms\n",
            "video 1/1 (frame 667/2100) /content/drive/MyDrive/FYP/80_epochs/cut.mp4: 384x640 (no detections), 24.6ms\n",
            "video 1/1 (frame 668/2100) /content/drive/MyDrive/FYP/80_epochs/cut.mp4: 384x640 (no detections), 16.2ms\n",
            "video 1/1 (frame 669/2100) /content/drive/MyDrive/FYP/80_epochs/cut.mp4: 384x640 (no detections), 16.2ms\n",
            "video 1/1 (frame 670/2100) /content/drive/MyDrive/FYP/80_epochs/cut.mp4: 384x640 (no detections), 16.3ms\n",
            "video 1/1 (frame 671/2100) /content/drive/MyDrive/FYP/80_epochs/cut.mp4: 384x640 (no detections), 16.2ms\n",
            "video 1/1 (frame 672/2100) /content/drive/MyDrive/FYP/80_epochs/cut.mp4: 384x640 (no detections), 16.3ms\n",
            "video 1/1 (frame 673/2100) /content/drive/MyDrive/FYP/80_epochs/cut.mp4: 384x640 (no detections), 16.2ms\n",
            "video 1/1 (frame 674/2100) /content/drive/MyDrive/FYP/80_epochs/cut.mp4: 384x640 (no detections), 16.3ms\n",
            "video 1/1 (frame 675/2100) /content/drive/MyDrive/FYP/80_epochs/cut.mp4: 384x640 (no detections), 16.2ms\n",
            "video 1/1 (frame 676/2100) /content/drive/MyDrive/FYP/80_epochs/cut.mp4: 384x640 (no detections), 16.1ms\n",
            "video 1/1 (frame 677/2100) /content/drive/MyDrive/FYP/80_epochs/cut.mp4: 384x640 (no detections), 16.1ms\n",
            "video 1/1 (frame 678/2100) /content/drive/MyDrive/FYP/80_epochs/cut.mp4: 384x640 (no detections), 16.0ms\n",
            "video 1/1 (frame 679/2100) /content/drive/MyDrive/FYP/80_epochs/cut.mp4: 384x640 (no detections), 15.9ms\n",
            "video 1/1 (frame 680/2100) /content/drive/MyDrive/FYP/80_epochs/cut.mp4: 384x640 (no detections), 15.9ms\n",
            "video 1/1 (frame 681/2100) /content/drive/MyDrive/FYP/80_epochs/cut.mp4: 384x640 (no detections), 16.0ms\n",
            "video 1/1 (frame 682/2100) /content/drive/MyDrive/FYP/80_epochs/cut.mp4: 384x640 (no detections), 16.0ms\n",
            "video 1/1 (frame 683/2100) /content/drive/MyDrive/FYP/80_epochs/cut.mp4: 384x640 (no detections), 16.0ms\n",
            "video 1/1 (frame 684/2100) /content/drive/MyDrive/FYP/80_epochs/cut.mp4: 384x640 (no detections), 16.0ms\n",
            "video 1/1 (frame 685/2100) /content/drive/MyDrive/FYP/80_epochs/cut.mp4: 384x640 (no detections), 16.0ms\n",
            "video 1/1 (frame 686/2100) /content/drive/MyDrive/FYP/80_epochs/cut.mp4: 384x640 (no detections), 16.0ms\n",
            "video 1/1 (frame 687/2100) /content/drive/MyDrive/FYP/80_epochs/cut.mp4: 384x640 (no detections), 16.0ms\n",
            "video 1/1 (frame 688/2100) /content/drive/MyDrive/FYP/80_epochs/cut.mp4: 384x640 (no detections), 15.9ms\n",
            "video 1/1 (frame 689/2100) /content/drive/MyDrive/FYP/80_epochs/cut.mp4: 384x640 (no detections), 16.0ms\n",
            "video 1/1 (frame 690/2100) /content/drive/MyDrive/FYP/80_epochs/cut.mp4: 384x640 (no detections), 16.0ms\n",
            "video 1/1 (frame 691/2100) /content/drive/MyDrive/FYP/80_epochs/cut.mp4: 384x640 (no detections), 16.0ms\n",
            "video 1/1 (frame 692/2100) /content/drive/MyDrive/FYP/80_epochs/cut.mp4: 384x640 (no detections), 16.0ms\n",
            "video 1/1 (frame 693/2100) /content/drive/MyDrive/FYP/80_epochs/cut.mp4: 384x640 (no detections), 15.9ms\n",
            "video 1/1 (frame 694/2100) /content/drive/MyDrive/FYP/80_epochs/cut.mp4: 384x640 (no detections), 16.0ms\n",
            "video 1/1 (frame 695/2100) /content/drive/MyDrive/FYP/80_epochs/cut.mp4: 384x640 (no detections), 16.0ms\n",
            "video 1/1 (frame 696/2100) /content/drive/MyDrive/FYP/80_epochs/cut.mp4: 384x640 (no detections), 16.0ms\n",
            "video 1/1 (frame 697/2100) /content/drive/MyDrive/FYP/80_epochs/cut.mp4: 384x640 (no detections), 16.0ms\n",
            "video 1/1 (frame 698/2100) /content/drive/MyDrive/FYP/80_epochs/cut.mp4: 384x640 (no detections), 16.0ms\n",
            "video 1/1 (frame 699/2100) /content/drive/MyDrive/FYP/80_epochs/cut.mp4: 384x640 (no detections), 16.0ms\n",
            "video 1/1 (frame 700/2100) /content/drive/MyDrive/FYP/80_epochs/cut.mp4: 384x640 (no detections), 16.0ms\n",
            "video 1/1 (frame 701/2100) /content/drive/MyDrive/FYP/80_epochs/cut.mp4: 384x640 (no detections), 16.0ms\n",
            "video 1/1 (frame 702/2100) /content/drive/MyDrive/FYP/80_epochs/cut.mp4: 384x640 (no detections), 16.0ms\n",
            "video 1/1 (frame 703/2100) /content/drive/MyDrive/FYP/80_epochs/cut.mp4: 384x640 (no detections), 15.9ms\n",
            "video 1/1 (frame 704/2100) /content/drive/MyDrive/FYP/80_epochs/cut.mp4: 384x640 (no detections), 16.0ms\n",
            "video 1/1 (frame 705/2100) /content/drive/MyDrive/FYP/80_epochs/cut.mp4: 384x640 (no detections), 16.0ms\n",
            "video 1/1 (frame 706/2100) /content/drive/MyDrive/FYP/80_epochs/cut.mp4: 384x640 (no detections), 16.0ms\n",
            "video 1/1 (frame 707/2100) /content/drive/MyDrive/FYP/80_epochs/cut.mp4: 384x640 (no detections), 16.1ms\n",
            "video 1/1 (frame 708/2100) /content/drive/MyDrive/FYP/80_epochs/cut.mp4: 384x640 (no detections), 16.2ms\n",
            "video 1/1 (frame 709/2100) /content/drive/MyDrive/FYP/80_epochs/cut.mp4: 384x640 (no detections), 15.9ms\n",
            "video 1/1 (frame 710/2100) /content/drive/MyDrive/FYP/80_epochs/cut.mp4: 384x640 (no detections), 16.0ms\n",
            "video 1/1 (frame 711/2100) /content/drive/MyDrive/FYP/80_epochs/cut.mp4: 384x640 (no detections), 16.2ms\n",
            "video 1/1 (frame 712/2100) /content/drive/MyDrive/FYP/80_epochs/cut.mp4: 384x640 (no detections), 16.3ms\n",
            "video 1/1 (frame 713/2100) /content/drive/MyDrive/FYP/80_epochs/cut.mp4: 384x640 (no detections), 16.3ms\n",
            "video 1/1 (frame 714/2100) /content/drive/MyDrive/FYP/80_epochs/cut.mp4: 384x640 (no detections), 16.1ms\n",
            "video 1/1 (frame 715/2100) /content/drive/MyDrive/FYP/80_epochs/cut.mp4: 384x640 (no detections), 16.1ms\n",
            "video 1/1 (frame 716/2100) /content/drive/MyDrive/FYP/80_epochs/cut.mp4: 384x640 (no detections), 16.4ms\n",
            "video 1/1 (frame 717/2100) /content/drive/MyDrive/FYP/80_epochs/cut.mp4: 384x640 (no detections), 16.5ms\n",
            "video 1/1 (frame 718/2100) /content/drive/MyDrive/FYP/80_epochs/cut.mp4: 384x640 (no detections), 16.4ms\n",
            "video 1/1 (frame 719/2100) /content/drive/MyDrive/FYP/80_epochs/cut.mp4: 384x640 (no detections), 16.4ms\n",
            "video 1/1 (frame 720/2100) /content/drive/MyDrive/FYP/80_epochs/cut.mp4: 384x640 (no detections), 16.5ms\n",
            "video 1/1 (frame 721/2100) /content/drive/MyDrive/FYP/80_epochs/cut.mp4: 384x640 (no detections), 16.6ms\n",
            "video 1/1 (frame 722/2100) /content/drive/MyDrive/FYP/80_epochs/cut.mp4: 384x640 (no detections), 16.5ms\n",
            "video 1/1 (frame 723/2100) /content/drive/MyDrive/FYP/80_epochs/cut.mp4: 384x640 (no detections), 16.6ms\n",
            "video 1/1 (frame 724/2100) /content/drive/MyDrive/FYP/80_epochs/cut.mp4: 384x640 (no detections), 16.8ms\n",
            "video 1/1 (frame 725/2100) /content/drive/MyDrive/FYP/80_epochs/cut.mp4: 384x640 (no detections), 16.5ms\n",
            "video 1/1 (frame 726/2100) /content/drive/MyDrive/FYP/80_epochs/cut.mp4: 384x640 (no detections), 16.5ms\n",
            "video 1/1 (frame 727/2100) /content/drive/MyDrive/FYP/80_epochs/cut.mp4: 384x640 (no detections), 16.5ms\n",
            "video 1/1 (frame 728/2100) /content/drive/MyDrive/FYP/80_epochs/cut.mp4: 384x640 (no detections), 16.6ms\n",
            "video 1/1 (frame 729/2100) /content/drive/MyDrive/FYP/80_epochs/cut.mp4: 384x640 (no detections), 16.6ms\n",
            "video 1/1 (frame 730/2100) /content/drive/MyDrive/FYP/80_epochs/cut.mp4: 384x640 (no detections), 16.5ms\n",
            "video 1/1 (frame 731/2100) /content/drive/MyDrive/FYP/80_epochs/cut.mp4: 384x640 (no detections), 16.5ms\n",
            "video 1/1 (frame 732/2100) /content/drive/MyDrive/FYP/80_epochs/cut.mp4: 384x640 (no detections), 16.6ms\n",
            "video 1/1 (frame 733/2100) /content/drive/MyDrive/FYP/80_epochs/cut.mp4: 384x640 (no detections), 16.6ms\n",
            "video 1/1 (frame 734/2100) /content/drive/MyDrive/FYP/80_epochs/cut.mp4: 384x640 (no detections), 16.2ms\n",
            "video 1/1 (frame 735/2100) /content/drive/MyDrive/FYP/80_epochs/cut.mp4: 384x640 (no detections), 16.2ms\n",
            "video 1/1 (frame 736/2100) /content/drive/MyDrive/FYP/80_epochs/cut.mp4: 384x640 (no detections), 16.3ms\n",
            "video 1/1 (frame 737/2100) /content/drive/MyDrive/FYP/80_epochs/cut.mp4: 384x640 (no detections), 16.3ms\n",
            "video 1/1 (frame 738/2100) /content/drive/MyDrive/FYP/80_epochs/cut.mp4: 384x640 (no detections), 16.3ms\n",
            "video 1/1 (frame 739/2100) /content/drive/MyDrive/FYP/80_epochs/cut.mp4: 384x640 (no detections), 16.3ms\n",
            "video 1/1 (frame 740/2100) /content/drive/MyDrive/FYP/80_epochs/cut.mp4: 384x640 (no detections), 16.3ms\n",
            "video 1/1 (frame 741/2100) /content/drive/MyDrive/FYP/80_epochs/cut.mp4: 384x640 (no detections), 16.3ms\n",
            "video 1/1 (frame 742/2100) /content/drive/MyDrive/FYP/80_epochs/cut.mp4: 384x640 (no detections), 16.2ms\n",
            "video 1/1 (frame 743/2100) /content/drive/MyDrive/FYP/80_epochs/cut.mp4: 384x640 (no detections), 16.2ms\n",
            "video 1/1 (frame 744/2100) /content/drive/MyDrive/FYP/80_epochs/cut.mp4: 384x640 (no detections), 16.1ms\n",
            "video 1/1 (frame 745/2100) /content/drive/MyDrive/FYP/80_epochs/cut.mp4: 384x640 (no detections), 16.0ms\n",
            "video 1/1 (frame 746/2100) /content/drive/MyDrive/FYP/80_epochs/cut.mp4: 384x640 (no detections), 16.0ms\n",
            "video 1/1 (frame 747/2100) /content/drive/MyDrive/FYP/80_epochs/cut.mp4: 384x640 (no detections), 16.0ms\n",
            "video 1/1 (frame 748/2100) /content/drive/MyDrive/FYP/80_epochs/cut.mp4: 384x640 (no detections), 16.0ms\n",
            "video 1/1 (frame 749/2100) /content/drive/MyDrive/FYP/80_epochs/cut.mp4: 384x640 (no detections), 16.5ms\n",
            "video 1/1 (frame 750/2100) /content/drive/MyDrive/FYP/80_epochs/cut.mp4: 384x640 (no detections), 17.5ms\n",
            "video 1/1 (frame 751/2100) /content/drive/MyDrive/FYP/80_epochs/cut.mp4: 384x640 (no detections), 18.1ms\n",
            "video 1/1 (frame 752/2100) /content/drive/MyDrive/FYP/80_epochs/cut.mp4: 384x640 (no detections), 16.0ms\n",
            "video 1/1 (frame 753/2100) /content/drive/MyDrive/FYP/80_epochs/cut.mp4: 384x640 (no detections), 21.1ms\n",
            "video 1/1 (frame 754/2100) /content/drive/MyDrive/FYP/80_epochs/cut.mp4: 384x640 (no detections), 16.0ms\n",
            "video 1/1 (frame 755/2100) /content/drive/MyDrive/FYP/80_epochs/cut.mp4: 384x640 (no detections), 16.0ms\n",
            "video 1/1 (frame 756/2100) /content/drive/MyDrive/FYP/80_epochs/cut.mp4: 384x640 (no detections), 18.8ms\n",
            "video 1/1 (frame 757/2100) /content/drive/MyDrive/FYP/80_epochs/cut.mp4: 384x640 (no detections), 16.0ms\n",
            "video 1/1 (frame 758/2100) /content/drive/MyDrive/FYP/80_epochs/cut.mp4: 384x640 (no detections), 18.7ms\n",
            "video 1/1 (frame 759/2100) /content/drive/MyDrive/FYP/80_epochs/cut.mp4: 384x640 (no detections), 16.0ms\n",
            "video 1/1 (frame 760/2100) /content/drive/MyDrive/FYP/80_epochs/cut.mp4: 384x640 (no detections), 16.0ms\n",
            "video 1/1 (frame 761/2100) /content/drive/MyDrive/FYP/80_epochs/cut.mp4: 384x640 (no detections), 16.0ms\n",
            "video 1/1 (frame 762/2100) /content/drive/MyDrive/FYP/80_epochs/cut.mp4: 384x640 (no detections), 16.0ms\n",
            "video 1/1 (frame 763/2100) /content/drive/MyDrive/FYP/80_epochs/cut.mp4: 384x640 (no detections), 16.0ms\n",
            "video 1/1 (frame 764/2100) /content/drive/MyDrive/FYP/80_epochs/cut.mp4: 384x640 (no detections), 16.0ms\n",
            "video 1/1 (frame 765/2100) /content/drive/MyDrive/FYP/80_epochs/cut.mp4: 384x640 (no detections), 16.0ms\n",
            "video 1/1 (frame 766/2100) /content/drive/MyDrive/FYP/80_epochs/cut.mp4: 384x640 (no detections), 16.1ms\n",
            "video 1/1 (frame 767/2100) /content/drive/MyDrive/FYP/80_epochs/cut.mp4: 384x640 (no detections), 20.9ms\n",
            "video 1/1 (frame 768/2100) /content/drive/MyDrive/FYP/80_epochs/cut.mp4: 384x640 (no detections), 19.8ms\n",
            "video 1/1 (frame 769/2100) /content/drive/MyDrive/FYP/80_epochs/cut.mp4: 384x640 (no detections), 19.3ms\n",
            "video 1/1 (frame 770/2100) /content/drive/MyDrive/FYP/80_epochs/cut.mp4: 384x640 (no detections), 19.1ms\n",
            "video 1/1 (frame 771/2100) /content/drive/MyDrive/FYP/80_epochs/cut.mp4: 384x640 (no detections), 18.9ms\n",
            "video 1/1 (frame 772/2100) /content/drive/MyDrive/FYP/80_epochs/cut.mp4: 384x640 (no detections), 20.0ms\n",
            "video 1/1 (frame 773/2100) /content/drive/MyDrive/FYP/80_epochs/cut.mp4: 384x640 (no detections), 25.0ms\n",
            "video 1/1 (frame 774/2100) /content/drive/MyDrive/FYP/80_epochs/cut.mp4: 384x640 (no detections), 20.7ms\n",
            "video 1/1 (frame 775/2100) /content/drive/MyDrive/FYP/80_epochs/cut.mp4: 384x640 (no detections), 19.4ms\n",
            "video 1/1 (frame 776/2100) /content/drive/MyDrive/FYP/80_epochs/cut.mp4: 384x640 (no detections), 19.7ms\n",
            "video 1/1 (frame 777/2100) /content/drive/MyDrive/FYP/80_epochs/cut.mp4: 384x640 (no detections), 19.7ms\n",
            "video 1/1 (frame 778/2100) /content/drive/MyDrive/FYP/80_epochs/cut.mp4: 384x640 (no detections), 19.7ms\n",
            "video 1/1 (frame 779/2100) /content/drive/MyDrive/FYP/80_epochs/cut.mp4: 384x640 (no detections), 20.0ms\n",
            "video 1/1 (frame 780/2100) /content/drive/MyDrive/FYP/80_epochs/cut.mp4: 384x640 (no detections), 19.9ms\n",
            "video 1/1 (frame 781/2100) /content/drive/MyDrive/FYP/80_epochs/cut.mp4: 384x640 (no detections), 20.0ms\n",
            "video 1/1 (frame 782/2100) /content/drive/MyDrive/FYP/80_epochs/cut.mp4: 384x640 (no detections), 20.3ms\n",
            "video 1/1 (frame 783/2100) /content/drive/MyDrive/FYP/80_epochs/cut.mp4: 384x640 (no detections), 20.3ms\n",
            "video 1/1 (frame 784/2100) /content/drive/MyDrive/FYP/80_epochs/cut.mp4: 384x640 (no detections), 20.4ms\n",
            "video 1/1 (frame 785/2100) /content/drive/MyDrive/FYP/80_epochs/cut.mp4: 384x640 (no detections), 20.7ms\n",
            "video 1/1 (frame 786/2100) /content/drive/MyDrive/FYP/80_epochs/cut.mp4: 384x640 (no detections), 20.6ms\n",
            "video 1/1 (frame 787/2100) /content/drive/MyDrive/FYP/80_epochs/cut.mp4: 384x640 (no detections), 20.7ms\n",
            "video 1/1 (frame 788/2100) /content/drive/MyDrive/FYP/80_epochs/cut.mp4: 384x640 (no detections), 21.1ms\n",
            "video 1/1 (frame 789/2100) /content/drive/MyDrive/FYP/80_epochs/cut.mp4: 384x640 (no detections), 21.4ms\n",
            "video 1/1 (frame 790/2100) /content/drive/MyDrive/FYP/80_epochs/cut.mp4: 384x640 (no detections), 21.1ms\n",
            "video 1/1 (frame 791/2100) /content/drive/MyDrive/FYP/80_epochs/cut.mp4: 384x640 (no detections), 21.4ms\n",
            "video 1/1 (frame 792/2100) /content/drive/MyDrive/FYP/80_epochs/cut.mp4: 384x640 (no detections), 21.5ms\n",
            "video 1/1 (frame 793/2100) /content/drive/MyDrive/FYP/80_epochs/cut.mp4: 384x640 (no detections), 21.5ms\n",
            "video 1/1 (frame 794/2100) /content/drive/MyDrive/FYP/80_epochs/cut.mp4: 384x640 (no detections), 22.5ms\n",
            "video 1/1 (frame 795/2100) /content/drive/MyDrive/FYP/80_epochs/cut.mp4: 384x640 (no detections), 21.8ms\n",
            "video 1/1 (frame 796/2100) /content/drive/MyDrive/FYP/80_epochs/cut.mp4: 384x640 (no detections), 21.9ms\n",
            "video 1/1 (frame 797/2100) /content/drive/MyDrive/FYP/80_epochs/cut.mp4: 384x640 (no detections), 24.2ms\n",
            "video 1/1 (frame 798/2100) /content/drive/MyDrive/FYP/80_epochs/cut.mp4: 384x640 (no detections), 22.7ms\n",
            "video 1/1 (frame 799/2100) /content/drive/MyDrive/FYP/80_epochs/cut.mp4: 384x640 (no detections), 22.4ms\n",
            "video 1/1 (frame 800/2100) /content/drive/MyDrive/FYP/80_epochs/cut.mp4: 384x640 (no detections), 22.7ms\n",
            "video 1/1 (frame 801/2100) /content/drive/MyDrive/FYP/80_epochs/cut.mp4: 384x640 (no detections), 22.7ms\n",
            "video 1/1 (frame 802/2100) /content/drive/MyDrive/FYP/80_epochs/cut.mp4: 384x640 (no detections), 23.7ms\n",
            "video 1/1 (frame 803/2100) /content/drive/MyDrive/FYP/80_epochs/cut.mp4: 384x640 (no detections), 22.7ms\n",
            "video 1/1 (frame 804/2100) /content/drive/MyDrive/FYP/80_epochs/cut.mp4: 384x640 (no detections), 22.7ms\n",
            "video 1/1 (frame 805/2100) /content/drive/MyDrive/FYP/80_epochs/cut.mp4: 384x640 (no detections), 24.2ms\n",
            "video 1/1 (frame 806/2100) /content/drive/MyDrive/FYP/80_epochs/cut.mp4: 384x640 (no detections), 23.2ms\n",
            "video 1/1 (frame 807/2100) /content/drive/MyDrive/FYP/80_epochs/cut.mp4: 384x640 (no detections), 23.1ms\n",
            "video 1/1 (frame 808/2100) /content/drive/MyDrive/FYP/80_epochs/cut.mp4: 384x640 (no detections), 23.2ms\n",
            "video 1/1 (frame 809/2100) /content/drive/MyDrive/FYP/80_epochs/cut.mp4: 384x640 (no detections), 21.8ms\n",
            "video 1/1 (frame 810/2100) /content/drive/MyDrive/FYP/80_epochs/cut.mp4: 384x640 (no detections), 21.8ms\n",
            "video 1/1 (frame 811/2100) /content/drive/MyDrive/FYP/80_epochs/cut.mp4: 384x640 (no detections), 21.8ms\n",
            "video 1/1 (frame 812/2100) /content/drive/MyDrive/FYP/80_epochs/cut.mp4: 384x640 (no detections), 21.8ms\n",
            "video 1/1 (frame 813/2100) /content/drive/MyDrive/FYP/80_epochs/cut.mp4: 384x640 (no detections), 20.3ms\n",
            "video 1/1 (frame 814/2100) /content/drive/MyDrive/FYP/80_epochs/cut.mp4: 384x640 (no detections), 20.3ms\n",
            "video 1/1 (frame 815/2100) /content/drive/MyDrive/FYP/80_epochs/cut.mp4: 384x640 (no detections), 20.3ms\n",
            "video 1/1 (frame 816/2100) /content/drive/MyDrive/FYP/80_epochs/cut.mp4: 384x640 (no detections), 20.3ms\n",
            "video 1/1 (frame 817/2100) /content/drive/MyDrive/FYP/80_epochs/cut.mp4: 384x640 (no detections), 20.4ms\n",
            "video 1/1 (frame 818/2100) /content/drive/MyDrive/FYP/80_epochs/cut.mp4: 384x640 (no detections), 20.0ms\n",
            "video 1/1 (frame 819/2100) /content/drive/MyDrive/FYP/80_epochs/cut.mp4: 384x640 (no detections), 20.0ms\n",
            "video 1/1 (frame 820/2100) /content/drive/MyDrive/FYP/80_epochs/cut.mp4: 384x640 (no detections), 20.0ms\n",
            "video 1/1 (frame 821/2100) /content/drive/MyDrive/FYP/80_epochs/cut.mp4: 384x640 (no detections), 20.0ms\n",
            "video 1/1 (frame 822/2100) /content/drive/MyDrive/FYP/80_epochs/cut.mp4: 384x640 (no detections), 20.0ms\n",
            "video 1/1 (frame 823/2100) /content/drive/MyDrive/FYP/80_epochs/cut.mp4: 384x640 (no detections), 20.0ms\n",
            "video 1/1 (frame 824/2100) /content/drive/MyDrive/FYP/80_epochs/cut.mp4: 384x640 (no detections), 20.7ms\n",
            "video 1/1 (frame 825/2100) /content/drive/MyDrive/FYP/80_epochs/cut.mp4: 384x640 (no detections), 20.0ms\n",
            "video 1/1 (frame 826/2100) /content/drive/MyDrive/FYP/80_epochs/cut.mp4: 384x640 (no detections), 20.0ms\n",
            "video 1/1 (frame 827/2100) /content/drive/MyDrive/FYP/80_epochs/cut.mp4: 384x640 (no detections), 20.0ms\n",
            "video 1/1 (frame 828/2100) /content/drive/MyDrive/FYP/80_epochs/cut.mp4: 384x640 (no detections), 20.0ms\n",
            "video 1/1 (frame 829/2100) /content/drive/MyDrive/FYP/80_epochs/cut.mp4: 384x640 (no detections), 20.0ms\n",
            "video 1/1 (frame 830/2100) /content/drive/MyDrive/FYP/80_epochs/cut.mp4: 384x640 (no detections), 20.0ms\n",
            "video 1/1 (frame 831/2100) /content/drive/MyDrive/FYP/80_epochs/cut.mp4: 384x640 (no detections), 20.0ms\n",
            "video 1/1 (frame 832/2100) /content/drive/MyDrive/FYP/80_epochs/cut.mp4: 384x640 (no detections), 20.0ms\n",
            "video 1/1 (frame 833/2100) /content/drive/MyDrive/FYP/80_epochs/cut.mp4: 384x640 (no detections), 19.4ms\n",
            "video 1/1 (frame 834/2100) /content/drive/MyDrive/FYP/80_epochs/cut.mp4: 384x640 (no detections), 19.1ms\n",
            "video 1/1 (frame 835/2100) /content/drive/MyDrive/FYP/80_epochs/cut.mp4: 384x640 (no detections), 19.1ms\n",
            "video 1/1 (frame 836/2100) /content/drive/MyDrive/FYP/80_epochs/cut.mp4: 384x640 (no detections), 19.1ms\n",
            "video 1/1 (frame 837/2100) /content/drive/MyDrive/FYP/80_epochs/cut.mp4: 384x640 (no detections), 19.1ms\n",
            "video 1/1 (frame 838/2100) /content/drive/MyDrive/FYP/80_epochs/cut.mp4: 384x640 (no detections), 19.1ms\n",
            "video 1/1 (frame 839/2100) /content/drive/MyDrive/FYP/80_epochs/cut.mp4: 384x640 (no detections), 19.1ms\n",
            "video 1/1 (frame 840/2100) /content/drive/MyDrive/FYP/80_epochs/cut.mp4: 384x640 (no detections), 19.1ms\n",
            "video 1/1 (frame 841/2100) /content/drive/MyDrive/FYP/80_epochs/cut.mp4: 384x640 (no detections), 18.8ms\n",
            "video 1/1 (frame 842/2100) /content/drive/MyDrive/FYP/80_epochs/cut.mp4: 384x640 (no detections), 17.7ms\n",
            "video 1/1 (frame 843/2100) /content/drive/MyDrive/FYP/80_epochs/cut.mp4: 384x640 (no detections), 17.7ms\n",
            "video 1/1 (frame 844/2100) /content/drive/MyDrive/FYP/80_epochs/cut.mp4: 384x640 (no detections), 17.8ms\n",
            "video 1/1 (frame 845/2100) /content/drive/MyDrive/FYP/80_epochs/cut.mp4: 384x640 (no detections), 18.5ms\n",
            "video 1/1 (frame 846/2100) /content/drive/MyDrive/FYP/80_epochs/cut.mp4: 384x640 (no detections), 17.8ms\n",
            "video 1/1 (frame 847/2100) /content/drive/MyDrive/FYP/80_epochs/cut.mp4: 384x640 (no detections), 17.7ms\n",
            "video 1/1 (frame 848/2100) /content/drive/MyDrive/FYP/80_epochs/cut.mp4: 384x640 (no detections), 17.8ms\n",
            "video 1/1 (frame 849/2100) /content/drive/MyDrive/FYP/80_epochs/cut.mp4: 384x640 (no detections), 17.7ms\n",
            "video 1/1 (frame 850/2100) /content/drive/MyDrive/FYP/80_epochs/cut.mp4: 384x640 (no detections), 17.7ms\n",
            "video 1/1 (frame 851/2100) /content/drive/MyDrive/FYP/80_epochs/cut.mp4: 384x640 (no detections), 17.7ms\n",
            "video 1/1 (frame 852/2100) /content/drive/MyDrive/FYP/80_epochs/cut.mp4: 384x640 (no detections), 17.7ms\n",
            "video 1/1 (frame 853/2100) /content/drive/MyDrive/FYP/80_epochs/cut.mp4: 384x640 (no detections), 17.7ms\n",
            "video 1/1 (frame 854/2100) /content/drive/MyDrive/FYP/80_epochs/cut.mp4: 384x640 (no detections), 17.7ms\n",
            "video 1/1 (frame 855/2100) /content/drive/MyDrive/FYP/80_epochs/cut.mp4: 384x640 (no detections), 17.7ms\n",
            "video 1/1 (frame 856/2100) /content/drive/MyDrive/FYP/80_epochs/cut.mp4: 384x640 (no detections), 17.7ms\n",
            "video 1/1 (frame 857/2100) /content/drive/MyDrive/FYP/80_epochs/cut.mp4: 384x640 (no detections), 17.7ms\n",
            "video 1/1 (frame 858/2100) /content/drive/MyDrive/FYP/80_epochs/cut.mp4: 384x640 (no detections), 17.7ms\n",
            "video 1/1 (frame 859/2100) /content/drive/MyDrive/FYP/80_epochs/cut.mp4: 384x640 (no detections), 17.7ms\n",
            "video 1/1 (frame 860/2100) /content/drive/MyDrive/FYP/80_epochs/cut.mp4: 384x640 (no detections), 17.7ms\n",
            "video 1/1 (frame 861/2100) /content/drive/MyDrive/FYP/80_epochs/cut.mp4: 384x640 (no detections), 17.7ms\n",
            "video 1/1 (frame 862/2100) /content/drive/MyDrive/FYP/80_epochs/cut.mp4: 384x640 (no detections), 17.7ms\n",
            "video 1/1 (frame 863/2100) /content/drive/MyDrive/FYP/80_epochs/cut.mp4: 384x640 (no detections), 17.0ms\n",
            "video 1/1 (frame 864/2100) /content/drive/MyDrive/FYP/80_epochs/cut.mp4: 384x640 (no detections), 17.0ms\n",
            "video 1/1 (frame 865/2100) /content/drive/MyDrive/FYP/80_epochs/cut.mp4: 384x640 (no detections), 17.1ms\n",
            "video 1/1 (frame 866/2100) /content/drive/MyDrive/FYP/80_epochs/cut.mp4: 384x640 (no detections), 17.0ms\n",
            "video 1/1 (frame 867/2100) /content/drive/MyDrive/FYP/80_epochs/cut.mp4: 384x640 (no detections), 17.0ms\n",
            "video 1/1 (frame 868/2100) /content/drive/MyDrive/FYP/80_epochs/cut.mp4: 384x640 (no detections), 17.0ms\n",
            "video 1/1 (frame 869/2100) /content/drive/MyDrive/FYP/80_epochs/cut.mp4: 384x640 (no detections), 17.0ms\n",
            "video 1/1 (frame 870/2100) /content/drive/MyDrive/FYP/80_epochs/cut.mp4: 384x640 (no detections), 17.1ms\n",
            "video 1/1 (frame 871/2100) /content/drive/MyDrive/FYP/80_epochs/cut.mp4: 384x640 (no detections), 17.0ms\n",
            "video 1/1 (frame 872/2100) /content/drive/MyDrive/FYP/80_epochs/cut.mp4: 384x640 (no detections), 17.0ms\n",
            "video 1/1 (frame 873/2100) /content/drive/MyDrive/FYP/80_epochs/cut.mp4: 384x640 (no detections), 17.0ms\n",
            "video 1/1 (frame 874/2100) /content/drive/MyDrive/FYP/80_epochs/cut.mp4: 384x640 (no detections), 17.0ms\n",
            "video 1/1 (frame 875/2100) /content/drive/MyDrive/FYP/80_epochs/cut.mp4: 384x640 (no detections), 17.0ms\n",
            "video 1/1 (frame 876/2100) /content/drive/MyDrive/FYP/80_epochs/cut.mp4: 384x640 (no detections), 17.0ms\n",
            "video 1/1 (frame 877/2100) /content/drive/MyDrive/FYP/80_epochs/cut.mp4: 384x640 (no detections), 16.9ms\n",
            "video 1/1 (frame 878/2100) /content/drive/MyDrive/FYP/80_epochs/cut.mp4: 384x640 (no detections), 17.0ms\n",
            "video 1/1 (frame 879/2100) /content/drive/MyDrive/FYP/80_epochs/cut.mp4: 384x640 (no detections), 16.9ms\n",
            "video 1/1 (frame 880/2100) /content/drive/MyDrive/FYP/80_epochs/cut.mp4: 384x640 (no detections), 17.0ms\n",
            "video 1/1 (frame 881/2100) /content/drive/MyDrive/FYP/80_epochs/cut.mp4: 384x640 (no detections), 16.9ms\n",
            "video 1/1 (frame 882/2100) /content/drive/MyDrive/FYP/80_epochs/cut.mp4: 384x640 (no detections), 17.0ms\n",
            "video 1/1 (frame 883/2100) /content/drive/MyDrive/FYP/80_epochs/cut.mp4: 384x640 (no detections), 17.0ms\n",
            "video 1/1 (frame 884/2100) /content/drive/MyDrive/FYP/80_epochs/cut.mp4: 384x640 (no detections), 17.0ms\n",
            "video 1/1 (frame 885/2100) /content/drive/MyDrive/FYP/80_epochs/cut.mp4: 384x640 (no detections), 17.0ms\n",
            "video 1/1 (frame 886/2100) /content/drive/MyDrive/FYP/80_epochs/cut.mp4: 384x640 (no detections), 17.0ms\n",
            "video 1/1 (frame 887/2100) /content/drive/MyDrive/FYP/80_epochs/cut.mp4: 384x640 (no detections), 17.0ms\n",
            "video 1/1 (frame 888/2100) /content/drive/MyDrive/FYP/80_epochs/cut.mp4: 384x640 (no detections), 17.0ms\n",
            "video 1/1 (frame 889/2100) /content/drive/MyDrive/FYP/80_epochs/cut.mp4: 384x640 (no detections), 17.0ms\n",
            "video 1/1 (frame 890/2100) /content/drive/MyDrive/FYP/80_epochs/cut.mp4: 384x640 (no detections), 17.0ms\n",
            "video 1/1 (frame 891/2100) /content/drive/MyDrive/FYP/80_epochs/cut.mp4: 384x640 (no detections), 17.0ms\n",
            "video 1/1 (frame 892/2100) /content/drive/MyDrive/FYP/80_epochs/cut.mp4: 384x640 (no detections), 17.0ms\n",
            "video 1/1 (frame 893/2100) /content/drive/MyDrive/FYP/80_epochs/cut.mp4: 384x640 (no detections), 17.0ms\n",
            "video 1/1 (frame 894/2100) /content/drive/MyDrive/FYP/80_epochs/cut.mp4: 384x640 (no detections), 16.9ms\n",
            "video 1/1 (frame 895/2100) /content/drive/MyDrive/FYP/80_epochs/cut.mp4: 384x640 (no detections), 17.0ms\n",
            "video 1/1 (frame 896/2100) /content/drive/MyDrive/FYP/80_epochs/cut.mp4: 384x640 (no detections), 16.9ms\n",
            "video 1/1 (frame 897/2100) /content/drive/MyDrive/FYP/80_epochs/cut.mp4: 384x640 (no detections), 17.0ms\n",
            "video 1/1 (frame 898/2100) /content/drive/MyDrive/FYP/80_epochs/cut.mp4: 384x640 (no detections), 17.0ms\n",
            "video 1/1 (frame 899/2100) /content/drive/MyDrive/FYP/80_epochs/cut.mp4: 384x640 (no detections), 17.0ms\n",
            "video 1/1 (frame 900/2100) /content/drive/MyDrive/FYP/80_epochs/cut.mp4: 384x640 (no detections), 17.0ms\n",
            "video 1/1 (frame 901/2100) /content/drive/MyDrive/FYP/80_epochs/cut.mp4: 384x640 (no detections), 16.9ms\n",
            "video 1/1 (frame 902/2100) /content/drive/MyDrive/FYP/80_epochs/cut.mp4: 384x640 (no detections), 17.0ms\n",
            "video 1/1 (frame 903/2100) /content/drive/MyDrive/FYP/80_epochs/cut.mp4: 384x640 (no detections), 16.9ms\n",
            "video 1/1 (frame 904/2100) /content/drive/MyDrive/FYP/80_epochs/cut.mp4: 384x640 (no detections), 17.0ms\n",
            "video 1/1 (frame 905/2100) /content/drive/MyDrive/FYP/80_epochs/cut.mp4: 384x640 (no detections), 17.0ms\n",
            "video 1/1 (frame 906/2100) /content/drive/MyDrive/FYP/80_epochs/cut.mp4: 384x640 (no detections), 17.2ms\n",
            "video 1/1 (frame 907/2100) /content/drive/MyDrive/FYP/80_epochs/cut.mp4: 384x640 (no detections), 17.2ms\n",
            "video 1/1 (frame 908/2100) /content/drive/MyDrive/FYP/80_epochs/cut.mp4: 384x640 (no detections), 17.2ms\n",
            "video 1/1 (frame 909/2100) /content/drive/MyDrive/FYP/80_epochs/cut.mp4: 384x640 (no detections), 17.2ms\n",
            "video 1/1 (frame 910/2100) /content/drive/MyDrive/FYP/80_epochs/cut.mp4: 384x640 (no detections), 17.2ms\n",
            "video 1/1 (frame 911/2100) /content/drive/MyDrive/FYP/80_epochs/cut.mp4: 384x640 (no detections), 16.5ms\n",
            "video 1/1 (frame 912/2100) /content/drive/MyDrive/FYP/80_epochs/cut.mp4: 384x640 (no detections), 16.5ms\n",
            "video 1/1 (frame 913/2100) /content/drive/MyDrive/FYP/80_epochs/cut.mp4: 384x640 (no detections), 16.5ms\n",
            "video 1/1 (frame 914/2100) /content/drive/MyDrive/FYP/80_epochs/cut.mp4: 384x640 (no detections), 16.6ms\n",
            "video 1/1 (frame 915/2100) /content/drive/MyDrive/FYP/80_epochs/cut.mp4: 384x640 (no detections), 16.5ms\n",
            "video 1/1 (frame 916/2100) /content/drive/MyDrive/FYP/80_epochs/cut.mp4: 384x640 (no detections), 16.5ms\n",
            "video 1/1 (frame 917/2100) /content/drive/MyDrive/FYP/80_epochs/cut.mp4: 384x640 (no detections), 16.6ms\n",
            "video 1/1 (frame 918/2100) /content/drive/MyDrive/FYP/80_epochs/cut.mp4: 384x640 (no detections), 16.5ms\n",
            "video 1/1 (frame 919/2100) /content/drive/MyDrive/FYP/80_epochs/cut.mp4: 384x640 (no detections), 16.5ms\n",
            "video 1/1 (frame 920/2100) /content/drive/MyDrive/FYP/80_epochs/cut.mp4: 384x640 (no detections), 16.6ms\n",
            "video 1/1 (frame 921/2100) /content/drive/MyDrive/FYP/80_epochs/cut.mp4: 384x640 (no detections), 16.6ms\n",
            "video 1/1 (frame 922/2100) /content/drive/MyDrive/FYP/80_epochs/cut.mp4: 384x640 (no detections), 16.6ms\n",
            "video 1/1 (frame 923/2100) /content/drive/MyDrive/FYP/80_epochs/cut.mp4: 384x640 (no detections), 16.5ms\n",
            "video 1/1 (frame 924/2100) /content/drive/MyDrive/FYP/80_epochs/cut.mp4: 384x640 (no detections), 16.3ms\n",
            "video 1/1 (frame 925/2100) /content/drive/MyDrive/FYP/80_epochs/cut.mp4: 384x640 (no detections), 16.2ms\n",
            "video 1/1 (frame 926/2100) /content/drive/MyDrive/FYP/80_epochs/cut.mp4: 384x640 (no detections), 16.2ms\n",
            "video 1/1 (frame 927/2100) /content/drive/MyDrive/FYP/80_epochs/cut.mp4: 384x640 (no detections), 16.2ms\n",
            "video 1/1 (frame 928/2100) /content/drive/MyDrive/FYP/80_epochs/cut.mp4: 384x640 (no detections), 16.3ms\n",
            "video 1/1 (frame 929/2100) /content/drive/MyDrive/FYP/80_epochs/cut.mp4: 384x640 (no detections), 16.2ms\n",
            "video 1/1 (frame 930/2100) /content/drive/MyDrive/FYP/80_epochs/cut.mp4: 384x640 (no detections), 16.1ms\n",
            "video 1/1 (frame 931/2100) /content/drive/MyDrive/FYP/80_epochs/cut.mp4: 384x640 (no detections), 16.2ms\n",
            "video 1/1 (frame 932/2100) /content/drive/MyDrive/FYP/80_epochs/cut.mp4: 384x640 (no detections), 16.1ms\n",
            "video 1/1 (frame 933/2100) /content/drive/MyDrive/FYP/80_epochs/cut.mp4: 384x640 (no detections), 16.0ms\n",
            "video 1/1 (frame 934/2100) /content/drive/MyDrive/FYP/80_epochs/cut.mp4: 384x640 (no detections), 15.9ms\n",
            "video 1/1 (frame 935/2100) /content/drive/MyDrive/FYP/80_epochs/cut.mp4: 384x640 (no detections), 16.7ms\n",
            "video 1/1 (frame 936/2100) /content/drive/MyDrive/FYP/80_epochs/cut.mp4: 384x640 (no detections), 16.0ms\n",
            "video 1/1 (frame 937/2100) /content/drive/MyDrive/FYP/80_epochs/cut.mp4: 384x640 (no detections), 15.9ms\n",
            "video 1/1 (frame 938/2100) /content/drive/MyDrive/FYP/80_epochs/cut.mp4: 384x640 (no detections), 15.9ms\n",
            "video 1/1 (frame 939/2100) /content/drive/MyDrive/FYP/80_epochs/cut.mp4: 384x640 (no detections), 16.0ms\n",
            "video 1/1 (frame 940/2100) /content/drive/MyDrive/FYP/80_epochs/cut.mp4: 384x640 (no detections), 15.9ms\n",
            "video 1/1 (frame 941/2100) /content/drive/MyDrive/FYP/80_epochs/cut.mp4: 384x640 (no detections), 15.9ms\n",
            "video 1/1 (frame 942/2100) /content/drive/MyDrive/FYP/80_epochs/cut.mp4: 384x640 (no detections), 16.1ms\n",
            "video 1/1 (frame 943/2100) /content/drive/MyDrive/FYP/80_epochs/cut.mp4: 384x640 (no detections), 16.0ms\n",
            "video 1/1 (frame 944/2100) /content/drive/MyDrive/FYP/80_epochs/cut.mp4: 384x640 (no detections), 15.9ms\n",
            "video 1/1 (frame 945/2100) /content/drive/MyDrive/FYP/80_epochs/cut.mp4: 384x640 (no detections), 15.9ms\n",
            "video 1/1 (frame 946/2100) /content/drive/MyDrive/FYP/80_epochs/cut.mp4: 384x640 (no detections), 16.0ms\n",
            "video 1/1 (frame 947/2100) /content/drive/MyDrive/FYP/80_epochs/cut.mp4: 384x640 (no detections), 15.9ms\n",
            "video 1/1 (frame 948/2100) /content/drive/MyDrive/FYP/80_epochs/cut.mp4: 384x640 (no detections), 15.9ms\n",
            "video 1/1 (frame 949/2100) /content/drive/MyDrive/FYP/80_epochs/cut.mp4: 384x640 (no detections), 16.0ms\n",
            "video 1/1 (frame 950/2100) /content/drive/MyDrive/FYP/80_epochs/cut.mp4: 384x640 (no detections), 16.0ms\n",
            "video 1/1 (frame 951/2100) /content/drive/MyDrive/FYP/80_epochs/cut.mp4: 384x640 (no detections), 15.9ms\n",
            "video 1/1 (frame 952/2100) /content/drive/MyDrive/FYP/80_epochs/cut.mp4: 384x640 (no detections), 15.9ms\n",
            "video 1/1 (frame 953/2100) /content/drive/MyDrive/FYP/80_epochs/cut.mp4: 384x640 (no detections), 16.1ms\n",
            "video 1/1 (frame 954/2100) /content/drive/MyDrive/FYP/80_epochs/cut.mp4: 384x640 (no detections), 15.9ms\n",
            "video 1/1 (frame 955/2100) /content/drive/MyDrive/FYP/80_epochs/cut.mp4: 384x640 (no detections), 16.0ms\n",
            "video 1/1 (frame 956/2100) /content/drive/MyDrive/FYP/80_epochs/cut.mp4: 384x640 (no detections), 16.0ms\n",
            "video 1/1 (frame 957/2100) /content/drive/MyDrive/FYP/80_epochs/cut.mp4: 384x640 (no detections), 16.0ms\n",
            "video 1/1 (frame 958/2100) /content/drive/MyDrive/FYP/80_epochs/cut.mp4: 384x640 (no detections), 16.0ms\n",
            "video 1/1 (frame 959/2100) /content/drive/MyDrive/FYP/80_epochs/cut.mp4: 384x640 (no detections), 16.0ms\n",
            "video 1/1 (frame 960/2100) /content/drive/MyDrive/FYP/80_epochs/cut.mp4: 384x640 (no detections), 16.0ms\n",
            "video 1/1 (frame 961/2100) /content/drive/MyDrive/FYP/80_epochs/cut.mp4: 384x640 (no detections), 16.0ms\n",
            "video 1/1 (frame 962/2100) /content/drive/MyDrive/FYP/80_epochs/cut.mp4: 384x640 (no detections), 16.0ms\n",
            "video 1/1 (frame 963/2100) /content/drive/MyDrive/FYP/80_epochs/cut.mp4: 384x640 (no detections), 15.9ms\n",
            "video 1/1 (frame 964/2100) /content/drive/MyDrive/FYP/80_epochs/cut.mp4: 384x640 (no detections), 16.4ms\n",
            "video 1/1 (frame 965/2100) /content/drive/MyDrive/FYP/80_epochs/cut.mp4: 384x640 (no detections), 16.5ms\n",
            "video 1/1 (frame 966/2100) /content/drive/MyDrive/FYP/80_epochs/cut.mp4: 384x640 (no detections), 16.5ms\n",
            "video 1/1 (frame 967/2100) /content/drive/MyDrive/FYP/80_epochs/cut.mp4: 384x640 (no detections), 16.5ms\n",
            "video 1/1 (frame 968/2100) /content/drive/MyDrive/FYP/80_epochs/cut.mp4: 384x640 (no detections), 16.5ms\n",
            "video 1/1 (frame 969/2100) /content/drive/MyDrive/FYP/80_epochs/cut.mp4: 384x640 (no detections), 16.3ms\n",
            "video 1/1 (frame 970/2100) /content/drive/MyDrive/FYP/80_epochs/cut.mp4: 384x640 (no detections), 16.2ms\n",
            "video 1/1 (frame 971/2100) /content/drive/MyDrive/FYP/80_epochs/cut.mp4: 384x640 (no detections), 16.2ms\n",
            "video 1/1 (frame 972/2100) /content/drive/MyDrive/FYP/80_epochs/cut.mp4: 384x640 (no detections), 16.2ms\n",
            "video 1/1 (frame 973/2100) /content/drive/MyDrive/FYP/80_epochs/cut.mp4: 384x640 (no detections), 16.3ms\n",
            "video 1/1 (frame 974/2100) /content/drive/MyDrive/FYP/80_epochs/cut.mp4: 384x640 (no detections), 16.2ms\n",
            "video 1/1 (frame 975/2100) /content/drive/MyDrive/FYP/80_epochs/cut.mp4: 384x640 (no detections), 16.3ms\n",
            "video 1/1 (frame 976/2100) /content/drive/MyDrive/FYP/80_epochs/cut.mp4: 384x640 (no detections), 16.3ms\n",
            "video 1/1 (frame 977/2100) /content/drive/MyDrive/FYP/80_epochs/cut.mp4: 384x640 (no detections), 16.3ms\n",
            "video 1/1 (frame 978/2100) /content/drive/MyDrive/FYP/80_epochs/cut.mp4: 384x640 (no detections), 16.1ms\n",
            "video 1/1 (frame 979/2100) /content/drive/MyDrive/FYP/80_epochs/cut.mp4: 384x640 (no detections), 16.1ms\n",
            "video 1/1 (frame 980/2100) /content/drive/MyDrive/FYP/80_epochs/cut.mp4: 384x640 (no detections), 15.9ms\n",
            "video 1/1 (frame 981/2100) /content/drive/MyDrive/FYP/80_epochs/cut.mp4: 384x640 (no detections), 18.5ms\n",
            "video 1/1 (frame 982/2100) /content/drive/MyDrive/FYP/80_epochs/cut.mp4: 384x640 (no detections), 15.9ms\n",
            "video 1/1 (frame 983/2100) /content/drive/MyDrive/FYP/80_epochs/cut.mp4: 384x640 (no detections), 15.9ms\n",
            "video 1/1 (frame 984/2100) /content/drive/MyDrive/FYP/80_epochs/cut.mp4: 384x640 (no detections), 16.0ms\n",
            "video 1/1 (frame 985/2100) /content/drive/MyDrive/FYP/80_epochs/cut.mp4: 384x640 (no detections), 15.9ms\n",
            "video 1/1 (frame 986/2100) /content/drive/MyDrive/FYP/80_epochs/cut.mp4: 384x640 (no detections), 15.9ms\n",
            "video 1/1 (frame 987/2100) /content/drive/MyDrive/FYP/80_epochs/cut.mp4: 384x640 (no detections), 15.9ms\n",
            "video 1/1 (frame 988/2100) /content/drive/MyDrive/FYP/80_epochs/cut.mp4: 384x640 (no detections), 16.0ms\n",
            "video 1/1 (frame 989/2100) /content/drive/MyDrive/FYP/80_epochs/cut.mp4: 384x640 (no detections), 15.9ms\n",
            "video 1/1 (frame 990/2100) /content/drive/MyDrive/FYP/80_epochs/cut.mp4: 384x640 (no detections), 15.9ms\n",
            "video 1/1 (frame 991/2100) /content/drive/MyDrive/FYP/80_epochs/cut.mp4: 384x640 (no detections), 16.0ms\n",
            "video 1/1 (frame 992/2100) /content/drive/MyDrive/FYP/80_epochs/cut.mp4: 384x640 (no detections), 16.0ms\n",
            "video 1/1 (frame 993/2100) /content/drive/MyDrive/FYP/80_epochs/cut.mp4: 384x640 (no detections), 16.0ms\n",
            "video 1/1 (frame 994/2100) /content/drive/MyDrive/FYP/80_epochs/cut.mp4: 384x640 (no detections), 15.9ms\n",
            "video 1/1 (frame 995/2100) /content/drive/MyDrive/FYP/80_epochs/cut.mp4: 384x640 (no detections), 16.0ms\n",
            "video 1/1 (frame 996/2100) /content/drive/MyDrive/FYP/80_epochs/cut.mp4: 384x640 (no detections), 16.0ms\n",
            "video 1/1 (frame 997/2100) /content/drive/MyDrive/FYP/80_epochs/cut.mp4: 384x640 (no detections), 16.9ms\n",
            "video 1/1 (frame 998/2100) /content/drive/MyDrive/FYP/80_epochs/cut.mp4: 384x640 (no detections), 16.0ms\n",
            "video 1/1 (frame 999/2100) /content/drive/MyDrive/FYP/80_epochs/cut.mp4: 384x640 (no detections), 16.0ms\n",
            "video 1/1 (frame 1000/2100) /content/drive/MyDrive/FYP/80_epochs/cut.mp4: 384x640 (no detections), 16.0ms\n",
            "video 1/1 (frame 1001/2100) /content/drive/MyDrive/FYP/80_epochs/cut.mp4: 384x640 (no detections), 16.0ms\n",
            "video 1/1 (frame 1002/2100) /content/drive/MyDrive/FYP/80_epochs/cut.mp4: 384x640 (no detections), 16.0ms\n",
            "video 1/1 (frame 1003/2100) /content/drive/MyDrive/FYP/80_epochs/cut.mp4: 384x640 (no detections), 16.6ms\n",
            "video 1/1 (frame 1004/2100) /content/drive/MyDrive/FYP/80_epochs/cut.mp4: 384x640 (no detections), 17.6ms\n",
            "video 1/1 (frame 1005/2100) /content/drive/MyDrive/FYP/80_epochs/cut.mp4: 384x640 (no detections), 16.0ms\n",
            "video 1/1 (frame 1006/2100) /content/drive/MyDrive/FYP/80_epochs/cut.mp4: 384x640 (no detections), 15.9ms\n",
            "video 1/1 (frame 1007/2100) /content/drive/MyDrive/FYP/80_epochs/cut.mp4: 384x640 (no detections), 16.0ms\n",
            "video 1/1 (frame 1008/2100) /content/drive/MyDrive/FYP/80_epochs/cut.mp4: 384x640 (no detections), 16.0ms\n",
            "video 1/1 (frame 1009/2100) /content/drive/MyDrive/FYP/80_epochs/cut.mp4: 384x640 (no detections), 16.8ms\n",
            "video 1/1 (frame 1010/2100) /content/drive/MyDrive/FYP/80_epochs/cut.mp4: 384x640 (no detections), 16.8ms\n",
            "video 1/1 (frame 1011/2100) /content/drive/MyDrive/FYP/80_epochs/cut.mp4: 384x640 (no detections), 16.7ms\n",
            "video 1/1 (frame 1012/2100) /content/drive/MyDrive/FYP/80_epochs/cut.mp4: 384x640 (no detections), 16.8ms\n",
            "video 1/1 (frame 1013/2100) /content/drive/MyDrive/FYP/80_epochs/cut.mp4: 384x640 (no detections), 17.0ms\n",
            "video 1/1 (frame 1014/2100) /content/drive/MyDrive/FYP/80_epochs/cut.mp4: 384x640 (no detections), 17.0ms\n",
            "video 1/1 (frame 1015/2100) /content/drive/MyDrive/FYP/80_epochs/cut.mp4: 384x640 (no detections), 17.0ms\n",
            "video 1/1 (frame 1016/2100) /content/drive/MyDrive/FYP/80_epochs/cut.mp4: 384x640 (no detections), 17.0ms\n",
            "video 1/1 (frame 1017/2100) /content/drive/MyDrive/FYP/80_epochs/cut.mp4: 384x640 (no detections), 17.0ms\n",
            "video 1/1 (frame 1018/2100) /content/drive/MyDrive/FYP/80_epochs/cut.mp4: 384x640 (no detections), 16.3ms\n",
            "video 1/1 (frame 1019/2100) /content/drive/MyDrive/FYP/80_epochs/cut.mp4: 384x640 (no detections), 16.2ms\n",
            "video 1/1 (frame 1020/2100) /content/drive/MyDrive/FYP/80_epochs/cut.mp4: 384x640 (no detections), 16.2ms\n",
            "video 1/1 (frame 1021/2100) /content/drive/MyDrive/FYP/80_epochs/cut.mp4: 384x640 (no detections), 16.2ms\n",
            "video 1/1 (frame 1022/2100) /content/drive/MyDrive/FYP/80_epochs/cut.mp4: 384x640 (no detections), 16.3ms\n",
            "video 1/1 (frame 1023/2100) /content/drive/MyDrive/FYP/80_epochs/cut.mp4: 384x640 (no detections), 16.3ms\n",
            "video 1/1 (frame 1024/2100) /content/drive/MyDrive/FYP/80_epochs/cut.mp4: 384x640 (no detections), 16.3ms\n",
            "video 1/1 (frame 1025/2100) /content/drive/MyDrive/FYP/80_epochs/cut.mp4: 384x640 (no detections), 16.3ms\n",
            "video 1/1 (frame 1026/2100) /content/drive/MyDrive/FYP/80_epochs/cut.mp4: 384x640 (no detections), 16.3ms\n",
            "video 1/1 (frame 1027/2100) /content/drive/MyDrive/FYP/80_epochs/cut.mp4: 384x640 (no detections), 17.8ms\n",
            "video 1/1 (frame 1028/2100) /content/drive/MyDrive/FYP/80_epochs/cut.mp4: 384x640 (no detections), 16.3ms\n",
            "video 1/1 (frame 1029/2100) /content/drive/MyDrive/FYP/80_epochs/cut.mp4: 384x640 (no detections), 16.2ms\n",
            "video 1/1 (frame 1030/2100) /content/drive/MyDrive/FYP/80_epochs/cut.mp4: 384x640 (no detections), 16.3ms\n",
            "video 1/1 (frame 1031/2100) /content/drive/MyDrive/FYP/80_epochs/cut.mp4: 384x640 (no detections), 16.2ms\n",
            "video 1/1 (frame 1032/2100) /content/drive/MyDrive/FYP/80_epochs/cut.mp4: 384x640 (no detections), 16.3ms\n",
            "video 1/1 (frame 1033/2100) /content/drive/MyDrive/FYP/80_epochs/cut.mp4: 384x640 (no detections), 16.2ms\n",
            "video 1/1 (frame 1034/2100) /content/drive/MyDrive/FYP/80_epochs/cut.mp4: 384x640 (no detections), 17.5ms\n",
            "video 1/1 (frame 1035/2100) /content/drive/MyDrive/FYP/80_epochs/cut.mp4: 384x640 (no detections), 18.0ms\n",
            "video 1/1 (frame 1036/2100) /content/drive/MyDrive/FYP/80_epochs/cut.mp4: 384x640 (no detections), 16.3ms\n",
            "video 1/1 (frame 1037/2100) /content/drive/MyDrive/FYP/80_epochs/cut.mp4: 384x640 (no detections), 16.2ms\n",
            "video 1/1 (frame 1038/2100) /content/drive/MyDrive/FYP/80_epochs/cut.mp4: 384x640 (no detections), 16.2ms\n",
            "video 1/1 (frame 1039/2100) /content/drive/MyDrive/FYP/80_epochs/cut.mp4: 384x640 (no detections), 16.3ms\n",
            "video 1/1 (frame 1040/2100) /content/drive/MyDrive/FYP/80_epochs/cut.mp4: 384x640 (no detections), 16.3ms\n",
            "video 1/1 (frame 1041/2100) /content/drive/MyDrive/FYP/80_epochs/cut.mp4: 384x640 (no detections), 16.3ms\n",
            "video 1/1 (frame 1042/2100) /content/drive/MyDrive/FYP/80_epochs/cut.mp4: 384x640 (no detections), 20.2ms\n",
            "video 1/1 (frame 1043/2100) /content/drive/MyDrive/FYP/80_epochs/cut.mp4: 384x640 (no detections), 16.3ms\n",
            "video 1/1 (frame 1044/2100) /content/drive/MyDrive/FYP/80_epochs/cut.mp4: 384x640 (no detections), 16.3ms\n",
            "video 1/1 (frame 1045/2100) /content/drive/MyDrive/FYP/80_epochs/cut.mp4: 384x640 (no detections), 17.8ms\n",
            "video 1/1 (frame 1046/2100) /content/drive/MyDrive/FYP/80_epochs/cut.mp4: 384x640 (no detections), 16.3ms\n",
            "video 1/1 (frame 1047/2100) /content/drive/MyDrive/FYP/80_epochs/cut.mp4: 384x640 (no detections), 17.5ms\n",
            "video 1/1 (frame 1048/2100) /content/drive/MyDrive/FYP/80_epochs/cut.mp4: 384x640 (no detections), 17.7ms\n",
            "video 1/1 (frame 1049/2100) /content/drive/MyDrive/FYP/80_epochs/cut.mp4: 384x640 (no detections), 21.5ms\n",
            "video 1/1 (frame 1050/2100) /content/drive/MyDrive/FYP/80_epochs/cut.mp4: 384x640 (no detections), 19.5ms\n",
            "video 1/1 (frame 1051/2100) /content/drive/MyDrive/FYP/80_epochs/cut.mp4: 384x640 (no detections), 19.4ms\n",
            "video 1/1 (frame 1052/2100) /content/drive/MyDrive/FYP/80_epochs/cut.mp4: 384x640 (no detections), 19.7ms\n",
            "video 1/1 (frame 1053/2100) /content/drive/MyDrive/FYP/80_epochs/cut.mp4: 384x640 (no detections), 21.6ms\n",
            "video 1/1 (frame 1054/2100) /content/drive/MyDrive/FYP/80_epochs/cut.mp4: 384x640 (no detections), 22.7ms\n",
            "video 1/1 (frame 1055/2100) /content/drive/MyDrive/FYP/80_epochs/cut.mp4: 384x640 (no detections), 20.0ms\n",
            "video 1/1 (frame 1056/2100) /content/drive/MyDrive/FYP/80_epochs/cut.mp4: 384x640 (no detections), 20.0ms\n",
            "video 1/1 (frame 1057/2100) /content/drive/MyDrive/FYP/80_epochs/cut.mp4: 384x640 (no detections), 20.0ms\n",
            "video 1/1 (frame 1058/2100) /content/drive/MyDrive/FYP/80_epochs/cut.mp4: 384x640 (no detections), 20.3ms\n",
            "video 1/1 (frame 1059/2100) /content/drive/MyDrive/FYP/80_epochs/cut.mp4: 384x640 (no detections), 20.3ms\n",
            "video 1/1 (frame 1060/2100) /content/drive/MyDrive/FYP/80_epochs/cut.mp4: 384x640 (no detections), 20.9ms\n",
            "video 1/1 (frame 1061/2100) /content/drive/MyDrive/FYP/80_epochs/cut.mp4: 384x640 (no detections), 21.1ms\n",
            "video 1/1 (frame 1062/2100) /content/drive/MyDrive/FYP/80_epochs/cut.mp4: 384x640 (no detections), 21.1ms\n",
            "video 1/1 (frame 1063/2100) /content/drive/MyDrive/FYP/80_epochs/cut.mp4: 384x640 (no detections), 21.3ms\n",
            "video 1/1 (frame 1064/2100) /content/drive/MyDrive/FYP/80_epochs/cut.mp4: 384x640 (no detections), 21.4ms\n",
            "video 1/1 (frame 1065/2100) /content/drive/MyDrive/FYP/80_epochs/cut.mp4: 384x640 (no detections), 21.4ms\n",
            "video 1/1 (frame 1066/2100) /content/drive/MyDrive/FYP/80_epochs/cut.mp4: 384x640 (no detections), 21.4ms\n",
            "video 1/1 (frame 1067/2100) /content/drive/MyDrive/FYP/80_epochs/cut.mp4: 384x640 (no detections), 21.4ms\n",
            "video 1/1 (frame 1068/2100) /content/drive/MyDrive/FYP/80_epochs/cut.mp4: 384x640 (no detections), 21.4ms\n",
            "video 1/1 (frame 1069/2100) /content/drive/MyDrive/FYP/80_epochs/cut.mp4: 384x640 (no detections), 22.9ms\n",
            "video 1/1 (frame 1070/2100) /content/drive/MyDrive/FYP/80_epochs/cut.mp4: 384x640 (no detections), 23.4ms\n",
            "video 1/1 (frame 1071/2100) /content/drive/MyDrive/FYP/80_epochs/cut.mp4: 384x640 (no detections), 22.3ms\n",
            "video 1/1 (frame 1072/2100) /content/drive/MyDrive/FYP/80_epochs/cut.mp4: 384x640 (no detections), 22.3ms\n",
            "video 1/1 (frame 1073/2100) /content/drive/MyDrive/FYP/80_epochs/cut.mp4: 384x640 (no detections), 22.2ms\n",
            "video 1/1 (frame 1074/2100) /content/drive/MyDrive/FYP/80_epochs/cut.mp4: 384x640 (no detections), 22.3ms\n",
            "video 1/1 (frame 1075/2100) /content/drive/MyDrive/FYP/80_epochs/cut.mp4: 384x640 (no detections), 22.7ms\n",
            "video 1/1 (frame 1076/2100) /content/drive/MyDrive/FYP/80_epochs/cut.mp4: 384x640 (no detections), 23.3ms\n",
            "video 1/1 (frame 1077/2100) /content/drive/MyDrive/FYP/80_epochs/cut.mp4: 384x640 (no detections), 23.8ms\n",
            "video 1/1 (frame 1078/2100) /content/drive/MyDrive/FYP/80_epochs/cut.mp4: 384x640 (no detections), 23.1ms\n",
            "video 1/1 (frame 1079/2100) /content/drive/MyDrive/FYP/80_epochs/cut.mp4: 384x640 (no detections), 23.1ms\n",
            "video 1/1 (frame 1080/2100) /content/drive/MyDrive/FYP/80_epochs/cut.mp4: 384x640 (no detections), 23.2ms\n",
            "video 1/1 (frame 1081/2100) /content/drive/MyDrive/FYP/80_epochs/cut.mp4: 384x640 (no detections), 23.1ms\n",
            "video 1/1 (frame 1082/2100) /content/drive/MyDrive/FYP/80_epochs/cut.mp4: 384x640 (no detections), 23.2ms\n",
            "video 1/1 (frame 1083/2100) /content/drive/MyDrive/FYP/80_epochs/cut.mp4: 384x640 (no detections), 23.1ms\n",
            "video 1/1 (frame 1084/2100) /content/drive/MyDrive/FYP/80_epochs/cut.mp4: 384x640 (no detections), 23.0ms\n",
            "video 1/1 (frame 1085/2100) /content/drive/MyDrive/FYP/80_epochs/cut.mp4: 384x640 (no detections), 22.8ms\n",
            "video 1/1 (frame 1086/2100) /content/drive/MyDrive/FYP/80_epochs/cut.mp4: 384x640 (no detections), 22.7ms\n",
            "video 1/1 (frame 1087/2100) /content/drive/MyDrive/FYP/80_epochs/cut.mp4: 384x640 (no detections), 22.6ms\n",
            "video 1/1 (frame 1088/2100) /content/drive/MyDrive/FYP/80_epochs/cut.mp4: 384x640 (no detections), 22.4ms\n",
            "video 1/1 (frame 1089/2100) /content/drive/MyDrive/FYP/80_epochs/cut.mp4: 384x640 (no detections), 22.2ms\n",
            "video 1/1 (frame 1090/2100) /content/drive/MyDrive/FYP/80_epochs/cut.mp4: 384x640 (no detections), 22.2ms\n",
            "video 1/1 (frame 1091/2100) /content/drive/MyDrive/FYP/80_epochs/cut.mp4: 384x640 (no detections), 22.2ms\n",
            "video 1/1 (frame 1092/2100) /content/drive/MyDrive/FYP/80_epochs/cut.mp4: 384x640 (no detections), 21.2ms\n",
            "video 1/1 (frame 1093/2100) /content/drive/MyDrive/FYP/80_epochs/cut.mp4: 384x640 (no detections), 23.3ms\n",
            "video 1/1 (frame 1094/2100) /content/drive/MyDrive/FYP/80_epochs/cut.mp4: 384x640 (no detections), 20.4ms\n",
            "video 1/1 (frame 1095/2100) /content/drive/MyDrive/FYP/80_epochs/cut.mp4: 384x640 (no detections), 20.3ms\n",
            "video 1/1 (frame 1096/2100) /content/drive/MyDrive/FYP/80_epochs/cut.mp4: 384x640 (no detections), 20.3ms\n",
            "video 1/1 (frame 1097/2100) /content/drive/MyDrive/FYP/80_epochs/cut.mp4: 384x640 (no detections), 20.3ms\n",
            "video 1/1 (frame 1098/2100) /content/drive/MyDrive/FYP/80_epochs/cut.mp4: 384x640 (no detections), 20.3ms\n",
            "video 1/1 (frame 1099/2100) /content/drive/MyDrive/FYP/80_epochs/cut.mp4: 384x640 (no detections), 20.3ms\n",
            "video 1/1 (frame 1100/2100) /content/drive/MyDrive/FYP/80_epochs/cut.mp4: 384x640 (no detections), 20.0ms\n",
            "video 1/1 (frame 1101/2100) /content/drive/MyDrive/FYP/80_epochs/cut.mp4: 384x640 (no detections), 18.7ms\n",
            "video 1/1 (frame 1102/2100) /content/drive/MyDrive/FYP/80_epochs/cut.mp4: 384x640 (no detections), 18.8ms\n",
            "video 1/1 (frame 1103/2100) /content/drive/MyDrive/FYP/80_epochs/cut.mp4: 384x640 (no detections), 18.8ms\n",
            "video 1/1 (frame 1104/2100) /content/drive/MyDrive/FYP/80_epochs/cut.mp4: 384x640 (no detections), 18.8ms\n",
            "video 1/1 (frame 1105/2100) /content/drive/MyDrive/FYP/80_epochs/cut.mp4: 384x640 (no detections), 18.7ms\n",
            "video 1/1 (frame 1106/2100) /content/drive/MyDrive/FYP/80_epochs/cut.mp4: 384x640 (no detections), 18.8ms\n",
            "video 1/1 (frame 1107/2100) /content/drive/MyDrive/FYP/80_epochs/cut.mp4: 384x640 (no detections), 18.7ms\n",
            "video 1/1 (frame 1108/2100) /content/drive/MyDrive/FYP/80_epochs/cut.mp4: 384x640 (no detections), 18.8ms\n",
            "video 1/1 (frame 1109/2100) /content/drive/MyDrive/FYP/80_epochs/cut.mp4: 384x640 (no detections), 18.8ms\n",
            "video 1/1 (frame 1110/2100) /content/drive/MyDrive/FYP/80_epochs/cut.mp4: 384x640 (no detections), 18.8ms\n",
            "video 1/1 (frame 1111/2100) /content/drive/MyDrive/FYP/80_epochs/cut.mp4: 384x640 (no detections), 18.8ms\n",
            "video 1/1 (frame 1112/2100) /content/drive/MyDrive/FYP/80_epochs/cut.mp4: 384x640 (no detections), 18.7ms\n",
            "video 1/1 (frame 1113/2100) /content/drive/MyDrive/FYP/80_epochs/cut.mp4: 384x640 (no detections), 18.8ms\n",
            "video 1/1 (frame 1114/2100) /content/drive/MyDrive/FYP/80_epochs/cut.mp4: 384x640 (no detections), 18.8ms\n",
            "video 1/1 (frame 1115/2100) /content/drive/MyDrive/FYP/80_epochs/cut.mp4: 384x640 (no detections), 18.8ms\n",
            "video 1/1 (frame 1116/2100) /content/drive/MyDrive/FYP/80_epochs/cut.mp4: 384x640 (no detections), 18.7ms\n",
            "video 1/1 (frame 1117/2100) /content/drive/MyDrive/FYP/80_epochs/cut.mp4: 384x640 (no detections), 18.7ms\n",
            "video 1/1 (frame 1118/2100) /content/drive/MyDrive/FYP/80_epochs/cut.mp4: 384x640 (no detections), 18.7ms\n",
            "video 1/1 (frame 1119/2100) /content/drive/MyDrive/FYP/80_epochs/cut.mp4: 384x640 (no detections), 18.8ms\n",
            "video 1/1 (frame 1120/2100) /content/drive/MyDrive/FYP/80_epochs/cut.mp4: 384x640 (no detections), 18.7ms\n",
            "video 1/1 (frame 1121/2100) /content/drive/MyDrive/FYP/80_epochs/cut.mp4: 384x640 (no detections), 18.7ms\n",
            "video 1/1 (frame 1122/2100) /content/drive/MyDrive/FYP/80_epochs/cut.mp4: 384x640 (no detections), 17.5ms\n",
            "video 1/1 (frame 1123/2100) /content/drive/MyDrive/FYP/80_epochs/cut.mp4: 384x640 (no detections), 17.4ms\n",
            "video 1/1 (frame 1124/2100) /content/drive/MyDrive/FYP/80_epochs/cut.mp4: 384x640 (no detections), 17.5ms\n",
            "video 1/1 (frame 1125/2100) /content/drive/MyDrive/FYP/80_epochs/cut.mp4: 384x640 (no detections), 17.6ms\n",
            "video 1/1 (frame 1126/2100) /content/drive/MyDrive/FYP/80_epochs/cut.mp4: 384x640 (no detections), 17.5ms\n",
            "video 1/1 (frame 1127/2100) /content/drive/MyDrive/FYP/80_epochs/cut.mp4: 384x640 (no detections), 17.5ms\n",
            "video 1/1 (frame 1128/2100) /content/drive/MyDrive/FYP/80_epochs/cut.mp4: 384x640 (no detections), 17.5ms\n",
            "video 1/1 (frame 1129/2100) /content/drive/MyDrive/FYP/80_epochs/cut.mp4: 384x640 (no detections), 17.4ms\n",
            "video 1/1 (frame 1130/2100) /content/drive/MyDrive/FYP/80_epochs/cut.mp4: 384x640 (no detections), 17.5ms\n",
            "video 1/1 (frame 1131/2100) /content/drive/MyDrive/FYP/80_epochs/cut.mp4: 384x640 (no detections), 17.4ms\n",
            "video 1/1 (frame 1132/2100) /content/drive/MyDrive/FYP/80_epochs/cut.mp4: 384x640 (no detections), 17.4ms\n",
            "video 1/1 (frame 1133/2100) /content/drive/MyDrive/FYP/80_epochs/cut.mp4: 384x640 (no detections), 17.4ms\n",
            "video 1/1 (frame 1134/2100) /content/drive/MyDrive/FYP/80_epochs/cut.mp4: 384x640 (no detections), 17.5ms\n",
            "video 1/1 (frame 1135/2100) /content/drive/MyDrive/FYP/80_epochs/cut.mp4: 384x640 (no detections), 16.3ms\n",
            "video 1/1 (frame 1136/2100) /content/drive/MyDrive/FYP/80_epochs/cut.mp4: 384x640 (no detections), 16.3ms\n",
            "video 1/1 (frame 1137/2100) /content/drive/MyDrive/FYP/80_epochs/cut.mp4: 384x640 (no detections), 16.4ms\n",
            "video 1/1 (frame 1138/2100) /content/drive/MyDrive/FYP/80_epochs/cut.mp4: 384x640 (no detections), 16.4ms\n",
            "video 1/1 (frame 1139/2100) /content/drive/MyDrive/FYP/80_epochs/cut.mp4: 384x640 (no detections), 16.3ms\n",
            "video 1/1 (frame 1140/2100) /content/drive/MyDrive/FYP/80_epochs/cut.mp4: 384x640 (no detections), 16.3ms\n",
            "video 1/1 (frame 1141/2100) /content/drive/MyDrive/FYP/80_epochs/cut.mp4: 384x640 (no detections), 16.3ms\n",
            "video 1/1 (frame 1142/2100) /content/drive/MyDrive/FYP/80_epochs/cut.mp4: 384x640 (no detections), 16.4ms\n",
            "video 1/1 (frame 1143/2100) /content/drive/MyDrive/FYP/80_epochs/cut.mp4: 384x640 (no detections), 16.4ms\n",
            "video 1/1 (frame 1144/2100) /content/drive/MyDrive/FYP/80_epochs/cut.mp4: 384x640 (no detections), 16.3ms\n",
            "video 1/1 (frame 1145/2100) /content/drive/MyDrive/FYP/80_epochs/cut.mp4: 384x640 (no detections), 16.3ms\n",
            "video 1/1 (frame 1146/2100) /content/drive/MyDrive/FYP/80_epochs/cut.mp4: 384x640 (no detections), 16.3ms\n",
            "video 1/1 (frame 1147/2100) /content/drive/MyDrive/FYP/80_epochs/cut.mp4: 384x640 (no detections), 16.5ms\n",
            "video 1/1 (frame 1148/2100) /content/drive/MyDrive/FYP/80_epochs/cut.mp4: 384x640 (no detections), 16.3ms\n",
            "video 1/1 (frame 1149/2100) /content/drive/MyDrive/FYP/80_epochs/cut.mp4: 384x640 (no detections), 16.4ms\n",
            "video 1/1 (frame 1150/2100) /content/drive/MyDrive/FYP/80_epochs/cut.mp4: 384x640 (no detections), 16.3ms\n",
            "video 1/1 (frame 1151/2100) /content/drive/MyDrive/FYP/80_epochs/cut.mp4: 384x640 (no detections), 16.3ms\n",
            "video 1/1 (frame 1152/2100) /content/drive/MyDrive/FYP/80_epochs/cut.mp4: 384x640 (no detections), 16.4ms\n",
            "video 1/1 (frame 1153/2100) /content/drive/MyDrive/FYP/80_epochs/cut.mp4: 384x640 (no detections), 16.3ms\n",
            "video 1/1 (frame 1154/2100) /content/drive/MyDrive/FYP/80_epochs/cut.mp4: 384x640 (no detections), 16.3ms\n",
            "video 1/1 (frame 1155/2100) /content/drive/MyDrive/FYP/80_epochs/cut.mp4: 384x640 (no detections), 16.4ms\n",
            "video 1/1 (frame 1156/2100) /content/drive/MyDrive/FYP/80_epochs/cut.mp4: 384x640 (no detections), 16.3ms\n",
            "video 1/1 (frame 1157/2100) /content/drive/MyDrive/FYP/80_epochs/cut.mp4: 384x640 (no detections), 16.4ms\n",
            "video 1/1 (frame 1158/2100) /content/drive/MyDrive/FYP/80_epochs/cut.mp4: 384x640 (no detections), 16.4ms\n",
            "video 1/1 (frame 1159/2100) /content/drive/MyDrive/FYP/80_epochs/cut.mp4: 384x640 (no detections), 16.4ms\n",
            "video 1/1 (frame 1160/2100) /content/drive/MyDrive/FYP/80_epochs/cut.mp4: 384x640 (no detections), 16.4ms\n",
            "video 1/1 (frame 1161/2100) /content/drive/MyDrive/FYP/80_epochs/cut.mp4: 384x640 (no detections), 16.4ms\n",
            "video 1/1 (frame 1162/2100) /content/drive/MyDrive/FYP/80_epochs/cut.mp4: 384x640 (no detections), 16.4ms\n",
            "video 1/1 (frame 1163/2100) /content/drive/MyDrive/FYP/80_epochs/cut.mp4: 384x640 (no detections), 16.3ms\n",
            "video 1/1 (frame 1164/2100) /content/drive/MyDrive/FYP/80_epochs/cut.mp4: 384x640 (no detections), 16.3ms\n",
            "video 1/1 (frame 1165/2100) /content/drive/MyDrive/FYP/80_epochs/cut.mp4: 384x640 (no detections), 16.3ms\n",
            "video 1/1 (frame 1166/2100) /content/drive/MyDrive/FYP/80_epochs/cut.mp4: 384x640 (no detections), 16.4ms\n",
            "video 1/1 (frame 1167/2100) /content/drive/MyDrive/FYP/80_epochs/cut.mp4: 384x640 (no detections), 16.4ms\n",
            "video 1/1 (frame 1168/2100) /content/drive/MyDrive/FYP/80_epochs/cut.mp4: 384x640 (no detections), 16.3ms\n",
            "video 1/1 (frame 1169/2100) /content/drive/MyDrive/FYP/80_epochs/cut.mp4: 384x640 (no detections), 16.3ms\n",
            "video 1/1 (frame 1170/2100) /content/drive/MyDrive/FYP/80_epochs/cut.mp4: 384x640 (no detections), 16.4ms\n",
            "video 1/1 (frame 1171/2100) /content/drive/MyDrive/FYP/80_epochs/cut.mp4: 384x640 (no detections), 16.3ms\n",
            "video 1/1 (frame 1172/2100) /content/drive/MyDrive/FYP/80_epochs/cut.mp4: 384x640 (no detections), 16.3ms\n",
            "video 1/1 (frame 1173/2100) /content/drive/MyDrive/FYP/80_epochs/cut.mp4: 384x640 (no detections), 16.3ms\n",
            "video 1/1 (frame 1174/2100) /content/drive/MyDrive/FYP/80_epochs/cut.mp4: 384x640 (no detections), 16.3ms\n",
            "video 1/1 (frame 1175/2100) /content/drive/MyDrive/FYP/80_epochs/cut.mp4: 384x640 (no detections), 16.8ms\n",
            "video 1/1 (frame 1176/2100) /content/drive/MyDrive/FYP/80_epochs/cut.mp4: 384x640 (no detections), 16.8ms\n",
            "video 1/1 (frame 1177/2100) /content/drive/MyDrive/FYP/80_epochs/cut.mp4: 384x640 (no detections), 16.8ms\n",
            "video 1/1 (frame 1178/2100) /content/drive/MyDrive/FYP/80_epochs/cut.mp4: 384x640 (no detections), 16.8ms\n",
            "video 1/1 (frame 1179/2100) /content/drive/MyDrive/FYP/80_epochs/cut.mp4: 384x640 (no detections), 16.8ms\n",
            "video 1/1 (frame 1180/2100) /content/drive/MyDrive/FYP/80_epochs/cut.mp4: 384x640 (no detections), 16.7ms\n",
            "video 1/1 (frame 1181/2100) /content/drive/MyDrive/FYP/80_epochs/cut.mp4: 384x640 (no detections), 16.8ms\n",
            "video 1/1 (frame 1182/2100) /content/drive/MyDrive/FYP/80_epochs/cut.mp4: 384x640 (no detections), 16.7ms\n",
            "video 1/1 (frame 1183/2100) /content/drive/MyDrive/FYP/80_epochs/cut.mp4: 384x640 (no detections), 16.9ms\n",
            "video 1/1 (frame 1184/2100) /content/drive/MyDrive/FYP/80_epochs/cut.mp4: 384x640 (no detections), 17.0ms\n",
            "video 1/1 (frame 1185/2100) /content/drive/MyDrive/FYP/80_epochs/cut.mp4: 384x640 (no detections), 16.9ms\n",
            "video 1/1 (frame 1186/2100) /content/drive/MyDrive/FYP/80_epochs/cut.mp4: 384x640 (no detections), 17.0ms\n",
            "video 1/1 (frame 1187/2100) /content/drive/MyDrive/FYP/80_epochs/cut.mp4: 384x640 (no detections), 17.0ms\n",
            "video 1/1 (frame 1188/2100) /content/drive/MyDrive/FYP/80_epochs/cut.mp4: 384x640 (no detections), 16.3ms\n",
            "video 1/1 (frame 1189/2100) /content/drive/MyDrive/FYP/80_epochs/cut.mp4: 384x640 (no detections), 16.4ms\n",
            "video 1/1 (frame 1190/2100) /content/drive/MyDrive/FYP/80_epochs/cut.mp4: 384x640 (no detections), 16.3ms\n",
            "video 1/1 (frame 1191/2100) /content/drive/MyDrive/FYP/80_epochs/cut.mp4: 384x640 (no detections), 16.4ms\n",
            "video 1/1 (frame 1192/2100) /content/drive/MyDrive/FYP/80_epochs/cut.mp4: 384x640 (no detections), 16.4ms\n",
            "video 1/1 (frame 1193/2100) /content/drive/MyDrive/FYP/80_epochs/cut.mp4: 384x640 (no detections), 16.4ms\n",
            "video 1/1 (frame 1194/2100) /content/drive/MyDrive/FYP/80_epochs/cut.mp4: 384x640 (no detections), 16.4ms\n",
            "video 1/1 (frame 1195/2100) /content/drive/MyDrive/FYP/80_epochs/cut.mp4: 384x640 (no detections), 16.4ms\n",
            "video 1/1 (frame 1196/2100) /content/drive/MyDrive/FYP/80_epochs/cut.mp4: 384x640 (no detections), 16.4ms\n",
            "video 1/1 (frame 1197/2100) /content/drive/MyDrive/FYP/80_epochs/cut.mp4: 384x640 (no detections), 16.4ms\n",
            "video 1/1 (frame 1198/2100) /content/drive/MyDrive/FYP/80_epochs/cut.mp4: 384x640 (no detections), 16.4ms\n",
            "video 1/1 (frame 1199/2100) /content/drive/MyDrive/FYP/80_epochs/cut.mp4: 384x640 (no detections), 16.4ms\n",
            "video 1/1 (frame 1200/2100) /content/drive/MyDrive/FYP/80_epochs/cut.mp4: 384x640 (no detections), 16.4ms\n",
            "video 1/1 (frame 1201/2100) /content/drive/MyDrive/FYP/80_epochs/cut.mp4: 384x640 (no detections), 16.3ms\n",
            "video 1/1 (frame 1202/2100) /content/drive/MyDrive/FYP/80_epochs/cut.mp4: 384x640 (no detections), 16.5ms\n",
            "video 1/1 (frame 1203/2100) /content/drive/MyDrive/FYP/80_epochs/cut.mp4: 384x640 (no detections), 16.4ms\n",
            "video 1/1 (frame 1204/2100) /content/drive/MyDrive/FYP/80_epochs/cut.mp4: 384x640 (no detections), 16.3ms\n",
            "video 1/1 (frame 1205/2100) /content/drive/MyDrive/FYP/80_epochs/cut.mp4: 384x640 (no detections), 16.4ms\n",
            "video 1/1 (frame 1206/2100) /content/drive/MyDrive/FYP/80_epochs/cut.mp4: 384x640 (no detections), 16.4ms\n",
            "video 1/1 (frame 1207/2100) /content/drive/MyDrive/FYP/80_epochs/cut.mp4: 384x640 (no detections), 16.3ms\n",
            "video 1/1 (frame 1208/2100) /content/drive/MyDrive/FYP/80_epochs/cut.mp4: 384x640 (no detections), 16.4ms\n",
            "video 1/1 (frame 1209/2100) /content/drive/MyDrive/FYP/80_epochs/cut.mp4: 384x640 (no detections), 16.4ms\n",
            "video 1/1 (frame 1210/2100) /content/drive/MyDrive/FYP/80_epochs/cut.mp4: 384x640 (no detections), 16.4ms\n",
            "video 1/1 (frame 1211/2100) /content/drive/MyDrive/FYP/80_epochs/cut.mp4: 384x640 (no detections), 16.4ms\n",
            "video 1/1 (frame 1212/2100) /content/drive/MyDrive/FYP/80_epochs/cut.mp4: 384x640 (no detections), 16.4ms\n",
            "video 1/1 (frame 1213/2100) /content/drive/MyDrive/FYP/80_epochs/cut.mp4: 384x640 (no detections), 16.4ms\n",
            "video 1/1 (frame 1214/2100) /content/drive/MyDrive/FYP/80_epochs/cut.mp4: 384x640 (no detections), 16.4ms\n",
            "video 1/1 (frame 1215/2100) /content/drive/MyDrive/FYP/80_epochs/cut.mp4: 384x640 (no detections), 16.4ms\n",
            "video 1/1 (frame 1216/2100) /content/drive/MyDrive/FYP/80_epochs/cut.mp4: 384x640 (no detections), 16.5ms\n",
            "video 1/1 (frame 1217/2100) /content/drive/MyDrive/FYP/80_epochs/cut.mp4: 384x640 (no detections), 16.3ms\n",
            "video 1/1 (frame 1218/2100) /content/drive/MyDrive/FYP/80_epochs/cut.mp4: 384x640 (no detections), 16.7ms\n",
            "video 1/1 (frame 1219/2100) /content/drive/MyDrive/FYP/80_epochs/cut.mp4: 384x640 (no detections), 16.3ms\n",
            "video 1/1 (frame 1220/2100) /content/drive/MyDrive/FYP/80_epochs/cut.mp4: 384x640 (no detections), 16.3ms\n",
            "video 1/1 (frame 1221/2100) /content/drive/MyDrive/FYP/80_epochs/cut.mp4: 384x640 (no detections), 16.3ms\n",
            "video 1/1 (frame 1222/2100) /content/drive/MyDrive/FYP/80_epochs/cut.mp4: 384x640 (no detections), 16.4ms\n",
            "video 1/1 (frame 1223/2100) /content/drive/MyDrive/FYP/80_epochs/cut.mp4: 384x640 (no detections), 16.4ms\n",
            "video 1/1 (frame 1224/2100) /content/drive/MyDrive/FYP/80_epochs/cut.mp4: 384x640 (no detections), 16.4ms\n",
            "video 1/1 (frame 1225/2100) /content/drive/MyDrive/FYP/80_epochs/cut.mp4: 384x640 (no detections), 16.4ms\n",
            "video 1/1 (frame 1226/2100) /content/drive/MyDrive/FYP/80_epochs/cut.mp4: 384x640 (no detections), 16.3ms\n",
            "video 1/1 (frame 1227/2100) /content/drive/MyDrive/FYP/80_epochs/cut.mp4: 384x640 (no detections), 16.4ms\n",
            "video 1/1 (frame 1228/2100) /content/drive/MyDrive/FYP/80_epochs/cut.mp4: 384x640 (no detections), 17.0ms\n",
            "video 1/1 (frame 1229/2100) /content/drive/MyDrive/FYP/80_epochs/cut.mp4: 384x640 (no detections), 17.0ms\n",
            "video 1/1 (frame 1230/2100) /content/drive/MyDrive/FYP/80_epochs/cut.mp4: 384x640 (no detections), 17.0ms\n",
            "video 1/1 (frame 1231/2100) /content/drive/MyDrive/FYP/80_epochs/cut.mp4: 384x640 (no detections), 17.1ms\n",
            "video 1/1 (frame 1232/2100) /content/drive/MyDrive/FYP/80_epochs/cut.mp4: 384x640 (no detections), 17.0ms\n",
            "video 1/1 (frame 1233/2100) /content/drive/MyDrive/FYP/80_epochs/cut.mp4: 384x640 (no detections), 17.0ms\n",
            "video 1/1 (frame 1234/2100) /content/drive/MyDrive/FYP/80_epochs/cut.mp4: 384x640 (no detections), 17.0ms\n",
            "video 1/1 (frame 1235/2100) /content/drive/MyDrive/FYP/80_epochs/cut.mp4: 384x640 (no detections), 17.0ms\n",
            "video 1/1 (frame 1236/2100) /content/drive/MyDrive/FYP/80_epochs/cut.mp4: 384x640 (no detections), 17.2ms\n",
            "video 1/1 (frame 1237/2100) /content/drive/MyDrive/FYP/80_epochs/cut.mp4: 384x640 (no detections), 17.2ms\n",
            "video 1/1 (frame 1238/2100) /content/drive/MyDrive/FYP/80_epochs/cut.mp4: 384x640 (no detections), 17.2ms\n",
            "video 1/1 (frame 1239/2100) /content/drive/MyDrive/FYP/80_epochs/cut.mp4: 384x640 (no detections), 17.2ms\n",
            "video 1/1 (frame 1240/2100) /content/drive/MyDrive/FYP/80_epochs/cut.mp4: 384x640 (no detections), 17.4ms\n",
            "video 1/1 (frame 1241/2100) /content/drive/MyDrive/FYP/80_epochs/cut.mp4: 384x640 (no detections), 17.5ms\n",
            "video 1/1 (frame 1242/2100) /content/drive/MyDrive/FYP/80_epochs/cut.mp4: 384x640 (no detections), 17.5ms\n",
            "video 1/1 (frame 1243/2100) /content/drive/MyDrive/FYP/80_epochs/cut.mp4: 384x640 (no detections), 17.5ms\n",
            "video 1/1 (frame 1244/2100) /content/drive/MyDrive/FYP/80_epochs/cut.mp4: 384x640 (no detections), 17.5ms\n",
            "video 1/1 (frame 1245/2100) /content/drive/MyDrive/FYP/80_epochs/cut.mp4: 384x640 (no detections), 16.6ms\n",
            "video 1/1 (frame 1246/2100) /content/drive/MyDrive/FYP/80_epochs/cut.mp4: 384x640 (no detections), 16.6ms\n",
            "video 1/1 (frame 1247/2100) /content/drive/MyDrive/FYP/80_epochs/cut.mp4: 384x640 (no detections), 16.5ms\n",
            "video 1/1 (frame 1248/2100) /content/drive/MyDrive/FYP/80_epochs/cut.mp4: 384x640 (no detections), 16.6ms\n",
            "video 1/1 (frame 1249/2100) /content/drive/MyDrive/FYP/80_epochs/cut.mp4: 384x640 (no detections), 16.6ms\n",
            "video 1/1 (frame 1250/2100) /content/drive/MyDrive/FYP/80_epochs/cut.mp4: 384x640 (no detections), 16.5ms\n",
            "video 1/1 (frame 1251/2100) /content/drive/MyDrive/FYP/80_epochs/cut.mp4: 384x640 (no detections), 16.7ms\n",
            "video 1/1 (frame 1252/2100) /content/drive/MyDrive/FYP/80_epochs/cut.mp4: 384x640 (no detections), 16.5ms\n",
            "video 1/1 (frame 1253/2100) /content/drive/MyDrive/FYP/80_epochs/cut.mp4: 384x640 (no detections), 16.5ms\n",
            "video 1/1 (frame 1254/2100) /content/drive/MyDrive/FYP/80_epochs/cut.mp4: 384x640 (no detections), 16.7ms\n",
            "video 1/1 (frame 1255/2100) /content/drive/MyDrive/FYP/80_epochs/cut.mp4: 384x640 (no detections), 16.6ms\n",
            "video 1/1 (frame 1256/2100) /content/drive/MyDrive/FYP/80_epochs/cut.mp4: 384x640 (no detections), 16.5ms\n",
            "video 1/1 (frame 1257/2100) /content/drive/MyDrive/FYP/80_epochs/cut.mp4: 384x640 (no detections), 16.5ms\n",
            "video 1/1 (frame 1258/2100) /content/drive/MyDrive/FYP/80_epochs/cut.mp4: 384x640 (no detections), 16.5ms\n",
            "video 1/1 (frame 1259/2100) /content/drive/MyDrive/FYP/80_epochs/cut.mp4: 384x640 (no detections), 16.5ms\n",
            "video 1/1 (frame 1260/2100) /content/drive/MyDrive/FYP/80_epochs/cut.mp4: 384x640 (no detections), 16.5ms\n",
            "video 1/1 (frame 1261/2100) /content/drive/MyDrive/FYP/80_epochs/cut.mp4: 384x640 (no detections), 16.6ms\n",
            "video 1/1 (frame 1262/2100) /content/drive/MyDrive/FYP/80_epochs/cut.mp4: 384x640 (no detections), 16.5ms\n",
            "video 1/1 (frame 1263/2100) /content/drive/MyDrive/FYP/80_epochs/cut.mp4: 384x640 (no detections), 16.6ms\n",
            "video 1/1 (frame 1264/2100) /content/drive/MyDrive/FYP/80_epochs/cut.mp4: 384x640 (no detections), 16.6ms\n",
            "video 1/1 (frame 1265/2100) /content/drive/MyDrive/FYP/80_epochs/cut.mp4: 384x640 (no detections), 16.5ms\n",
            "video 1/1 (frame 1266/2100) /content/drive/MyDrive/FYP/80_epochs/cut.mp4: 384x640 (no detections), 16.5ms\n",
            "video 1/1 (frame 1267/2100) /content/drive/MyDrive/FYP/80_epochs/cut.mp4: 384x640 (no detections), 16.6ms\n",
            "video 1/1 (frame 1268/2100) /content/drive/MyDrive/FYP/80_epochs/cut.mp4: 384x640 (no detections), 16.5ms\n",
            "video 1/1 (frame 1269/2100) /content/drive/MyDrive/FYP/80_epochs/cut.mp4: 384x640 (no detections), 16.5ms\n",
            "video 1/1 (frame 1270/2100) /content/drive/MyDrive/FYP/80_epochs/cut.mp4: 384x640 (no detections), 17.3ms\n",
            "video 1/1 (frame 1271/2100) /content/drive/MyDrive/FYP/80_epochs/cut.mp4: 384x640 (no detections), 16.5ms\n",
            "video 1/1 (frame 1272/2100) /content/drive/MyDrive/FYP/80_epochs/cut.mp4: 384x640 (no detections), 16.6ms\n",
            "video 1/1 (frame 1273/2100) /content/drive/MyDrive/FYP/80_epochs/cut.mp4: 384x640 (no detections), 16.6ms\n",
            "video 1/1 (frame 1274/2100) /content/drive/MyDrive/FYP/80_epochs/cut.mp4: 384x640 (no detections), 16.5ms\n",
            "video 1/1 (frame 1275/2100) /content/drive/MyDrive/FYP/80_epochs/cut.mp4: 384x640 (no detections), 16.5ms\n",
            "video 1/1 (frame 1276/2100) /content/drive/MyDrive/FYP/80_epochs/cut.mp4: 384x640 (no detections), 16.5ms\n",
            "video 1/1 (frame 1277/2100) /content/drive/MyDrive/FYP/80_epochs/cut.mp4: 384x640 (no detections), 16.5ms\n",
            "video 1/1 (frame 1278/2100) /content/drive/MyDrive/FYP/80_epochs/cut.mp4: 384x640 (no detections), 16.6ms\n",
            "video 1/1 (frame 1279/2100) /content/drive/MyDrive/FYP/80_epochs/cut.mp4: 384x640 (no detections), 16.6ms\n",
            "video 1/1 (frame 1280/2100) /content/drive/MyDrive/FYP/80_epochs/cut.mp4: 384x640 (no detections), 16.2ms\n",
            "video 1/1 (frame 1281/2100) /content/drive/MyDrive/FYP/80_epochs/cut.mp4: 384x640 (no detections), 16.2ms\n",
            "video 1/1 (frame 1282/2100) /content/drive/MyDrive/FYP/80_epochs/cut.mp4: 384x640 (no detections), 16.2ms\n",
            "video 1/1 (frame 1283/2100) /content/drive/MyDrive/FYP/80_epochs/cut.mp4: 384x640 (no detections), 16.2ms\n",
            "video 1/1 (frame 1284/2100) /content/drive/MyDrive/FYP/80_epochs/cut.mp4: 384x640 (no detections), 16.2ms\n",
            "video 1/1 (frame 1285/2100) /content/drive/MyDrive/FYP/80_epochs/cut.mp4: 384x640 (no detections), 16.2ms\n",
            "video 1/1 (frame 1286/2100) /content/drive/MyDrive/FYP/80_epochs/cut.mp4: 384x640 (no detections), 16.2ms\n",
            "video 1/1 (frame 1287/2100) /content/drive/MyDrive/FYP/80_epochs/cut.mp4: 384x640 (no detections), 16.1ms\n",
            "video 1/1 (frame 1288/2100) /content/drive/MyDrive/FYP/80_epochs/cut.mp4: 384x640 (no detections), 16.1ms\n",
            "video 1/1 (frame 1289/2100) /content/drive/MyDrive/FYP/80_epochs/cut.mp4: 384x640 (no detections), 15.9ms\n",
            "video 1/1 (frame 1290/2100) /content/drive/MyDrive/FYP/80_epochs/cut.mp4: 384x640 (no detections), 16.1ms\n",
            "video 1/1 (frame 1291/2100) /content/drive/MyDrive/FYP/80_epochs/cut.mp4: 384x640 (no detections), 15.9ms\n",
            "video 1/1 (frame 1292/2100) /content/drive/MyDrive/FYP/80_epochs/cut.mp4: 384x640 (no detections), 15.9ms\n",
            "video 1/1 (frame 1293/2100) /content/drive/MyDrive/FYP/80_epochs/cut.mp4: 384x640 (no detections), 16.0ms\n",
            "video 1/1 (frame 1294/2100) /content/drive/MyDrive/FYP/80_epochs/cut.mp4: 384x640 (no detections), 16.0ms\n",
            "video 1/1 (frame 1295/2100) /content/drive/MyDrive/FYP/80_epochs/cut.mp4: 384x640 (no detections), 16.0ms\n",
            "video 1/1 (frame 1296/2100) /content/drive/MyDrive/FYP/80_epochs/cut.mp4: 384x640 (no detections), 21.1ms\n",
            "video 1/1 (frame 1297/2100) /content/drive/MyDrive/FYP/80_epochs/cut.mp4: 384x640 (no detections), 16.0ms\n",
            "video 1/1 (frame 1298/2100) /content/drive/MyDrive/FYP/80_epochs/cut.mp4: 384x640 (no detections), 16.0ms\n",
            "video 1/1 (frame 1299/2100) /content/drive/MyDrive/FYP/80_epochs/cut.mp4: 384x640 (no detections), 16.1ms\n",
            "video 1/1 (frame 1300/2100) /content/drive/MyDrive/FYP/80_epochs/cut.mp4: 384x640 (no detections), 16.0ms\n",
            "video 1/1 (frame 1301/2100) /content/drive/MyDrive/FYP/80_epochs/cut.mp4: 384x640 (no detections), 18.1ms\n",
            "video 1/1 (frame 1302/2100) /content/drive/MyDrive/FYP/80_epochs/cut.mp4: 384x640 (no detections), 19.0ms\n",
            "video 1/1 (frame 1303/2100) /content/drive/MyDrive/FYP/80_epochs/cut.mp4: 384x640 (no detections), 16.5ms\n",
            "video 1/1 (frame 1304/2100) /content/drive/MyDrive/FYP/80_epochs/cut.mp4: 384x640 (no detections), 15.9ms\n",
            "video 1/1 (frame 1305/2100) /content/drive/MyDrive/FYP/80_epochs/cut.mp4: 384x640 (no detections), 16.0ms\n",
            "video 1/1 (frame 1306/2100) /content/drive/MyDrive/FYP/80_epochs/cut.mp4: 384x640 (no detections), 16.0ms\n",
            "video 1/1 (frame 1307/2100) /content/drive/MyDrive/FYP/80_epochs/cut.mp4: 384x640 (no detections), 16.9ms\n",
            "video 1/1 (frame 1308/2100) /content/drive/MyDrive/FYP/80_epochs/cut.mp4: 384x640 (no detections), 16.0ms\n",
            "video 1/1 (frame 1309/2100) /content/drive/MyDrive/FYP/80_epochs/cut.mp4: 384x640 (no detections), 16.0ms\n",
            "video 1/1 (frame 1310/2100) /content/drive/MyDrive/FYP/80_epochs/cut.mp4: 384x640 (no detections), 16.1ms\n",
            "video 1/1 (frame 1311/2100) /content/drive/MyDrive/FYP/80_epochs/cut.mp4: 384x640 (no detections), 16.0ms\n",
            "video 1/1 (frame 1312/2100) /content/drive/MyDrive/FYP/80_epochs/cut.mp4: 384x640 (no detections), 16.0ms\n",
            "video 1/1 (frame 1313/2100) /content/drive/MyDrive/FYP/80_epochs/cut.mp4: 384x640 (no detections), 16.0ms\n",
            "video 1/1 (frame 1314/2100) /content/drive/MyDrive/FYP/80_epochs/cut.mp4: 384x640 (no detections), 16.0ms\n",
            "video 1/1 (frame 1315/2100) /content/drive/MyDrive/FYP/80_epochs/cut.mp4: 384x640 (no detections), 16.0ms\n",
            "video 1/1 (frame 1316/2100) /content/drive/MyDrive/FYP/80_epochs/cut.mp4: 384x640 (no detections), 16.0ms\n",
            "video 1/1 (frame 1317/2100) /content/drive/MyDrive/FYP/80_epochs/cut.mp4: 384x640 (no detections), 16.0ms\n",
            "video 1/1 (frame 1318/2100) /content/drive/MyDrive/FYP/80_epochs/cut.mp4: 384x640 (no detections), 17.1ms\n",
            "video 1/1 (frame 1319/2100) /content/drive/MyDrive/FYP/80_epochs/cut.mp4: 384x640 (no detections), 17.0ms\n",
            "video 1/1 (frame 1320/2100) /content/drive/MyDrive/FYP/80_epochs/cut.mp4: 384x640 (no detections), 18.6ms\n",
            "video 1/1 (frame 1321/2100) /content/drive/MyDrive/FYP/80_epochs/cut.mp4: 384x640 (no detections), 20.0ms\n",
            "video 1/1 (frame 1322/2100) /content/drive/MyDrive/FYP/80_epochs/cut.mp4: 384x640 (no detections), 20.3ms\n",
            "video 1/1 (frame 1323/2100) /content/drive/MyDrive/FYP/80_epochs/cut.mp4: 384x640 (no detections), 20.0ms\n",
            "video 1/1 (frame 1324/2100) /content/drive/MyDrive/FYP/80_epochs/cut.mp4: 384x640 (no detections), 20.0ms\n",
            "video 1/1 (frame 1325/2100) /content/drive/MyDrive/FYP/80_epochs/cut.mp4: 384x640 (no detections), 20.0ms\n",
            "video 1/1 (frame 1326/2100) /content/drive/MyDrive/FYP/80_epochs/cut.mp4: 384x640 (no detections), 20.0ms\n",
            "video 1/1 (frame 1327/2100) /content/drive/MyDrive/FYP/80_epochs/cut.mp4: 384x640 (no detections), 20.3ms\n",
            "video 1/1 (frame 1328/2100) /content/drive/MyDrive/FYP/80_epochs/cut.mp4: 384x640 (no detections), 20.4ms\n",
            "video 1/1 (frame 1329/2100) /content/drive/MyDrive/FYP/80_epochs/cut.mp4: 384x640 (no detections), 20.5ms\n",
            "video 1/1 (frame 1330/2100) /content/drive/MyDrive/FYP/80_epochs/cut.mp4: 384x640 (no detections), 20.7ms\n",
            "video 1/1 (frame 1331/2100) /content/drive/MyDrive/FYP/80_epochs/cut.mp4: 384x640 (no detections), 20.7ms\n",
            "video 1/1 (frame 1332/2100) /content/drive/MyDrive/FYP/80_epochs/cut.mp4: 384x640 (no detections), 21.0ms\n",
            "video 1/1 (frame 1333/2100) /content/drive/MyDrive/FYP/80_epochs/cut.mp4: 384x640 (no detections), 21.4ms\n",
            "video 1/1 (frame 1334/2100) /content/drive/MyDrive/FYP/80_epochs/cut.mp4: 384x640 (no detections), 21.4ms\n",
            "video 1/1 (frame 1335/2100) /content/drive/MyDrive/FYP/80_epochs/cut.mp4: 384x640 (no detections), 21.4ms\n",
            "video 1/1 (frame 1336/2100) /content/drive/MyDrive/FYP/80_epochs/cut.mp4: 384x640 (no detections), 21.5ms\n",
            "video 1/1 (frame 1337/2100) /content/drive/MyDrive/FYP/80_epochs/cut.mp4: 384x640 (no detections), 21.4ms\n",
            "video 1/1 (frame 1338/2100) /content/drive/MyDrive/FYP/80_epochs/cut.mp4: 384x640 (no detections), 21.4ms\n",
            "video 1/1 (frame 1339/2100) /content/drive/MyDrive/FYP/80_epochs/cut.mp4: 384x640 (no detections), 21.8ms\n",
            "video 1/1 (frame 1340/2100) /content/drive/MyDrive/FYP/80_epochs/cut.mp4: 384x640 (no detections), 21.8ms\n",
            "video 1/1 (frame 1341/2100) /content/drive/MyDrive/FYP/80_epochs/cut.mp4: 384x640 (no detections), 21.8ms\n",
            "video 1/1 (frame 1342/2100) /content/drive/MyDrive/FYP/80_epochs/cut.mp4: 384x640 (no detections), 21.8ms\n",
            "video 1/1 (frame 1343/2100) /content/drive/MyDrive/FYP/80_epochs/cut.mp4: 384x640 (no detections), 21.8ms\n",
            "video 1/1 (frame 1344/2100) /content/drive/MyDrive/FYP/80_epochs/cut.mp4: 384x640 (no detections), 21.9ms\n",
            "video 1/1 (frame 1345/2100) /content/drive/MyDrive/FYP/80_epochs/cut.mp4: 384x640 (no detections), 23.6ms\n",
            "video 1/1 (frame 1346/2100) /content/drive/MyDrive/FYP/80_epochs/cut.mp4: 384x640 (no detections), 22.3ms\n",
            "video 1/1 (frame 1347/2100) /content/drive/MyDrive/FYP/80_epochs/cut.mp4: 384x640 (no detections), 22.2ms\n",
            "video 1/1 (frame 1348/2100) /content/drive/MyDrive/FYP/80_epochs/cut.mp4: 384x640 (no detections), 22.7ms\n",
            "video 1/1 (frame 1349/2100) /content/drive/MyDrive/FYP/80_epochs/cut.mp4: 384x640 (no detections), 22.7ms\n",
            "video 1/1 (frame 1350/2100) /content/drive/MyDrive/FYP/80_epochs/cut.mp4: 384x640 (no detections), 22.7ms\n",
            "video 1/1 (frame 1351/2100) /content/drive/MyDrive/FYP/80_epochs/cut.mp4: 384x640 (no detections), 22.7ms\n",
            "video 1/1 (frame 1352/2100) /content/drive/MyDrive/FYP/80_epochs/cut.mp4: 384x640 (no detections), 23.4ms\n",
            "video 1/1 (frame 1353/2100) /content/drive/MyDrive/FYP/80_epochs/cut.mp4: 384x640 (no detections), 22.7ms\n",
            "video 1/1 (frame 1354/2100) /content/drive/MyDrive/FYP/80_epochs/cut.mp4: 384x640 (no detections), 23.2ms\n",
            "video 1/1 (frame 1355/2100) /content/drive/MyDrive/FYP/80_epochs/cut.mp4: 384x640 (no detections), 23.1ms\n",
            "video 1/1 (frame 1356/2100) /content/drive/MyDrive/FYP/80_epochs/cut.mp4: 384x640 (no detections), 23.2ms\n",
            "video 1/1 (frame 1357/2100) /content/drive/MyDrive/FYP/80_epochs/cut.mp4: 384x640 (no detections), 23.2ms\n",
            "video 1/1 (frame 1358/2100) /content/drive/MyDrive/FYP/80_epochs/cut.mp4: 384x640 (no detections), 23.1ms\n",
            "video 1/1 (frame 1359/2100) /content/drive/MyDrive/FYP/80_epochs/cut.mp4: 384x640 (no detections), 23.1ms\n",
            "video 1/1 (frame 1360/2100) /content/drive/MyDrive/FYP/80_epochs/cut.mp4: 384x640 (no detections), 23.2ms\n",
            "video 1/1 (frame 1361/2100) /content/drive/MyDrive/FYP/80_epochs/cut.mp4: 384x640 (no detections), 20.7ms\n",
            "video 1/1 (frame 1362/2100) /content/drive/MyDrive/FYP/80_epochs/cut.mp4: 384x640 (no detections), 20.7ms\n",
            "video 1/1 (frame 1363/2100) /content/drive/MyDrive/FYP/80_epochs/cut.mp4: 384x640 (no detections), 21.5ms\n",
            "video 1/1 (frame 1364/2100) /content/drive/MyDrive/FYP/80_epochs/cut.mp4: 384x640 (no detections), 20.6ms\n",
            "video 1/1 (frame 1365/2100) /content/drive/MyDrive/FYP/80_epochs/cut.mp4: 384x640 (no detections), 20.6ms\n",
            "video 1/1 (frame 1366/2100) /content/drive/MyDrive/FYP/80_epochs/cut.mp4: 384x640 (no detections), 20.6ms\n",
            "video 1/1 (frame 1367/2100) /content/drive/MyDrive/FYP/80_epochs/cut.mp4: 384x640 (no detections), 20.6ms\n",
            "video 1/1 (frame 1368/2100) /content/drive/MyDrive/FYP/80_epochs/cut.mp4: 384x640 (no detections), 19.9ms\n",
            "video 1/1 (frame 1369/2100) /content/drive/MyDrive/FYP/80_epochs/cut.mp4: 384x640 (no detections), 19.1ms\n",
            "video 1/1 (frame 1370/2100) /content/drive/MyDrive/FYP/80_epochs/cut.mp4: 384x640 (no detections), 19.1ms\n",
            "video 1/1 (frame 1371/2100) /content/drive/MyDrive/FYP/80_epochs/cut.mp4: 384x640 (no detections), 19.1ms\n",
            "video 1/1 (frame 1372/2100) /content/drive/MyDrive/FYP/80_epochs/cut.mp4: 384x640 (no detections), 19.0ms\n",
            "video 1/1 (frame 1373/2100) /content/drive/MyDrive/FYP/80_epochs/cut.mp4: 384x640 (no detections), 18.2ms\n",
            "video 1/1 (frame 1374/2100) /content/drive/MyDrive/FYP/80_epochs/cut.mp4: 384x640 (no detections), 18.2ms\n",
            "video 1/1 (frame 1375/2100) /content/drive/MyDrive/FYP/80_epochs/cut.mp4: 384x640 (no detections), 18.2ms\n",
            "video 1/1 (frame 1376/2100) /content/drive/MyDrive/FYP/80_epochs/cut.mp4: 384x640 (no detections), 18.2ms\n",
            "video 1/1 (frame 1377/2100) /content/drive/MyDrive/FYP/80_epochs/cut.mp4: 384x640 (no detections), 18.2ms\n",
            "video 1/1 (frame 1378/2100) /content/drive/MyDrive/FYP/80_epochs/cut.mp4: 384x640 (no detections), 18.2ms\n",
            "video 1/1 (frame 1379/2100) /content/drive/MyDrive/FYP/80_epochs/cut.mp4: 384x640 (no detections), 18.2ms\n",
            "video 1/1 (frame 1380/2100) /content/drive/MyDrive/FYP/80_epochs/cut.mp4: 384x640 (no detections), 18.3ms\n",
            "video 1/1 (frame 1381/2100) /content/drive/MyDrive/FYP/80_epochs/cut.mp4: 384x640 (no detections), 18.2ms\n",
            "video 1/1 (frame 1382/2100) /content/drive/MyDrive/FYP/80_epochs/cut.mp4: 384x640 (no detections), 18.2ms\n",
            "video 1/1 (frame 1383/2100) /content/drive/MyDrive/FYP/80_epochs/cut.mp4: 384x640 (no detections), 18.3ms\n",
            "video 1/1 (frame 1384/2100) /content/drive/MyDrive/FYP/80_epochs/cut.mp4: 384x640 (no detections), 18.3ms\n",
            "video 1/1 (frame 1385/2100) /content/drive/MyDrive/FYP/80_epochs/cut.mp4: 384x640 (no detections), 18.2ms\n",
            "video 1/1 (frame 1386/2100) /content/drive/MyDrive/FYP/80_epochs/cut.mp4: 384x640 (no detections), 18.2ms\n",
            "video 1/1 (frame 1387/2100) /content/drive/MyDrive/FYP/80_epochs/cut.mp4: 384x640 (no detections), 18.2ms\n",
            "video 1/1 (frame 1388/2100) /content/drive/MyDrive/FYP/80_epochs/cut.mp4: 384x640 (no detections), 18.2ms\n",
            "video 1/1 (frame 1389/2100) /content/drive/MyDrive/FYP/80_epochs/cut.mp4: 384x640 (no detections), 18.2ms\n",
            "video 1/1 (frame 1390/2100) /content/drive/MyDrive/FYP/80_epochs/cut.mp4: 384x640 (no detections), 18.2ms\n",
            "video 1/1 (frame 1391/2100) /content/drive/MyDrive/FYP/80_epochs/cut.mp4: 384x640 (no detections), 18.2ms\n",
            "video 1/1 (frame 1392/2100) /content/drive/MyDrive/FYP/80_epochs/cut.mp4: 384x640 (no detections), 18.2ms\n",
            "video 1/1 (frame 1393/2100) /content/drive/MyDrive/FYP/80_epochs/cut.mp4: 384x640 (no detections), 18.2ms\n",
            "video 1/1 (frame 1394/2100) /content/drive/MyDrive/FYP/80_epochs/cut.mp4: 384x640 (no detections), 18.2ms\n",
            "video 1/1 (frame 1395/2100) /content/drive/MyDrive/FYP/80_epochs/cut.mp4: 384x640 (no detections), 18.2ms\n",
            "video 1/1 (frame 1396/2100) /content/drive/MyDrive/FYP/80_epochs/cut.mp4: 384x640 (no detections), 18.2ms\n",
            "video 1/1 (frame 1397/2100) /content/drive/MyDrive/FYP/80_epochs/cut.mp4: 384x640 (no detections), 18.3ms\n",
            "video 1/1 (frame 1398/2100) /content/drive/MyDrive/FYP/80_epochs/cut.mp4: 384x640 (no detections), 18.2ms\n",
            "video 1/1 (frame 1399/2100) /content/drive/MyDrive/FYP/80_epochs/cut.mp4: 384x640 (no detections), 18.2ms\n",
            "video 1/1 (frame 1400/2100) /content/drive/MyDrive/FYP/80_epochs/cut.mp4: 384x640 (no detections), 18.2ms\n",
            "video 1/1 (frame 1401/2100) /content/drive/MyDrive/FYP/80_epochs/cut.mp4: 384x640 (no detections), 18.3ms\n",
            "video 1/1 (frame 1402/2100) /content/drive/MyDrive/FYP/80_epochs/cut.mp4: 384x640 (no detections), 18.2ms\n",
            "video 1/1 (frame 1403/2100) /content/drive/MyDrive/FYP/80_epochs/cut.mp4: 384x640 (no detections), 18.0ms\n",
            "video 1/1 (frame 1404/2100) /content/drive/MyDrive/FYP/80_epochs/cut.mp4: 384x640 (no detections), 17.9ms\n",
            "video 1/1 (frame 1405/2100) /content/drive/MyDrive/FYP/80_epochs/cut.mp4: 384x640 (no detections), 18.0ms\n",
            "video 1/1 (frame 1406/2100) /content/drive/MyDrive/FYP/80_epochs/cut.mp4: 384x640 (no detections), 18.1ms\n",
            "video 1/1 (frame 1407/2100) /content/drive/MyDrive/FYP/80_epochs/cut.mp4: 384x640 (no detections), 17.9ms\n",
            "video 1/1 (frame 1408/2100) /content/drive/MyDrive/FYP/80_epochs/cut.mp4: 384x640 (no detections), 17.9ms\n",
            "video 1/1 (frame 1409/2100) /content/drive/MyDrive/FYP/80_epochs/cut.mp4: 384x640 (no detections), 18.0ms\n",
            "video 1/1 (frame 1410/2100) /content/drive/MyDrive/FYP/80_epochs/cut.mp4: 384x640 (no detections), 17.9ms\n",
            "video 1/1 (frame 1411/2100) /content/drive/MyDrive/FYP/80_epochs/cut.mp4: 384x640 (no detections), 18.0ms\n",
            "video 1/1 (frame 1412/2100) /content/drive/MyDrive/FYP/80_epochs/cut.mp4: 384x640 (no detections), 18.0ms\n",
            "video 1/1 (frame 1413/2100) /content/drive/MyDrive/FYP/80_epochs/cut.mp4: 384x640 (no detections), 18.0ms\n",
            "video 1/1 (frame 1414/2100) /content/drive/MyDrive/FYP/80_epochs/cut.mp4: 384x640 (no detections), 18.0ms\n",
            "video 1/1 (frame 1415/2100) /content/drive/MyDrive/FYP/80_epochs/cut.mp4: 384x640 (no detections), 17.8ms\n",
            "video 1/1 (frame 1416/2100) /content/drive/MyDrive/FYP/80_epochs/cut.mp4: 384x640 (no detections), 16.9ms\n",
            "video 1/1 (frame 1417/2100) /content/drive/MyDrive/FYP/80_epochs/cut.mp4: 384x640 (no detections), 16.9ms\n",
            "video 1/1 (frame 1418/2100) /content/drive/MyDrive/FYP/80_epochs/cut.mp4: 384x640 (no detections), 17.1ms\n",
            "video 1/1 (frame 1419/2100) /content/drive/MyDrive/FYP/80_epochs/cut.mp4: 384x640 (no detections), 17.0ms\n",
            "video 1/1 (frame 1420/2100) /content/drive/MyDrive/FYP/80_epochs/cut.mp4: 384x640 (no detections), 17.0ms\n",
            "video 1/1 (frame 1421/2100) /content/drive/MyDrive/FYP/80_epochs/cut.mp4: 384x640 (no detections), 17.0ms\n",
            "video 1/1 (frame 1422/2100) /content/drive/MyDrive/FYP/80_epochs/cut.mp4: 384x640 (no detections), 17.0ms\n",
            "video 1/1 (frame 1423/2100) /content/drive/MyDrive/FYP/80_epochs/cut.mp4: 384x640 (no detections), 16.9ms\n",
            "video 1/1 (frame 1424/2100) /content/drive/MyDrive/FYP/80_epochs/cut.mp4: 384x640 (no detections), 17.0ms\n",
            "video 1/1 (frame 1425/2100) /content/drive/MyDrive/FYP/80_epochs/cut.mp4: 384x640 (no detections), 17.0ms\n",
            "video 1/1 (frame 1426/2100) /content/drive/MyDrive/FYP/80_epochs/cut.mp4: 384x640 (no detections), 17.1ms\n",
            "video 1/1 (frame 1427/2100) /content/drive/MyDrive/FYP/80_epochs/cut.mp4: 384x640 (no detections), 17.0ms\n",
            "video 1/1 (frame 1428/2100) /content/drive/MyDrive/FYP/80_epochs/cut.mp4: 384x640 (no detections), 17.0ms\n",
            "video 1/1 (frame 1429/2100) /content/drive/MyDrive/FYP/80_epochs/cut.mp4: 384x640 (no detections), 17.0ms\n",
            "video 1/1 (frame 1430/2100) /content/drive/MyDrive/FYP/80_epochs/cut.mp4: 384x640 1 speed limit 30 km/h, 17.0ms\n",
            "video 1/1 (frame 1431/2100) /content/drive/MyDrive/FYP/80_epochs/cut.mp4: 384x640 1 speed limit 30 km/h, 17.0ms\n",
            "video 1/1 (frame 1432/2100) /content/drive/MyDrive/FYP/80_epochs/cut.mp4: 384x640 1 speed limit 30 km/h, 17.0ms\n",
            "video 1/1 (frame 1433/2100) /content/drive/MyDrive/FYP/80_epochs/cut.mp4: 384x640 1 speed limit 30 km/h, 17.0ms\n",
            "video 1/1 (frame 1434/2100) /content/drive/MyDrive/FYP/80_epochs/cut.mp4: 384x640 1 speed limit 30 km/h, 17.0ms\n",
            "video 1/1 (frame 1435/2100) /content/drive/MyDrive/FYP/80_epochs/cut.mp4: 384x640 1 speed limit 30 km/h, 16.9ms\n",
            "video 1/1 (frame 1436/2100) /content/drive/MyDrive/FYP/80_epochs/cut.mp4: 384x640 1 speed limit 30 km/h, 17.0ms\n",
            "video 1/1 (frame 1437/2100) /content/drive/MyDrive/FYP/80_epochs/cut.mp4: 384x640 1 speed limit 30 km/h, 17.0ms\n",
            "video 1/1 (frame 1438/2100) /content/drive/MyDrive/FYP/80_epochs/cut.mp4: 384x640 1 speed limit 30 km/h, 17.0ms\n",
            "video 1/1 (frame 1439/2100) /content/drive/MyDrive/FYP/80_epochs/cut.mp4: 384x640 1 speed limit 30 km/h, 17.1ms\n",
            "video 1/1 (frame 1440/2100) /content/drive/MyDrive/FYP/80_epochs/cut.mp4: 384x640 1 speed limit 30 km/h, 16.9ms\n",
            "video 1/1 (frame 1441/2100) /content/drive/MyDrive/FYP/80_epochs/cut.mp4: 384x640 1 speed limit 30 km/h, 16.9ms\n",
            "video 1/1 (frame 1442/2100) /content/drive/MyDrive/FYP/80_epochs/cut.mp4: 384x640 1 speed limit 30 km/h, 17.1ms\n",
            "video 1/1 (frame 1443/2100) /content/drive/MyDrive/FYP/80_epochs/cut.mp4: 384x640 1 speed limit 30 km/h, 17.0ms\n",
            "video 1/1 (frame 1444/2100) /content/drive/MyDrive/FYP/80_epochs/cut.mp4: 384x640 1 speed limit 30 km/h, 17.0ms\n",
            "video 1/1 (frame 1445/2100) /content/drive/MyDrive/FYP/80_epochs/cut.mp4: 384x640 1 speed limit 30 km/h, 17.0ms\n",
            "video 1/1 (frame 1446/2100) /content/drive/MyDrive/FYP/80_epochs/cut.mp4: 384x640 1 speed limit 30 km/h, 16.5ms\n",
            "video 1/1 (frame 1447/2100) /content/drive/MyDrive/FYP/80_epochs/cut.mp4: 384x640 1 speed limit 30 km/h, 1 speed limit 90 km/h, 16.6ms\n",
            "video 1/1 (frame 1448/2100) /content/drive/MyDrive/FYP/80_epochs/cut.mp4: 384x640 1 speed limit 30 km/h, 1 speed limit 90 km/h, 16.6ms\n",
            "video 1/1 (frame 1449/2100) /content/drive/MyDrive/FYP/80_epochs/cut.mp4: 384x640 1 speed limit 30 km/h, 1 speed limit 90 km/h, 16.6ms\n",
            "video 1/1 (frame 1450/2100) /content/drive/MyDrive/FYP/80_epochs/cut.mp4: 384x640 1 speed limit 30 km/h, 1 speed limit 90 km/h, 24.3ms\n",
            "video 1/1 (frame 1451/2100) /content/drive/MyDrive/FYP/80_epochs/cut.mp4: 384x640 1 speed limit 30 km/h, 1 speed limit 90 km/h, 16.5ms\n",
            "video 1/1 (frame 1452/2100) /content/drive/MyDrive/FYP/80_epochs/cut.mp4: 384x640 1 speed limit 30 km/h, 1 speed limit 90 km/h, 16.6ms\n",
            "video 1/1 (frame 1453/2100) /content/drive/MyDrive/FYP/80_epochs/cut.mp4: 384x640 1 speed limit 30 km/h, 1 speed limit 90 km/h, 16.5ms\n",
            "video 1/1 (frame 1454/2100) /content/drive/MyDrive/FYP/80_epochs/cut.mp4: 384x640 1 speed limit 30 km/h, 1 speed limit 90 km/h, 16.6ms\n",
            "video 1/1 (frame 1455/2100) /content/drive/MyDrive/FYP/80_epochs/cut.mp4: 384x640 1 speed limit 30 km/h, 1 speed limit 90 km/h, 16.5ms\n",
            "video 1/1 (frame 1456/2100) /content/drive/MyDrive/FYP/80_epochs/cut.mp4: 384x640 1 speed limit 30 km/h, 1 speed limit 90 km/h, 16.8ms\n",
            "video 1/1 (frame 1457/2100) /content/drive/MyDrive/FYP/80_epochs/cut.mp4: 384x640 1 speed limit 30 km/h, 1 speed limit 90 km/h, 16.5ms\n",
            "video 1/1 (frame 1458/2100) /content/drive/MyDrive/FYP/80_epochs/cut.mp4: 384x640 1 speed limit 30 km/h, 1 speed limit 90 km/h, 16.5ms\n",
            "video 1/1 (frame 1459/2100) /content/drive/MyDrive/FYP/80_epochs/cut.mp4: 384x640 1 speed limit 30 km/h, 1 speed limit 90 km/h, 16.5ms\n",
            "video 1/1 (frame 1460/2100) /content/drive/MyDrive/FYP/80_epochs/cut.mp4: 384x640 1 speed limit 30 km/h, 1 speed limit 90 km/h, 16.6ms\n",
            "video 1/1 (frame 1461/2100) /content/drive/MyDrive/FYP/80_epochs/cut.mp4: 384x640 1 speed limit 30 km/h, 1 speed limit 90 km/h, 16.6ms\n",
            "video 1/1 (frame 1462/2100) /content/drive/MyDrive/FYP/80_epochs/cut.mp4: 384x640 1 speed limit 30 km/h, 1 speed limit 90 km/h, 16.5ms\n",
            "video 1/1 (frame 1463/2100) /content/drive/MyDrive/FYP/80_epochs/cut.mp4: 384x640 1 speed limit 30 km/h, 16.6ms\n",
            "video 1/1 (frame 1464/2100) /content/drive/MyDrive/FYP/80_epochs/cut.mp4: 384x640 1 speed limit 30 km/h, 16.5ms\n",
            "video 1/1 (frame 1465/2100) /content/drive/MyDrive/FYP/80_epochs/cut.mp4: 384x640 1 speed limit 30 km/h, 16.6ms\n",
            "video 1/1 (frame 1466/2100) /content/drive/MyDrive/FYP/80_epochs/cut.mp4: 384x640 1 speed limit 30 km/h, 16.6ms\n",
            "video 1/1 (frame 1467/2100) /content/drive/MyDrive/FYP/80_epochs/cut.mp4: 384x640 1 speed limit 30 km/h, 16.6ms\n",
            "video 1/1 (frame 1468/2100) /content/drive/MyDrive/FYP/80_epochs/cut.mp4: 384x640 1 speed limit 30 km/h, 16.5ms\n",
            "video 1/1 (frame 1469/2100) /content/drive/MyDrive/FYP/80_epochs/cut.mp4: 384x640 1 speed limit 30 km/h, 16.6ms\n",
            "video 1/1 (frame 1470/2100) /content/drive/MyDrive/FYP/80_epochs/cut.mp4: 384x640 1 speed limit 30 km/h, 16.5ms\n",
            "video 1/1 (frame 1471/2100) /content/drive/MyDrive/FYP/80_epochs/cut.mp4: 384x640 1 speed limit 30 km/h, 18.5ms\n",
            "video 1/1 (frame 1472/2100) /content/drive/MyDrive/FYP/80_epochs/cut.mp4: 384x640 1 speed limit 30 km/h, 16.6ms\n",
            "video 1/1 (frame 1473/2100) /content/drive/MyDrive/FYP/80_epochs/cut.mp4: 384x640 1 speed limit 30 km/h, 16.5ms\n",
            "video 1/1 (frame 1474/2100) /content/drive/MyDrive/FYP/80_epochs/cut.mp4: 384x640 1 speed limit 30 km/h, 16.6ms\n",
            "video 1/1 (frame 1475/2100) /content/drive/MyDrive/FYP/80_epochs/cut.mp4: 384x640 1 speed limit 30 km/h, 16.6ms\n",
            "video 1/1 (frame 1476/2100) /content/drive/MyDrive/FYP/80_epochs/cut.mp4: 384x640 1 speed limit 30 km/h, 16.6ms\n",
            "video 1/1 (frame 1477/2100) /content/drive/MyDrive/FYP/80_epochs/cut.mp4: 384x640 1 speed limit 30 km/h, 16.5ms\n",
            "video 1/1 (frame 1478/2100) /content/drive/MyDrive/FYP/80_epochs/cut.mp4: 384x640 1 speed limit 30 km/h, 16.6ms\n",
            "video 1/1 (frame 1479/2100) /content/drive/MyDrive/FYP/80_epochs/cut.mp4: 384x640 1 speed limit 30 km/h, 16.6ms\n",
            "video 1/1 (frame 1480/2100) /content/drive/MyDrive/FYP/80_epochs/cut.mp4: 384x640 1 speed limit 30 km/h, 16.5ms\n",
            "video 1/1 (frame 1481/2100) /content/drive/MyDrive/FYP/80_epochs/cut.mp4: 384x640 1 speed limit 30 km/h, 1 speed limit 60 km/h, 16.6ms\n",
            "video 1/1 (frame 1482/2100) /content/drive/MyDrive/FYP/80_epochs/cut.mp4: 384x640 1 speed limit 30 km/h, 1 speed limit 60 km/h, 18.1ms\n",
            "video 1/1 (frame 1483/2100) /content/drive/MyDrive/FYP/80_epochs/cut.mp4: 384x640 1 speed limit 30 km/h, 1 speed limit 60 km/h, 18.2ms\n",
            "video 1/1 (frame 1484/2100) /content/drive/MyDrive/FYP/80_epochs/cut.mp4: 384x640 1 speed limit 30 km/h, 1 speed limit 60 km/h, 18.2ms\n",
            "video 1/1 (frame 1485/2100) /content/drive/MyDrive/FYP/80_epochs/cut.mp4: 384x640 1 speed limit 30 km/h, 1 speed limit 60 km/h, 18.2ms\n",
            "video 1/1 (frame 1486/2100) /content/drive/MyDrive/FYP/80_epochs/cut.mp4: 384x640 1 speed limit 30 km/h, 1 speed limit 60 km/h, 18.3ms\n",
            "video 1/1 (frame 1487/2100) /content/drive/MyDrive/FYP/80_epochs/cut.mp4: 384x640 1 speed limit 30 km/h, 1 speed limit 60 km/h, 18.2ms\n",
            "video 1/1 (frame 1488/2100) /content/drive/MyDrive/FYP/80_epochs/cut.mp4: 384x640 1 speed limit 30 km/h, 1 speed limit 60 km/h, 18.3ms\n",
            "video 1/1 (frame 1489/2100) /content/drive/MyDrive/FYP/80_epochs/cut.mp4: 384x640 1 speed limit 30 km/h, 1 speed limit 60 km/h, 18.3ms\n",
            "video 1/1 (frame 1490/2100) /content/drive/MyDrive/FYP/80_epochs/cut.mp4: 384x640 1 speed limit 30 km/h, 1 speed limit 60 km/h, 18.5ms\n",
            "video 1/1 (frame 1491/2100) /content/drive/MyDrive/FYP/80_epochs/cut.mp4: 384x640 1 speed limit 30 km/h, 1 speed limit 60 km/h, 18.5ms\n",
            "video 1/1 (frame 1492/2100) /content/drive/MyDrive/FYP/80_epochs/cut.mp4: 384x640 1 speed limit 30 km/h, 1 speed limit 60 km/h, 18.5ms\n",
            "video 1/1 (frame 1493/2100) /content/drive/MyDrive/FYP/80_epochs/cut.mp4: 384x640 1 speed limit 30 km/h, 1 speed limit 60 km/h, 18.5ms\n",
            "video 1/1 (frame 1494/2100) /content/drive/MyDrive/FYP/80_epochs/cut.mp4: 384x640 1 speed limit 30 km/h, 1 speed limit 60 km/h, 18.5ms\n",
            "video 1/1 (frame 1495/2100) /content/drive/MyDrive/FYP/80_epochs/cut.mp4: 384x640 1 speed limit 30 km/h, 1 speed limit 60 km/h, 18.5ms\n",
            "video 1/1 (frame 1496/2100) /content/drive/MyDrive/FYP/80_epochs/cut.mp4: 384x640 1 speed limit 30 km/h, 1 speed limit 60 km/h, 18.6ms\n",
            "video 1/1 (frame 1497/2100) /content/drive/MyDrive/FYP/80_epochs/cut.mp4: 384x640 1 speed limit 30 km/h, 1 speed limit 60 km/h, 18.5ms\n",
            "video 1/1 (frame 1498/2100) /content/drive/MyDrive/FYP/80_epochs/cut.mp4: 384x640 (no detections), 18.5ms\n",
            "video 1/1 (frame 1499/2100) /content/drive/MyDrive/FYP/80_epochs/cut.mp4: 384x640 (no detections), 18.5ms\n",
            "video 1/1 (frame 1500/2100) /content/drive/MyDrive/FYP/80_epochs/cut.mp4: 384x640 (no detections), 18.5ms\n",
            "video 1/1 (frame 1501/2100) /content/drive/MyDrive/FYP/80_epochs/cut.mp4: 384x640 (no detections), 18.5ms\n",
            "video 1/1 (frame 1502/2100) /content/drive/MyDrive/FYP/80_epochs/cut.mp4: 384x640 (no detections), 18.8ms\n",
            "video 1/1 (frame 1503/2100) /content/drive/MyDrive/FYP/80_epochs/cut.mp4: 384x640 (no detections), 18.8ms\n",
            "video 1/1 (frame 1504/2100) /content/drive/MyDrive/FYP/80_epochs/cut.mp4: 384x640 (no detections), 18.7ms\n",
            "video 1/1 (frame 1505/2100) /content/drive/MyDrive/FYP/80_epochs/cut.mp4: 384x640 (no detections), 18.8ms\n",
            "video 1/1 (frame 1506/2100) /content/drive/MyDrive/FYP/80_epochs/cut.mp4: 384x640 (no detections), 18.7ms\n",
            "video 1/1 (frame 1507/2100) /content/drive/MyDrive/FYP/80_epochs/cut.mp4: 384x640 (no detections), 18.8ms\n",
            "video 1/1 (frame 1508/2100) /content/drive/MyDrive/FYP/80_epochs/cut.mp4: 384x640 (no detections), 18.8ms\n",
            "video 1/1 (frame 1509/2100) /content/drive/MyDrive/FYP/80_epochs/cut.mp4: 384x640 (no detections), 18.8ms\n",
            "video 1/1 (frame 1510/2100) /content/drive/MyDrive/FYP/80_epochs/cut.mp4: 384x640 (no detections), 18.8ms\n",
            "video 1/1 (frame 1511/2100) /content/drive/MyDrive/FYP/80_epochs/cut.mp4: 384x640 (no detections), 18.8ms\n",
            "video 1/1 (frame 1512/2100) /content/drive/MyDrive/FYP/80_epochs/cut.mp4: 384x640 (no detections), 18.8ms\n",
            "video 1/1 (frame 1513/2100) /content/drive/MyDrive/FYP/80_epochs/cut.mp4: 384x640 (no detections), 18.8ms\n",
            "video 1/1 (frame 1514/2100) /content/drive/MyDrive/FYP/80_epochs/cut.mp4: 384x640 (no detections), 18.8ms\n",
            "video 1/1 (frame 1515/2100) /content/drive/MyDrive/FYP/80_epochs/cut.mp4: 384x640 (no detections), 17.5ms\n",
            "video 1/1 (frame 1516/2100) /content/drive/MyDrive/FYP/80_epochs/cut.mp4: 384x640 (no detections), 17.5ms\n",
            "video 1/1 (frame 1517/2100) /content/drive/MyDrive/FYP/80_epochs/cut.mp4: 384x640 (no detections), 17.5ms\n",
            "video 1/1 (frame 1518/2100) /content/drive/MyDrive/FYP/80_epochs/cut.mp4: 384x640 (no detections), 17.5ms\n",
            "video 1/1 (frame 1519/2100) /content/drive/MyDrive/FYP/80_epochs/cut.mp4: 384x640 (no detections), 17.5ms\n",
            "video 1/1 (frame 1520/2100) /content/drive/MyDrive/FYP/80_epochs/cut.mp4: 384x640 (no detections), 17.5ms\n",
            "video 1/1 (frame 1521/2100) /content/drive/MyDrive/FYP/80_epochs/cut.mp4: 384x640 (no detections), 17.4ms\n",
            "video 1/1 (frame 1522/2100) /content/drive/MyDrive/FYP/80_epochs/cut.mp4: 384x640 (no detections), 17.4ms\n",
            "video 1/1 (frame 1523/2100) /content/drive/MyDrive/FYP/80_epochs/cut.mp4: 384x640 (no detections), 17.5ms\n",
            "video 1/1 (frame 1524/2100) /content/drive/MyDrive/FYP/80_epochs/cut.mp4: 384x640 (no detections), 17.4ms\n",
            "video 1/1 (frame 1525/2100) /content/drive/MyDrive/FYP/80_epochs/cut.mp4: 384x640 (no detections), 17.5ms\n",
            "video 1/1 (frame 1526/2100) /content/drive/MyDrive/FYP/80_epochs/cut.mp4: 384x640 (no detections), 17.6ms\n",
            "video 1/1 (frame 1527/2100) /content/drive/MyDrive/FYP/80_epochs/cut.mp4: 384x640 (no detections), 17.6ms\n",
            "video 1/1 (frame 1528/2100) /content/drive/MyDrive/FYP/80_epochs/cut.mp4: 384x640 (no detections), 17.4ms\n",
            "video 1/1 (frame 1529/2100) /content/drive/MyDrive/FYP/80_epochs/cut.mp4: 384x640 (no detections), 17.6ms\n",
            "video 1/1 (frame 1530/2100) /content/drive/MyDrive/FYP/80_epochs/cut.mp4: 384x640 (no detections), 17.5ms\n",
            "video 1/1 (frame 1531/2100) /content/drive/MyDrive/FYP/80_epochs/cut.mp4: 384x640 (no detections), 17.5ms\n",
            "video 1/1 (frame 1532/2100) /content/drive/MyDrive/FYP/80_epochs/cut.mp4: 384x640 (no detections), 17.5ms\n",
            "video 1/1 (frame 1533/2100) /content/drive/MyDrive/FYP/80_epochs/cut.mp4: 384x640 (no detections), 17.5ms\n",
            "video 1/1 (frame 1534/2100) /content/drive/MyDrive/FYP/80_epochs/cut.mp4: 384x640 (no detections), 17.5ms\n",
            "video 1/1 (frame 1535/2100) /content/drive/MyDrive/FYP/80_epochs/cut.mp4: 384x640 (no detections), 17.7ms\n",
            "video 1/1 (frame 1536/2100) /content/drive/MyDrive/FYP/80_epochs/cut.mp4: 384x640 (no detections), 17.5ms\n",
            "video 1/1 (frame 1537/2100) /content/drive/MyDrive/FYP/80_epochs/cut.mp4: 384x640 (no detections), 17.5ms\n",
            "video 1/1 (frame 1538/2100) /content/drive/MyDrive/FYP/80_epochs/cut.mp4: 384x640 (no detections), 20.1ms\n",
            "video 1/1 (frame 1539/2100) /content/drive/MyDrive/FYP/80_epochs/cut.mp4: 384x640 (no detections), 17.5ms\n",
            "video 1/1 (frame 1540/2100) /content/drive/MyDrive/FYP/80_epochs/cut.mp4: 384x640 (no detections), 17.5ms\n",
            "video 1/1 (frame 1541/2100) /content/drive/MyDrive/FYP/80_epochs/cut.mp4: 384x640 (no detections), 17.5ms\n",
            "video 1/1 (frame 1542/2100) /content/drive/MyDrive/FYP/80_epochs/cut.mp4: 384x640 (no detections), 17.4ms\n",
            "video 1/1 (frame 1543/2100) /content/drive/MyDrive/FYP/80_epochs/cut.mp4: 384x640 (no detections), 17.4ms\n",
            "video 1/1 (frame 1544/2100) /content/drive/MyDrive/FYP/80_epochs/cut.mp4: 384x640 (no detections), 17.5ms\n",
            "video 1/1 (frame 1545/2100) /content/drive/MyDrive/FYP/80_epochs/cut.mp4: 384x640 (no detections), 17.5ms\n",
            "video 1/1 (frame 1546/2100) /content/drive/MyDrive/FYP/80_epochs/cut.mp4: 384x640 (no detections), 17.5ms\n",
            "video 1/1 (frame 1547/2100) /content/drive/MyDrive/FYP/80_epochs/cut.mp4: 384x640 (no detections), 17.4ms\n",
            "video 1/1 (frame 1548/2100) /content/drive/MyDrive/FYP/80_epochs/cut.mp4: 384x640 (no detections), 17.6ms\n",
            "video 1/1 (frame 1549/2100) /content/drive/MyDrive/FYP/80_epochs/cut.mp4: 384x640 1 speed limit 30 km/h, 1 speed limit 90 km/h, 17.5ms\n",
            "video 1/1 (frame 1550/2100) /content/drive/MyDrive/FYP/80_epochs/cut.mp4: 384x640 1 speed limit 30 km/h, 1 speed limit 90 km/h, 17.5ms\n",
            "video 1/1 (frame 1551/2100) /content/drive/MyDrive/FYP/80_epochs/cut.mp4: 384x640 1 speed limit 30 km/h, 1 speed limit 90 km/h, 17.5ms\n",
            "video 1/1 (frame 1552/2100) /content/drive/MyDrive/FYP/80_epochs/cut.mp4: 384x640 1 speed limit 30 km/h, 1 speed limit 90 km/h, 18.0ms\n",
            "video 1/1 (frame 1553/2100) /content/drive/MyDrive/FYP/80_epochs/cut.mp4: 384x640 1 speed limit 30 km/h, 1 speed limit 90 km/h, 19.1ms\n",
            "video 1/1 (frame 1554/2100) /content/drive/MyDrive/FYP/80_epochs/cut.mp4: 384x640 1 speed limit 30 km/h, 1 speed limit 90 km/h, 18.2ms\n",
            "video 1/1 (frame 1555/2100) /content/drive/MyDrive/FYP/80_epochs/cut.mp4: 384x640 1 speed limit 30 km/h, 1 speed limit 90 km/h, 18.2ms\n",
            "video 1/1 (frame 1556/2100) /content/drive/MyDrive/FYP/80_epochs/cut.mp4: 384x640 1 speed limit 30 km/h, 1 speed limit 90 km/h, 18.2ms\n",
            "video 1/1 (frame 1557/2100) /content/drive/MyDrive/FYP/80_epochs/cut.mp4: 384x640 1 speed limit 30 km/h, 1 speed limit 90 km/h, 18.2ms\n",
            "video 1/1 (frame 1558/2100) /content/drive/MyDrive/FYP/80_epochs/cut.mp4: 384x640 1 speed limit 30 km/h, 1 speed limit 90 km/h, 18.2ms\n",
            "video 1/1 (frame 1559/2100) /content/drive/MyDrive/FYP/80_epochs/cut.mp4: 384x640 1 speed limit 30 km/h, 1 speed limit 90 km/h, 18.2ms\n",
            "video 1/1 (frame 1560/2100) /content/drive/MyDrive/FYP/80_epochs/cut.mp4: 384x640 1 speed limit 30 km/h, 1 speed limit 90 km/h, 19.1ms\n",
            "video 1/1 (frame 1561/2100) /content/drive/MyDrive/FYP/80_epochs/cut.mp4: 384x640 1 speed limit 30 km/h, 1 speed limit 90 km/h, 18.2ms\n",
            "video 1/1 (frame 1562/2100) /content/drive/MyDrive/FYP/80_epochs/cut.mp4: 384x640 1 speed limit 30 km/h, 1 speed limit 90 km/h, 18.2ms\n",
            "video 1/1 (frame 1563/2100) /content/drive/MyDrive/FYP/80_epochs/cut.mp4: 384x640 1 speed limit 30 km/h, 1 speed limit 90 km/h, 18.3ms\n",
            "video 1/1 (frame 1564/2100) /content/drive/MyDrive/FYP/80_epochs/cut.mp4: 384x640 1 speed limit 30 km/h, 1 speed limit 90 km/h, 21.7ms\n",
            "video 1/1 (frame 1565/2100) /content/drive/MyDrive/FYP/80_epochs/cut.mp4: 384x640 1 speed limit 30 km/h, 25.1ms\n",
            "video 1/1 (frame 1566/2100) /content/drive/MyDrive/FYP/80_epochs/cut.mp4: 384x640 1 speed limit 30 km/h, 18.5ms\n",
            "video 1/1 (frame 1567/2100) /content/drive/MyDrive/FYP/80_epochs/cut.mp4: 384x640 1 speed limit 30 km/h, 18.8ms\n",
            "video 1/1 (frame 1568/2100) /content/drive/MyDrive/FYP/80_epochs/cut.mp4: 384x640 1 speed limit 30 km/h, 18.8ms\n",
            "video 1/1 (frame 1569/2100) /content/drive/MyDrive/FYP/80_epochs/cut.mp4: 384x640 1 speed limit 30 km/h, 18.8ms\n",
            "video 1/1 (frame 1570/2100) /content/drive/MyDrive/FYP/80_epochs/cut.mp4: 384x640 1 speed limit 30 km/h, 19.4ms\n",
            "video 1/1 (frame 1571/2100) /content/drive/MyDrive/FYP/80_epochs/cut.mp4: 384x640 1 speed limit 30 km/h, 19.3ms\n",
            "video 1/1 (frame 1572/2100) /content/drive/MyDrive/FYP/80_epochs/cut.mp4: 384x640 1 speed limit 30 km/h, 21.1ms\n",
            "video 1/1 (frame 1573/2100) /content/drive/MyDrive/FYP/80_epochs/cut.mp4: 384x640 1 speed limit 30 km/h, 19.7ms\n",
            "video 1/1 (frame 1574/2100) /content/drive/MyDrive/FYP/80_epochs/cut.mp4: 384x640 1 speed limit 30 km/h, 19.7ms\n",
            "video 1/1 (frame 1575/2100) /content/drive/MyDrive/FYP/80_epochs/cut.mp4: 384x640 1 speed limit 30 km/h, 19.7ms\n",
            "video 1/1 (frame 1576/2100) /content/drive/MyDrive/FYP/80_epochs/cut.mp4: 384x640 1 speed limit 30 km/h, 21.0ms\n",
            "video 1/1 (frame 1577/2100) /content/drive/MyDrive/FYP/80_epochs/cut.mp4: 384x640 1 speed limit 30 km/h, 20.0ms\n",
            "video 1/1 (frame 1578/2100) /content/drive/MyDrive/FYP/80_epochs/cut.mp4: 384x640 1 speed limit 30 km/h, 20.0ms\n",
            "video 1/1 (frame 1579/2100) /content/drive/MyDrive/FYP/80_epochs/cut.mp4: 384x640 1 speed limit 30 km/h, 20.3ms\n",
            "video 1/1 (frame 1580/2100) /content/drive/MyDrive/FYP/80_epochs/cut.mp4: 384x640 1 speed limit 30 km/h, 20.3ms\n",
            "video 1/1 (frame 1581/2100) /content/drive/MyDrive/FYP/80_epochs/cut.mp4: 384x640 1 speed limit 30 km/h, 23.7ms\n",
            "video 1/1 (frame 1582/2100) /content/drive/MyDrive/FYP/80_epochs/cut.mp4: 384x640 1 speed limit 30 km/h, 21.1ms\n",
            "video 1/1 (frame 1583/2100) /content/drive/MyDrive/FYP/80_epochs/cut.mp4: 384x640 1 speed limit 30 km/h, 21.1ms\n",
            "video 1/1 (frame 1584/2100) /content/drive/MyDrive/FYP/80_epochs/cut.mp4: 384x640 1 speed limit 30 km/h, 22.5ms\n",
            "video 1/1 (frame 1585/2100) /content/drive/MyDrive/FYP/80_epochs/cut.mp4: 384x640 1 speed limit 30 km/h, 21.5ms\n",
            "video 1/1 (frame 1586/2100) /content/drive/MyDrive/FYP/80_epochs/cut.mp4: 384x640 1 speed limit 30 km/h, 22.4ms\n",
            "video 1/1 (frame 1587/2100) /content/drive/MyDrive/FYP/80_epochs/cut.mp4: 384x640 1 speed limit 30 km/h, 21.8ms\n",
            "video 1/1 (frame 1588/2100) /content/drive/MyDrive/FYP/80_epochs/cut.mp4: 384x640 1 speed limit 30 km/h, 21.9ms\n",
            "video 1/1 (frame 1589/2100) /content/drive/MyDrive/FYP/80_epochs/cut.mp4: 384x640 1 speed limit 30 km/h, 21.8ms\n",
            "video 1/1 (frame 1590/2100) /content/drive/MyDrive/FYP/80_epochs/cut.mp4: 384x640 1 speed limit 30 km/h, 22.3ms\n",
            "video 1/1 (frame 1591/2100) /content/drive/MyDrive/FYP/80_epochs/cut.mp4: 384x640 1 speed limit 30 km/h, 23.3ms\n",
            "video 1/1 (frame 1592/2100) /content/drive/MyDrive/FYP/80_epochs/cut.mp4: 384x640 1 speed limit 30 km/h, 22.3ms\n",
            "video 1/1 (frame 1593/2100) /content/drive/MyDrive/FYP/80_epochs/cut.mp4: 384x640 1 speed limit 30 km/h, 22.2ms\n",
            "video 1/1 (frame 1594/2100) /content/drive/MyDrive/FYP/80_epochs/cut.mp4: 384x640 1 speed limit 30 km/h, 22.3ms\n",
            "video 1/1 (frame 1595/2100) /content/drive/MyDrive/FYP/80_epochs/cut.mp4: 384x640 1 speed limit 30 km/h, 22.2ms\n",
            "video 1/1 (frame 1596/2100) /content/drive/MyDrive/FYP/80_epochs/cut.mp4: 384x640 1 speed limit 30 km/h, 22.6ms\n",
            "video 1/1 (frame 1597/2100) /content/drive/MyDrive/FYP/80_epochs/cut.mp4: 384x640 1 speed limit 30 km/h, 22.7ms\n",
            "video 1/1 (frame 1598/2100) /content/drive/MyDrive/FYP/80_epochs/cut.mp4: 384x640 1 speed limit 30 km/h, 22.8ms\n",
            "video 1/1 (frame 1599/2100) /content/drive/MyDrive/FYP/80_epochs/cut.mp4: 384x640 (no detections), 22.7ms\n",
            "video 1/1 (frame 1600/2100) /content/drive/MyDrive/FYP/80_epochs/cut.mp4: 384x640 (no detections), 22.7ms\n",
            "video 1/1 (frame 1601/2100) /content/drive/MyDrive/FYP/80_epochs/cut.mp4: 384x640 (no detections), 22.6ms\n",
            "video 1/1 (frame 1602/2100) /content/drive/MyDrive/FYP/80_epochs/cut.mp4: 384x640 (no detections), 23.1ms\n",
            "video 1/1 (frame 1603/2100) /content/drive/MyDrive/FYP/80_epochs/cut.mp4: 384x640 (no detections), 23.1ms\n",
            "video 1/1 (frame 1604/2100) /content/drive/MyDrive/FYP/80_epochs/cut.mp4: 384x640 (no detections), 23.2ms\n",
            "video 1/1 (frame 1605/2100) /content/drive/MyDrive/FYP/80_epochs/cut.mp4: 384x640 (no detections), 23.1ms\n",
            "video 1/1 (frame 1606/2100) /content/drive/MyDrive/FYP/80_epochs/cut.mp4: 384x640 (no detections), 23.1ms\n",
            "video 1/1 (frame 1607/2100) /content/drive/MyDrive/FYP/80_epochs/cut.mp4: 384x640 (no detections), 23.1ms\n",
            "video 1/1 (frame 1608/2100) /content/drive/MyDrive/FYP/80_epochs/cut.mp4: 384x640 (no detections), 24.0ms\n",
            "video 1/1 (frame 1609/2100) /content/drive/MyDrive/FYP/80_epochs/cut.mp4: 384x640 (no detections), 23.6ms\n",
            "video 1/1 (frame 1610/2100) /content/drive/MyDrive/FYP/80_epochs/cut.mp4: 384x640 (no detections), 23.6ms\n",
            "video 1/1 (frame 1611/2100) /content/drive/MyDrive/FYP/80_epochs/cut.mp4: 384x640 (no detections), 23.6ms\n",
            "video 1/1 (frame 1612/2100) /content/drive/MyDrive/FYP/80_epochs/cut.mp4: 384x640 (no detections), 23.6ms\n",
            "video 1/1 (frame 1613/2100) /content/drive/MyDrive/FYP/80_epochs/cut.mp4: 384x640 (no detections), 23.7ms\n",
            "video 1/1 (frame 1614/2100) /content/drive/MyDrive/FYP/80_epochs/cut.mp4: 384x640 (no detections), 24.2ms\n",
            "video 1/1 (frame 1615/2100) /content/drive/MyDrive/FYP/80_epochs/cut.mp4: 384x640 (no detections), 24.1ms\n",
            "video 1/1 (frame 1616/2100) /content/drive/MyDrive/FYP/80_epochs/cut.mp4: 384x640 (no detections), 24.6ms\n",
            "video 1/1 (frame 1617/2100) /content/drive/MyDrive/FYP/80_epochs/cut.mp4: 384x640 (no detections), 24.9ms\n",
            "video 1/1 (frame 1618/2100) /content/drive/MyDrive/FYP/80_epochs/cut.mp4: 384x640 (no detections), 24.7ms\n",
            "video 1/1 (frame 1619/2100) /content/drive/MyDrive/FYP/80_epochs/cut.mp4: 384x640 (no detections), 24.6ms\n",
            "video 1/1 (frame 1620/2100) /content/drive/MyDrive/FYP/80_epochs/cut.mp4: 384x640 (no detections), 24.6ms\n",
            "video 1/1 (frame 1621/2100) /content/drive/MyDrive/FYP/80_epochs/cut.mp4: 384x640 (no detections), 24.6ms\n",
            "video 1/1 (frame 1622/2100) /content/drive/MyDrive/FYP/80_epochs/cut.mp4: 384x640 (no detections), 24.6ms\n",
            "video 1/1 (frame 1623/2100) /content/drive/MyDrive/FYP/80_epochs/cut.mp4: 384x640 (no detections), 20.6ms\n",
            "video 1/1 (frame 1624/2100) /content/drive/MyDrive/FYP/80_epochs/cut.mp4: 384x640 (no detections), 20.6ms\n",
            "video 1/1 (frame 1625/2100) /content/drive/MyDrive/FYP/80_epochs/cut.mp4: 384x640 (no detections), 20.6ms\n",
            "video 1/1 (frame 1626/2100) /content/drive/MyDrive/FYP/80_epochs/cut.mp4: 384x640 (no detections), 20.7ms\n",
            "video 1/1 (frame 1627/2100) /content/drive/MyDrive/FYP/80_epochs/cut.mp4: 384x640 (no detections), 20.3ms\n",
            "video 1/1 (frame 1628/2100) /content/drive/MyDrive/FYP/80_epochs/cut.mp4: 384x640 (no detections), 20.3ms\n",
            "video 1/1 (frame 1629/2100) /content/drive/MyDrive/FYP/80_epochs/cut.mp4: 384x640 (no detections), 20.3ms\n",
            "video 1/1 (frame 1630/2100) /content/drive/MyDrive/FYP/80_epochs/cut.mp4: 384x640 (no detections), 20.3ms\n",
            "video 1/1 (frame 1631/2100) /content/drive/MyDrive/FYP/80_epochs/cut.mp4: 384x640 (no detections), 19.9ms\n",
            "video 1/1 (frame 1632/2100) /content/drive/MyDrive/FYP/80_epochs/cut.mp4: 384x640 (no detections), 20.0ms\n",
            "video 1/1 (frame 1633/2100) /content/drive/MyDrive/FYP/80_epochs/cut.mp4: 384x640 (no detections), 20.0ms\n",
            "video 1/1 (frame 1634/2100) /content/drive/MyDrive/FYP/80_epochs/cut.mp4: 384x640 (no detections), 20.0ms\n",
            "video 1/1 (frame 1635/2100) /content/drive/MyDrive/FYP/80_epochs/cut.mp4: 384x640 (no detections), 20.0ms\n",
            "video 1/1 (frame 1636/2100) /content/drive/MyDrive/FYP/80_epochs/cut.mp4: 384x640 (no detections), 19.9ms\n",
            "video 1/1 (frame 1637/2100) /content/drive/MyDrive/FYP/80_epochs/cut.mp4: 384x640 (no detections), 20.0ms\n",
            "video 1/1 (frame 1638/2100) /content/drive/MyDrive/FYP/80_epochs/cut.mp4: 384x640 (no detections), 20.0ms\n",
            "video 1/1 (frame 1639/2100) /content/drive/MyDrive/FYP/80_epochs/cut.mp4: 384x640 (no detections), 19.2ms\n",
            "video 1/1 (frame 1640/2100) /content/drive/MyDrive/FYP/80_epochs/cut.mp4: 384x640 (no detections), 18.2ms\n",
            "video 1/1 (frame 1641/2100) /content/drive/MyDrive/FYP/80_epochs/cut.mp4: 384x640 (no detections), 18.2ms\n",
            "video 1/1 (frame 1642/2100) /content/drive/MyDrive/FYP/80_epochs/cut.mp4: 384x640 (no detections), 18.2ms\n",
            "video 1/1 (frame 1643/2100) /content/drive/MyDrive/FYP/80_epochs/cut.mp4: 384x640 (no detections), 18.2ms\n",
            "video 1/1 (frame 1644/2100) /content/drive/MyDrive/FYP/80_epochs/cut.mp4: 384x640 (no detections), 17.7ms\n",
            "video 1/1 (frame 1645/2100) /content/drive/MyDrive/FYP/80_epochs/cut.mp4: 384x640 (no detections), 17.7ms\n",
            "video 1/1 (frame 1646/2100) /content/drive/MyDrive/FYP/80_epochs/cut.mp4: 384x640 (no detections), 17.7ms\n",
            "video 1/1 (frame 1647/2100) /content/drive/MyDrive/FYP/80_epochs/cut.mp4: 384x640 (no detections), 17.7ms\n",
            "video 1/1 (frame 1648/2100) /content/drive/MyDrive/FYP/80_epochs/cut.mp4: 384x640 (no detections), 17.7ms\n",
            "video 1/1 (frame 1649/2100) /content/drive/MyDrive/FYP/80_epochs/cut.mp4: 384x640 (no detections), 17.7ms\n",
            "video 1/1 (frame 1650/2100) /content/drive/MyDrive/FYP/80_epochs/cut.mp4: 384x640 (no detections), 17.7ms\n",
            "video 1/1 (frame 1651/2100) /content/drive/MyDrive/FYP/80_epochs/cut.mp4: 384x640 (no detections), 17.8ms\n",
            "video 1/1 (frame 1652/2100) /content/drive/MyDrive/FYP/80_epochs/cut.mp4: 384x640 (no detections), 17.7ms\n",
            "video 1/1 (frame 1653/2100) /content/drive/MyDrive/FYP/80_epochs/cut.mp4: 384x640 (no detections), 17.7ms\n",
            "video 1/1 (frame 1654/2100) /content/drive/MyDrive/FYP/80_epochs/cut.mp4: 384x640 (no detections), 17.8ms\n",
            "video 1/1 (frame 1655/2100) /content/drive/MyDrive/FYP/80_epochs/cut.mp4: 384x640 (no detections), 17.7ms\n",
            "video 1/1 (frame 1656/2100) /content/drive/MyDrive/FYP/80_epochs/cut.mp4: 384x640 (no detections), 17.7ms\n",
            "video 1/1 (frame 1657/2100) /content/drive/MyDrive/FYP/80_epochs/cut.mp4: 384x640 (no detections), 17.6ms\n",
            "video 1/1 (frame 1658/2100) /content/drive/MyDrive/FYP/80_epochs/cut.mp4: 384x640 (no detections), 17.8ms\n",
            "video 1/1 (frame 1659/2100) /content/drive/MyDrive/FYP/80_epochs/cut.mp4: 384x640 (no detections), 17.7ms\n",
            "video 1/1 (frame 1660/2100) /content/drive/MyDrive/FYP/80_epochs/cut.mp4: 384x640 (no detections), 17.7ms\n",
            "video 1/1 (frame 1661/2100) /content/drive/MyDrive/FYP/80_epochs/cut.mp4: 384x640 (no detections), 21.7ms\n",
            "video 1/1 (frame 1662/2100) /content/drive/MyDrive/FYP/80_epochs/cut.mp4: 384x640 (no detections), 17.4ms\n",
            "video 1/1 (frame 1663/2100) /content/drive/MyDrive/FYP/80_epochs/cut.mp4: 384x640 (no detections), 17.4ms\n",
            "video 1/1 (frame 1664/2100) /content/drive/MyDrive/FYP/80_epochs/cut.mp4: 384x640 (no detections), 17.5ms\n",
            "video 1/1 (frame 1665/2100) /content/drive/MyDrive/FYP/80_epochs/cut.mp4: 384x640 (no detections), 17.5ms\n",
            "video 1/1 (frame 1666/2100) /content/drive/MyDrive/FYP/80_epochs/cut.mp4: 384x640 (no detections), 17.5ms\n",
            "video 1/1 (frame 1667/2100) /content/drive/MyDrive/FYP/80_epochs/cut.mp4: 384x640 (no detections), 17.4ms\n",
            "video 1/1 (frame 1668/2100) /content/drive/MyDrive/FYP/80_epochs/cut.mp4: 384x640 (no detections), 17.5ms\n",
            "video 1/1 (frame 1669/2100) /content/drive/MyDrive/FYP/80_epochs/cut.mp4: 384x640 (no detections), 17.4ms\n",
            "video 1/1 (frame 1670/2100) /content/drive/MyDrive/FYP/80_epochs/cut.mp4: 384x640 (no detections), 17.5ms\n",
            "video 1/1 (frame 1671/2100) /content/drive/MyDrive/FYP/80_epochs/cut.mp4: 384x640 (no detections), 17.4ms\n",
            "video 1/1 (frame 1672/2100) /content/drive/MyDrive/FYP/80_epochs/cut.mp4: 384x640 (no detections), 17.5ms\n",
            "video 1/1 (frame 1673/2100) /content/drive/MyDrive/FYP/80_epochs/cut.mp4: 384x640 (no detections), 17.5ms\n",
            "video 1/1 (frame 1674/2100) /content/drive/MyDrive/FYP/80_epochs/cut.mp4: 384x640 (no detections), 17.4ms\n",
            "video 1/1 (frame 1675/2100) /content/drive/MyDrive/FYP/80_epochs/cut.mp4: 384x640 (no detections), 17.5ms\n",
            "video 1/1 (frame 1676/2100) /content/drive/MyDrive/FYP/80_epochs/cut.mp4: 384x640 (no detections), 17.4ms\n",
            "video 1/1 (frame 1677/2100) /content/drive/MyDrive/FYP/80_epochs/cut.mp4: 384x640 (no detections), 17.4ms\n",
            "video 1/1 (frame 1678/2100) /content/drive/MyDrive/FYP/80_epochs/cut.mp4: 384x640 (no detections), 17.5ms\n",
            "video 1/1 (frame 1679/2100) /content/drive/MyDrive/FYP/80_epochs/cut.mp4: 384x640 (no detections), 17.5ms\n",
            "video 1/1 (frame 1680/2100) /content/drive/MyDrive/FYP/80_epochs/cut.mp4: 384x640 (no detections), 17.6ms\n",
            "video 1/1 (frame 1681/2100) /content/drive/MyDrive/FYP/80_epochs/cut.mp4: 384x640 (no detections), 17.5ms\n",
            "video 1/1 (frame 1682/2100) /content/drive/MyDrive/FYP/80_epochs/cut.mp4: 384x640 (no detections), 17.4ms\n",
            "video 1/1 (frame 1683/2100) /content/drive/MyDrive/FYP/80_epochs/cut.mp4: 384x640 (no detections), 17.4ms\n",
            "video 1/1 (frame 1684/2100) /content/drive/MyDrive/FYP/80_epochs/cut.mp4: 384x640 (no detections), 17.5ms\n",
            "video 1/1 (frame 1685/2100) /content/drive/MyDrive/FYP/80_epochs/cut.mp4: 384x640 (no detections), 17.5ms\n",
            "video 1/1 (frame 1686/2100) /content/drive/MyDrive/FYP/80_epochs/cut.mp4: 384x640 (no detections), 17.5ms\n",
            "video 1/1 (frame 1687/2100) /content/drive/MyDrive/FYP/80_epochs/cut.mp4: 384x640 (no detections), 20.1ms\n",
            "video 1/1 (frame 1688/2100) /content/drive/MyDrive/FYP/80_epochs/cut.mp4: 384x640 (no detections), 17.5ms\n",
            "video 1/1 (frame 1689/2100) /content/drive/MyDrive/FYP/80_epochs/cut.mp4: 384x640 (no detections), 17.5ms\n",
            "video 1/1 (frame 1690/2100) /content/drive/MyDrive/FYP/80_epochs/cut.mp4: 384x640 (no detections), 17.5ms\n",
            "video 1/1 (frame 1691/2100) /content/drive/MyDrive/FYP/80_epochs/cut.mp4: 384x640 (no detections), 17.4ms\n",
            "video 1/1 (frame 1692/2100) /content/drive/MyDrive/FYP/80_epochs/cut.mp4: 384x640 (no detections), 17.5ms\n",
            "video 1/1 (frame 1693/2100) /content/drive/MyDrive/FYP/80_epochs/cut.mp4: 384x640 (no detections), 17.5ms\n",
            "video 1/1 (frame 1694/2100) /content/drive/MyDrive/FYP/80_epochs/cut.mp4: 384x640 (no detections), 17.5ms\n",
            "video 1/1 (frame 1695/2100) /content/drive/MyDrive/FYP/80_epochs/cut.mp4: 384x640 (no detections), 17.5ms\n",
            "video 1/1 (frame 1696/2100) /content/drive/MyDrive/FYP/80_epochs/cut.mp4: 384x640 (no detections), 17.4ms\n",
            "video 1/1 (frame 1697/2100) /content/drive/MyDrive/FYP/80_epochs/cut.mp4: 384x640 (no detections), 17.4ms\n",
            "video 1/1 (frame 1698/2100) /content/drive/MyDrive/FYP/80_epochs/cut.mp4: 384x640 (no detections), 17.4ms\n",
            "video 1/1 (frame 1699/2100) /content/drive/MyDrive/FYP/80_epochs/cut.mp4: 384x640 (no detections), 18.3ms\n",
            "video 1/1 (frame 1700/2100) /content/drive/MyDrive/FYP/80_epochs/cut.mp4: 384x640 (no detections), 17.9ms\n",
            "video 1/1 (frame 1701/2100) /content/drive/MyDrive/FYP/80_epochs/cut.mp4: 384x640 (no detections), 17.9ms\n",
            "video 1/1 (frame 1702/2100) /content/drive/MyDrive/FYP/80_epochs/cut.mp4: 384x640 (no detections), 18.0ms\n",
            "video 1/1 (frame 1703/2100) /content/drive/MyDrive/FYP/80_epochs/cut.mp4: 384x640 (no detections), 18.0ms\n",
            "video 1/1 (frame 1704/2100) /content/drive/MyDrive/FYP/80_epochs/cut.mp4: 384x640 (no detections), 16.6ms\n",
            "video 1/1 (frame 1705/2100) /content/drive/MyDrive/FYP/80_epochs/cut.mp4: 384x640 (no detections), 16.5ms\n",
            "video 1/1 (frame 1706/2100) /content/drive/MyDrive/FYP/80_epochs/cut.mp4: 384x640 (no detections), 16.3ms\n",
            "video 1/1 (frame 1707/2100) /content/drive/MyDrive/FYP/80_epochs/cut.mp4: 384x640 (no detections), 16.4ms\n",
            "video 1/1 (frame 1708/2100) /content/drive/MyDrive/FYP/80_epochs/cut.mp4: 384x640 (no detections), 16.2ms\n",
            "video 1/1 (frame 1709/2100) /content/drive/MyDrive/FYP/80_epochs/cut.mp4: 384x640 (no detections), 16.4ms\n",
            "video 1/1 (frame 1710/2100) /content/drive/MyDrive/FYP/80_epochs/cut.mp4: 384x640 (no detections), 16.2ms\n",
            "video 1/1 (frame 1711/2100) /content/drive/MyDrive/FYP/80_epochs/cut.mp4: 384x640 (no detections), 16.2ms\n",
            "video 1/1 (frame 1712/2100) /content/drive/MyDrive/FYP/80_epochs/cut.mp4: 384x640 (no detections), 16.2ms\n",
            "video 1/1 (frame 1713/2100) /content/drive/MyDrive/FYP/80_epochs/cut.mp4: 384x640 (no detections), 16.2ms\n",
            "video 1/1 (frame 1714/2100) /content/drive/MyDrive/FYP/80_epochs/cut.mp4: 384x640 (no detections), 16.2ms\n",
            "video 1/1 (frame 1715/2100) /content/drive/MyDrive/FYP/80_epochs/cut.mp4: 384x640 (no detections), 16.3ms\n",
            "video 1/1 (frame 1716/2100) /content/drive/MyDrive/FYP/80_epochs/cut.mp4: 384x640 (no detections), 16.2ms\n",
            "video 1/1 (frame 1717/2100) /content/drive/MyDrive/FYP/80_epochs/cut.mp4: 384x640 (no detections), 16.2ms\n",
            "video 1/1 (frame 1718/2100) /content/drive/MyDrive/FYP/80_epochs/cut.mp4: 384x640 (no detections), 16.2ms\n",
            "video 1/1 (frame 1719/2100) /content/drive/MyDrive/FYP/80_epochs/cut.mp4: 384x640 (no detections), 16.3ms\n",
            "video 1/1 (frame 1720/2100) /content/drive/MyDrive/FYP/80_epochs/cut.mp4: 384x640 1 speed limit 30 km/h, 16.3ms\n",
            "video 1/1 (frame 1721/2100) /content/drive/MyDrive/FYP/80_epochs/cut.mp4: 384x640 1 speed limit 30 km/h, 16.3ms\n",
            "video 1/1 (frame 1722/2100) /content/drive/MyDrive/FYP/80_epochs/cut.mp4: 384x640 1 speed limit 30 km/h, 16.3ms\n",
            "video 1/1 (frame 1723/2100) /content/drive/MyDrive/FYP/80_epochs/cut.mp4: 384x640 1 speed limit 30 km/h, 16.3ms\n",
            "video 1/1 (frame 1724/2100) /content/drive/MyDrive/FYP/80_epochs/cut.mp4: 384x640 1 speed limit 30 km/h, 16.2ms\n",
            "video 1/1 (frame 1725/2100) /content/drive/MyDrive/FYP/80_epochs/cut.mp4: 384x640 1 speed limit 30 km/h, 16.2ms\n",
            "video 1/1 (frame 1726/2100) /content/drive/MyDrive/FYP/80_epochs/cut.mp4: 384x640 1 speed limit 30 km/h, 16.3ms\n",
            "video 1/1 (frame 1727/2100) /content/drive/MyDrive/FYP/80_epochs/cut.mp4: 384x640 1 speed limit 30 km/h, 16.2ms\n",
            "video 1/1 (frame 1728/2100) /content/drive/MyDrive/FYP/80_epochs/cut.mp4: 384x640 1 speed limit 30 km/h, 16.2ms\n",
            "video 1/1 (frame 1729/2100) /content/drive/MyDrive/FYP/80_epochs/cut.mp4: 384x640 1 speed limit 30 km/h, 16.3ms\n",
            "video 1/1 (frame 1730/2100) /content/drive/MyDrive/FYP/80_epochs/cut.mp4: 384x640 1 speed limit 30 km/h, 16.2ms\n",
            "video 1/1 (frame 1731/2100) /content/drive/MyDrive/FYP/80_epochs/cut.mp4: 384x640 1 speed limit 30 km/h, 16.3ms\n",
            "video 1/1 (frame 1732/2100) /content/drive/MyDrive/FYP/80_epochs/cut.mp4: 384x640 1 speed limit 30 km/h, 16.5ms\n",
            "video 1/1 (frame 1733/2100) /content/drive/MyDrive/FYP/80_epochs/cut.mp4: 384x640 1 speed limit 30 km/h, 16.2ms\n",
            "video 1/1 (frame 1734/2100) /content/drive/MyDrive/FYP/80_epochs/cut.mp4: 384x640 1 speed limit 30 km/h, 16.3ms\n",
            "video 1/1 (frame 1735/2100) /content/drive/MyDrive/FYP/80_epochs/cut.mp4: 384x640 1 speed limit 30 km/h, 16.2ms\n",
            "video 1/1 (frame 1736/2100) /content/drive/MyDrive/FYP/80_epochs/cut.mp4: 384x640 1 speed limit 30 km/h, 16.2ms\n",
            "video 1/1 (frame 1737/2100) /content/drive/MyDrive/FYP/80_epochs/cut.mp4: 384x640 1 speed limit 30 km/h, 16.3ms\n",
            "video 1/1 (frame 1738/2100) /content/drive/MyDrive/FYP/80_epochs/cut.mp4: 384x640 1 speed limit 30 km/h, 16.3ms\n",
            "video 1/1 (frame 1739/2100) /content/drive/MyDrive/FYP/80_epochs/cut.mp4: 384x640 1 speed limit 30 km/h, 16.2ms\n",
            "video 1/1 (frame 1740/2100) /content/drive/MyDrive/FYP/80_epochs/cut.mp4: 384x640 1 speed limit 30 km/h, 16.2ms\n",
            "video 1/1 (frame 1741/2100) /content/drive/MyDrive/FYP/80_epochs/cut.mp4: 384x640 1 speed limit 30 km/h, 16.2ms\n",
            "video 1/1 (frame 1742/2100) /content/drive/MyDrive/FYP/80_epochs/cut.mp4: 384x640 1 speed limit 30 km/h, 16.7ms\n",
            "video 1/1 (frame 1743/2100) /content/drive/MyDrive/FYP/80_epochs/cut.mp4: 384x640 1 speed limit 30 km/h, 17.0ms\n",
            "video 1/1 (frame 1744/2100) /content/drive/MyDrive/FYP/80_epochs/cut.mp4: 384x640 1 speed limit 30 km/h, 17.0ms\n",
            "video 1/1 (frame 1745/2100) /content/drive/MyDrive/FYP/80_epochs/cut.mp4: 384x640 1 speed limit 30 km/h, 17.0ms\n",
            "video 1/1 (frame 1746/2100) /content/drive/MyDrive/FYP/80_epochs/cut.mp4: 384x640 1 speed limit 30 km/h, 17.0ms\n",
            "video 1/1 (frame 1747/2100) /content/drive/MyDrive/FYP/80_epochs/cut.mp4: 384x640 1 speed limit 30 km/h, 17.0ms\n",
            "video 1/1 (frame 1748/2100) /content/drive/MyDrive/FYP/80_epochs/cut.mp4: 384x640 1 speed limit 30 km/h, 17.0ms\n",
            "video 1/1 (frame 1749/2100) /content/drive/MyDrive/FYP/80_epochs/cut.mp4: 384x640 1 speed limit 30 km/h, 17.0ms\n",
            "video 1/1 (frame 1750/2100) /content/drive/MyDrive/FYP/80_epochs/cut.mp4: 384x640 1 speed limit 30 km/h, 17.0ms\n",
            "video 1/1 (frame 1751/2100) /content/drive/MyDrive/FYP/80_epochs/cut.mp4: 384x640 1 speed limit 30 km/h, 17.0ms\n",
            "video 1/1 (frame 1752/2100) /content/drive/MyDrive/FYP/80_epochs/cut.mp4: 384x640 1 speed limit 30 km/h, 17.0ms\n",
            "video 1/1 (frame 1753/2100) /content/drive/MyDrive/FYP/80_epochs/cut.mp4: 384x640 1 speed limit 30 km/h, 17.0ms\n",
            "video 1/1 (frame 1754/2100) /content/drive/MyDrive/FYP/80_epochs/cut.mp4: 384x640 1 speed limit 30 km/h, 17.1ms\n",
            "video 1/1 (frame 1755/2100) /content/drive/MyDrive/FYP/80_epochs/cut.mp4: 384x640 1 speed limit 30 km/h, 17.2ms\n",
            "video 1/1 (frame 1756/2100) /content/drive/MyDrive/FYP/80_epochs/cut.mp4: 384x640 1 speed limit 30 km/h, 17.2ms\n",
            "video 1/1 (frame 1757/2100) /content/drive/MyDrive/FYP/80_epochs/cut.mp4: 384x640 1 speed limit 30 km/h, 17.2ms\n",
            "video 1/1 (frame 1758/2100) /content/drive/MyDrive/FYP/80_epochs/cut.mp4: 384x640 1 speed limit 30 km/h, 17.2ms\n",
            "video 1/1 (frame 1759/2100) /content/drive/MyDrive/FYP/80_epochs/cut.mp4: 384x640 1 speed limit 30 km/h, 17.4ms\n",
            "video 1/1 (frame 1760/2100) /content/drive/MyDrive/FYP/80_epochs/cut.mp4: 384x640 1 speed limit 30 km/h, 17.5ms\n",
            "video 1/1 (frame 1761/2100) /content/drive/MyDrive/FYP/80_epochs/cut.mp4: 384x640 1 speed limit 30 km/h, 17.5ms\n",
            "video 1/1 (frame 1762/2100) /content/drive/MyDrive/FYP/80_epochs/cut.mp4: 384x640 1 speed limit 30 km/h, 17.4ms\n",
            "video 1/1 (frame 1763/2100) /content/drive/MyDrive/FYP/80_epochs/cut.mp4: 384x640 1 speed limit 30 km/h, 17.5ms\n",
            "video 1/1 (frame 1764/2100) /content/drive/MyDrive/FYP/80_epochs/cut.mp4: 384x640 1 speed limit 30 km/h, 17.5ms\n",
            "video 1/1 (frame 1765/2100) /content/drive/MyDrive/FYP/80_epochs/cut.mp4: 384x640 1 speed limit 30 km/h, 17.4ms\n",
            "video 1/1 (frame 1766/2100) /content/drive/MyDrive/FYP/80_epochs/cut.mp4: 384x640 1 speed limit 30 km/h, 17.5ms\n",
            "video 1/1 (frame 1767/2100) /content/drive/MyDrive/FYP/80_epochs/cut.mp4: 384x640 1 speed limit 30 km/h, 17.6ms\n",
            "video 1/1 (frame 1768/2100) /content/drive/MyDrive/FYP/80_epochs/cut.mp4: 384x640 1 speed limit 30 km/h, 17.7ms\n",
            "video 1/1 (frame 1769/2100) /content/drive/MyDrive/FYP/80_epochs/cut.mp4: 384x640 1 speed limit 30 km/h, 17.7ms\n",
            "video 1/1 (frame 1770/2100) /content/drive/MyDrive/FYP/80_epochs/cut.mp4: 384x640 1 speed limit 30 km/h, 17.7ms\n",
            "video 1/1 (frame 1771/2100) /content/drive/MyDrive/FYP/80_epochs/cut.mp4: 384x640 1 speed limit 30 km/h, 17.7ms\n",
            "video 1/1 (frame 1772/2100) /content/drive/MyDrive/FYP/80_epochs/cut.mp4: 384x640 1 speed limit 30 km/h, 17.7ms\n",
            "video 1/1 (frame 1773/2100) /content/drive/MyDrive/FYP/80_epochs/cut.mp4: 384x640 1 speed limit 30 km/h, 17.7ms\n",
            "video 1/1 (frame 1774/2100) /content/drive/MyDrive/FYP/80_epochs/cut.mp4: 384x640 1 speed limit 30 km/h, 17.8ms\n",
            "video 1/1 (frame 1775/2100) /content/drive/MyDrive/FYP/80_epochs/cut.mp4: 384x640 1 speed limit 30 km/h, 17.7ms\n",
            "video 1/1 (frame 1776/2100) /content/drive/MyDrive/FYP/80_epochs/cut.mp4: 384x640 1 speed limit 30 km/h, 17.7ms\n",
            "video 1/1 (frame 1777/2100) /content/drive/MyDrive/FYP/80_epochs/cut.mp4: 384x640 1 speed limit 30 km/h, 17.6ms\n",
            "video 1/1 (frame 1778/2100) /content/drive/MyDrive/FYP/80_epochs/cut.mp4: 384x640 1 speed limit 30 km/h, 17.8ms\n",
            "video 1/1 (frame 1779/2100) /content/drive/MyDrive/FYP/80_epochs/cut.mp4: 384x640 1 speed limit 30 km/h, 17.8ms\n",
            "video 1/1 (frame 1780/2100) /content/drive/MyDrive/FYP/80_epochs/cut.mp4: 384x640 1 speed limit 30 km/h, 18.0ms\n",
            "video 1/1 (frame 1781/2100) /content/drive/MyDrive/FYP/80_epochs/cut.mp4: 384x640 1 speed limit 30 km/h, 18.0ms\n",
            "video 1/1 (frame 1782/2100) /content/drive/MyDrive/FYP/80_epochs/cut.mp4: 384x640 1 speed limit 30 km/h, 18.0ms\n",
            "video 1/1 (frame 1783/2100) /content/drive/MyDrive/FYP/80_epochs/cut.mp4: 384x640 1 speed limit 30 km/h, 17.9ms\n",
            "video 1/1 (frame 1784/2100) /content/drive/MyDrive/FYP/80_epochs/cut.mp4: 384x640 1 speed limit 30 km/h, 18.0ms\n",
            "video 1/1 (frame 1785/2100) /content/drive/MyDrive/FYP/80_epochs/cut.mp4: 384x640 1 speed limit 30 km/h, 18.0ms\n",
            "video 1/1 (frame 1786/2100) /content/drive/MyDrive/FYP/80_epochs/cut.mp4: 384x640 1 speed limit 30 km/h, 17.9ms\n",
            "video 1/1 (frame 1787/2100) /content/drive/MyDrive/FYP/80_epochs/cut.mp4: 384x640 1 speed limit 30 km/h, 18.1ms\n",
            "video 1/1 (frame 1788/2100) /content/drive/MyDrive/FYP/80_epochs/cut.mp4: 384x640 1 speed limit 30 km/h, 18.2ms\n",
            "video 1/1 (frame 1789/2100) /content/drive/MyDrive/FYP/80_epochs/cut.mp4: 384x640 1 speed limit 30 km/h, 18.2ms\n",
            "video 1/1 (frame 1790/2100) /content/drive/MyDrive/FYP/80_epochs/cut.mp4: 384x640 1 speed limit 90 km/h, 18.2ms\n",
            "video 1/1 (frame 1791/2100) /content/drive/MyDrive/FYP/80_epochs/cut.mp4: 384x640 1 speed limit 90 km/h, 18.2ms\n",
            "video 1/1 (frame 1792/2100) /content/drive/MyDrive/FYP/80_epochs/cut.mp4: 384x640 1 speed limit 90 km/h, 18.0ms\n",
            "video 1/1 (frame 1793/2100) /content/drive/MyDrive/FYP/80_epochs/cut.mp4: 384x640 1 speed limit 90 km/h, 18.0ms\n",
            "video 1/1 (frame 1794/2100) /content/drive/MyDrive/FYP/80_epochs/cut.mp4: 384x640 1 speed limit 90 km/h, 18.0ms\n",
            "video 1/1 (frame 1795/2100) /content/drive/MyDrive/FYP/80_epochs/cut.mp4: 384x640 1 speed limit 90 km/h, 18.0ms\n",
            "video 1/1 (frame 1796/2100) /content/drive/MyDrive/FYP/80_epochs/cut.mp4: 384x640 1 speed limit 90 km/h, 18.0ms\n",
            "video 1/1 (frame 1797/2100) /content/drive/MyDrive/FYP/80_epochs/cut.mp4: 384x640 1 speed limit 90 km/h, 18.0ms\n",
            "video 1/1 (frame 1798/2100) /content/drive/MyDrive/FYP/80_epochs/cut.mp4: 384x640 1 speed limit 90 km/h, 18.1ms\n",
            "video 1/1 (frame 1799/2100) /content/drive/MyDrive/FYP/80_epochs/cut.mp4: 384x640 1 speed limit 90 km/h, 18.0ms\n",
            "video 1/1 (frame 1800/2100) /content/drive/MyDrive/FYP/80_epochs/cut.mp4: 384x640 1 speed limit 90 km/h, 18.0ms\n",
            "video 1/1 (frame 1801/2100) /content/drive/MyDrive/FYP/80_epochs/cut.mp4: 384x640 1 speed limit 90 km/h, 18.0ms\n",
            "video 1/1 (frame 1802/2100) /content/drive/MyDrive/FYP/80_epochs/cut.mp4: 384x640 1 speed limit 90 km/h, 18.0ms\n",
            "video 1/1 (frame 1803/2100) /content/drive/MyDrive/FYP/80_epochs/cut.mp4: 384x640 1 speed limit 90 km/h, 18.0ms\n",
            "video 1/1 (frame 1804/2100) /content/drive/MyDrive/FYP/80_epochs/cut.mp4: 384x640 1 speed limit 90 km/h, 18.0ms\n",
            "video 1/1 (frame 1805/2100) /content/drive/MyDrive/FYP/80_epochs/cut.mp4: 384x640 1 speed limit 90 km/h, 18.0ms\n",
            "video 1/1 (frame 1806/2100) /content/drive/MyDrive/FYP/80_epochs/cut.mp4: 384x640 1 speed limit 90 km/h, 18.0ms\n",
            "video 1/1 (frame 1807/2100) /content/drive/MyDrive/FYP/80_epochs/cut.mp4: 384x640 1 speed limit 30 km/h, 18.0ms\n",
            "video 1/1 (frame 1808/2100) /content/drive/MyDrive/FYP/80_epochs/cut.mp4: 384x640 1 speed limit 30 km/h, 18.0ms\n",
            "video 1/1 (frame 1809/2100) /content/drive/MyDrive/FYP/80_epochs/cut.mp4: 384x640 1 speed limit 30 km/h, 18.1ms\n",
            "video 1/1 (frame 1810/2100) /content/drive/MyDrive/FYP/80_epochs/cut.mp4: 384x640 1 speed limit 30 km/h, 18.0ms\n",
            "video 1/1 (frame 1811/2100) /content/drive/MyDrive/FYP/80_epochs/cut.mp4: 384x640 1 speed limit 30 km/h, 18.0ms\n",
            "video 1/1 (frame 1812/2100) /content/drive/MyDrive/FYP/80_epochs/cut.mp4: 384x640 1 speed limit 30 km/h, 18.0ms\n",
            "video 1/1 (frame 1813/2100) /content/drive/MyDrive/FYP/80_epochs/cut.mp4: 384x640 1 speed limit 30 km/h, 18.0ms\n",
            "video 1/1 (frame 1814/2100) /content/drive/MyDrive/FYP/80_epochs/cut.mp4: 384x640 1 speed limit 30 km/h, 18.0ms\n",
            "video 1/1 (frame 1815/2100) /content/drive/MyDrive/FYP/80_epochs/cut.mp4: 384x640 1 speed limit 30 km/h, 18.0ms\n",
            "video 1/1 (frame 1816/2100) /content/drive/MyDrive/FYP/80_epochs/cut.mp4: 384x640 1 speed limit 30 km/h, 19.1ms\n",
            "video 1/1 (frame 1817/2100) /content/drive/MyDrive/FYP/80_epochs/cut.mp4: 384x640 1 speed limit 30 km/h, 18.0ms\n",
            "video 1/1 (frame 1818/2100) /content/drive/MyDrive/FYP/80_epochs/cut.mp4: 384x640 1 speed limit 30 km/h, 18.0ms\n",
            "video 1/1 (frame 1819/2100) /content/drive/MyDrive/FYP/80_epochs/cut.mp4: 384x640 1 speed limit 30 km/h, 18.0ms\n",
            "video 1/1 (frame 1820/2100) /content/drive/MyDrive/FYP/80_epochs/cut.mp4: 384x640 1 speed limit 30 km/h, 18.0ms\n",
            "video 1/1 (frame 1821/2100) /content/drive/MyDrive/FYP/80_epochs/cut.mp4: 384x640 1 speed limit 30 km/h, 18.0ms\n",
            "video 1/1 (frame 1822/2100) /content/drive/MyDrive/FYP/80_epochs/cut.mp4: 384x640 1 speed limit 30 km/h, 17.9ms\n",
            "video 1/1 (frame 1823/2100) /content/drive/MyDrive/FYP/80_epochs/cut.mp4: 384x640 1 speed limit 30 km/h, 18.0ms\n",
            "video 1/1 (frame 1824/2100) /content/drive/MyDrive/FYP/80_epochs/cut.mp4: 384x640 1 speed limit 30 km/h, 18.0ms\n",
            "video 1/1 (frame 1825/2100) /content/drive/MyDrive/FYP/80_epochs/cut.mp4: 384x640 1 speed limit 30 km/h, 17.9ms\n",
            "video 1/1 (frame 1826/2100) /content/drive/MyDrive/FYP/80_epochs/cut.mp4: 384x640 1 speed limit 30 km/h, 18.0ms\n",
            "video 1/1 (frame 1827/2100) /content/drive/MyDrive/FYP/80_epochs/cut.mp4: 384x640 1 speed limit 30 km/h, 18.8ms\n",
            "video 1/1 (frame 1828/2100) /content/drive/MyDrive/FYP/80_epochs/cut.mp4: 384x640 1 speed limit 30 km/h, 19.1ms\n",
            "video 1/1 (frame 1829/2100) /content/drive/MyDrive/FYP/80_epochs/cut.mp4: 384x640 1 speed limit 30 km/h, 19.1ms\n",
            "video 1/1 (frame 1830/2100) /content/drive/MyDrive/FYP/80_epochs/cut.mp4: 384x640 1 speed limit 30 km/h, 19.1ms\n",
            "video 1/1 (frame 1831/2100) /content/drive/MyDrive/FYP/80_epochs/cut.mp4: 384x640 1 speed limit 30 km/h, 23.9ms\n",
            "video 1/1 (frame 1832/2100) /content/drive/MyDrive/FYP/80_epochs/cut.mp4: 384x640 1 speed limit 30 km/h, 19.4ms\n",
            "video 1/1 (frame 1833/2100) /content/drive/MyDrive/FYP/80_epochs/cut.mp4: 384x640 1 speed limit 30 km/h, 19.4ms\n",
            "video 1/1 (frame 1834/2100) /content/drive/MyDrive/FYP/80_epochs/cut.mp4: 384x640 1 speed limit 30 km/h, 20.0ms\n",
            "video 1/1 (frame 1835/2100) /content/drive/MyDrive/FYP/80_epochs/cut.mp4: 384x640 1 speed limit 30 km/h, 20.0ms\n",
            "video 1/1 (frame 1836/2100) /content/drive/MyDrive/FYP/80_epochs/cut.mp4: 384x640 1 speed limit 30 km/h, 20.2ms\n",
            "video 1/1 (frame 1837/2100) /content/drive/MyDrive/FYP/80_epochs/cut.mp4: 384x640 1 speed limit 30 km/h, 20.3ms\n",
            "video 1/1 (frame 1838/2100) /content/drive/MyDrive/FYP/80_epochs/cut.mp4: 384x640 1 speed limit 30 km/h, 20.3ms\n",
            "video 1/1 (frame 1839/2100) /content/drive/MyDrive/FYP/80_epochs/cut.mp4: 384x640 1 speed limit 30 km/h, 20.3ms\n",
            "video 1/1 (frame 1840/2100) /content/drive/MyDrive/FYP/80_epochs/cut.mp4: 384x640 1 speed limit 30 km/h, 20.7ms\n",
            "video 1/1 (frame 1841/2100) /content/drive/MyDrive/FYP/80_epochs/cut.mp4: 384x640 1 speed limit 30 km/h, 1 speed limit 90 km/h, 20.7ms\n",
            "video 1/1 (frame 1842/2100) /content/drive/MyDrive/FYP/80_epochs/cut.mp4: 384x640 1 speed limit 30 km/h, 1 speed limit 90 km/h, 20.8ms\n",
            "video 1/1 (frame 1843/2100) /content/drive/MyDrive/FYP/80_epochs/cut.mp4: 384x640 1 speed limit 30 km/h, 1 speed limit 90 km/h, 21.0ms\n",
            "video 1/1 (frame 1844/2100) /content/drive/MyDrive/FYP/80_epochs/cut.mp4: 384x640 1 speed limit 30 km/h, 1 speed limit 90 km/h, 21.0ms\n",
            "video 1/1 (frame 1845/2100) /content/drive/MyDrive/FYP/80_epochs/cut.mp4: 384x640 1 speed limit 30 km/h, 1 speed limit 90 km/h, 21.8ms\n",
            "video 1/1 (frame 1846/2100) /content/drive/MyDrive/FYP/80_epochs/cut.mp4: 384x640 1 speed limit 30 km/h, 1 speed limit 90 km/h, 21.8ms\n",
            "video 1/1 (frame 1847/2100) /content/drive/MyDrive/FYP/80_epochs/cut.mp4: 384x640 1 speed limit 30 km/h, 1 speed limit 90 km/h, 21.9ms\n",
            "video 1/1 (frame 1848/2100) /content/drive/MyDrive/FYP/80_epochs/cut.mp4: 384x640 1 speed limit 30 km/h, 1 speed limit 90 km/h, 23.6ms\n",
            "video 1/1 (frame 1849/2100) /content/drive/MyDrive/FYP/80_epochs/cut.mp4: 384x640 1 speed limit 30 km/h, 1 speed limit 90 km/h, 21.9ms\n",
            "video 1/1 (frame 1850/2100) /content/drive/MyDrive/FYP/80_epochs/cut.mp4: 384x640 1 speed limit 30 km/h, 1 speed limit 90 km/h, 22.9ms\n",
            "video 1/1 (frame 1851/2100) /content/drive/MyDrive/FYP/80_epochs/cut.mp4: 384x640 1 speed limit 30 km/h, 1 speed limit 90 km/h, 22.6ms\n",
            "video 1/1 (frame 1852/2100) /content/drive/MyDrive/FYP/80_epochs/cut.mp4: 384x640 1 speed limit 30 km/h, 1 speed limit 90 km/h, 22.7ms\n",
            "video 1/1 (frame 1853/2100) /content/drive/MyDrive/FYP/80_epochs/cut.mp4: 384x640 1 speed limit 30 km/h, 1 speed limit 90 km/h, 22.7ms\n",
            "video 1/1 (frame 1854/2100) /content/drive/MyDrive/FYP/80_epochs/cut.mp4: 384x640 1 speed limit 30 km/h, 1 speed limit 90 km/h, 22.7ms\n",
            "video 1/1 (frame 1855/2100) /content/drive/MyDrive/FYP/80_epochs/cut.mp4: 384x640 1 speed limit 30 km/h, 1 speed limit 90 km/h, 23.3ms\n",
            "video 1/1 (frame 1856/2100) /content/drive/MyDrive/FYP/80_epochs/cut.mp4: 384x640 1 speed limit 30 km/h, 1 speed limit 90 km/h, 23.1ms\n",
            "video 1/1 (frame 1857/2100) /content/drive/MyDrive/FYP/80_epochs/cut.mp4: 384x640 1 speed limit 30 km/h, 1 speed limit 90 km/h, 23.2ms\n",
            "video 1/1 (frame 1858/2100) /content/drive/MyDrive/FYP/80_epochs/cut.mp4: 384x640 1 speed limit 30 km/h, 1 speed limit 90 km/h, 23.1ms\n",
            "video 1/1 (frame 1859/2100) /content/drive/MyDrive/FYP/80_epochs/cut.mp4: 384x640 (no detections), 23.6ms\n",
            "video 1/1 (frame 1860/2100) /content/drive/MyDrive/FYP/80_epochs/cut.mp4: 384x640 (no detections), 24.9ms\n",
            "video 1/1 (frame 1861/2100) /content/drive/MyDrive/FYP/80_epochs/cut.mp4: 384x640 (no detections), 23.6ms\n",
            "video 1/1 (frame 1862/2100) /content/drive/MyDrive/FYP/80_epochs/cut.mp4: 384x640 (no detections), 23.6ms\n",
            "video 1/1 (frame 1863/2100) /content/drive/MyDrive/FYP/80_epochs/cut.mp4: 384x640 (no detections), 23.6ms\n",
            "video 1/1 (frame 1864/2100) /content/drive/MyDrive/FYP/80_epochs/cut.mp4: 384x640 (no detections), 23.6ms\n",
            "video 1/1 (frame 1865/2100) /content/drive/MyDrive/FYP/80_epochs/cut.mp4: 384x640 (no detections), 23.6ms\n",
            "video 1/1 (frame 1866/2100) /content/drive/MyDrive/FYP/80_epochs/cut.mp4: 384x640 (no detections), 23.6ms\n",
            "video 1/1 (frame 1867/2100) /content/drive/MyDrive/FYP/80_epochs/cut.mp4: 384x640 (no detections), 24.4ms\n",
            "video 1/1 (frame 1868/2100) /content/drive/MyDrive/FYP/80_epochs/cut.mp4: 384x640 (no detections), 24.6ms\n",
            "video 1/1 (frame 1869/2100) /content/drive/MyDrive/FYP/80_epochs/cut.mp4: 384x640 (no detections), 24.6ms\n",
            "video 1/1 (frame 1870/2100) /content/drive/MyDrive/FYP/80_epochs/cut.mp4: 384x640 (no detections), 24.6ms\n",
            "video 1/1 (frame 1871/2100) /content/drive/MyDrive/FYP/80_epochs/cut.mp4: 384x640 (no detections), 24.6ms\n",
            "video 1/1 (frame 1872/2100) /content/drive/MyDrive/FYP/80_epochs/cut.mp4: 384x640 (no detections), 24.7ms\n",
            "video 1/1 (frame 1873/2100) /content/drive/MyDrive/FYP/80_epochs/cut.mp4: 384x640 (no detections), 24.7ms\n",
            "video 1/1 (frame 1874/2100) /content/drive/MyDrive/FYP/80_epochs/cut.mp4: 384x640 (no detections), 24.6ms\n",
            "video 1/1 (frame 1875/2100) /content/drive/MyDrive/FYP/80_epochs/cut.mp4: 384x640 (no detections), 26.3ms\n",
            "video 1/1 (frame 1876/2100) /content/drive/MyDrive/FYP/80_epochs/cut.mp4: 384x640 (no detections), 25.2ms\n",
            "video 1/1 (frame 1877/2100) /content/drive/MyDrive/FYP/80_epochs/cut.mp4: 384x640 (no detections), 25.2ms\n",
            "video 1/1 (frame 1878/2100) /content/drive/MyDrive/FYP/80_epochs/cut.mp4: 384x640 (no detections), 25.2ms\n",
            "video 1/1 (frame 1879/2100) /content/drive/MyDrive/FYP/80_epochs/cut.mp4: 384x640 (no detections), 25.2ms\n",
            "video 1/1 (frame 1880/2100) /content/drive/MyDrive/FYP/80_epochs/cut.mp4: 384x640 (no detections), 25.2ms\n",
            "video 1/1 (frame 1881/2100) /content/drive/MyDrive/FYP/80_epochs/cut.mp4: 384x640 (no detections), 25.2ms\n",
            "video 1/1 (frame 1882/2100) /content/drive/MyDrive/FYP/80_epochs/cut.mp4: 384x640 (no detections), 25.1ms\n",
            "video 1/1 (frame 1883/2100) /content/drive/MyDrive/FYP/80_epochs/cut.mp4: 384x640 (no detections), 25.1ms\n",
            "video 1/1 (frame 1884/2100) /content/drive/MyDrive/FYP/80_epochs/cut.mp4: 384x640 (no detections), 25.1ms\n",
            "video 1/1 (frame 1885/2100) /content/drive/MyDrive/FYP/80_epochs/cut.mp4: 384x640 (no detections), 25.1ms\n",
            "video 1/1 (frame 1886/2100) /content/drive/MyDrive/FYP/80_epochs/cut.mp4: 384x640 (no detections), 20.6ms\n",
            "video 1/1 (frame 1887/2100) /content/drive/MyDrive/FYP/80_epochs/cut.mp4: 384x640 (no detections), 20.7ms\n",
            "video 1/1 (frame 1888/2100) /content/drive/MyDrive/FYP/80_epochs/cut.mp4: 384x640 (no detections), 20.6ms\n",
            "video 1/1 (frame 1889/2100) /content/drive/MyDrive/FYP/80_epochs/cut.mp4: 384x640 (no detections), 20.7ms\n",
            "video 1/1 (frame 1890/2100) /content/drive/MyDrive/FYP/80_epochs/cut.mp4: 384x640 (no detections), 20.4ms\n",
            "video 1/1 (frame 1891/2100) /content/drive/MyDrive/FYP/80_epochs/cut.mp4: 384x640 (no detections), 20.3ms\n",
            "video 1/1 (frame 1892/2100) /content/drive/MyDrive/FYP/80_epochs/cut.mp4: 384x640 (no detections), 20.3ms\n",
            "video 1/1 (frame 1893/2100) /content/drive/MyDrive/FYP/80_epochs/cut.mp4: 384x640 (no detections), 20.3ms\n",
            "video 1/1 (frame 1894/2100) /content/drive/MyDrive/FYP/80_epochs/cut.mp4: 384x640 (no detections), 20.0ms\n",
            "video 1/1 (frame 1895/2100) /content/drive/MyDrive/FYP/80_epochs/cut.mp4: 384x640 (no detections), 20.0ms\n",
            "video 1/1 (frame 1896/2100) /content/drive/MyDrive/FYP/80_epochs/cut.mp4: 384x640 (no detections), 20.0ms\n",
            "video 1/1 (frame 1897/2100) /content/drive/MyDrive/FYP/80_epochs/cut.mp4: 384x640 (no detections), 19.9ms\n",
            "video 1/1 (frame 1898/2100) /content/drive/MyDrive/FYP/80_epochs/cut.mp4: 384x640 (no detections), 19.9ms\n",
            "video 1/1 (frame 1899/2100) /content/drive/MyDrive/FYP/80_epochs/cut.mp4: 384x640 (no detections), 20.0ms\n",
            "video 1/1 (frame 1900/2100) /content/drive/MyDrive/FYP/80_epochs/cut.mp4: 384x640 (no detections), 20.0ms\n",
            "video 1/1 (frame 1901/2100) /content/drive/MyDrive/FYP/80_epochs/cut.mp4: 384x640 (no detections), 20.0ms\n",
            "video 1/1 (frame 1902/2100) /content/drive/MyDrive/FYP/80_epochs/cut.mp4: 384x640 (no detections), 20.0ms\n",
            "video 1/1 (frame 1903/2100) /content/drive/MyDrive/FYP/80_epochs/cut.mp4: 384x640 (no detections), 19.9ms\n",
            "video 1/1 (frame 1904/2100) /content/drive/MyDrive/FYP/80_epochs/cut.mp4: 384x640 (no detections), 20.0ms\n",
            "video 1/1 (frame 1905/2100) /content/drive/MyDrive/FYP/80_epochs/cut.mp4: 384x640 (no detections), 20.0ms\n",
            "video 1/1 (frame 1906/2100) /content/drive/MyDrive/FYP/80_epochs/cut.mp4: 384x640 (no detections), 19.3ms\n",
            "video 1/1 (frame 1907/2100) /content/drive/MyDrive/FYP/80_epochs/cut.mp4: 384x640 (no detections), 19.1ms\n",
            "video 1/1 (frame 1908/2100) /content/drive/MyDrive/FYP/80_epochs/cut.mp4: 384x640 (no detections), 19.0ms\n",
            "video 1/1 (frame 1909/2100) /content/drive/MyDrive/FYP/80_epochs/cut.mp4: 384x640 (no detections), 19.1ms\n",
            "video 1/1 (frame 1910/2100) /content/drive/MyDrive/FYP/80_epochs/cut.mp4: 384x640 (no detections), 19.0ms\n",
            "video 1/1 (frame 1911/2100) /content/drive/MyDrive/FYP/80_epochs/cut.mp4: 384x640 (no detections), 17.5ms\n",
            "video 1/1 (frame 1912/2100) /content/drive/MyDrive/FYP/80_epochs/cut.mp4: 384x640 (no detections), 17.5ms\n",
            "video 1/1 (frame 1913/2100) /content/drive/MyDrive/FYP/80_epochs/cut.mp4: 384x640 (no detections), 17.5ms\n",
            "video 1/1 (frame 1914/2100) /content/drive/MyDrive/FYP/80_epochs/cut.mp4: 384x640 (no detections), 17.5ms\n",
            "video 1/1 (frame 1915/2100) /content/drive/MyDrive/FYP/80_epochs/cut.mp4: 384x640 (no detections), 17.4ms\n",
            "video 1/1 (frame 1916/2100) /content/drive/MyDrive/FYP/80_epochs/cut.mp4: 384x640 (no detections), 17.5ms\n",
            "video 1/1 (frame 1917/2100) /content/drive/MyDrive/FYP/80_epochs/cut.mp4: 384x640 (no detections), 17.5ms\n",
            "video 1/1 (frame 1918/2100) /content/drive/MyDrive/FYP/80_epochs/cut.mp4: 384x640 (no detections), 17.5ms\n",
            "video 1/1 (frame 1919/2100) /content/drive/MyDrive/FYP/80_epochs/cut.mp4: 384x640 (no detections), 17.5ms\n",
            "video 1/1 (frame 1920/2100) /content/drive/MyDrive/FYP/80_epochs/cut.mp4: 384x640 (no detections), 17.6ms\n",
            "video 1/1 (frame 1921/2100) /content/drive/MyDrive/FYP/80_epochs/cut.mp4: 384x640 (no detections), 17.5ms\n",
            "video 1/1 (frame 1922/2100) /content/drive/MyDrive/FYP/80_epochs/cut.mp4: 384x640 (no detections), 17.4ms\n",
            "video 1/1 (frame 1923/2100) /content/drive/MyDrive/FYP/80_epochs/cut.mp4: 384x640 (no detections), 17.5ms\n",
            "video 1/1 (frame 1924/2100) /content/drive/MyDrive/FYP/80_epochs/cut.mp4: 384x640 (no detections), 17.4ms\n",
            "video 1/1 (frame 1925/2100) /content/drive/MyDrive/FYP/80_epochs/cut.mp4: 384x640 (no detections), 17.4ms\n",
            "video 1/1 (frame 1926/2100) /content/drive/MyDrive/FYP/80_epochs/cut.mp4: 384x640 (no detections), 17.7ms\n",
            "video 1/1 (frame 1927/2100) /content/drive/MyDrive/FYP/80_epochs/cut.mp4: 384x640 (no detections), 17.5ms\n",
            "video 1/1 (frame 1928/2100) /content/drive/MyDrive/FYP/80_epochs/cut.mp4: 384x640 (no detections), 17.0ms\n",
            "video 1/1 (frame 1929/2100) /content/drive/MyDrive/FYP/80_epochs/cut.mp4: 384x640 (no detections), 17.0ms\n",
            "video 1/1 (frame 1930/2100) /content/drive/MyDrive/FYP/80_epochs/cut.mp4: 384x640 (no detections), 17.0ms\n",
            "video 1/1 (frame 1931/2100) /content/drive/MyDrive/FYP/80_epochs/cut.mp4: 384x640 (no detections), 17.0ms\n",
            "video 1/1 (frame 1932/2100) /content/drive/MyDrive/FYP/80_epochs/cut.mp4: 384x640 (no detections), 17.1ms\n",
            "video 1/1 (frame 1933/2100) /content/drive/MyDrive/FYP/80_epochs/cut.mp4: 384x640 (no detections), 17.1ms\n",
            "video 1/1 (frame 1934/2100) /content/drive/MyDrive/FYP/80_epochs/cut.mp4: 384x640 (no detections), 17.0ms\n",
            "video 1/1 (frame 1935/2100) /content/drive/MyDrive/FYP/80_epochs/cut.mp4: 384x640 (no detections), 17.0ms\n",
            "video 1/1 (frame 1936/2100) /content/drive/MyDrive/FYP/80_epochs/cut.mp4: 384x640 (no detections), 16.9ms\n",
            "video 1/1 (frame 1937/2100) /content/drive/MyDrive/FYP/80_epochs/cut.mp4: 384x640 (no detections), 17.0ms\n",
            "video 1/1 (frame 1938/2100) /content/drive/MyDrive/FYP/80_epochs/cut.mp4: 384x640 (no detections), 17.0ms\n",
            "video 1/1 (frame 1939/2100) /content/drive/MyDrive/FYP/80_epochs/cut.mp4: 384x640 (no detections), 17.0ms\n",
            "video 1/1 (frame 1940/2100) /content/drive/MyDrive/FYP/80_epochs/cut.mp4: 384x640 (no detections), 17.0ms\n",
            "video 1/1 (frame 1941/2100) /content/drive/MyDrive/FYP/80_epochs/cut.mp4: 384x640 (no detections), 17.0ms\n",
            "video 1/1 (frame 1942/2100) /content/drive/MyDrive/FYP/80_epochs/cut.mp4: 384x640 (no detections), 17.0ms\n",
            "video 1/1 (frame 1943/2100) /content/drive/MyDrive/FYP/80_epochs/cut.mp4: 384x640 (no detections), 17.0ms\n",
            "video 1/1 (frame 1944/2100) /content/drive/MyDrive/FYP/80_epochs/cut.mp4: 384x640 (no detections), 21.5ms\n",
            "video 1/1 (frame 1945/2100) /content/drive/MyDrive/FYP/80_epochs/cut.mp4: 384x640 (no detections), 17.0ms\n",
            "video 1/1 (frame 1946/2100) /content/drive/MyDrive/FYP/80_epochs/cut.mp4: 384x640 (no detections), 17.0ms\n",
            "video 1/1 (frame 1947/2100) /content/drive/MyDrive/FYP/80_epochs/cut.mp4: 384x640 (no detections), 17.0ms\n",
            "video 1/1 (frame 1948/2100) /content/drive/MyDrive/FYP/80_epochs/cut.mp4: 384x640 (no detections), 17.0ms\n",
            "video 1/1 (frame 1949/2100) /content/drive/MyDrive/FYP/80_epochs/cut.mp4: 384x640 (no detections), 17.0ms\n",
            "video 1/1 (frame 1950/2100) /content/drive/MyDrive/FYP/80_epochs/cut.mp4: 384x640 (no detections), 17.1ms\n",
            "video 1/1 (frame 1951/2100) /content/drive/MyDrive/FYP/80_epochs/cut.mp4: 384x640 (no detections), 17.0ms\n",
            "video 1/1 (frame 1952/2100) /content/drive/MyDrive/FYP/80_epochs/cut.mp4: 384x640 (no detections), 17.0ms\n",
            "video 1/1 (frame 1953/2100) /content/drive/MyDrive/FYP/80_epochs/cut.mp4: 384x640 (no detections), 17.0ms\n",
            "video 1/1 (frame 1954/2100) /content/drive/MyDrive/FYP/80_epochs/cut.mp4: 384x640 (no detections), 17.0ms\n",
            "video 1/1 (frame 1955/2100) /content/drive/MyDrive/FYP/80_epochs/cut.mp4: 384x640 (no detections), 17.0ms\n",
            "video 1/1 (frame 1956/2100) /content/drive/MyDrive/FYP/80_epochs/cut.mp4: 384x640 (no detections), 17.2ms\n",
            "video 1/1 (frame 1957/2100) /content/drive/MyDrive/FYP/80_epochs/cut.mp4: 384x640 (no detections), 17.1ms\n",
            "video 1/1 (frame 1958/2100) /content/drive/MyDrive/FYP/80_epochs/cut.mp4: 384x640 (no detections), 17.0ms\n",
            "video 1/1 (frame 1959/2100) /content/drive/MyDrive/FYP/80_epochs/cut.mp4: 384x640 (no detections), 17.1ms\n",
            "video 1/1 (frame 1960/2100) /content/drive/MyDrive/FYP/80_epochs/cut.mp4: 384x640 (no detections), 17.0ms\n",
            "video 1/1 (frame 1961/2100) /content/drive/MyDrive/FYP/80_epochs/cut.mp4: 384x640 (no detections), 17.0ms\n",
            "video 1/1 (frame 1962/2100) /content/drive/MyDrive/FYP/80_epochs/cut.mp4: 384x640 (no detections), 17.1ms\n",
            "video 1/1 (frame 1963/2100) /content/drive/MyDrive/FYP/80_epochs/cut.mp4: 384x640 (no detections), 17.0ms\n",
            "video 1/1 (frame 1964/2100) /content/drive/MyDrive/FYP/80_epochs/cut.mp4: 384x640 (no detections), 17.0ms\n",
            "video 1/1 (frame 1965/2100) /content/drive/MyDrive/FYP/80_epochs/cut.mp4: 384x640 (no detections), 17.0ms\n",
            "video 1/1 (frame 1966/2100) /content/drive/MyDrive/FYP/80_epochs/cut.mp4: 384x640 (no detections), 17.8ms\n",
            "video 1/1 (frame 1967/2100) /content/drive/MyDrive/FYP/80_epochs/cut.mp4: 384x640 (no detections), 17.7ms\n",
            "video 1/1 (frame 1968/2100) /content/drive/MyDrive/FYP/80_epochs/cut.mp4: 384x640 (no detections), 17.8ms\n",
            "video 1/1 (frame 1969/2100) /content/drive/MyDrive/FYP/80_epochs/cut.mp4: 384x640 (no detections), 17.7ms\n",
            "video 1/1 (frame 1970/2100) /content/drive/MyDrive/FYP/80_epochs/cut.mp4: 384x640 (no detections), 17.7ms\n",
            "video 1/1 (frame 1971/2100) /content/drive/MyDrive/FYP/80_epochs/cut.mp4: 384x640 (no detections), 17.7ms\n",
            "video 1/1 (frame 1972/2100) /content/drive/MyDrive/FYP/80_epochs/cut.mp4: 384x640 (no detections), 17.6ms\n",
            "video 1/1 (frame 1973/2100) /content/drive/MyDrive/FYP/80_epochs/cut.mp4: 384x640 (no detections), 17.7ms\n",
            "video 1/1 (frame 1974/2100) /content/drive/MyDrive/FYP/80_epochs/cut.mp4: 384x640 (no detections), 17.7ms\n",
            "video 1/1 (frame 1975/2100) /content/drive/MyDrive/FYP/80_epochs/cut.mp4: 384x640 (no detections), 16.9ms\n",
            "video 1/1 (frame 1976/2100) /content/drive/MyDrive/FYP/80_epochs/cut.mp4: 384x640 (no detections), 17.0ms\n",
            "video 1/1 (frame 1977/2100) /content/drive/MyDrive/FYP/80_epochs/cut.mp4: 384x640 (no detections), 17.0ms\n",
            "video 1/1 (frame 1978/2100) /content/drive/MyDrive/FYP/80_epochs/cut.mp4: 384x640 (no detections), 17.0ms\n",
            "video 1/1 (frame 1979/2100) /content/drive/MyDrive/FYP/80_epochs/cut.mp4: 384x640 (no detections), 17.0ms\n",
            "video 1/1 (frame 1980/2100) /content/drive/MyDrive/FYP/80_epochs/cut.mp4: 384x640 (no detections), 17.0ms\n",
            "video 1/1 (frame 1981/2100) /content/drive/MyDrive/FYP/80_epochs/cut.mp4: 384x640 (no detections), 17.0ms\n",
            "video 1/1 (frame 1982/2100) /content/drive/MyDrive/FYP/80_epochs/cut.mp4: 384x640 (no detections), 17.1ms\n",
            "video 1/1 (frame 1983/2100) /content/drive/MyDrive/FYP/80_epochs/cut.mp4: 384x640 (no detections), 17.0ms\n",
            "video 1/1 (frame 1984/2100) /content/drive/MyDrive/FYP/80_epochs/cut.mp4: 384x640 (no detections), 17.0ms\n",
            "video 1/1 (frame 1985/2100) /content/drive/MyDrive/FYP/80_epochs/cut.mp4: 384x640 (no detections), 17.0ms\n",
            "video 1/1 (frame 1986/2100) /content/drive/MyDrive/FYP/80_epochs/cut.mp4: 384x640 (no detections), 17.0ms\n",
            "video 1/1 (frame 1987/2100) /content/drive/MyDrive/FYP/80_epochs/cut.mp4: 384x640 (no detections), 17.0ms\n",
            "video 1/1 (frame 1988/2100) /content/drive/MyDrive/FYP/80_epochs/cut.mp4: 384x640 (no detections), 17.0ms\n",
            "video 1/1 (frame 1989/2100) /content/drive/MyDrive/FYP/80_epochs/cut.mp4: 384x640 (no detections), 17.0ms\n",
            "video 1/1 (frame 1990/2100) /content/drive/MyDrive/FYP/80_epochs/cut.mp4: 384x640 (no detections), 17.0ms\n",
            "video 1/1 (frame 1991/2100) /content/drive/MyDrive/FYP/80_epochs/cut.mp4: 384x640 (no detections), 17.0ms\n",
            "video 1/1 (frame 1992/2100) /content/drive/MyDrive/FYP/80_epochs/cut.mp4: 384x640 (no detections), 17.0ms\n",
            "video 1/1 (frame 1993/2100) /content/drive/MyDrive/FYP/80_epochs/cut.mp4: 384x640 (no detections), 17.0ms\n",
            "video 1/1 (frame 1994/2100) /content/drive/MyDrive/FYP/80_epochs/cut.mp4: 384x640 (no detections), 16.9ms\n",
            "video 1/1 (frame 1995/2100) /content/drive/MyDrive/FYP/80_epochs/cut.mp4: 384x640 (no detections), 17.0ms\n",
            "video 1/1 (frame 1996/2100) /content/drive/MyDrive/FYP/80_epochs/cut.mp4: 384x640 1 speed limit 30 km/h, 17.0ms\n",
            "video 1/1 (frame 1997/2100) /content/drive/MyDrive/FYP/80_epochs/cut.mp4: 384x640 1 speed limit 30 km/h, 17.0ms\n",
            "video 1/1 (frame 1998/2100) /content/drive/MyDrive/FYP/80_epochs/cut.mp4: 384x640 1 speed limit 30 km/h, 17.0ms\n",
            "video 1/1 (frame 1999/2100) /content/drive/MyDrive/FYP/80_epochs/cut.mp4: 384x640 1 speed limit 30 km/h, 17.1ms\n",
            "video 1/1 (frame 2000/2100) /content/drive/MyDrive/FYP/80_epochs/cut.mp4: 384x640 1 speed limit 30 km/h, 17.0ms\n",
            "video 1/1 (frame 2001/2100) /content/drive/MyDrive/FYP/80_epochs/cut.mp4: 384x640 1 speed limit 30 km/h, 17.0ms\n",
            "video 1/1 (frame 2002/2100) /content/drive/MyDrive/FYP/80_epochs/cut.mp4: 384x640 1 speed limit 30 km/h, 17.0ms\n",
            "video 1/1 (frame 2003/2100) /content/drive/MyDrive/FYP/80_epochs/cut.mp4: 384x640 1 speed limit 30 km/h, 17.0ms\n",
            "video 1/1 (frame 2004/2100) /content/drive/MyDrive/FYP/80_epochs/cut.mp4: 384x640 1 speed limit 30 km/h, 17.0ms\n",
            "video 1/1 (frame 2005/2100) /content/drive/MyDrive/FYP/80_epochs/cut.mp4: 384x640 1 speed limit 30 km/h, 16.9ms\n",
            "video 1/1 (frame 2006/2100) /content/drive/MyDrive/FYP/80_epochs/cut.mp4: 384x640 1 speed limit 30 km/h, 17.0ms\n",
            "video 1/1 (frame 2007/2100) /content/drive/MyDrive/FYP/80_epochs/cut.mp4: 384x640 1 speed limit 30 km/h, 17.0ms\n",
            "video 1/1 (frame 2008/2100) /content/drive/MyDrive/FYP/80_epochs/cut.mp4: 384x640 1 speed limit 30 km/h, 16.9ms\n",
            "video 1/1 (frame 2009/2100) /content/drive/MyDrive/FYP/80_epochs/cut.mp4: 384x640 1 speed limit 30 km/h, 17.0ms\n",
            "video 1/1 (frame 2010/2100) /content/drive/MyDrive/FYP/80_epochs/cut.mp4: 384x640 1 speed limit 30 km/h, 17.0ms\n",
            "video 1/1 (frame 2011/2100) /content/drive/MyDrive/FYP/80_epochs/cut.mp4: 384x640 1 speed limit 30 km/h, 17.0ms\n",
            "video 1/1 (frame 2012/2100) /content/drive/MyDrive/FYP/80_epochs/cut.mp4: 384x640 1 speed limit 30 km/h, 17.1ms\n",
            "video 1/1 (frame 2013/2100) /content/drive/MyDrive/FYP/80_epochs/cut.mp4: 384x640 1 speed limit 30 km/h, 18.0ms\n",
            "video 1/1 (frame 2014/2100) /content/drive/MyDrive/FYP/80_epochs/cut.mp4: 384x640 (no detections), 18.0ms\n",
            "video 1/1 (frame 2015/2100) /content/drive/MyDrive/FYP/80_epochs/cut.mp4: 384x640 1 speed limit 30 km/h, 18.0ms\n",
            "video 1/1 (frame 2016/2100) /content/drive/MyDrive/FYP/80_epochs/cut.mp4: 384x640 1 speed limit 30 km/h, 18.0ms\n",
            "video 1/1 (frame 2017/2100) /content/drive/MyDrive/FYP/80_epochs/cut.mp4: 384x640 (no detections), 18.0ms\n",
            "video 1/1 (frame 2018/2100) /content/drive/MyDrive/FYP/80_epochs/cut.mp4: 384x640 (no detections), 18.0ms\n",
            "video 1/1 (frame 2019/2100) /content/drive/MyDrive/FYP/80_epochs/cut.mp4: 384x640 1 speed limit 90 km/h, 18.0ms\n",
            "video 1/1 (frame 2020/2100) /content/drive/MyDrive/FYP/80_epochs/cut.mp4: 384x640 (no detections), 18.0ms\n",
            "video 1/1 (frame 2021/2100) /content/drive/MyDrive/FYP/80_epochs/cut.mp4: 384x640 (no detections), 18.3ms\n",
            "video 1/1 (frame 2022/2100) /content/drive/MyDrive/FYP/80_epochs/cut.mp4: 384x640 (no detections), 18.2ms\n",
            "video 1/1 (frame 2023/2100) /content/drive/MyDrive/FYP/80_epochs/cut.mp4: 384x640 (no detections), 20.3ms\n",
            "video 1/1 (frame 2024/2100) /content/drive/MyDrive/FYP/80_epochs/cut.mp4: 384x640 (no detections), 18.3ms\n",
            "video 1/1 (frame 2025/2100) /content/drive/MyDrive/FYP/80_epochs/cut.mp4: 384x640 (no detections), 18.5ms\n",
            "video 1/1 (frame 2026/2100) /content/drive/MyDrive/FYP/80_epochs/cut.mp4: 384x640 (no detections), 18.5ms\n",
            "video 1/1 (frame 2027/2100) /content/drive/MyDrive/FYP/80_epochs/cut.mp4: 384x640 (no detections), 18.5ms\n",
            "video 1/1 (frame 2028/2100) /content/drive/MyDrive/FYP/80_epochs/cut.mp4: 384x640 (no detections), 18.5ms\n",
            "video 1/1 (frame 2029/2100) /content/drive/MyDrive/FYP/80_epochs/cut.mp4: 384x640 (no detections), 18.5ms\n",
            "video 1/1 (frame 2030/2100) /content/drive/MyDrive/FYP/80_epochs/cut.mp4: 384x640 (no detections), 18.5ms\n",
            "video 1/1 (frame 2031/2100) /content/drive/MyDrive/FYP/80_epochs/cut.mp4: 384x640 (no detections), 18.6ms\n",
            "video 1/1 (frame 2032/2100) /content/drive/MyDrive/FYP/80_epochs/cut.mp4: 384x640 (no detections), 18.7ms\n",
            "video 1/1 (frame 2033/2100) /content/drive/MyDrive/FYP/80_epochs/cut.mp4: 384x640 (no detections), 18.8ms\n",
            "video 1/1 (frame 2034/2100) /content/drive/MyDrive/FYP/80_epochs/cut.mp4: 384x640 (no detections), 18.8ms\n",
            "video 1/1 (frame 2035/2100) /content/drive/MyDrive/FYP/80_epochs/cut.mp4: 384x640 (no detections), 18.8ms\n",
            "video 1/1 (frame 2036/2100) /content/drive/MyDrive/FYP/80_epochs/cut.mp4: 384x640 (no detections), 18.8ms\n",
            "video 1/1 (frame 2037/2100) /content/drive/MyDrive/FYP/80_epochs/cut.mp4: 384x640 (no detections), 18.8ms\n",
            "video 1/1 (frame 2038/2100) /content/drive/MyDrive/FYP/80_epochs/cut.mp4: 384x640 (no detections), 18.8ms\n",
            "video 1/1 (frame 2039/2100) /content/drive/MyDrive/FYP/80_epochs/cut.mp4: 384x640 (no detections), 18.8ms\n",
            "video 1/1 (frame 2040/2100) /content/drive/MyDrive/FYP/80_epochs/cut.mp4: 384x640 (no detections), 19.1ms\n",
            "video 1/1 (frame 2041/2100) /content/drive/MyDrive/FYP/80_epochs/cut.mp4: 384x640 (no detections), 19.1ms\n",
            "video 1/1 (frame 2042/2100) /content/drive/MyDrive/FYP/80_epochs/cut.mp4: 384x640 (no detections), 19.1ms\n",
            "video 1/1 (frame 2043/2100) /content/drive/MyDrive/FYP/80_epochs/cut.mp4: 384x640 (no detections), 19.1ms\n",
            "video 1/1 (frame 2044/2100) /content/drive/MyDrive/FYP/80_epochs/cut.mp4: 384x640 (no detections), 19.1ms\n",
            "video 1/1 (frame 2045/2100) /content/drive/MyDrive/FYP/80_epochs/cut.mp4: 384x640 (no detections), 19.0ms\n",
            "video 1/1 (frame 2046/2100) /content/drive/MyDrive/FYP/80_epochs/cut.mp4: 384x640 (no detections), 19.1ms\n",
            "video 1/1 (frame 2047/2100) /content/drive/MyDrive/FYP/80_epochs/cut.mp4: 384x640 (no detections), 19.1ms\n",
            "video 1/1 (frame 2048/2100) /content/drive/MyDrive/FYP/80_epochs/cut.mp4: 384x640 (no detections), 19.1ms\n",
            "video 1/1 (frame 2049/2100) /content/drive/MyDrive/FYP/80_epochs/cut.mp4: 384x640 (no detections), 20.8ms\n",
            "video 1/1 (frame 2050/2100) /content/drive/MyDrive/FYP/80_epochs/cut.mp4: 384x640 (no detections), 19.1ms\n",
            "video 1/1 (frame 2051/2100) /content/drive/MyDrive/FYP/80_epochs/cut.mp4: 384x640 (no detections), 19.1ms\n",
            "video 1/1 (frame 2052/2100) /content/drive/MyDrive/FYP/80_epochs/cut.mp4: 384x640 (no detections), 19.4ms\n",
            "video 1/1 (frame 2053/2100) /content/drive/MyDrive/FYP/80_epochs/cut.mp4: 384x640 (no detections), 19.4ms\n",
            "video 1/1 (frame 2054/2100) /content/drive/MyDrive/FYP/80_epochs/cut.mp4: 384x640 (no detections), 19.4ms\n",
            "video 1/1 (frame 2055/2100) /content/drive/MyDrive/FYP/80_epochs/cut.mp4: 384x640 (no detections), 19.6ms\n",
            "video 1/1 (frame 2056/2100) /content/drive/MyDrive/FYP/80_epochs/cut.mp4: 384x640 (no detections), 19.7ms\n",
            "video 1/1 (frame 2057/2100) /content/drive/MyDrive/FYP/80_epochs/cut.mp4: 384x640 (no detections), 19.7ms\n",
            "video 1/1 (frame 2058/2100) /content/drive/MyDrive/FYP/80_epochs/cut.mp4: 384x640 (no detections), 19.7ms\n",
            "video 1/1 (frame 2059/2100) /content/drive/MyDrive/FYP/80_epochs/cut.mp4: 384x640 (no detections), 19.7ms\n",
            "video 1/1 (frame 2060/2100) /content/drive/MyDrive/FYP/80_epochs/cut.mp4: 384x640 (no detections), 19.6ms\n",
            "video 1/1 (frame 2061/2100) /content/drive/MyDrive/FYP/80_epochs/cut.mp4: 384x640 2 speed limit 30 km/hs, 19.7ms\n",
            "video 1/1 (frame 2062/2100) /content/drive/MyDrive/FYP/80_epochs/cut.mp4: 384x640 2 speed limit 30 km/hs, 19.7ms\n",
            "video 1/1 (frame 2063/2100) /content/drive/MyDrive/FYP/80_epochs/cut.mp4: 384x640 6 speed limit 30 km/hs, 19.7ms\n",
            "video 1/1 (frame 2064/2100) /content/drive/MyDrive/FYP/80_epochs/cut.mp4: 384x640 5 speed limit 30 km/hs, 19.7ms\n",
            "video 1/1 (frame 2065/2100) /content/drive/MyDrive/FYP/80_epochs/cut.mp4: 384x640 4 speed limit 30 km/hs, 19.7ms\n",
            "video 1/1 (frame 2066/2100) /content/drive/MyDrive/FYP/80_epochs/cut.mp4: 384x640 4 speed limit 30 km/hs, 19.7ms\n",
            "video 1/1 (frame 2067/2100) /content/drive/MyDrive/FYP/80_epochs/cut.mp4: 384x640 4 speed limit 30 km/hs, 20.0ms\n",
            "video 1/1 (frame 2068/2100) /content/drive/MyDrive/FYP/80_epochs/cut.mp4: 384x640 4 speed limit 30 km/hs, 19.6ms\n",
            "video 1/1 (frame 2069/2100) /content/drive/MyDrive/FYP/80_epochs/cut.mp4: 384x640 4 speed limit 30 km/hs, 19.6ms\n",
            "video 1/1 (frame 2070/2100) /content/drive/MyDrive/FYP/80_epochs/cut.mp4: 384x640 4 speed limit 30 km/hs, 19.9ms\n",
            "video 1/1 (frame 2071/2100) /content/drive/MyDrive/FYP/80_epochs/cut.mp4: 384x640 4 speed limit 30 km/hs, 20.0ms\n",
            "video 1/1 (frame 2072/2100) /content/drive/MyDrive/FYP/80_epochs/cut.mp4: 384x640 4 speed limit 30 km/hs, 20.0ms\n",
            "video 1/1 (frame 2073/2100) /content/drive/MyDrive/FYP/80_epochs/cut.mp4: 384x640 4 speed limit 30 km/hs, 20.0ms\n",
            "video 1/1 (frame 2074/2100) /content/drive/MyDrive/FYP/80_epochs/cut.mp4: 384x640 4 speed limit 30 km/hs, 20.0ms\n",
            "video 1/1 (frame 2075/2100) /content/drive/MyDrive/FYP/80_epochs/cut.mp4: 384x640 4 speed limit 30 km/hs, 20.0ms\n",
            "video 1/1 (frame 2076/2100) /content/drive/MyDrive/FYP/80_epochs/cut.mp4: 384x640 4 speed limit 30 km/hs, 20.0ms\n",
            "video 1/1 (frame 2077/2100) /content/drive/MyDrive/FYP/80_epochs/cut.mp4: 384x640 4 speed limit 30 km/hs, 20.0ms\n",
            "video 1/1 (frame 2078/2100) /content/drive/MyDrive/FYP/80_epochs/cut.mp4: 384x640 4 speed limit 30 km/hs, 19.9ms\n",
            "video 1/1 (frame 2079/2100) /content/drive/MyDrive/FYP/80_epochs/cut.mp4: 384x640 4 speed limit 30 km/hs, 19.9ms\n",
            "video 1/1 (frame 2080/2100) /content/drive/MyDrive/FYP/80_epochs/cut.mp4: 384x640 4 speed limit 30 km/hs, 20.0ms\n",
            "video 1/1 (frame 2081/2100) /content/drive/MyDrive/FYP/80_epochs/cut.mp4: 384x640 4 speed limit 30 km/hs, 20.1ms\n",
            "video 1/1 (frame 2082/2100) /content/drive/MyDrive/FYP/80_epochs/cut.mp4: 384x640 4 speed limit 30 km/hs, 20.3ms\n",
            "video 1/1 (frame 2083/2100) /content/drive/MyDrive/FYP/80_epochs/cut.mp4: 384x640 4 speed limit 30 km/hs, 20.4ms\n",
            "video 1/1 (frame 2084/2100) /content/drive/MyDrive/FYP/80_epochs/cut.mp4: 384x640 4 speed limit 30 km/hs, 20.4ms\n",
            "video 1/1 (frame 2085/2100) /content/drive/MyDrive/FYP/80_epochs/cut.mp4: 384x640 4 speed limit 30 km/hs, 20.4ms\n",
            "video 1/1 (frame 2086/2100) /content/drive/MyDrive/FYP/80_epochs/cut.mp4: 384x640 4 speed limit 30 km/hs, 20.4ms\n",
            "video 1/1 (frame 2087/2100) /content/drive/MyDrive/FYP/80_epochs/cut.mp4: 384x640 4 speed limit 30 km/hs, 25.2ms\n",
            "video 1/1 (frame 2088/2100) /content/drive/MyDrive/FYP/80_epochs/cut.mp4: 384x640 4 speed limit 30 km/hs, 21.1ms\n",
            "video 1/1 (frame 2089/2100) /content/drive/MyDrive/FYP/80_epochs/cut.mp4: 384x640 4 speed limit 30 km/hs, 21.1ms\n",
            "video 1/1 (frame 2090/2100) /content/drive/MyDrive/FYP/80_epochs/cut.mp4: 384x640 4 speed limit 30 km/hs, 21.5ms\n",
            "video 1/1 (frame 2091/2100) /content/drive/MyDrive/FYP/80_epochs/cut.mp4: 384x640 4 speed limit 30 km/hs, 21.5ms\n",
            "video 1/1 (frame 2092/2100) /content/drive/MyDrive/FYP/80_epochs/cut.mp4: 384x640 4 speed limit 30 km/hs, 21.5ms\n",
            "video 1/1 (frame 2093/2100) /content/drive/MyDrive/FYP/80_epochs/cut.mp4: 384x640 4 speed limit 30 km/hs, 21.4ms\n",
            "video 1/1 (frame 2094/2100) /content/drive/MyDrive/FYP/80_epochs/cut.mp4: 384x640 4 speed limit 30 km/hs, 21.4ms\n",
            "video 1/1 (frame 2095/2100) /content/drive/MyDrive/FYP/80_epochs/cut.mp4: 384x640 4 speed limit 30 km/hs, 21.9ms\n",
            "video 1/1 (frame 2096/2100) /content/drive/MyDrive/FYP/80_epochs/cut.mp4: 384x640 4 speed limit 30 km/hs, 22.2ms\n",
            "video 1/1 (frame 2097/2100) /content/drive/MyDrive/FYP/80_epochs/cut.mp4: 384x640 4 speed limit 30 km/hs, 22.2ms\n",
            "video 1/1 (frame 2098/2100) /content/drive/MyDrive/FYP/80_epochs/cut.mp4: 384x640 4 speed limit 30 km/hs, 22.7ms\n",
            "video 1/1 (frame 2099/2100) /content/drive/MyDrive/FYP/80_epochs/cut.mp4: 384x640 4 speed limit 30 km/hs, 22.7ms\n",
            "video 1/1 (frame 2100/2100) /content/drive/MyDrive/FYP/80_epochs/cut.mp4: 384x640 (no detections), 22.8ms\n",
            "Speed: 3.2ms preprocess, 18.4ms inference, 2.3ms postprocess per image at shape (1, 3, 384, 640)\n",
            "Results saved to \u001b[1mruns/detect/predict4\u001b[0m\n",
            "💡 Learn more at https://docs.ultralytics.com/modes/predict\n"
          ]
        }
      ]
    },
    {
      "cell_type": "code",
      "source": [],
      "metadata": {
        "id": "6J4P1FBrAQiI"
      },
      "execution_count": null,
      "outputs": []
    },
    {
      "cell_type": "markdown",
      "source": [
        "### Agu\n"
      ],
      "metadata": {
        "id": "HGMgmbfJEtgh"
      }
    },
    {
      "cell_type": "code",
      "source": [
        "import cv2\n",
        "import os\n",
        "\n",
        "def augment_images(image_folder, output_folder, num_augmented_images):\n",
        "    # Ensure output folder exists\n",
        "    os.makedirs(output_folder, exist_ok=True)\n",
        "\n",
        "    # Loop through each image in the folder\n",
        "    for filename in os.listdir(image_folder):\n",
        "        if filename.endswith(\".jpg\") or filename.endswith(\".png\"):\n",
        "            # Read the image\n",
        "            image_path = os.path.join(image_folder, filename)\n",
        "            img = cv2.imread(image_path)\n",
        "\n",
        "            # Perform augmentation and save augmented images\n",
        "            for i in range(num_augmented_images):\n",
        "                # Zoom in/out\n",
        "                scale_factor = 0.9 + i * 0.02  # Adjust scale factor as needed\n",
        "                scaled_img = cv2.resize(img, None, fx=scale_factor, fy=scale_factor)\n",
        "\n",
        "                # Adjust color contrast\n",
        "                alpha = 1.0 + i * 0.1  # Adjust alpha as needed\n",
        "                beta = 30  # Adjust beta as needed\n",
        "                contrast_img = cv2.convertScaleAbs(scaled_img, alpha=alpha, beta=beta)\n",
        "\n",
        "                # Adjust brightness\n",
        "                brightness = 50\n",
        "                brightness_adjusted_img = cv2.convertScaleAbs(img, alpha=1, beta=brightness)\n",
        "\n",
        "                # Save augmented images\n",
        "                cv2.imwrite(os.path.join(output_folder, f\"{os.path.splitext(filename)[0]}_{i+1}.jpg\"), scaled_img)\n",
        "                cv2.imwrite(os.path.join(output_folder, f\"{os.path.splitext(filename)[0]}_{i+2}.jpg\"), contrast_img)\n",
        "                cv2.imwrite(os.path.join(output_folder, f\"{os.path.splitext(filename)[0]}_{i+3}.jpg\"), brightness_adjusted_img)\n",
        "\n",
        "image_folder = \"/content/drive/MyDrive/FYP/90\"\n",
        "output_folder = \"/content/drive/MyDrive/FYP/agu\"\n",
        "num_augmented_images = 12  # Number of augmented images per input image\n",
        "\n",
        "augment_images(image_folder, output_folder, num_augmented_images)\n"
      ],
      "metadata": {
        "id": "G4ioGnzLEwjT"
      },
      "execution_count": null,
      "outputs": []
    },
    {
      "cell_type": "code",
      "source": [
        "!zip -r runs.zip /content/runs"
      ],
      "metadata": {
        "colab": {
          "base_uri": "https://localhost:8080/"
        },
        "id": "J-vVx_bC4B08",
        "outputId": "06176b24-c47c-461f-a682-823ae28182f9"
      },
      "execution_count": null,
      "outputs": [
        {
          "output_type": "stream",
          "name": "stdout",
          "text": [
            "  adding: content/runs/ (stored 0%)\n",
            "  adding: content/runs/detect/ (stored 0%)\n",
            "  adding: content/runs/detect/train/ (stored 0%)\n",
            "  adding: content/runs/detect/train/val_batch0_labels.jpg (deflated 20%)\n",
            "  adding: content/runs/detect/train/F1_curve.png (deflated 12%)\n",
            "  adding: content/runs/detect/train/val_batch1_pred.jpg (deflated 17%)\n",
            "  adding: content/runs/detect/train/val_batch0_pred.jpg (deflated 21%)\n",
            "  adding: content/runs/detect/train/train_batch0.jpg (deflated 6%)\n",
            "  adding: content/runs/detect/train/train_batch1332.jpg (deflated 18%)\n",
            "  adding: content/runs/detect/train/results.csv (deflated 86%)\n",
            "  adding: content/runs/detect/train/weights/ (stored 0%)\n",
            "  adding: content/runs/detect/train/weights/best.pt (deflated 9%)\n",
            "  adding: content/runs/detect/train/weights/last.pt (deflated 9%)\n",
            "  adding: content/runs/detect/train/confusion_matrix.png (deflated 31%)\n",
            "  adding: content/runs/detect/train/R_curve.png (deflated 17%)\n",
            "  adding: content/runs/detect/train/args.yaml (deflated 52%)\n",
            "  adding: content/runs/detect/train/confusion_matrix_normalized.png (deflated 28%)\n",
            "  adding: content/runs/detect/train/labels.jpg (deflated 45%)\n",
            "  adding: content/runs/detect/train/train_batch1330.jpg (deflated 21%)\n",
            "  adding: content/runs/detect/train/train_batch2.jpg (deflated 8%)\n",
            "  adding: content/runs/detect/train/train_batch1.jpg (deflated 9%)\n",
            "  adding: content/runs/detect/train/events.out.tfevents.1710829469.4adf806a08a5.381.1 (deflated 88%)\n",
            "  adding: content/runs/detect/train/results.png (deflated 7%)\n",
            "  adding: content/runs/detect/train/labels_correlogram.jpg (deflated 49%)\n",
            "  adding: content/runs/detect/train/P_curve.png (deflated 14%)\n",
            "  adding: content/runs/detect/train/train_batch1331.jpg (deflated 13%)\n",
            "  adding: content/runs/detect/train/val_batch1_labels.jpg (deflated 17%)\n",
            "  adding: content/runs/detect/train/PR_curve.png (deflated 26%)\n"
          ]
        }
      ]
    },
    {
      "cell_type": "code",
      "source": [
        "from google.colab import files\n",
        "files.download('/content/runs.zip')"
      ],
      "metadata": {
        "colab": {
          "base_uri": "https://localhost:8080/",
          "height": 34
        },
        "id": "cuJuShKc-I1T",
        "outputId": "ee8d2c9b-14cc-4c7c-d617-eb760fb9f4be"
      },
      "execution_count": null,
      "outputs": [
        {
          "output_type": "display_data",
          "data": {
            "text/plain": [
              "<IPython.core.display.Javascript object>"
            ],
            "application/javascript": [
              "\n",
              "    async function download(id, filename, size) {\n",
              "      if (!google.colab.kernel.accessAllowed) {\n",
              "        return;\n",
              "      }\n",
              "      const div = document.createElement('div');\n",
              "      const label = document.createElement('label');\n",
              "      label.textContent = `Downloading \"${filename}\": `;\n",
              "      div.appendChild(label);\n",
              "      const progress = document.createElement('progress');\n",
              "      progress.max = size;\n",
              "      div.appendChild(progress);\n",
              "      document.body.appendChild(div);\n",
              "\n",
              "      const buffers = [];\n",
              "      let downloaded = 0;\n",
              "\n",
              "      const channel = await google.colab.kernel.comms.open(id);\n",
              "      // Send a message to notify the kernel that we're ready.\n",
              "      channel.send({})\n",
              "\n",
              "      for await (const message of channel.messages) {\n",
              "        // Send a message to notify the kernel that we're ready.\n",
              "        channel.send({})\n",
              "        if (message.buffers) {\n",
              "          for (const buffer of message.buffers) {\n",
              "            buffers.push(buffer);\n",
              "            downloaded += buffer.byteLength;\n",
              "            progress.value = downloaded;\n",
              "          }\n",
              "        }\n",
              "      }\n",
              "      const blob = new Blob(buffers, {type: 'application/binary'});\n",
              "      const a = document.createElement('a');\n",
              "      a.href = window.URL.createObjectURL(blob);\n",
              "      a.download = filename;\n",
              "      div.appendChild(a);\n",
              "      a.click();\n",
              "      div.remove();\n",
              "    }\n",
              "  "
            ]
          },
          "metadata": {}
        },
        {
          "output_type": "display_data",
          "data": {
            "text/plain": [
              "<IPython.core.display.Javascript object>"
            ],
            "application/javascript": [
              "download(\"download_32997602-7584-46f9-a740-c180f6e07435\", \"runs.zip\", 202882061)"
            ]
          },
          "metadata": {}
        }
      ]
    },
    {
      "cell_type": "code",
      "source": [
        "infer = YOLO(\"/content/drive/MyDrive/FYP/80_epochs/runs/detect/train/weights/best.pt\")\n",
        "infer.predict(\"/content/drive/MyDrive/FYP/SS/extra_test/Screenshot 2024-02-28 085318_11.jpg\",save = True)\n"
      ],
      "metadata": {
        "id": "uN9Ihw14ADZn"
      },
      "execution_count": null,
      "outputs": []
    },
    {
      "cell_type": "code",
      "source": [],
      "metadata": {
        "id": "ap7r9y2Xrvlg"
      },
      "execution_count": null,
      "outputs": []
    }
  ]
}
